{
  "nbformat": 4,
  "nbformat_minor": 0,
  "metadata": {
    "colab": {
      "provenance": []
    },
    "kernelspec": {
      "name": "python3",
      "display_name": "Python 3"
    },
    "language_info": {
      "name": "python"
    }
  },
  "cells": [
    {
      "cell_type": "code",
      "execution_count": null,
      "metadata": {
        "id": "pazyvNUhLYaf"
      },
      "outputs": [],
      "source": [
        "# Install the hockey web scraper\n",
        "#!pip install hockey_scraper"
      ]
    },
    {
      "cell_type": "code",
      "source": [
        "#import hockey_scraper"
      ],
      "metadata": {
        "id": "et1UaKqlM6xL"
      },
      "execution_count": null,
      "outputs": []
    },
    {
      "cell_type": "code",
      "source": [
        "#full_df = hockey_scraper.scrape_seasons([2020, 2021, 2022], True, data_format='Pandas')"
      ],
      "metadata": {
        "id": "Kdum3-gSNPnI"
      },
      "execution_count": null,
      "outputs": []
    },
    {
      "cell_type": "code",
      "source": [],
      "metadata": {
        "id": "lhBWsbMw9HeR"
      },
      "execution_count": null,
      "outputs": []
    }
  ]
}