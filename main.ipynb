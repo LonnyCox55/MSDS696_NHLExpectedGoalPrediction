{
  "nbformat": 4,
  "nbformat_minor": 0,
  "metadata": {
    "colab": {
      "provenance": []
    },
    "kernelspec": {
      "name": "python3",
      "display_name": "Python 3"
    },
    "language_info": {
      "name": "python"
    }
  },
  "cells": [
    {
      "cell_type": "code",
      "execution_count": null,
      "metadata": {
        "id": "pazyvNUhLYaf"
      },
      "outputs": [],
      "source": [
        "# Install the hockey web scraper\n",
        "!pip install hockey_scraper"
      ]
    },
    {
      "cell_type": "code",
      "source": [
        "import hockey_scraper"
      ],
      "metadata": {
        "id": "et1UaKqlM6xL"
      },
      "execution_count": 3,
      "outputs": []
    },
    {
      "cell_type": "code",
      "source": [
        "full_df = hockey_scraper.scrape_seasons([2020, 2021, 2022], True, data_format='Pandas')"
      ],
      "metadata": {
        "id": "Kdum3-gSNPnI",
        "outputId": "cf0c0781-21b4-40a8-c9ef-6670e44ca9c4",
        "colab": {
          "base_uri": "https://localhost:8080/"
        }
      },
      "execution_count": null,
      "outputs": [
        {
          "metadata": {
            "tags": null
          },
          "name": "stdout",
          "output_type": "stream",
          "text": [
            "Scraping the schedule between 2021-01-01 and 2021-08-31...please give it a moment\n"
          ]
        },
        {
          "metadata": {
            "tags": null
          },
          "name": "stderr",
          "output_type": "stream",
          "text": [
            "Scraping Schedule: 100%|██████████| 35/35 [00:54<00:00,  1.56s/it]\n"
          ]
        },
        {
          "metadata": {
            "tags": null
          },
          "name": "stdout",
          "output_type": "stream",
          "text": [
            "Scraping Game  2020020001 2021-01-13\n"
          ]
        },
        {
          "metadata": {
            "tags": null
          },
          "name": "stderr",
          "output_type": "stream",
          "text": [
            "\u001b[0;31mError: Error parsing Json pbp for game 2020020001 'period'\n",
            "\u001b[0m\u001b[0;33mWarning: Using espn for pbp\n",
            "\u001b[0m\u001b[0;31mError: Espn pbp for game 2021-01-13 PHI PIT is either not there or can't be obtained \n",
            "\u001b[0m"
          ]
        },
        {
          "metadata": {
            "tags": null
          },
          "name": "stdout",
          "output_type": "stream",
          "text": [
            "Scraping Game  2020020003 2021-01-13\n"
          ]
        },
        {
          "metadata": {
            "tags": null
          },
          "name": "stderr",
          "output_type": "stream",
          "text": [
            "\u001b[0;31mError: Error parsing Json pbp for game 2020020003 'period'\n",
            "\u001b[0m\u001b[0;33mWarning: Using espn for pbp\n",
            "\u001b[0m\u001b[0;31mError: Espn pbp for game 2021-01-13 TOR MTL is either not there or can't be obtained \n",
            "\u001b[0m"
          ]
        },
        {
          "metadata": {
            "tags": null
          },
          "name": "stdout",
          "output_type": "stream",
          "text": [
            "Scraping Game  2020020002 2021-01-13\n"
          ]
        },
        {
          "metadata": {
            "tags": null
          },
          "name": "stderr",
          "output_type": "stream",
          "text": [
            "\u001b[0;31mError: Error parsing Json pbp for game 2020020002 'period'\n",
            "\u001b[0m\u001b[0;33mWarning: Using espn for pbp\n",
            "\u001b[0m\u001b[0;31mError: Espn pbp for game 2021-01-13 T.B CHI is either not there or can't be obtained \n",
            "\u001b[0m"
          ]
        },
        {
          "metadata": {
            "tags": null
          },
          "name": "stdout",
          "output_type": "stream",
          "text": [
            "Scraping Game  2020020004 2021-01-13\n"
          ]
        },
        {
          "metadata": {
            "tags": null
          },
          "name": "stderr",
          "output_type": "stream",
          "text": [
            "\u001b[0;31mError: Error parsing Json pbp for game 2020020004 'period'\n",
            "\u001b[0m\u001b[0;33mWarning: Using espn for pbp\n",
            "\u001b[0m\u001b[0;31mError: Espn pbp for game 2021-01-13 EDM VAN is either not there or can't be obtained \n",
            "\u001b[0m"
          ]
        },
        {
          "metadata": {
            "tags": null
          },
          "name": "stdout",
          "output_type": "stream",
          "text": [
            "Scraping Game  2020020005 2021-01-13\n"
          ]
        },
        {
          "metadata": {
            "tags": null
          },
          "name": "stderr",
          "output_type": "stream",
          "text": [
            "\u001b[0;31mError: Error parsing Json pbp for game 2020020005 'period'\n",
            "\u001b[0m\u001b[0;33mWarning: Using espn for pbp\n",
            "\u001b[0m\u001b[0;31mError: Espn pbp for game 2021-01-13 COL STL is either not there or can't be obtained \n",
            "\u001b[0m"
          ]
        },
        {
          "metadata": {
            "tags": null
          },
          "name": "stdout",
          "output_type": "stream",
          "text": [
            "Scraping Game  2020020006 2021-01-14\n"
          ]
        },
        {
          "metadata": {
            "tags": null
          },
          "name": "stderr",
          "output_type": "stream",
          "text": [
            "\u001b[0;31mError: Error parsing Json pbp for game 2020020006 'period'\n",
            "\u001b[0m\u001b[0;33mWarning: Using espn for pbp\n",
            "\u001b[0m\u001b[0;31mError: Espn pbp for game 2021-01-14 BUF WSH is either not there or can't be obtained \n",
            "\u001b[0m"
          ]
        },
        {
          "metadata": {
            "tags": null
          },
          "name": "stdout",
          "output_type": "stream",
          "text": [
            "Scraping Game  2020020007 2021-01-14\n"
          ]
        },
        {
          "metadata": {
            "tags": null
          },
          "name": "stderr",
          "output_type": "stream",
          "text": [
            "\u001b[0;31mError: Error parsing Json pbp for game 2020020007 'period'\n",
            "\u001b[0m\u001b[0;33mWarning: Using espn for pbp\n",
            "\u001b[0m\u001b[0;31mError: Espn pbp for game 2021-01-14 N.J BOS is either not there or can't be obtained \n",
            "\u001b[0m"
          ]
        },
        {
          "metadata": {
            "tags": null
          },
          "name": "stdout",
          "output_type": "stream",
          "text": [
            "Scraping Game  2020020008 2021-01-14\n"
          ]
        },
        {
          "metadata": {
            "tags": null
          },
          "name": "stderr",
          "output_type": "stream",
          "text": [
            "\u001b[0;31mError: Error parsing Json pbp for game 2020020008 'period'\n",
            "\u001b[0m\u001b[0;33mWarning: Using espn for pbp\n",
            "\u001b[0m\u001b[0;31mError: Espn pbp for game 2021-01-14 NYR NYI is either not there or can't be obtained \n",
            "\u001b[0m"
          ]
        },
        {
          "metadata": {
            "tags": null
          },
          "name": "stdout",
          "output_type": "stream",
          "text": [
            "Scraping Game  2020020010 2021-01-14\n"
          ]
        },
        {
          "metadata": {
            "tags": null
          },
          "name": "stderr",
          "output_type": "stream",
          "text": [
            "\u001b[0;31mError: Error parsing Json pbp for game 2020020010 'period'\n",
            "\u001b[0m\u001b[0;33mWarning: Using espn for pbp\n",
            "\u001b[0m\u001b[0;31mError: Espn pbp for game 2021-01-14 DET CAR is either not there or can't be obtained \n",
            "\u001b[0m"
          ]
        },
        {
          "metadata": {
            "tags": null
          },
          "name": "stdout",
          "output_type": "stream",
          "text": [
            "Scraping Game  2020020011 2021-01-14\n"
          ]
        },
        {
          "metadata": {
            "tags": null
          },
          "name": "stderr",
          "output_type": "stream",
          "text": [
            "\u001b[0;31mError: Error parsing Json pbp for game 2020020011 'period'\n",
            "\u001b[0m\u001b[0;33mWarning: Using espn for pbp\n",
            "\u001b[0m\u001b[0;31mError: Espn pbp for game 2021-01-14 NSH CBJ is either not there or can't be obtained \n",
            "\u001b[0m"
          ]
        },
        {
          "metadata": {
            "tags": null
          },
          "name": "stdout",
          "output_type": "stream",
          "text": [
            "Scraping Game  2020020012 2021-01-14\n"
          ]
        },
        {
          "metadata": {
            "tags": null
          },
          "name": "stderr",
          "output_type": "stream",
          "text": [
            "\u001b[0;31mError: Error parsing Json pbp for game 2020020012 'period'\n",
            "\u001b[0m\u001b[0;33mWarning: Using espn for pbp\n",
            "\u001b[0m\u001b[0;31mError: Espn pbp for game 2021-01-14 WPG CGY is either not there or can't be obtained \n",
            "\u001b[0m"
          ]
        },
        {
          "metadata": {
            "tags": null
          },
          "name": "stdout",
          "output_type": "stream",
          "text": [
            "Scraping Game  2020020013 2021-01-14\n"
          ]
        },
        {
          "metadata": {
            "tags": null
          },
          "name": "stderr",
          "output_type": "stream",
          "text": [
            "\u001b[0;31mError: Error parsing Json pbp for game 2020020013 'period'\n",
            "\u001b[0m\u001b[0;33mWarning: Using espn for pbp\n",
            "\u001b[0m\u001b[0;31mError: Espn pbp for game 2021-01-14 EDM VAN is either not there or can't be obtained \n",
            "\u001b[0m"
          ]
        },
        {
          "metadata": {
            "tags": null
          },
          "name": "stdout",
          "output_type": "stream",
          "text": [
            "Scraping Game  2020020014 2021-01-14\n"
          ]
        },
        {
          "metadata": {
            "tags": null
          },
          "name": "stderr",
          "output_type": "stream",
          "text": [
            "\u001b[0;31mError: Error parsing Json pbp for game 2020020014 'period'\n",
            "\u001b[0m\u001b[0;33mWarning: Using espn for pbp\n",
            "\u001b[0m\u001b[0;31mError: Espn pbp for game 2021-01-14 ARI S.J is either not there or can't be obtained \n",
            "\u001b[0m"
          ]
        },
        {
          "metadata": {
            "tags": null
          },
          "name": "stdout",
          "output_type": "stream",
          "text": [
            "Scraping Game  2020020015 2021-01-14\n"
          ]
        },
        {
          "metadata": {
            "tags": null
          },
          "name": "stderr",
          "output_type": "stream",
          "text": [
            "\u001b[0;31mError: Error parsing Json pbp for game 2020020015 'period'\n",
            "\u001b[0m\u001b[0;33mWarning: Using espn for pbp\n",
            "\u001b[0m\u001b[0;31mError: Espn pbp for game 2021-01-14 VGK ANA is either not there or can't be obtained \n",
            "\u001b[0m"
          ]
        },
        {
          "metadata": {
            "tags": null
          },
          "name": "stdout",
          "output_type": "stream",
          "text": [
            "Scraping Game  2020020016 2021-01-14\n"
          ]
        },
        {
          "metadata": {
            "tags": null
          },
          "name": "stderr",
          "output_type": "stream",
          "text": [
            "\u001b[0;31mError: Error parsing Json pbp for game 2020020016 'period'\n",
            "\u001b[0m\u001b[0;33mWarning: Using espn for pbp\n",
            "\u001b[0m\u001b[0;31mError: Espn pbp for game 2021-01-14 L.A MIN is either not there or can't be obtained \n",
            "\u001b[0m"
          ]
        },
        {
          "metadata": {
            "tags": null
          },
          "name": "stdout",
          "output_type": "stream",
          "text": [
            "Scraping Game  2020020017 2021-01-15\n"
          ]
        },
        {
          "metadata": {
            "tags": null
          },
          "name": "stderr",
          "output_type": "stream",
          "text": [
            "\u001b[0;31mError: Error parsing Json pbp for game 2020020017 'period'\n",
            "\u001b[0m\u001b[0;33mWarning: Using espn for pbp\n",
            "\u001b[0m\u001b[0;31mError: Espn pbp for game 2021-01-15 BUF WSH is either not there or can't be obtained \n",
            "\u001b[0m"
          ]
        },
        {
          "metadata": {
            "tags": null
          },
          "name": "stdout",
          "output_type": "stream",
          "text": [
            "Scraping Game  2020020018 2021-01-15\n"
          ]
        },
        {
          "metadata": {
            "tags": null
          },
          "name": "stderr",
          "output_type": "stream",
          "text": [
            "\u001b[0;31mError: Error parsing Json pbp for game 2020020018 'period'\n",
            "\u001b[0m\u001b[0;33mWarning: Using espn for pbp\n",
            "\u001b[0m\u001b[0;31mError: Espn pbp for game 2021-01-15 PHI PIT is either not there or can't be obtained \n",
            "\u001b[0m"
          ]
        },
        {
          "metadata": {
            "tags": null
          },
          "name": "stdout",
          "output_type": "stream",
          "text": [
            "Scraping Game  2020020019 2021-01-15\n"
          ]
        },
        {
          "metadata": {
            "tags": null
          },
          "name": "stderr",
          "output_type": "stream",
          "text": [
            "\u001b[0;31mError: Error parsing Json pbp for game 2020020019 'period'\n",
            "\u001b[0m\u001b[0;33mWarning: Using espn for pbp\n",
            "\u001b[0m\u001b[0;31mError: Espn pbp for game 2021-01-15 T.B CHI is either not there or can't be obtained \n",
            "\u001b[0m"
          ]
        },
        {
          "metadata": {
            "tags": null
          },
          "name": "stdout",
          "output_type": "stream",
          "text": [
            "Scraping Game  2020020021 2021-01-15\n"
          ]
        },
        {
          "metadata": {
            "tags": null
          },
          "name": "stderr",
          "output_type": "stream",
          "text": [
            "\u001b[0;31mError: Error parsing Json pbp for game 2020020021 'period'\n",
            "\u001b[0m\u001b[0;33mWarning: Using espn for pbp\n",
            "\u001b[0m\u001b[0;31mError: Espn pbp for game 2021-01-15 OTT TOR is either not there or can't be obtained \n",
            "\u001b[0m"
          ]
        },
        {
          "metadata": {
            "tags": null
          },
          "name": "stdout",
          "output_type": "stream",
          "text": [
            "Scraping Game  2020020022 2021-01-15\n"
          ]
        },
        {
          "metadata": {
            "tags": null
          },
          "name": "stderr",
          "output_type": "stream",
          "text": [
            "\u001b[0;31mError: Error parsing Json pbp for game 2020020022 'period'\n",
            "\u001b[0m\u001b[0;33mWarning: Using espn for pbp\n",
            "\u001b[0m\u001b[0;31mError: Espn pbp for game 2021-01-15 COL STL is either not there or can't be obtained \n",
            "\u001b[0m"
          ]
        },
        {
          "metadata": {
            "tags": null
          },
          "name": "stdout",
          "output_type": "stream",
          "text": [
            "Scraping Game  2020020023 2021-01-16\n"
          ]
        },
        {
          "metadata": {
            "tags": null
          },
          "name": "stderr",
          "output_type": "stream",
          "text": [
            "\u001b[0;31mError: Error parsing Json pbp for game 2020020023 'period'\n",
            "\u001b[0m\u001b[0;33mWarning: Using espn for pbp\n",
            "\u001b[0m\u001b[0;31mError: Espn pbp for game 2021-01-16 N.J BOS is either not there or can't be obtained \n",
            "\u001b[0m"
          ]
        },
        {
          "metadata": {
            "tags": null
          },
          "name": "stdout",
          "output_type": "stream",
          "text": [
            "Scraping Game  2020020030 2021-01-16\n"
          ]
        },
        {
          "metadata": {
            "tags": null
          },
          "name": "stderr",
          "output_type": "stream",
          "text": [
            "\u001b[0;31mError: Error parsing Json pbp for game 2020020030 'period'\n",
            "\u001b[0m\u001b[0;33mWarning: Using espn for pbp\n",
            "\u001b[0m\u001b[0;31mError: Espn pbp for game 2021-01-16 ARI S.J is either not there or can't be obtained \n",
            "\u001b[0m"
          ]
        },
        {
          "metadata": {
            "tags": null
          },
          "name": "stdout",
          "output_type": "stream",
          "text": [
            "Scraping Game  2020020024 2021-01-16\n"
          ]
        },
        {
          "metadata": {
            "tags": null
          },
          "name": "stderr",
          "output_type": "stream",
          "text": [
            "\u001b[0;31mError: Error parsing Json pbp for game 2020020024 'period'\n",
            "\u001b[0m\u001b[0;33mWarning: Using espn for pbp\n",
            "\u001b[0m\u001b[0;31mError: Espn pbp for game 2021-01-16 NYR NYI is either not there or can't be obtained \n",
            "\u001b[0m"
          ]
        },
        {
          "metadata": {
            "tags": null
          },
          "name": "stdout",
          "output_type": "stream",
          "text": [
            "Scraping Game  2020020025 2021-01-16\n"
          ]
        },
        {
          "metadata": {
            "tags": null
          },
          "name": "stderr",
          "output_type": "stream",
          "text": [
            "\u001b[0;31mError: Error parsing Json pbp for game 2020020025 'period'\n",
            "\u001b[0m\u001b[0;33mWarning: Using espn for pbp\n",
            "\u001b[0m\u001b[0;31mError: Espn pbp for game 2021-01-16 DET CAR is either not there or can't be obtained \n",
            "\u001b[0m"
          ]
        },
        {
          "metadata": {
            "tags": null
          },
          "name": "stdout",
          "output_type": "stream",
          "text": [
            "Scraping Game  2020020027 2021-01-16\n"
          ]
        },
        {
          "metadata": {
            "tags": null
          },
          "name": "stderr",
          "output_type": "stream",
          "text": [
            "\u001b[0;31mError: Error parsing Json pbp for game 2020020027 'period'\n",
            "\u001b[0m\u001b[0;33mWarning: Using espn for pbp\n",
            "\u001b[0m\u001b[0;31mError: Espn pbp for game 2021-01-16 OTT TOR is either not there or can't be obtained \n",
            "\u001b[0m"
          ]
        },
        {
          "metadata": {
            "tags": null
          },
          "name": "stdout",
          "output_type": "stream",
          "text": [
            "Scraping Game  2020020029 2021-01-16\n"
          ]
        },
        {
          "metadata": {
            "tags": null
          },
          "name": "stderr",
          "output_type": "stream",
          "text": [
            "\u001b[0;31mError: Error parsing Json pbp for game 2020020029 'period'\n",
            "\u001b[0m\u001b[0;33mWarning: Using espn for pbp\n",
            "\u001b[0m\u001b[0;31mError: Espn pbp for game 2021-01-16 EDM MTL is either not there or can't be obtained \n",
            "\u001b[0m"
          ]
        },
        {
          "metadata": {
            "tags": null
          },
          "name": "stdout",
          "output_type": "stream",
          "text": [
            "Scraping Game  2020020026 2021-01-16\n"
          ]
        },
        {
          "metadata": {
            "tags": null
          },
          "name": "stderr",
          "output_type": "stream",
          "text": [
            "\u001b[0;31mError: Error parsing Json pbp for game 2020020026 'period'\n",
            "\u001b[0m\u001b[0;33mWarning: Using espn for pbp\n",
            "\u001b[0m\u001b[0;31mError: Espn pbp for game 2021-01-16 NSH CBJ is either not there or can't be obtained \n",
            "\u001b[0m"
          ]
        },
        {
          "metadata": {
            "tags": null
          },
          "name": "stdout",
          "output_type": "stream",
          "text": [
            "Scraping Game  2020020032 2021-01-16\n"
          ]
        },
        {
          "metadata": {
            "tags": null
          },
          "name": "stderr",
          "output_type": "stream",
          "text": [
            "\u001b[0;31mError: Error parsing Json pbp for game 2020020032 'period'\n",
            "\u001b[0m\u001b[0;33mWarning: Using espn for pbp\n",
            "\u001b[0m\u001b[0;31mError: Espn pbp for game 2021-01-16 L.A MIN is either not there or can't be obtained \n",
            "\u001b[0m"
          ]
        },
        {
          "metadata": {
            "tags": null
          },
          "name": "stdout",
          "output_type": "stream",
          "text": [
            "Scraping Game  2020020028 2021-01-16\n"
          ]
        },
        {
          "metadata": {
            "tags": null
          },
          "name": "stderr",
          "output_type": "stream",
          "text": [
            "\u001b[0;31mError: Error parsing Json pbp for game 2020020028 'period'\n",
            "\u001b[0m\u001b[0;33mWarning: Using espn for pbp\n",
            "\u001b[0m\u001b[0;31mError: Espn pbp for game 2021-01-16 CGY VAN is either not there or can't be obtained \n",
            "\u001b[0m"
          ]
        },
        {
          "metadata": {
            "tags": null
          },
          "name": "stdout",
          "output_type": "stream",
          "text": [
            "Scraping Game  2020020031 2021-01-16\n"
          ]
        },
        {
          "metadata": {
            "tags": null
          },
          "name": "stderr",
          "output_type": "stream",
          "text": [
            "\u001b[0;31mError: Error parsing Json pbp for game 2020020031 'period'\n",
            "\u001b[0m\u001b[0;33mWarning: Using espn for pbp\n",
            "\u001b[0m\u001b[0;31mError: Espn pbp for game 2021-01-16 VGK ANA is either not there or can't be obtained \n",
            "\u001b[0m"
          ]
        },
        {
          "metadata": {
            "tags": null
          },
          "name": "stdout",
          "output_type": "stream",
          "text": [
            "Scraping Game  2020020035 2021-01-17\n"
          ]
        },
        {
          "metadata": {
            "tags": null
          },
          "name": "stderr",
          "output_type": "stream",
          "text": [
            "\u001b[0;31mError: Error parsing Json pbp for game 2020020035 'period'\n",
            "\u001b[0m\u001b[0;33mWarning: Using espn for pbp\n",
            "\u001b[0m\u001b[0;31mError: Espn pbp for game 2021-01-17 PIT WSH is either not there or can't be obtained \n",
            "\u001b[0m"
          ]
        },
        {
          "metadata": {
            "tags": null
          },
          "name": "stdout",
          "output_type": "stream",
          "text": [
            "Scraping Game  2020020034 2021-01-17\n"
          ]
        },
        {
          "metadata": {
            "tags": null
          },
          "name": "stderr",
          "output_type": "stream",
          "text": [
            "\u001b[0;31mError: Error parsing Json pbp for game 2020020034 'period'\n",
            "\u001b[0m\u001b[0;33mWarning: Using espn for pbp\n",
            "\u001b[0m\u001b[0;31mError: Espn pbp for game 2021-01-17 FLA CHI is either not there or can't be obtained \n",
            "\u001b[0m"
          ]
        },
        {
          "metadata": {
            "tags": null
          },
          "name": "stdout",
          "output_type": "stream",
          "text": [
            "Scraping Game  2020020038 2021-01-18\n"
          ]
        },
        {
          "metadata": {
            "tags": null
          },
          "name": "stderr",
          "output_type": "stream",
          "text": [
            "\u001b[0;31mError: Error parsing Json pbp for game 2020020038 'period'\n",
            "\u001b[0m\u001b[0;33mWarning: Using espn for pbp\n",
            "\u001b[0m\u001b[0;31mError: Espn pbp for game 2021-01-18 DET CBJ is either not there or can't be obtained \n",
            "\u001b[0m"
          ]
        },
        {
          "metadata": {
            "tags": null
          },
          "name": "stdout",
          "output_type": "stream",
          "text": [
            "Scraping Game  2020020036 2021-01-18\n"
          ]
        },
        {
          "metadata": {
            "tags": null
          },
          "name": "stderr",
          "output_type": "stream",
          "text": [
            "\u001b[0;31mError: Error parsing Json pbp for game 2020020036 'period'\n",
            "\u001b[0m\u001b[0;33mWarning: Using espn for pbp\n",
            "\u001b[0m\u001b[0;31mError: Espn pbp for game 2021-01-18 NYI BOS is either not there or can't be obtained \n",
            "\u001b[0m"
          ]
        },
        {
          "metadata": {
            "tags": null
          },
          "name": "stdout",
          "output_type": "stream",
          "text": [
            "Scraping Game  2020020041 2021-01-18\n"
          ]
        },
        {
          "metadata": {
            "tags": null
          },
          "name": "stderr",
          "output_type": "stream",
          "text": [
            "\u001b[0;31mError: Error parsing Json pbp for game 2020020041 'period'\n",
            "\u001b[0m\u001b[0;33mWarning: Using espn for pbp\n",
            "\u001b[0m\u001b[0;31mError: Espn pbp for game 2021-01-18 TOR WPG is either not there or can't be obtained \n",
            "\u001b[0m"
          ]
        },
        {
          "metadata": {
            "tags": null
          },
          "name": "stdout",
          "output_type": "stream",
          "text": [
            "Scraping Game  2020020037 2021-01-18\n"
          ]
        },
        {
          "metadata": {
            "tags": null
          },
          "name": "stderr",
          "output_type": "stream",
          "text": [
            "\u001b[0;31mError: Error parsing Json pbp for game 2020020037 'period'\n",
            "\u001b[0m\u001b[0;33mWarning: Using espn for pbp\n",
            "\u001b[0m\u001b[0;31mError: Espn pbp for game 2021-01-18 PHI BUF is either not there or can't be obtained \n",
            "\u001b[0m"
          ]
        },
        {
          "metadata": {
            "tags": null
          },
          "name": "stdout",
          "output_type": "stream",
          "text": [
            "Scraping Game  2020020039 2021-01-18\n"
          ]
        },
        {
          "metadata": {
            "tags": null
          },
          "name": "stderr",
          "output_type": "stream",
          "text": [
            "\u001b[0;31mError: Error parsing Json pbp for game 2020020039 'period'\n",
            "\u001b[0m\u001b[0;33mWarning: Using espn for pbp\n",
            "\u001b[0m\u001b[0;31mError: Espn pbp for game 2021-01-18 STL S.J is either not there or can't be obtained \n",
            "\u001b[0m"
          ]
        },
        {
          "metadata": {
            "tags": null
          },
          "name": "stdout",
          "output_type": "stream",
          "text": [
            "Scraping Game  2020020040 2021-01-18\n"
          ]
        },
        {
          "metadata": {
            "tags": null
          },
          "name": "stderr",
          "output_type": "stream",
          "text": [
            "\u001b[0;31mError: Error parsing Json pbp for game 2020020040 'period'\n",
            "\u001b[0m\u001b[0;33mWarning: Using espn for pbp\n",
            "\u001b[0m\u001b[0;31mError: Espn pbp for game 2021-01-18 NSH CAR is either not there or can't be obtained \n",
            "\u001b[0m"
          ]
        },
        {
          "metadata": {
            "tags": null
          },
          "name": "stdout",
          "output_type": "stream",
          "text": [
            "Scraping Game  2020020042 2021-01-18\n"
          ]
        },
        {
          "metadata": {
            "tags": null
          },
          "name": "stderr",
          "output_type": "stream",
          "text": [
            "\u001b[0;31mError: Error parsing Json pbp for game 2020020042 'period'\n",
            "\u001b[0m\u001b[0;33mWarning: Using espn for pbp\n",
            "\u001b[0m\u001b[0;31mError: Espn pbp for game 2021-01-18 CGY VAN is either not there or can't be obtained \n",
            "\u001b[0m"
          ]
        },
        {
          "metadata": {
            "tags": null
          },
          "name": "stdout",
          "output_type": "stream",
          "text": [
            "Scraping Game  2020020043 2021-01-18\n"
          ]
        },
        {
          "metadata": {
            "tags": null
          },
          "name": "stderr",
          "output_type": "stream",
          "text": [
            "\u001b[0;31mError: Error parsing Json pbp for game 2020020043 'period'\n",
            "\u001b[0m\u001b[0;33mWarning: Using espn for pbp\n",
            "\u001b[0m\u001b[0;31mError: Espn pbp for game 2021-01-18 EDM MTL is either not there or can't be obtained \n",
            "\u001b[0m"
          ]
        },
        {
          "metadata": {
            "tags": null
          },
          "name": "stdout",
          "output_type": "stream",
          "text": [
            "Scraping Game  2020020045 2021-01-18\n"
          ]
        },
        {
          "metadata": {
            "tags": null
          },
          "name": "stderr",
          "output_type": "stream",
          "text": [
            "\u001b[0;31mError: Error parsing Json pbp for game 2020020045 'period'\n",
            "\u001b[0m\u001b[0;33mWarning: Using espn for pbp\n",
            "\u001b[0m\u001b[0;31mError: Espn pbp for game 2021-01-18 ANA MIN is either not there or can't be obtained \n",
            "\u001b[0m"
          ]
        },
        {
          "metadata": {
            "tags": null
          },
          "name": "stdout",
          "output_type": "stream",
          "text": [
            "Scraping Game  2020020044 2021-01-18\n"
          ]
        },
        {
          "metadata": {
            "tags": null
          },
          "name": "stderr",
          "output_type": "stream",
          "text": [
            "\u001b[0;31mError: Error parsing Json pbp for game 2020020044 'period'\n",
            "\u001b[0m\u001b[0;33mWarning: Using espn for pbp\n",
            "\u001b[0m\u001b[0;31mError: Espn pbp for game 2021-01-18 VGK ARI is either not there or can't be obtained \n",
            "\u001b[0m"
          ]
        },
        {
          "metadata": {
            "tags": null
          },
          "name": "stdout",
          "output_type": "stream",
          "text": [
            "Scraping Game  2020020046 2021-01-19\n"
          ]
        },
        {
          "metadata": {
            "tags": null
          },
          "name": "stderr",
          "output_type": "stream",
          "text": [
            "\u001b[0;31mError: Error parsing Json pbp for game 2020020046 'period'\n",
            "\u001b[0m\u001b[0;33mWarning: Using espn for pbp\n",
            "\u001b[0m\u001b[0;31mError: Espn pbp for game 2021-01-19 NYR N.J is either not there or can't be obtained \n",
            "\u001b[0m"
          ]
        },
        {
          "metadata": {
            "tags": null
          },
          "name": "stdout",
          "output_type": "stream",
          "text": [
            "Scraping Game  2020020047 2021-01-19\n"
          ]
        },
        {
          "metadata": {
            "tags": null
          },
          "name": "stderr",
          "output_type": "stream",
          "text": [
            "\u001b[0;31mError: Error parsing Json pbp for game 2020020047 'period'\n",
            "\u001b[0m\u001b[0;33mWarning: Using espn for pbp\n",
            "\u001b[0m\u001b[0;31mError: Espn pbp for game 2021-01-19 PHI BUF is either not there or can't be obtained \n",
            "\u001b[0m"
          ]
        },
        {
          "metadata": {
            "tags": null
          },
          "name": "stdout",
          "output_type": "stream",
          "text": [
            "Scraping Game  2020020049 2021-01-19\n"
          ]
        },
        {
          "metadata": {
            "tags": null
          },
          "name": "stderr",
          "output_type": "stream",
          "text": [
            "\u001b[0;31mError: Error parsing Json pbp for game 2020020049 'period'\n",
            "\u001b[0m\u001b[0;33mWarning: Using espn for pbp\n",
            "\u001b[0m\u001b[0;31mError: Espn pbp for game 2021-01-19 FLA CHI is either not there or can't be obtained \n",
            "\u001b[0m"
          ]
        },
        {
          "metadata": {
            "tags": null
          },
          "name": "stdout",
          "output_type": "stream",
          "text": [
            "Scraping Game  2020020050 2021-01-19\n"
          ]
        },
        {
          "metadata": {
            "tags": null
          },
          "name": "stderr",
          "output_type": "stream",
          "text": [
            "\u001b[0;31mError: Error parsing Json pbp for game 2020020050 'period'\n",
            "\u001b[0m\u001b[0;33mWarning: Using espn for pbp\n",
            "\u001b[0m\u001b[0;31mError: Espn pbp for game 2021-01-19 PIT WSH is either not there or can't be obtained \n",
            "\u001b[0m"
          ]
        },
        {
          "metadata": {
            "tags": null
          },
          "name": "stdout",
          "output_type": "stream",
          "text": [
            "Scraping Game  2020020053 2021-01-19\n"
          ]
        },
        {
          "metadata": {
            "tags": null
          },
          "name": "stderr",
          "output_type": "stream",
          "text": [
            "\u001b[0;31mError: Error parsing Json pbp for game 2020020053 'period'\n",
            "\u001b[0m\u001b[0;33mWarning: Using espn for pbp\n",
            "\u001b[0m\u001b[0;31mError: Espn pbp for game 2021-01-19 OTT WPG is either not there or can't be obtained \n",
            "\u001b[0m"
          ]
        },
        {
          "metadata": {
            "tags": null
          },
          "name": "stdout",
          "output_type": "stream",
          "text": [
            "Scraping Game  2020020051 2021-01-19\n"
          ]
        },
        {
          "metadata": {
            "tags": null
          },
          "name": "stderr",
          "output_type": "stream",
          "text": [
            "\u001b[0;31mError: Error parsing Json pbp for game 2020020051 'period'\n",
            "\u001b[0m\u001b[0;33mWarning: Using espn for pbp\n",
            "\u001b[0m\u001b[0;31mError: Espn pbp for game 2021-01-19 DET CBJ is either not there or can't be obtained \n",
            "\u001b[0m"
          ]
        },
        {
          "metadata": {
            "tags": null
          },
          "name": "stdout",
          "output_type": "stream",
          "text": [
            "Scraping Game  2020020054 2021-01-19\n"
          ]
        },
        {
          "metadata": {
            "tags": null
          },
          "name": "stderr",
          "output_type": "stream",
          "text": [
            "\u001b[0;31mError: Error parsing Json pbp for game 2020020054 'period'\n",
            "\u001b[0m\u001b[0;33mWarning: Using espn for pbp\n",
            "\u001b[0m\u001b[0;31mError: Espn pbp for game 2021-01-19 L.A COL is either not there or can't be obtained \n",
            "\u001b[0m"
          ]
        },
        {
          "metadata": {
            "tags": null
          },
          "name": "stdout",
          "output_type": "stream",
          "text": [
            "Scraping Game  2020020056 2021-01-20\n"
          ]
        },
        {
          "metadata": {
            "tags": null
          },
          "name": "stderr",
          "output_type": "stream",
          "text": [
            "\u001b[0;31mError: Error parsing Json pbp for game 2020020056 'period'\n",
            "\u001b[0m\u001b[0;33mWarning: Using espn for pbp\n",
            "\u001b[0m\u001b[0;31mError: Espn pbp for game 2021-01-20 TOR EDM is either not there or can't be obtained \n",
            "\u001b[0m"
          ]
        },
        {
          "metadata": {
            "tags": null
          },
          "name": "stdout",
          "output_type": "stream",
          "text": [
            "Scraping Game  2020020055 2021-01-20\n"
          ]
        },
        {
          "metadata": {
            "tags": null
          },
          "name": "stderr",
          "output_type": "stream",
          "text": [
            "\u001b[0;31mError: Error parsing Json pbp for game 2020020055 'period'\n",
            "\u001b[0m\u001b[0;33mWarning: Using espn for pbp\n",
            "\u001b[0m\u001b[0;31mError: Espn pbp for game 2021-01-20 STL S.J is either not there or can't be obtained \n",
            "\u001b[0m"
          ]
        },
        {
          "metadata": {
            "tags": null
          },
          "name": "stdout",
          "output_type": "stream",
          "text": [
            "Scraping Game  2020020059 2021-01-20\n"
          ]
        },
        {
          "metadata": {
            "tags": null
          },
          "name": "stderr",
          "output_type": "stream",
          "text": [
            "\u001b[0;31mError: Error parsing Json pbp for game 2020020059 'period'\n",
            "\u001b[0m\u001b[0;33mWarning: Using espn for pbp\n",
            "\u001b[0m\u001b[0;31mError: Espn pbp for game 2021-01-20 ANA MIN is either not there or can't be obtained \n",
            "\u001b[0m"
          ]
        },
        {
          "metadata": {
            "tags": null
          },
          "name": "stdout",
          "output_type": "stream",
          "text": [
            "Scraping Game  2020020057 2021-01-20\n"
          ]
        },
        {
          "metadata": {
            "tags": null
          },
          "name": "stderr",
          "output_type": "stream",
          "text": [
            "\u001b[0;31mError: Error parsing Json pbp for game 2020020057 'period'\n",
            "\u001b[0m\u001b[0;33mWarning: Using espn for pbp\n",
            "\u001b[0m\u001b[0;31mError: Espn pbp for game 2021-01-20 VAN MTL is either not there or can't be obtained \n",
            "\u001b[0m"
          ]
        },
        {
          "metadata": {
            "tags": null
          },
          "name": "stdout",
          "output_type": "stream",
          "text": [
            "Scraping Game  2020020058 2021-01-20\n"
          ]
        },
        {
          "metadata": {
            "tags": null
          },
          "name": "stderr",
          "output_type": "stream",
          "text": [
            "\u001b[0;31mError: Error parsing Json pbp for game 2020020058 'period'\n",
            "\u001b[0m\u001b[0;33mWarning: Using espn for pbp\n",
            "\u001b[0m\u001b[0;31mError: Espn pbp for game 2021-01-20 VGK ARI is either not there or can't be obtained \n",
            "\u001b[0m"
          ]
        },
        {
          "metadata": {
            "tags": null
          },
          "name": "stdout",
          "output_type": "stream",
          "text": [
            "Scraping Game  2020020060 2021-01-21\n"
          ]
        },
        {
          "metadata": {
            "tags": null
          },
          "name": "stderr",
          "output_type": "stream",
          "text": [
            "\u001b[0;31mError: Error parsing Json pbp for game 2020020060 'period'\n",
            "\u001b[0m\u001b[0;33mWarning: Using espn for pbp\n",
            "\u001b[0m\u001b[0;31mError: Espn pbp for game 2021-01-21 BOS PHI is either not there or can't be obtained \n",
            "\u001b[0m"
          ]
        },
        {
          "metadata": {
            "tags": null
          },
          "name": "stdout",
          "output_type": "stream",
          "text": [
            "Scraping Game  2020020061 2021-01-21\n"
          ]
        },
        {
          "metadata": {
            "tags": null
          },
          "name": "stderr",
          "output_type": "stream",
          "text": [
            "\u001b[0;31mError: Error parsing Json pbp for game 2020020061 'period'\n",
            "\u001b[0m\u001b[0;33mWarning: Using espn for pbp\n",
            "\u001b[0m\u001b[0;31mError: Espn pbp for game 2021-01-21 NYI N.J is either not there or can't be obtained \n",
            "\u001b[0m"
          ]
        },
        {
          "metadata": {
            "tags": null
          },
          "name": "stdout",
          "output_type": "stream",
          "text": [
            "Scraping Game  2020020063 2021-01-21\n"
          ]
        },
        {
          "metadata": {
            "tags": null
          },
          "name": "stderr",
          "output_type": "stream",
          "text": [
            "\u001b[0;31mError: Error parsing Json pbp for game 2020020063 'period'\n",
            "\u001b[0m\u001b[0;33mWarning: Using espn for pbp\n",
            "\u001b[0m\u001b[0;31mError: Espn pbp for game 2021-01-21 CBJ T.B is either not there or can't be obtained \n",
            "\u001b[0m"
          ]
        },
        {
          "metadata": {
            "tags": null
          },
          "name": "stdout",
          "output_type": "stream",
          "text": [
            "Scraping Game  2020020064 2021-01-21\n"
          ]
        },
        {
          "metadata": {
            "tags": null
          },
          "name": "stderr",
          "output_type": "stream",
          "text": [
            "\u001b[0;31mError: Error parsing Json pbp for game 2020020064 'period'\n",
            "\u001b[0m\u001b[0;33mWarning: Using espn for pbp\n",
            "\u001b[0m\u001b[0;31mError: Espn pbp for game 2021-01-21 OTT WPG is either not there or can't be obtained \n",
            "\u001b[0m"
          ]
        },
        {
          "metadata": {
            "tags": null
          },
          "name": "stdout",
          "output_type": "stream",
          "text": [
            "Scraping Game  2020020065 2021-01-21\n"
          ]
        },
        {
          "metadata": {
            "tags": null
          },
          "name": "stderr",
          "output_type": "stream",
          "text": [
            "\u001b[0;31mError: Error parsing Json pbp for game 2020020065 'period'\n",
            "\u001b[0m\u001b[0;33mWarning: Using espn for pbp\n",
            "\u001b[0m\u001b[0;31mError: Espn pbp for game 2021-01-21 VAN MTL is either not there or can't be obtained \n",
            "\u001b[0m"
          ]
        },
        {
          "metadata": {
            "tags": null
          },
          "name": "stdout",
          "output_type": "stream",
          "text": [
            "Scraping Game  2020020066 2021-01-21\n"
          ]
        },
        {
          "metadata": {
            "tags": null
          },
          "name": "stderr",
          "output_type": "stream",
          "text": [
            "\u001b[0;31mError: Error parsing Json pbp for game 2020020066 'period'\n",
            "\u001b[0m\u001b[0;33mWarning: Using espn for pbp\n",
            "\u001b[0m\u001b[0;31mError: Espn pbp for game 2021-01-21 L.A COL is either not there or can't be obtained \n",
            "\u001b[0m"
          ]
        },
        {
          "metadata": {
            "tags": null
          },
          "name": "stdout",
          "output_type": "stream",
          "text": [
            "Scraping Game  2020020067 2021-01-22\n"
          ]
        },
        {
          "metadata": {
            "tags": null
          },
          "name": "stderr",
          "output_type": "stream",
          "text": [
            "\u001b[0;31mError: Error parsing Json pbp for game 2020020067 'period'\n",
            "\u001b[0m\u001b[0;33mWarning: Using espn for pbp\n",
            "\u001b[0m\u001b[0;31mError: Espn pbp for game 2021-01-22 WSH BUF is either not there or can't be obtained \n",
            "\u001b[0m"
          ]
        },
        {
          "metadata": {
            "tags": null
          },
          "name": "stdout",
          "output_type": "stream",
          "text": [
            "Scraping Game  2020020068 2021-01-22\n"
          ]
        },
        {
          "metadata": {
            "tags": null
          },
          "name": "stderr",
          "output_type": "stream",
          "text": [
            "\u001b[0;31mError: Error parsing Json pbp for game 2020020068 'period'\n",
            "\u001b[0m\u001b[0;33mWarning: Using espn for pbp\n",
            "\u001b[0m\u001b[0;31mError: Espn pbp for game 2021-01-22 PIT NYR is either not there or can't be obtained \n",
            "\u001b[0m"
          ]
        },
        {
          "metadata": {
            "tags": null
          },
          "name": "stdout",
          "output_type": "stream",
          "text": [
            "Scraping Game  2020020070 2021-01-22\n"
          ]
        },
        {
          "metadata": {
            "tags": null
          },
          "name": "stderr",
          "output_type": "stream",
          "text": [
            "\u001b[0;31mError: Error parsing Json pbp for game 2020020070 'period'\n",
            "\u001b[0m\u001b[0;33mWarning: Using espn for pbp\n",
            "\u001b[0m\u001b[0;31mError: Espn pbp for game 2021-01-22 TOR EDM is either not there or can't be obtained \n",
            "\u001b[0m"
          ]
        },
        {
          "metadata": {
            "tags": null
          },
          "name": "stdout",
          "output_type": "stream",
          "text": [
            "Scraping Game  2020020069 2021-01-22\n"
          ]
        },
        {
          "metadata": {
            "tags": null
          },
          "name": "stderr",
          "output_type": "stream",
          "text": [
            "\u001b[0;31mError: Error parsing Json pbp for game 2020020069 'period'\n",
            "\u001b[0m\u001b[0;33mWarning: Using espn for pbp\n",
            "\u001b[0m\u001b[0;31mError: Espn pbp for game 2021-01-22 CHI DET is either not there or can't be obtained \n",
            "\u001b[0m"
          ]
        },
        {
          "metadata": {
            "tags": null
          },
          "name": "stdout",
          "output_type": "stream",
          "text": [
            "Scraping Game  2020020071 2021-01-22\n"
          ]
        },
        {
          "metadata": {
            "tags": null
          },
          "name": "stderr",
          "output_type": "stream",
          "text": [
            "\u001b[0;31mError: Error parsing Json pbp for game 2020020071 'period'\n",
            "\u001b[0m\u001b[0;33mWarning: Using espn for pbp\n",
            "\u001b[0m\u001b[0;31mError: Espn pbp for game 2021-01-22 MIN S.J is either not there or can't be obtained \n",
            "\u001b[0m"
          ]
        },
        {
          "metadata": {
            "tags": null
          },
          "name": "stdout",
          "output_type": "stream",
          "text": [
            "Scraping Game  2020020072 2021-01-22\n"
          ]
        },
        {
          "metadata": {
            "tags": null
          },
          "name": "stderr",
          "output_type": "stream",
          "text": [
            "\u001b[0;31mError: Error parsing Json pbp for game 2020020072 'period'\n",
            "\u001b[0m\u001b[0;33mWarning: Using espn for pbp\n",
            "\u001b[0m\u001b[0;31mError: Espn pbp for game 2021-01-22 DAL NSH is either not there or can't be obtained \n",
            "\u001b[0m"
          ]
        },
        {
          "metadata": {
            "tags": null
          },
          "name": "stdout",
          "output_type": "stream",
          "text": [
            "Scraping Game  2020020073 2021-01-22\n"
          ]
        },
        {
          "metadata": {
            "tags": null
          },
          "name": "stderr",
          "output_type": "stream",
          "text": [
            "\u001b[0;31mError: Error parsing Json pbp for game 2020020073 'period'\n",
            "\u001b[0m\u001b[0;33mWarning: Using espn for pbp\n",
            "\u001b[0m\u001b[0;31mError: Espn pbp for game 2021-01-22 ARI VGK is either not there or can't be obtained \n",
            "\u001b[0m"
          ]
        },
        {
          "metadata": {
            "tags": null
          },
          "name": "stdout",
          "output_type": "stream",
          "text": [
            "Scraping Game  2020020074 2021-01-22\n"
          ]
        },
        {
          "metadata": {
            "tags": null
          },
          "name": "stderr",
          "output_type": "stream",
          "text": [
            "\u001b[0;31mError: Error parsing Json pbp for game 2020020074 'period'\n",
            "\u001b[0m\u001b[0;33mWarning: Using espn for pbp\n",
            "\u001b[0m\u001b[0;31mError: Espn pbp for game 2021-01-22 ANA COL is either not there or can't be obtained \n",
            "\u001b[0m"
          ]
        },
        {
          "metadata": {
            "tags": null
          },
          "name": "stdout",
          "output_type": "stream",
          "text": [
            "Scraping Game  2020020077 2021-01-23\n"
          ]
        },
        {
          "metadata": {
            "tags": null
          },
          "name": "stderr",
          "output_type": "stream",
          "text": [
            "\u001b[0;31mError: Error parsing Json pbp for game 2020020077 'period'\n",
            "\u001b[0m\u001b[0;33mWarning: Using espn for pbp\n",
            "\u001b[0m\u001b[0;31mError: Espn pbp for game 2021-01-23 CBJ T.B is either not there or can't be obtained \n",
            "\u001b[0m"
          ]
        },
        {
          "metadata": {
            "tags": null
          },
          "name": "stdout",
          "output_type": "stream",
          "text": [
            "Scraping Game  2020020075 2021-01-23\n"
          ]
        },
        {
          "metadata": {
            "tags": null
          },
          "name": "stderr",
          "output_type": "stream",
          "text": [
            "\u001b[0;31mError: Error parsing Json pbp for game 2020020075 'period'\n",
            "\u001b[0m\u001b[0;33mWarning: Using espn for pbp\n",
            "\u001b[0m\u001b[0;31mError: Espn pbp for game 2021-01-23 BOS PHI is either not there or can't be obtained \n",
            "\u001b[0m"
          ]
        },
        {
          "metadata": {
            "tags": null
          },
          "name": "stdout",
          "output_type": "stream",
          "text": [
            "Scraping Game  2020020080 2021-01-23\n"
          ]
        },
        {
          "metadata": {
            "tags": null
          },
          "name": "stderr",
          "output_type": "stream",
          "text": [
            "\u001b[0;31mError: Error parsing Json pbp for game 2020020080 'period'\n",
            "\u001b[0m\u001b[0;33mWarning: Using espn for pbp\n",
            "\u001b[0m\u001b[0;31mError: Espn pbp for game 2021-01-23 VAN MTL is either not there or can't be obtained \n",
            "\u001b[0m"
          ]
        },
        {
          "metadata": {
            "tags": null
          },
          "name": "stdout",
          "output_type": "stream",
          "text": [
            "Scraping Game  2020020078 2021-01-23\n"
          ]
        },
        {
          "metadata": {
            "tags": null
          },
          "name": "stderr",
          "output_type": "stream",
          "text": [
            "\u001b[0;31mError: Error parsing Json pbp for game 2020020078 'period'\n",
            "\u001b[0m\u001b[0;33mWarning: Using espn for pbp\n",
            "\u001b[0m\u001b[0;31mError: Espn pbp for game 2021-01-23 STL L.A is either not there or can't be obtained \n",
            "\u001b[0m"
          ]
        },
        {
          "metadata": {
            "tags": null
          },
          "name": "stdout",
          "output_type": "stream",
          "text": [
            "Scraping Game  2020020079 2021-01-23\n"
          ]
        },
        {
          "metadata": {
            "tags": null
          },
          "name": "stderr",
          "output_type": "stream",
          "text": [
            "\u001b[0;31mError: Error parsing Json pbp for game 2020020079 'period'\n",
            "\u001b[0m\u001b[0;33mWarning: Using espn for pbp\n",
            "\u001b[0m\u001b[0;31mError: Espn pbp for game 2021-01-23 WPG OTT is either not there or can't be obtained \n",
            "\u001b[0m"
          ]
        },
        {
          "metadata": {
            "tags": null
          },
          "name": "stdout",
          "output_type": "stream",
          "text": [
            "Scraping Game  2020020084 2021-01-24\n"
          ]
        },
        {
          "metadata": {
            "tags": null
          },
          "name": "stderr",
          "output_type": "stream",
          "text": [
            "\u001b[0;31mError: Error parsing Json pbp for game 2020020084 'period'\n",
            "\u001b[0m\u001b[0;33mWarning: Using espn for pbp\n",
            "\u001b[0m\u001b[0;31mError: Espn pbp for game 2021-01-24 CHI DET is either not there or can't be obtained \n",
            "\u001b[0m"
          ]
        },
        {
          "metadata": {
            "tags": null
          },
          "name": "stdout",
          "output_type": "stream",
          "text": [
            "Scraping Game  2020020082 2021-01-24\n"
          ]
        },
        {
          "metadata": {
            "tags": null
          },
          "name": "stderr",
          "output_type": "stream",
          "text": [
            "\u001b[0;31mError: Error parsing Json pbp for game 2020020082 'period'\n",
            "\u001b[0m\u001b[0;33mWarning: Using espn for pbp\n",
            "\u001b[0m\u001b[0;31mError: Espn pbp for game 2021-01-24 WSH BUF is either not there or can't be obtained \n",
            "\u001b[0m"
          ]
        },
        {
          "metadata": {
            "tags": null
          },
          "name": "stdout",
          "output_type": "stream",
          "text": [
            "Scraping Game  2020020087 2021-01-24\n"
          ]
        },
        {
          "metadata": {
            "tags": null
          },
          "name": "stderr",
          "output_type": "stream",
          "text": [
            "\u001b[0;31mError: Error parsing Json pbp for game 2020020087 'period'\n",
            "\u001b[0m\u001b[0;33mWarning: Using espn for pbp\n",
            "\u001b[0m\u001b[0;31mError: Espn pbp for game 2021-01-24 CGY TOR is either not there or can't be obtained \n",
            "\u001b[0m"
          ]
        },
        {
          "metadata": {
            "tags": null
          },
          "name": "stdout",
          "output_type": "stream",
          "text": [
            "Scraping Game  2020020090 2021-01-24\n"
          ]
        },
        {
          "metadata": {
            "tags": null
          },
          "name": "stderr",
          "output_type": "stream",
          "text": [
            "\u001b[0;31mError: Error parsing Json pbp for game 2020020090 'period'\n",
            "\u001b[0m\u001b[0;33mWarning: Using espn for pbp\n",
            "\u001b[0m\u001b[0;31mError: Espn pbp for game 2021-01-24 ARI VGK is either not there or can't be obtained \n",
            "\u001b[0m"
          ]
        },
        {
          "metadata": {
            "tags": null
          },
          "name": "stdout",
          "output_type": "stream",
          "text": [
            "Scraping Game  2020020081 2021-01-24\n"
          ]
        },
        {
          "metadata": {
            "tags": null
          },
          "name": "stderr",
          "output_type": "stream",
          "text": [
            "\u001b[0;31mError: Error parsing Json pbp for game 2020020081 'period'\n",
            "\u001b[0m\u001b[0;33mWarning: Using espn for pbp\n",
            "\u001b[0m\u001b[0;31mError: Espn pbp for game 2021-01-24 N.J NYI is either not there or can't be obtained \n",
            "\u001b[0m"
          ]
        },
        {
          "metadata": {
            "tags": null
          },
          "name": "stdout",
          "output_type": "stream",
          "text": [
            "Scraping Game  2020020083 2021-01-24\n"
          ]
        },
        {
          "metadata": {
            "tags": null
          },
          "name": "stderr",
          "output_type": "stream",
          "text": [
            "\u001b[0;31mError: Error parsing Json pbp for game 2020020083 'period'\n",
            "\u001b[0m\u001b[0;33mWarning: Using espn for pbp\n",
            "\u001b[0m\u001b[0;31mError: Espn pbp for game 2021-01-24 PIT NYR is either not there or can't be obtained \n",
            "\u001b[0m"
          ]
        },
        {
          "metadata": {
            "tags": null
          },
          "name": "stdout",
          "output_type": "stream",
          "text": [
            "Scraping Game  2020020085 2021-01-24\n"
          ]
        },
        {
          "metadata": {
            "tags": null
          },
          "name": "stderr",
          "output_type": "stream",
          "text": [
            "\u001b[0;31mError: Error parsing Json pbp for game 2020020085 'period'\n",
            "\u001b[0m\u001b[0;33mWarning: Using espn for pbp\n",
            "\u001b[0m\u001b[0;31mError: Espn pbp for game 2021-01-24 STL L.A is either not there or can't be obtained \n",
            "\u001b[0m"
          ]
        },
        {
          "metadata": {
            "tags": null
          },
          "name": "stdout",
          "output_type": "stream",
          "text": [
            "Scraping Game  2020020088 2021-01-24\n"
          ]
        },
        {
          "metadata": {
            "tags": null
          },
          "name": "stderr",
          "output_type": "stream",
          "text": [
            "\u001b[0;31mError: Error parsing Json pbp for game 2020020088 'period'\n",
            "\u001b[0m\u001b[0;33mWarning: Using espn for pbp\n",
            "\u001b[0m\u001b[0;31mError: Espn pbp for game 2021-01-24 MIN S.J is either not there or can't be obtained \n",
            "\u001b[0m"
          ]
        },
        {
          "metadata": {
            "tags": null
          },
          "name": "stdout",
          "output_type": "stream",
          "text": [
            "Scraping Game  2020020089 2021-01-24\n"
          ]
        },
        {
          "metadata": {
            "tags": null
          },
          "name": "stderr",
          "output_type": "stream",
          "text": [
            "\u001b[0;31mError: Error parsing Json pbp for game 2020020089 'period'\n",
            "\u001b[0m\u001b[0;33mWarning: Using espn for pbp\n",
            "\u001b[0m\u001b[0;31mError: Espn pbp for game 2021-01-24 DAL NSH is either not there or can't be obtained \n",
            "\u001b[0m"
          ]
        },
        {
          "metadata": {
            "tags": null
          },
          "name": "stdout",
          "output_type": "stream",
          "text": [
            "Scraping Game  2020020091 2021-01-24\n"
          ]
        },
        {
          "metadata": {
            "tags": null
          },
          "name": "stderr",
          "output_type": "stream",
          "text": [
            "\u001b[0;31mError: Error parsing Json pbp for game 2020020091 'period'\n",
            "\u001b[0m\u001b[0;33mWarning: Using espn for pbp\n",
            "\u001b[0m\u001b[0;31mError: Espn pbp for game 2021-01-24 ANA COL is either not there or can't be obtained \n",
            "\u001b[0m"
          ]
        },
        {
          "metadata": {
            "tags": null
          },
          "name": "stdout",
          "output_type": "stream",
          "text": [
            "Scraping Game  2020020086 2021-01-24\n"
          ]
        },
        {
          "metadata": {
            "tags": null
          },
          "name": "stderr",
          "output_type": "stream",
          "text": [
            "\u001b[0;31mError: Error parsing Json pbp for game 2020020086 'period'\n",
            "\u001b[0m\u001b[0;33mWarning: Using espn for pbp\n",
            "\u001b[0m\u001b[0;31mError: Espn pbp for game 2021-01-24 WPG EDM is either not there or can't be obtained \n",
            "\u001b[0m"
          ]
        },
        {
          "metadata": {
            "tags": null
          },
          "name": "stdout",
          "output_type": "stream",
          "text": [
            "Scraping Game  2020020092 2021-01-25\n"
          ]
        },
        {
          "metadata": {
            "tags": null
          },
          "name": "stderr",
          "output_type": "stream",
          "text": [
            "\u001b[0;31mError: Error parsing Json pbp for game 2020020092 'period'\n",
            "\u001b[0m\u001b[0;33mWarning: Using espn for pbp\n",
            "\u001b[0m\u001b[0;31mError: Espn pbp for game 2021-01-25 VAN OTT is either not there or can't be obtained \n",
            "\u001b[0m"
          ]
        },
        {
          "metadata": {
            "tags": null
          },
          "name": "stdout",
          "output_type": "stream",
          "text": [
            "Scraping Game  2020020093 2021-01-26\n"
          ]
        },
        {
          "metadata": {
            "tags": null
          },
          "name": "stderr",
          "output_type": "stream",
          "text": [
            "\u001b[0;31mError: Error parsing Json pbp for game 2020020093 'period'\n",
            "\u001b[0m\u001b[0;33mWarning: Using espn for pbp\n",
            "\u001b[0m\u001b[0;31mError: Espn pbp for game 2021-01-26 BOS PIT is either not there or can't be obtained \n",
            "\u001b[0m"
          ]
        },
        {
          "metadata": {
            "tags": null
          },
          "name": "stdout",
          "output_type": "stream",
          "text": [
            "Scraping Game  2020020094 2021-01-26\n"
          ]
        },
        {
          "metadata": {
            "tags": null
          },
          "name": "stderr",
          "output_type": "stream",
          "text": [
            "\u001b[0;31mError: Error parsing Json pbp for game 2020020094 'period'\n",
            "\u001b[0m\u001b[0;33mWarning: Using espn for pbp\n",
            "\u001b[0m\u001b[0;31mError: Espn pbp for game 2021-01-26 BUF NYR is either not there or can't be obtained \n",
            "\u001b[0m"
          ]
        },
        {
          "metadata": {
            "tags": null
          },
          "name": "stdout",
          "output_type": "stream",
          "text": [
            "Scraping Game  2020020095 2021-01-26\n"
          ]
        },
        {
          "metadata": {
            "tags": null
          },
          "name": "stderr",
          "output_type": "stream",
          "text": [
            "\u001b[0;31mError: Error parsing Json pbp for game 2020020095 'period'\n",
            "\u001b[0m\u001b[0;33mWarning: Using espn for pbp\n",
            "\u001b[0m\u001b[0;31mError: Espn pbp for game 2021-01-26 N.J PHI is either not there or can't be obtained \n",
            "\u001b[0m"
          ]
        },
        {
          "metadata": {
            "tags": null
          },
          "name": "stdout",
          "output_type": "stream",
          "text": [
            "Scraping Game  2020020096 2021-01-26\n"
          ]
        },
        {
          "metadata": {
            "tags": null
          },
          "name": "stderr",
          "output_type": "stream",
          "text": [
            "\u001b[0;31mError: Error parsing Json pbp for game 2020020096 'period'\n",
            "\u001b[0m\u001b[0;33mWarning: Using espn for pbp\n",
            "\u001b[0m\u001b[0;31mError: Espn pbp for game 2021-01-26 WSH NYI is either not there or can't be obtained \n",
            "\u001b[0m"
          ]
        },
        {
          "metadata": {
            "tags": null
          },
          "name": "stdout",
          "output_type": "stream",
          "text": [
            "Scraping Game  2020020098 2021-01-26\n"
          ]
        },
        {
          "metadata": {
            "tags": null
          },
          "name": "stderr",
          "output_type": "stream",
          "text": [
            "\u001b[0;31mError: Error parsing Json pbp for game 2020020098 'period'\n",
            "\u001b[0m\u001b[0;33mWarning: Using espn for pbp\n",
            "\u001b[0m\u001b[0;31mError: Espn pbp for game 2021-01-26 CBJ FLA is either not there or can't be obtained \n",
            "\u001b[0m"
          ]
        },
        {
          "metadata": {
            "tags": null
          },
          "name": "stdout",
          "output_type": "stream",
          "text": [
            "Scraping Game  2020020099 2021-01-26\n"
          ]
        },
        {
          "metadata": {
            "tags": null
          },
          "name": "stderr",
          "output_type": "stream",
          "text": [
            "\u001b[0;31mError: Error parsing Json pbp for game 2020020099 'period'\n",
            "\u001b[0m\u001b[0;33mWarning: Using espn for pbp\n",
            "\u001b[0m\u001b[0;31mError: Espn pbp for game 2021-01-26 NSH CHI is either not there or can't be obtained \n",
            "\u001b[0m"
          ]
        },
        {
          "metadata": {
            "tags": null
          },
          "name": "stdout",
          "output_type": "stream",
          "text": [
            "Scraping Game  2020020100 2021-01-26\n"
          ]
        },
        {
          "metadata": {
            "tags": null
          },
          "name": "stderr",
          "output_type": "stream",
          "text": [
            "\u001b[0;31mError: Error parsing Json pbp for game 2020020100 'period'\n",
            "\u001b[0m\u001b[0;33mWarning: Using espn for pbp\n",
            "\u001b[0m\u001b[0;31mError: Espn pbp for game 2021-01-26 WPG EDM is either not there or can't be obtained \n",
            "\u001b[0m"
          ]
        },
        {
          "metadata": {
            "tags": null
          },
          "name": "stdout",
          "output_type": "stream",
          "text": [
            "Scraping Game  2020020102 2021-01-26\n"
          ]
        },
        {
          "metadata": {
            "tags": null
          },
          "name": "stderr",
          "output_type": "stream",
          "text": [
            "\u001b[0;31mError: Error parsing Json pbp for game 2020020102 'period'\n",
            "\u001b[0m\u001b[0;33mWarning: Using espn for pbp\n",
            "\u001b[0m\u001b[0;31mError: Espn pbp for game 2021-01-26 MIN L.A is either not there or can't be obtained \n",
            "\u001b[0m"
          ]
        },
        {
          "metadata": {
            "tags": null
          },
          "name": "stdout",
          "output_type": "stream",
          "text": [
            "Scraping Game  2020020103 2021-01-26\n"
          ]
        },
        {
          "metadata": {
            "tags": null
          },
          "name": "stderr",
          "output_type": "stream",
          "text": [
            "\u001b[0;31mError: Error parsing Json pbp for game 2020020103 'period'\n",
            "\u001b[0m\u001b[0;33mWarning: Using espn for pbp\n",
            "\u001b[0m\u001b[0;31mError: Espn pbp for game 2021-01-26 DAL DET is either not there or can't be obtained \n",
            "\u001b[0m"
          ]
        },
        {
          "metadata": {
            "tags": null
          },
          "name": "stdout",
          "output_type": "stream",
          "text": [
            "Scraping Game  2020020101 2021-01-26\n"
          ]
        },
        {
          "metadata": {
            "tags": null
          },
          "name": "stderr",
          "output_type": "stream",
          "text": [
            "\u001b[0;31mError: Error parsing Json pbp for game 2020020101 'period'\n",
            "\u001b[0m\u001b[0;33mWarning: Using espn for pbp\n",
            "\u001b[0m\u001b[0;31mError: Espn pbp for game 2021-01-26 CGY TOR is either not there or can't be obtained \n",
            "\u001b[0m"
          ]
        },
        {
          "metadata": {
            "tags": null
          },
          "name": "stdout",
          "output_type": "stream",
          "text": [
            "Scraping Game  2020020104 2021-01-26\n"
          ]
        },
        {
          "metadata": {
            "tags": null
          },
          "name": "stderr",
          "output_type": "stream",
          "text": [
            "\u001b[0;31mError: Error parsing Json pbp for game 2020020104 'period'\n",
            "\u001b[0m\u001b[0;33mWarning: Using espn for pbp\n",
            "\u001b[0m\u001b[0;31mError: Espn pbp for game 2021-01-26 COL S.J is either not there or can't be obtained \n",
            "\u001b[0m"
          ]
        },
        {
          "metadata": {
            "tags": null
          },
          "name": "stdout",
          "output_type": "stream",
          "text": [
            "Scraping Game  2020020105 2021-01-26\n"
          ]
        },
        {
          "metadata": {
            "tags": null
          },
          "name": "stderr",
          "output_type": "stream",
          "text": [
            "\u001b[0;31mError: Error parsing Json pbp for game 2020020105 'period'\n",
            "\u001b[0m\u001b[0;33mWarning: Using espn for pbp\n",
            "\u001b[0m\u001b[0;31mError: Espn pbp for game 2021-01-26 ARI ANA is either not there or can't be obtained \n",
            "\u001b[0m"
          ]
        },
        {
          "metadata": {
            "tags": null
          },
          "name": "stdout",
          "output_type": "stream",
          "text": [
            "Scraping Game  2020020106 2021-01-26\n"
          ]
        },
        {
          "metadata": {
            "tags": null
          },
          "name": "stderr",
          "output_type": "stream",
          "text": [
            "\u001b[0;31mError: Error parsing Json pbp for game 2020020106 'period'\n",
            "\u001b[0m\u001b[0;33mWarning: Using espn for pbp\n",
            "\u001b[0m\u001b[0;31mError: Espn pbp for game 2021-01-26 VGK STL is either not there or can't be obtained \n",
            "\u001b[0m"
          ]
        },
        {
          "metadata": {
            "tags": null
          },
          "name": "stdout",
          "output_type": "stream",
          "text": [
            "Scraping Game  2020020107 2021-01-27\n"
          ]
        },
        {
          "metadata": {
            "tags": null
          },
          "name": "stderr",
          "output_type": "stream",
          "text": [
            "\u001b[0;31mError: Error parsing Json pbp for game 2020020107 'period'\n",
            "\u001b[0m\u001b[0;33mWarning: Using espn for pbp\n",
            "\u001b[0m\u001b[0;31mError: Espn pbp for game 2021-01-27 NSH CHI is either not there or can't be obtained \n",
            "\u001b[0m"
          ]
        },
        {
          "metadata": {
            "tags": null
          },
          "name": "stdout",
          "output_type": "stream",
          "text": [
            "Scraping Game  2020020108 2021-01-27\n"
          ]
        },
        {
          "metadata": {
            "tags": null
          },
          "name": "stderr",
          "output_type": "stream",
          "text": [
            "\u001b[0;31mError: Error parsing Json pbp for game 2020020108 'period'\n",
            "\u001b[0m\u001b[0;33mWarning: Using espn for pbp\n",
            "\u001b[0m\u001b[0;31mError: Espn pbp for game 2021-01-27 VAN OTT is either not there or can't be obtained \n",
            "\u001b[0m"
          ]
        },
        {
          "metadata": {
            "tags": null
          },
          "name": "stdout",
          "output_type": "stream",
          "text": [
            "Scraping Game  2020020109 2021-01-28\n"
          ]
        },
        {
          "metadata": {
            "tags": null
          },
          "name": "stderr",
          "output_type": "stream",
          "text": [
            "\u001b[0;31mError: Error parsing Json pbp for game 2020020109 'period'\n",
            "\u001b[0m\u001b[0;33mWarning: Using espn for pbp\n",
            "\u001b[0m\u001b[0;31mError: Espn pbp for game 2021-01-28 BOS PIT is either not there or can't be obtained \n",
            "\u001b[0m"
          ]
        },
        {
          "metadata": {
            "tags": null
          },
          "name": "stdout",
          "output_type": "stream",
          "text": [
            "Scraping Game  2020020110 2021-01-28\n"
          ]
        },
        {
          "metadata": {
            "tags": null
          },
          "name": "stderr",
          "output_type": "stream",
          "text": [
            "\u001b[0;31mError: Error parsing Json pbp for game 2020020110 'period'\n",
            "\u001b[0m\u001b[0;33mWarning: Using espn for pbp\n",
            "\u001b[0m\u001b[0;31mError: Espn pbp for game 2021-01-28 BUF NYR is either not there or can't be obtained \n",
            "\u001b[0m"
          ]
        },
        {
          "metadata": {
            "tags": null
          },
          "name": "stdout",
          "output_type": "stream",
          "text": [
            "Scraping Game  2020020111 2021-01-28\n"
          ]
        },
        {
          "metadata": {
            "tags": null
          },
          "name": "stderr",
          "output_type": "stream",
          "text": [
            "\u001b[0;31mError: Error parsing Json pbp for game 2020020111 'period'\n",
            "\u001b[0m\u001b[0;33mWarning: Using espn for pbp\n",
            "\u001b[0m\u001b[0;31mError: Espn pbp for game 2021-01-28 N.J PHI is either not there or can't be obtained \n",
            "\u001b[0m"
          ]
        },
        {
          "metadata": {
            "tags": null
          },
          "name": "stdout",
          "output_type": "stream",
          "text": [
            "Scraping Game  2020020112 2021-01-28\n"
          ]
        },
        {
          "metadata": {
            "tags": null
          },
          "name": "stderr",
          "output_type": "stream",
          "text": [
            "\u001b[0;31mError: Error parsing Json pbp for game 2020020112 'period'\n",
            "\u001b[0m\u001b[0;33mWarning: Using espn for pbp\n",
            "\u001b[0m\u001b[0;31mError: Espn pbp for game 2021-01-28 WSH NYI is either not there or can't be obtained \n",
            "\u001b[0m"
          ]
        },
        {
          "metadata": {
            "tags": null
          },
          "name": "stdout",
          "output_type": "stream",
          "text": [
            "Scraping Game  2020020113 2021-01-28\n"
          ]
        },
        {
          "metadata": {
            "tags": null
          },
          "name": "stderr",
          "output_type": "stream",
          "text": [
            "\u001b[0;31mError: Error parsing Json pbp for game 2020020113 'period'\n",
            "\u001b[0m\u001b[0;33mWarning: Using espn for pbp\n",
            "\u001b[0m\u001b[0;31mError: Espn pbp for game 2021-01-28 CAR T.B is either not there or can't be obtained \n",
            "\u001b[0m"
          ]
        },
        {
          "metadata": {
            "tags": null
          },
          "name": "stdout",
          "output_type": "stream",
          "text": [
            "Scraping Game  2020020114 2021-01-28\n"
          ]
        },
        {
          "metadata": {
            "tags": null
          },
          "name": "stderr",
          "output_type": "stream",
          "text": [
            "\u001b[0;31mError: Error parsing Json pbp for game 2020020114 'period'\n",
            "\u001b[0m\u001b[0;33mWarning: Using espn for pbp\n",
            "\u001b[0m\u001b[0;31mError: Espn pbp for game 2021-01-28 CBJ FLA is either not there or can't be obtained \n",
            "\u001b[0m"
          ]
        },
        {
          "metadata": {
            "tags": null
          },
          "name": "stdout",
          "output_type": "stream",
          "text": [
            "Scraping Game  2020020115 2021-01-28\n"
          ]
        },
        {
          "metadata": {
            "tags": null
          },
          "name": "stderr",
          "output_type": "stream",
          "text": [
            "\u001b[0;31mError: Error parsing Json pbp for game 2020020115 'period'\n",
            "\u001b[0m\u001b[0;33mWarning: Using espn for pbp\n",
            "\u001b[0m\u001b[0;31mError: Espn pbp for game 2021-01-28 MTL CGY is either not there or can't be obtained \n",
            "\u001b[0m"
          ]
        },
        {
          "metadata": {
            "tags": null
          },
          "name": "stdout",
          "output_type": "stream",
          "text": [
            "Scraping Game  2020020118 2021-01-28\n"
          ]
        },
        {
          "metadata": {
            "tags": null
          },
          "name": "stderr",
          "output_type": "stream",
          "text": [
            "\u001b[0;31mError: Error parsing Json pbp for game 2020020118 'period'\n",
            "\u001b[0m\u001b[0;33mWarning: Using espn for pbp\n",
            "\u001b[0m\u001b[0;31mError: Espn pbp for game 2021-01-28 MIN L.A is either not there or can't be obtained \n",
            "\u001b[0m"
          ]
        },
        {
          "metadata": {
            "tags": null
          },
          "name": "stdout",
          "output_type": "stream",
          "text": [
            "Scraping Game  2020020119 2021-01-28\n"
          ]
        },
        {
          "metadata": {
            "tags": null
          },
          "name": "stderr",
          "output_type": "stream",
          "text": [
            "\u001b[0;31mError: Error parsing Json pbp for game 2020020119 'period'\n",
            "\u001b[0m\u001b[0;33mWarning: Using espn for pbp\n",
            "\u001b[0m\u001b[0;31mError: Espn pbp for game 2021-01-28 DAL DET is either not there or can't be obtained \n",
            "\u001b[0m"
          ]
        },
        {
          "metadata": {
            "tags": null
          },
          "name": "stdout",
          "output_type": "stream",
          "text": [
            "Scraping Game  2020020120 2021-01-28\n"
          ]
        },
        {
          "metadata": {
            "tags": null
          },
          "name": "stderr",
          "output_type": "stream",
          "text": [
            "\u001b[0;31mError: Error parsing Json pbp for game 2020020120 'period'\n",
            "\u001b[0m\u001b[0;33mWarning: Using espn for pbp\n",
            "\u001b[0m\u001b[0;31mError: Espn pbp for game 2021-01-28 COL S.J is either not there or can't be obtained \n",
            "\u001b[0m"
          ]
        },
        {
          "metadata": {
            "tags": null
          },
          "name": "stdout",
          "output_type": "stream",
          "text": [
            "Scraping Game  2020020121 2021-01-28\n"
          ]
        },
        {
          "metadata": {
            "tags": null
          },
          "name": "stderr",
          "output_type": "stream",
          "text": [
            "\u001b[0;31mError: Error parsing Json pbp for game 2020020121 'period'\n",
            "\u001b[0m\u001b[0;33mWarning: Using espn for pbp\n",
            "\u001b[0m\u001b[0;31mError: Espn pbp for game 2021-01-28 ARI ANA is either not there or can't be obtained \n",
            "\u001b[0m"
          ]
        },
        {
          "metadata": {
            "tags": null
          },
          "name": "stdout",
          "output_type": "stream",
          "text": [
            "Scraping Game  2020020116 2021-01-28\n"
          ]
        },
        {
          "metadata": {
            "tags": null
          },
          "name": "stderr",
          "output_type": "stream",
          "text": [
            "\u001b[0;31mError: Error parsing Json pbp for game 2020020116 'period'\n",
            "\u001b[0m\u001b[0;33mWarning: Using espn for pbp\n",
            "\u001b[0m\u001b[0;31mError: Espn pbp for game 2021-01-28 EDM TOR is either not there or can't be obtained \n",
            "\u001b[0m"
          ]
        },
        {
          "metadata": {
            "tags": null
          },
          "name": "stdout",
          "output_type": "stream",
          "text": [
            "Scraping Game  2020020117 2021-01-28\n"
          ]
        },
        {
          "metadata": {
            "tags": null
          },
          "name": "stderr",
          "output_type": "stream",
          "text": [
            "\u001b[0;31mError: Error parsing Json pbp for game 2020020117 'period'\n",
            "\u001b[0m\u001b[0;33mWarning: Using espn for pbp\n",
            "\u001b[0m\u001b[0;31mError: Espn pbp for game 2021-01-28 VAN OTT is either not there or can't be obtained \n",
            "\u001b[0m"
          ]
        },
        {
          "metadata": {
            "tags": null
          },
          "name": "stdout",
          "output_type": "stream",
          "text": [
            "Scraping Game  2020020123 2021-01-29\n"
          ]
        },
        {
          "metadata": {
            "tags": null
          },
          "name": "stderr",
          "output_type": "stream",
          "text": [
            "\u001b[0;31mError: Error parsing Json pbp for game 2020020123 'period'\n",
            "\u001b[0m\u001b[0;33mWarning: Using espn for pbp\n",
            "\u001b[0m\u001b[0;31mError: Espn pbp for game 2021-01-29 CHI CBJ is either not there or can't be obtained \n",
            "\u001b[0m"
          ]
        },
        {
          "metadata": {
            "tags": null
          },
          "name": "stdout",
          "output_type": "stream",
          "text": [
            "Scraping Game  2020020124 2021-01-30\n"
          ]
        },
        {
          "metadata": {
            "tags": null
          },
          "name": "stderr",
          "output_type": "stream",
          "text": [
            "\u001b[0;31mError: Error parsing Json pbp for game 2020020124 'period'\n",
            "\u001b[0m\u001b[0;33mWarning: Using espn for pbp\n",
            "\u001b[0m\u001b[0;31mError: Espn pbp for game 2021-01-30 BUF N.J is either not there or can't be obtained \n",
            "\u001b[0m"
          ]
        },
        {
          "metadata": {
            "tags": null
          },
          "name": "stdout",
          "output_type": "stream",
          "text": [
            "Scraping Game  2020020125 2021-01-30\n"
          ]
        },
        {
          "metadata": {
            "tags": null
          },
          "name": "stderr",
          "output_type": "stream",
          "text": [
            "\u001b[0;31mError: Error parsing Json pbp for game 2020020125 'period'\n",
            "\u001b[0m\u001b[0;33mWarning: Using espn for pbp\n",
            "\u001b[0m\u001b[0;31mError: Espn pbp for game 2021-01-30 NYR PIT is either not there or can't be obtained \n",
            "\u001b[0m"
          ]
        },
        {
          "metadata": {
            "tags": null
          },
          "name": "stdout",
          "output_type": "stream",
          "text": [
            "Scraping Game  2020020126 2021-01-30\n"
          ]
        },
        {
          "metadata": {
            "tags": null
          },
          "name": "stderr",
          "output_type": "stream",
          "text": [
            "\u001b[0;31mError: Error parsing Json pbp for game 2020020126 'period'\n",
            "\u001b[0m\u001b[0;33mWarning: Using espn for pbp\n",
            "\u001b[0m\u001b[0;31mError: Espn pbp for game 2021-01-30 PHI NYI is either not there or can't be obtained \n",
            "\u001b[0m"
          ]
        },
        {
          "metadata": {
            "tags": null
          },
          "name": "stdout",
          "output_type": "stream",
          "text": [
            "Scraping Game  2020020127 2021-01-30\n"
          ]
        },
        {
          "metadata": {
            "tags": null
          },
          "name": "stderr",
          "output_type": "stream",
          "text": [
            "\u001b[0;31mError: Error parsing Json pbp for game 2020020127 'period'\n",
            "\u001b[0m\u001b[0;33mWarning: Using espn for pbp\n",
            "\u001b[0m\u001b[0;31mError: Espn pbp for game 2021-01-30 WSH BOS is either not there or can't be obtained \n",
            "\u001b[0m"
          ]
        },
        {
          "metadata": {
            "tags": null
          },
          "name": "stdout",
          "output_type": "stream",
          "text": [
            "Scraping Game  2020020128 2021-01-30\n"
          ]
        },
        {
          "metadata": {
            "tags": null
          },
          "name": "stderr",
          "output_type": "stream",
          "text": [
            "\u001b[0;31mError: Error parsing Json pbp for game 2020020128 'period'\n",
            "\u001b[0m\u001b[0;33mWarning: Using espn for pbp\n",
            "\u001b[0m\u001b[0;31mError: Espn pbp for game 2021-01-30 CAR DAL is either not there or can't be obtained \n",
            "\u001b[0m"
          ]
        },
        {
          "metadata": {
            "tags": null
          },
          "name": "stdout",
          "output_type": "stream",
          "text": [
            "Scraping Game  2020020129 2021-01-30\n"
          ]
        },
        {
          "metadata": {
            "tags": null
          },
          "name": "stderr",
          "output_type": "stream",
          "text": [
            "\u001b[0;31mError: Error parsing Json pbp for game 2020020129 'period'\n",
            "\u001b[0m\u001b[0;33mWarning: Using espn for pbp\n",
            "\u001b[0m\u001b[0;31mError: Espn pbp for game 2021-01-30 T.B NSH is either not there or can't be obtained \n",
            "\u001b[0m"
          ]
        },
        {
          "metadata": {
            "tags": null
          },
          "name": "stdout",
          "output_type": "stream",
          "text": [
            "Scraping Game  2020020130 2021-01-30\n"
          ]
        },
        {
          "metadata": {
            "tags": null
          },
          "name": "stderr",
          "output_type": "stream",
          "text": [
            "\u001b[0;31mError: Error parsing Json pbp for game 2020020130 'period'\n",
            "\u001b[0m\u001b[0;33mWarning: Using espn for pbp\n",
            "\u001b[0m\u001b[0;31mError: Espn pbp for game 2021-01-30 DET FLA is either not there or can't be obtained \n",
            "\u001b[0m"
          ]
        },
        {
          "metadata": {
            "tags": null
          },
          "name": "stdout",
          "output_type": "stream",
          "text": [
            "Scraping Game  2020020131 2021-01-30\n"
          ]
        },
        {
          "metadata": {
            "tags": null
          },
          "name": "stderr",
          "output_type": "stream",
          "text": [
            "\u001b[0;31mError: Error parsing Json pbp for game 2020020131 'period'\n",
            "\u001b[0m\u001b[0;33mWarning: Using espn for pbp\n",
            "\u001b[0m\u001b[0;31mError: Espn pbp for game 2021-01-30 MTL CGY is either not there or can't be obtained \n",
            "\u001b[0m"
          ]
        },
        {
          "metadata": {
            "tags": null
          },
          "name": "stdout",
          "output_type": "stream",
          "text": [
            "Scraping Game  2020020133 2021-01-30\n"
          ]
        },
        {
          "metadata": {
            "tags": null
          },
          "name": "stderr",
          "output_type": "stream",
          "text": [
            "\u001b[0;31mError: Error parsing Json pbp for game 2020020133 'period'\n",
            "\u001b[0m\u001b[0;33mWarning: Using espn for pbp\n",
            "\u001b[0m\u001b[0;31mError: Espn pbp for game 2021-01-30 EDM TOR is either not there or can't be obtained \n",
            "\u001b[0m"
          ]
        },
        {
          "metadata": {
            "tags": null
          },
          "name": "stdout",
          "output_type": "stream",
          "text": [
            "Scraping Game  2020020134 2021-01-30\n"
          ]
        },
        {
          "metadata": {
            "tags": null
          },
          "name": "stderr",
          "output_type": "stream",
          "text": [
            "\u001b[0;31mError: Error parsing Json pbp for game 2020020134 'period'\n",
            "\u001b[0m\u001b[0;33mWarning: Using espn for pbp\n",
            "\u001b[0m\u001b[0;31mError: Espn pbp for game 2021-01-30 MIN COL is either not there or can't be obtained \n",
            "\u001b[0m"
          ]
        },
        {
          "metadata": {
            "tags": null
          },
          "name": "stdout",
          "output_type": "stream",
          "text": [
            "Scraping Game  2020020135 2021-01-30\n"
          ]
        },
        {
          "metadata": {
            "tags": null
          },
          "name": "stderr",
          "output_type": "stream",
          "text": [
            "\u001b[0;31mError: Error parsing Json pbp for game 2020020135 'period'\n",
            "\u001b[0m\u001b[0;33mWarning: Using espn for pbp\n",
            "\u001b[0m\u001b[0;31mError: Espn pbp for game 2021-01-30 ANA STL is either not there or can't be obtained \n",
            "\u001b[0m"
          ]
        },
        {
          "metadata": {
            "tags": null
          },
          "name": "stdout",
          "output_type": "stream",
          "text": [
            "Scraping Game  2020020132 2021-01-30\n"
          ]
        },
        {
          "metadata": {
            "tags": null
          },
          "name": "stderr",
          "output_type": "stream",
          "text": [
            "\u001b[0;31mError: Error parsing Json pbp for game 2020020132 'period'\n",
            "\u001b[0m\u001b[0;33mWarning: Using espn for pbp\n",
            "\u001b[0m\u001b[0;31mError: Espn pbp for game 2021-01-30 WPG VAN is either not there or can't be obtained \n",
            "\u001b[0m"
          ]
        },
        {
          "metadata": {
            "tags": null
          },
          "name": "stdout",
          "output_type": "stream",
          "text": [
            "Scraping Game  2020020136 2021-01-31\n"
          ]
        },
        {
          "metadata": {
            "tags": null
          },
          "name": "stderr",
          "output_type": "stream",
          "text": [
            "\u001b[0;31mError: Error parsing Json pbp for game 2020020136 'period'\n",
            "\u001b[0m\u001b[0;33mWarning: Using espn for pbp\n",
            "\u001b[0m\u001b[0;31mError: Espn pbp for game 2021-01-31 BUF N.J is either not there or can't be obtained \n",
            "\u001b[0m"
          ]
        },
        {
          "metadata": {
            "tags": null
          },
          "name": "stdout",
          "output_type": "stream",
          "text": [
            "Scraping Game  2020020138 2021-01-31\n"
          ]
        },
        {
          "metadata": {
            "tags": null
          },
          "name": "stderr",
          "output_type": "stream",
          "text": [
            "\u001b[0;31mError: Error parsing Json pbp for game 2020020138 'period'\n",
            "\u001b[0m\u001b[0;33mWarning: Using espn for pbp\n",
            "\u001b[0m\u001b[0;31mError: Espn pbp for game 2021-01-31 CAR DAL is either not there or can't be obtained \n",
            "\u001b[0m"
          ]
        },
        {
          "metadata": {
            "tags": null
          },
          "name": "stdout",
          "output_type": "stream",
          "text": [
            "Scraping Game  2020020139 2021-01-31\n"
          ]
        },
        {
          "metadata": {
            "tags": null
          },
          "name": "stderr",
          "output_type": "stream",
          "text": [
            "\u001b[0;31mError: Error parsing Json pbp for game 2020020139 'period'\n",
            "\u001b[0m\u001b[0;33mWarning: Using espn for pbp\n",
            "\u001b[0m\u001b[0;31mError: Espn pbp for game 2021-01-31 DET FLA is either not there or can't be obtained \n",
            "\u001b[0m"
          ]
        },
        {
          "metadata": {
            "tags": null
          },
          "name": "stdout",
          "output_type": "stream",
          "text": [
            "Scraping Game  2020020137 2021-01-31\n"
          ]
        },
        {
          "metadata": {
            "tags": null
          },
          "name": "stderr",
          "output_type": "stream",
          "text": [
            "\u001b[0;31mError: Error parsing Json pbp for game 2020020137 'period'\n",
            "\u001b[0m\u001b[0;33mWarning: Using espn for pbp\n",
            "\u001b[0m\u001b[0;31mError: Espn pbp for game 2021-01-31 PHI NYI is either not there or can't be obtained \n",
            "\u001b[0m"
          ]
        },
        {
          "metadata": {
            "tags": null
          },
          "name": "stdout",
          "output_type": "stream",
          "text": [
            "Scraping Game  2020020140 2021-01-31\n"
          ]
        },
        {
          "metadata": {
            "tags": null
          },
          "name": "stderr",
          "output_type": "stream",
          "text": [
            "\u001b[0;31mError: Error parsing Json pbp for game 2020020140 'period'\n",
            "\u001b[0m\u001b[0;33mWarning: Using espn for pbp\n",
            "\u001b[0m\u001b[0;31mError: Espn pbp for game 2021-01-31 CHI CBJ is either not there or can't be obtained \n",
            "\u001b[0m"
          ]
        },
        {
          "metadata": {
            "tags": null
          },
          "name": "stdout",
          "output_type": "stream",
          "text": [
            "Scraping Game  2020020142 2021-01-31\n"
          ]
        },
        {
          "metadata": {
            "tags": null
          },
          "name": "stderr",
          "output_type": "stream",
          "text": [
            "\u001b[0;31mError: Error parsing Json pbp for game 2020020142 'period'\n",
            "\u001b[0m\u001b[0;33mWarning: Using espn for pbp\n",
            "\u001b[0m\u001b[0;31mError: Espn pbp for game 2021-01-31 MIN COL is either not there or can't be obtained \n",
            "\u001b[0m"
          ]
        },
        {
          "metadata": {
            "tags": null
          },
          "name": "stdout",
          "output_type": "stream",
          "text": [
            "Scraping Game  2020020143 2021-01-31\n"
          ]
        },
        {
          "metadata": {
            "tags": null
          },
          "name": "stderr",
          "output_type": "stream",
          "text": [
            "\u001b[0;31mError: Error parsing Json pbp for game 2020020143 'period'\n",
            "\u001b[0m\u001b[0;33mWarning: Using espn for pbp\n",
            "\u001b[0m\u001b[0;31mError: Espn pbp for game 2021-01-31 ANA STL is either not there or can't be obtained \n",
            "\u001b[0m"
          ]
        },
        {
          "metadata": {
            "tags": null
          },
          "name": "stdout",
          "output_type": "stream",
          "text": [
            "Scraping Game  2020020141 2021-01-31\n"
          ]
        },
        {
          "metadata": {
            "tags": null
          },
          "name": "stderr",
          "output_type": "stream",
          "text": [
            "\u001b[0;31mError: Error parsing Json pbp for game 2020020141 'period'\n",
            "\u001b[0m\u001b[0;33mWarning: Using espn for pbp\n",
            "\u001b[0m\u001b[0;31mError: Espn pbp for game 2021-01-31 EDM OTT is either not there or can't be obtained \n",
            "\u001b[0m"
          ]
        },
        {
          "metadata": {
            "tags": null
          },
          "name": "stdout",
          "output_type": "stream",
          "text": [
            "Scraping Game  2020020144 2021-02-01\n"
          ]
        },
        {
          "metadata": {
            "tags": null
          },
          "name": "stderr",
          "output_type": "stream",
          "text": [
            "\u001b[0;31mError: Error parsing Json pbp for game 2020020144 'period'\n",
            "\u001b[0m\u001b[0;33mWarning: Using espn for pbp\n",
            "\u001b[0m\u001b[0;31mError: Espn pbp for game 2021-02-01 NYR PIT is either not there or can't be obtained \n",
            "\u001b[0m"
          ]
        },
        {
          "metadata": {
            "tags": null
          },
          "name": "stdout",
          "output_type": "stream",
          "text": [
            "Scraping Game  2020020145 2021-02-01\n"
          ]
        },
        {
          "metadata": {
            "tags": null
          },
          "name": "stderr",
          "output_type": "stream",
          "text": [
            "\u001b[0;31mError: Error parsing Json pbp for game 2020020145 'period'\n",
            "\u001b[0m\u001b[0;33mWarning: Using espn for pbp\n",
            "\u001b[0m\u001b[0;31mError: Espn pbp for game 2021-02-01 WSH BOS is either not there or can't be obtained \n",
            "\u001b[0m"
          ]
        },
        {
          "metadata": {
            "tags": null
          },
          "name": "stdout",
          "output_type": "stream",
          "text": [
            "Scraping Game  2020020146 2021-02-01\n"
          ]
        },
        {
          "metadata": {
            "tags": null
          },
          "name": "stderr",
          "output_type": "stream",
          "text": [
            "\u001b[0;31mError: Error parsing Json pbp for game 2020020146 'period'\n",
            "\u001b[0m\u001b[0;33mWarning: Using espn for pbp\n",
            "\u001b[0m\u001b[0;31mError: Espn pbp for game 2021-02-01 T.B NSH is either not there or can't be obtained \n",
            "\u001b[0m"
          ]
        },
        {
          "metadata": {
            "tags": null
          },
          "name": "stdout",
          "output_type": "stream",
          "text": [
            "Scraping Game  2020020147 2021-02-01\n"
          ]
        },
        {
          "metadata": {
            "tags": null
          },
          "name": "stderr",
          "output_type": "stream",
          "text": [
            "\u001b[0;31mError: Error parsing Json pbp for game 2020020147 'period'\n",
            "\u001b[0m\u001b[0;33mWarning: Using espn for pbp\n",
            "\u001b[0m\u001b[0;31mError: Espn pbp for game 2021-02-01 MTL VAN is either not there or can't be obtained \n",
            "\u001b[0m"
          ]
        },
        {
          "metadata": {
            "tags": null
          },
          "name": "stdout",
          "output_type": "stream",
          "text": [
            "Scraping Game  2020020148 2021-02-01\n"
          ]
        },
        {
          "metadata": {
            "tags": null
          },
          "name": "stderr",
          "output_type": "stream",
          "text": [
            "\u001b[0;31mError: Error parsing Json pbp for game 2020020148 'period'\n",
            "\u001b[0m\u001b[0;33mWarning: Using espn for pbp\n",
            "\u001b[0m\u001b[0;31mError: Espn pbp for game 2021-02-01 WPG CGY is either not there or can't be obtained \n",
            "\u001b[0m"
          ]
        },
        {
          "metadata": {
            "tags": null
          },
          "name": "stdout",
          "output_type": "stream",
          "text": [
            "Scraping Game  2020020152 2021-02-02\n"
          ]
        },
        {
          "metadata": {
            "tags": null
          },
          "name": "stderr",
          "output_type": "stream",
          "text": [
            "\u001b[0;31mError: Error parsing Json pbp for game 2020020152 'period'\n",
            "\u001b[0m\u001b[0;33mWarning: Using espn for pbp\n",
            "\u001b[0m\u001b[0;31mError: Espn pbp for game 2021-02-02 CBJ DAL is either not there or can't be obtained \n",
            "\u001b[0m"
          ]
        },
        {
          "metadata": {
            "tags": null
          },
          "name": "stdout",
          "output_type": "stream",
          "text": [
            "Scraping Game  2020020155 2021-02-02\n"
          ]
        },
        {
          "metadata": {
            "tags": null
          },
          "name": "stderr",
          "output_type": "stream",
          "text": [
            "\u001b[0;31mError: Error parsing Json pbp for game 2020020155 'period'\n",
            "\u001b[0m\u001b[0;33mWarning: Using espn for pbp\n",
            "\u001b[0m\u001b[0;31mError: Espn pbp for game 2021-02-02 MTL VAN is either not there or can't be obtained \n",
            "\u001b[0m"
          ]
        },
        {
          "metadata": {
            "tags": null
          },
          "name": "stdout",
          "output_type": "stream",
          "text": [
            "Scraping Game  2020020153 2021-02-02\n"
          ]
        },
        {
          "metadata": {
            "tags": null
          },
          "name": "stderr",
          "output_type": "stream",
          "text": [
            "\u001b[0;31mError: Error parsing Json pbp for game 2020020153 'period'\n",
            "\u001b[0m\u001b[0;33mWarning: Using espn for pbp\n",
            "\u001b[0m\u001b[0;31mError: Espn pbp for game 2021-02-02 CHI CAR is either not there or can't be obtained \n",
            "\u001b[0m"
          ]
        },
        {
          "metadata": {
            "tags": null
          },
          "name": "stdout",
          "output_type": "stream",
          "text": [
            "Scraping Game  2020020154 2021-02-02\n"
          ]
        },
        {
          "metadata": {
            "tags": null
          },
          "name": "stderr",
          "output_type": "stream",
          "text": [
            "\u001b[0;31mError: Error parsing Json pbp for game 2020020154 'period'\n",
            "\u001b[0m\u001b[0;33mWarning: Using espn for pbp\n",
            "\u001b[0m\u001b[0;31mError: Espn pbp for game 2021-02-02 STL ARI is either not there or can't be obtained \n",
            "\u001b[0m"
          ]
        },
        {
          "metadata": {
            "tags": null
          },
          "name": "stdout",
          "output_type": "stream",
          "text": [
            "Scraping Game  2020020156 2021-02-02\n"
          ]
        },
        {
          "metadata": {
            "tags": null
          },
          "name": "stderr",
          "output_type": "stream",
          "text": [
            "\u001b[0;31mError: Error parsing Json pbp for game 2020020156 'period'\n",
            "\u001b[0m\u001b[0;33mWarning: Using espn for pbp\n",
            "\u001b[0m\u001b[0;31mError: Espn pbp for game 2021-02-02 WPG CGY is either not there or can't be obtained \n",
            "\u001b[0m"
          ]
        },
        {
          "metadata": {
            "tags": null
          },
          "name": "stdout",
          "output_type": "stream",
          "text": [
            "Scraping Game  2020020158 2021-02-02\n"
          ]
        },
        {
          "metadata": {
            "tags": null
          },
          "name": "stderr",
          "output_type": "stream",
          "text": [
            "\u001b[0;31mError: Error parsing Json pbp for game 2020020158 'period'\n",
            "\u001b[0m\u001b[0;33mWarning: Using espn for pbp\n",
            "\u001b[0m\u001b[0;31mError: Espn pbp for game 2021-02-02 COL MIN is either not there or can't be obtained \n",
            "\u001b[0m"
          ]
        },
        {
          "metadata": {
            "tags": null
          },
          "name": "stdout",
          "output_type": "stream",
          "text": [
            "Scraping Game  2020020157 2021-02-02\n"
          ]
        },
        {
          "metadata": {
            "tags": null
          },
          "name": "stderr",
          "output_type": "stream",
          "text": [
            "\u001b[0;31mError: Error parsing Json pbp for game 2020020157 'period'\n",
            "\u001b[0m\u001b[0;33mWarning: Using espn for pbp\n",
            "\u001b[0m\u001b[0;31mError: Espn pbp for game 2021-02-02 EDM OTT is either not there or can't be obtained \n",
            "\u001b[0m"
          ]
        },
        {
          "metadata": {
            "tags": null
          },
          "name": "stdout",
          "output_type": "stream",
          "text": [
            "Scraping Game  2020020161 2021-02-02\n"
          ]
        },
        {
          "metadata": {
            "tags": null
          },
          "name": "stderr",
          "output_type": "stream",
          "text": [
            "\u001b[0;31mError: Error parsing Json pbp for game 2020020161 'period'\n",
            "\u001b[0m\u001b[0;33mWarning: Using espn for pbp\n",
            "\u001b[0m\u001b[0;31mError: Espn pbp for game 2021-02-02 L.A ANA is either not there or can't be obtained \n",
            "\u001b[0m"
          ]
        },
        {
          "metadata": {
            "tags": null
          },
          "name": "stdout",
          "output_type": "stream",
          "text": [
            "Scraping Game  2020020160 2021-02-03\n"
          ]
        },
        {
          "metadata": {
            "tags": null
          },
          "name": "stderr",
          "output_type": "stream",
          "text": [
            "\u001b[0;31mError: Error parsing Json pbp for game 2020020160 'period'\n",
            "\u001b[0m\u001b[0;33mWarning: Using espn for pbp\n",
            "\u001b[0m\u001b[0;31mError: Espn pbp for game 2021-02-03 T.B DET is either not there or can't be obtained \n",
            "\u001b[0m"
          ]
        },
        {
          "metadata": {
            "tags": null
          },
          "name": "stdout",
          "output_type": "stream",
          "text": [
            "Scraping Game  2020020159 2021-02-03\n"
          ]
        },
        {
          "metadata": {
            "tags": null
          },
          "name": "stderr",
          "output_type": "stream",
          "text": [
            "\u001b[0;31mError: Error parsing Json pbp for game 2020020159 'period'\n",
            "\u001b[0m\u001b[0;33mWarning: Using espn for pbp\n",
            "\u001b[0m\u001b[0;31mError: Espn pbp for game 2021-02-03 PHI BOS is either not there or can't be obtained \n",
            "\u001b[0m"
          ]
        },
        {
          "metadata": {
            "tags": null
          },
          "name": "stdout",
          "output_type": "stream",
          "text": [
            "Scraping Game  2020020164 2021-02-04\n"
          ]
        },
        {
          "metadata": {
            "tags": null
          },
          "name": "stderr",
          "output_type": "stream",
          "text": [
            "\u001b[0;31mError: Error parsing Json pbp for game 2020020164 'period'\n",
            "\u001b[0m\u001b[0;33mWarning: Using espn for pbp\n",
            "\u001b[0m\u001b[0;31mError: Espn pbp for game 2021-02-04 NYR WSH is either not there or can't be obtained \n",
            "\u001b[0m"
          ]
        },
        {
          "metadata": {
            "tags": null
          },
          "name": "stdout",
          "output_type": "stream",
          "text": [
            "Scraping Game  2020020165 2021-02-04\n"
          ]
        },
        {
          "metadata": {
            "tags": null
          },
          "name": "stderr",
          "output_type": "stream",
          "text": [
            "\u001b[0;31mError: Error parsing Json pbp for game 2020020165 'period'\n",
            "\u001b[0m\u001b[0;33mWarning: Using espn for pbp\n",
            "\u001b[0m\u001b[0;31mError: Espn pbp for game 2021-02-04 FLA NSH is either not there or can't be obtained \n",
            "\u001b[0m"
          ]
        },
        {
          "metadata": {
            "tags": null
          },
          "name": "stdout",
          "output_type": "stream",
          "text": [
            "Scraping Game  2020020167 2021-02-04\n"
          ]
        },
        {
          "metadata": {
            "tags": null
          },
          "name": "stderr",
          "output_type": "stream",
          "text": [
            "\u001b[0;31mError: Error parsing Json pbp for game 2020020167 'period'\n",
            "\u001b[0m\u001b[0;33mWarning: Using espn for pbp\n",
            "\u001b[0m\u001b[0;31mError: Espn pbp for game 2021-02-04 CBJ DAL is either not there or can't be obtained \n",
            "\u001b[0m"
          ]
        },
        {
          "metadata": {
            "tags": null
          },
          "name": "stdout",
          "output_type": "stream",
          "text": [
            "Scraping Game  2020020170 2021-02-04\n"
          ]
        },
        {
          "metadata": {
            "tags": null
          },
          "name": "stderr",
          "output_type": "stream",
          "text": [
            "\u001b[0;31mError: Error parsing Json pbp for game 2020020170 'period'\n",
            "\u001b[0m\u001b[0;33mWarning: Using espn for pbp\n",
            "\u001b[0m\u001b[0;31mError: Espn pbp for game 2021-02-04 MTL OTT is either not there or can't be obtained \n",
            "\u001b[0m"
          ]
        },
        {
          "metadata": {
            "tags": null
          },
          "name": "stdout",
          "output_type": "stream",
          "text": [
            "Scraping Game  2020020171 2021-02-04\n"
          ]
        },
        {
          "metadata": {
            "tags": null
          },
          "name": "stderr",
          "output_type": "stream",
          "text": [
            "\u001b[0;31mError: Error parsing Json pbp for game 2020020171 'period'\n",
            "\u001b[0m\u001b[0;33mWarning: Using espn for pbp\n",
            "\u001b[0m\u001b[0;31mError: Espn pbp for game 2021-02-04 TOR VAN is either not there or can't be obtained \n",
            "\u001b[0m"
          ]
        },
        {
          "metadata": {
            "tags": null
          },
          "name": "stdout",
          "output_type": "stream",
          "text": [
            "Scraping Game  2020020168 2021-02-04\n"
          ]
        },
        {
          "metadata": {
            "tags": null
          },
          "name": "stderr",
          "output_type": "stream",
          "text": [
            "\u001b[0;31mError: Error parsing Json pbp for game 2020020168 'period'\n",
            "\u001b[0m\u001b[0;33mWarning: Using espn for pbp\n",
            "\u001b[0m\u001b[0;31mError: Espn pbp for game 2021-02-04 CHI CAR is either not there or can't be obtained \n",
            "\u001b[0m"
          ]
        },
        {
          "metadata": {
            "tags": null
          },
          "name": "stdout",
          "output_type": "stream",
          "text": [
            "Scraping Game  2020020169 2021-02-04\n"
          ]
        },
        {
          "metadata": {
            "tags": null
          },
          "name": "stderr",
          "output_type": "stream",
          "text": [
            "\u001b[0;31mError: Error parsing Json pbp for game 2020020169 'period'\n",
            "\u001b[0m\u001b[0;33mWarning: Using espn for pbp\n",
            "\u001b[0m\u001b[0;31mError: Espn pbp for game 2021-02-04 STL ARI is either not there or can't be obtained \n",
            "\u001b[0m"
          ]
        },
        {
          "metadata": {
            "tags": null
          },
          "name": "stdout",
          "output_type": "stream",
          "text": [
            "Scraping Game  2020020172 2021-02-04\n"
          ]
        },
        {
          "metadata": {
            "tags": null
          },
          "name": "stderr",
          "output_type": "stream",
          "text": [
            "\u001b[0;31mError: Error parsing Json pbp for game 2020020172 'period'\n",
            "\u001b[0m\u001b[0;33mWarning: Using espn for pbp\n",
            "\u001b[0m\u001b[0;31mError: Espn pbp for game 2021-02-04 WPG CGY is either not there or can't be obtained \n",
            "\u001b[0m"
          ]
        },
        {
          "metadata": {
            "tags": null
          },
          "name": "stdout",
          "output_type": "stream",
          "text": [
            "Scraping Game  2020020174 2021-02-05\n"
          ]
        },
        {
          "metadata": {
            "tags": null
          },
          "name": "stderr",
          "output_type": "stream",
          "text": [
            "\u001b[0;31mError: Error parsing Json pbp for game 2020020174 'period'\n",
            "\u001b[0m\u001b[0;33mWarning: Using espn for pbp\n",
            "\u001b[0m\u001b[0;31mError: Espn pbp for game 2021-02-05 PHI BOS is either not there or can't be obtained \n",
            "\u001b[0m"
          ]
        },
        {
          "metadata": {
            "tags": null
          },
          "name": "stdout",
          "output_type": "stream",
          "text": [
            "Scraping Game  2020020175 2021-02-05\n"
          ]
        },
        {
          "metadata": {
            "tags": null
          },
          "name": "stderr",
          "output_type": "stream",
          "text": [
            "\u001b[0;31mError: Error parsing Json pbp for game 2020020175 'period'\n",
            "\u001b[0m\u001b[0;33mWarning: Using espn for pbp\n",
            "\u001b[0m\u001b[0;31mError: Espn pbp for game 2021-02-05 T.B DET is either not there or can't be obtained \n",
            "\u001b[0m"
          ]
        },
        {
          "metadata": {
            "tags": null
          },
          "name": "stdout",
          "output_type": "stream",
          "text": [
            "Scraping Game  2020020176 2021-02-05\n"
          ]
        },
        {
          "metadata": {
            "tags": null
          },
          "name": "stderr",
          "output_type": "stream",
          "text": [
            "\u001b[0;31mError: Error parsing Json pbp for game 2020020176 'period'\n",
            "\u001b[0m\u001b[0;33mWarning: Using espn for pbp\n",
            "\u001b[0m\u001b[0;31mError: Espn pbp for game 2021-02-05 FLA NSH is either not there or can't be obtained \n",
            "\u001b[0m"
          ]
        },
        {
          "metadata": {
            "tags": null
          },
          "name": "stdout",
          "output_type": "stream",
          "text": [
            "Scraping Game  2020020177 2021-02-05\n"
          ]
        },
        {
          "metadata": {
            "tags": null
          },
          "name": "stderr",
          "output_type": "stream",
          "text": [
            "\u001b[0;31mError: Error parsing Json pbp for game 2020020177 'period'\n",
            "\u001b[0m\u001b[0;33mWarning: Using espn for pbp\n",
            "\u001b[0m\u001b[0;31mError: Espn pbp for game 2021-02-05 VGK L.A is either not there or can't be obtained \n",
            "\u001b[0m"
          ]
        },
        {
          "metadata": {
            "tags": null
          },
          "name": "stdout",
          "output_type": "stream",
          "text": [
            "Scraping Game  2020020178 2021-02-05\n"
          ]
        },
        {
          "metadata": {
            "tags": null
          },
          "name": "stderr",
          "output_type": "stream",
          "text": [
            "\u001b[0;31mError: Error parsing Json pbp for game 2020020178 'period'\n",
            "\u001b[0m\u001b[0;33mWarning: Using espn for pbp\n",
            "\u001b[0m\u001b[0;31mError: Espn pbp for game 2021-02-05 ANA S.J is either not there or can't be obtained \n",
            "\u001b[0m"
          ]
        },
        {
          "metadata": {
            "tags": null
          },
          "name": "stdout",
          "output_type": "stream",
          "text": [
            "Scraping Game  2020020183 2021-02-06\n"
          ]
        },
        {
          "metadata": {
            "tags": null
          },
          "name": "stderr",
          "output_type": "stream",
          "text": [
            "\u001b[0;31mError: Error parsing Json pbp for game 2020020183 'period'\n",
            "\u001b[0m\u001b[0;33mWarning: Using espn for pbp\n",
            "\u001b[0m\u001b[0;31mError: Espn pbp for game 2021-02-06 OTT MTL is either not there or can't be obtained \n",
            "\u001b[0m"
          ]
        },
        {
          "metadata": {
            "tags": null
          },
          "name": "stdout",
          "output_type": "stream",
          "text": [
            "Scraping Game  2020020550 2021-02-06\n"
          ]
        },
        {
          "metadata": {
            "tags": null
          },
          "name": "stderr",
          "output_type": "stream",
          "text": [
            "\u001b[0;31mError: Error parsing Json pbp for game 2020020550 'period'\n",
            "\u001b[0m\u001b[0;33mWarning: Using espn for pbp\n",
            "\u001b[0m\u001b[0;31mError: Espn pbp for game 2021-02-06 STL ARI is either not there or can't be obtained \n",
            "\u001b[0m"
          ]
        },
        {
          "metadata": {
            "tags": null
          },
          "name": "stdout",
          "output_type": "stream",
          "text": [
            "Scraping Game  2020020181 2021-02-06\n"
          ]
        },
        {
          "metadata": {
            "tags": null
          },
          "name": "stderr",
          "output_type": "stream",
          "text": [
            "\u001b[0;31mError: Error parsing Json pbp for game 2020020181 'period'\n",
            "\u001b[0m\u001b[0;33mWarning: Using espn for pbp\n",
            "\u001b[0m\u001b[0;31mError: Espn pbp for game 2021-02-06 NYI PIT is either not there or can't be obtained \n",
            "\u001b[0m"
          ]
        },
        {
          "metadata": {
            "tags": null
          },
          "name": "stdout",
          "output_type": "stream",
          "text": [
            "Scraping Game  2020020184 2021-02-06\n"
          ]
        },
        {
          "metadata": {
            "tags": null
          },
          "name": "stderr",
          "output_type": "stream",
          "text": [
            "\u001b[0;31mError: Error parsing Json pbp for game 2020020184 'period'\n",
            "\u001b[0m\u001b[0;33mWarning: Using espn for pbp\n",
            "\u001b[0m\u001b[0;31mError: Espn pbp for game 2021-02-06 TOR VAN is either not there or can't be obtained \n",
            "\u001b[0m"
          ]
        },
        {
          "metadata": {
            "tags": null
          },
          "name": "stdout",
          "output_type": "stream",
          "text": [
            "Scraping Game  2020020185 2021-02-06\n"
          ]
        },
        {
          "metadata": {
            "tags": null
          },
          "name": "stderr",
          "output_type": "stream",
          "text": [
            "\u001b[0;31mError: Error parsing Json pbp for game 2020020185 'period'\n",
            "\u001b[0m\u001b[0;33mWarning: Using espn for pbp\n",
            "\u001b[0m\u001b[0;31mError: Espn pbp for game 2021-02-06 CGY EDM is either not there or can't be obtained \n",
            "\u001b[0m"
          ]
        },
        {
          "metadata": {
            "tags": null
          },
          "name": "stdout",
          "output_type": "stream",
          "text": [
            "Scraping Game  2020020187 2021-02-06\n"
          ]
        },
        {
          "metadata": {
            "tags": null
          },
          "name": "stderr",
          "output_type": "stream",
          "text": [
            "\u001b[0;31mError: Error parsing Json pbp for game 2020020187 'period'\n",
            "\u001b[0m\u001b[0;33mWarning: Using espn for pbp\n",
            "\u001b[0m\u001b[0;31mError: Espn pbp for game 2021-02-06 ANA S.J is either not there or can't be obtained \n",
            "\u001b[0m"
          ]
        },
        {
          "metadata": {
            "tags": null
          },
          "name": "stdout",
          "output_type": "stream",
          "text": [
            "Scraping Game  2020020188 2021-02-07\n"
          ]
        },
        {
          "metadata": {
            "tags": null
          },
          "name": "stderr",
          "output_type": "stream",
          "text": [
            "\u001b[0;31mError: Error parsing Json pbp for game 2020020188 'period'\n",
            "\u001b[0m\u001b[0;33mWarning: Using espn for pbp\n",
            "\u001b[0m\u001b[0;31mError: Espn pbp for game 2021-02-07 WSH PHI is either not there or can't be obtained \n",
            "\u001b[0m"
          ]
        },
        {
          "metadata": {
            "tags": null
          },
          "name": "stdout",
          "output_type": "stream",
          "text": [
            "Scraping Game  2020020189 2021-02-07\n"
          ]
        },
        {
          "metadata": {
            "tags": null
          },
          "name": "stderr",
          "output_type": "stream",
          "text": [
            "\u001b[0;31mError: Error parsing Json pbp for game 2020020189 'period'\n",
            "\u001b[0m\u001b[0;33mWarning: Using espn for pbp\n",
            "\u001b[0m\u001b[0;31mError: Espn pbp for game 2021-02-07 FLA DET is either not there or can't be obtained \n",
            "\u001b[0m"
          ]
        },
        {
          "metadata": {
            "tags": null
          },
          "name": "stdout",
          "output_type": "stream",
          "text": [
            "Scraping Game  2020020190 2021-02-07\n"
          ]
        },
        {
          "metadata": {
            "tags": null
          },
          "name": "stderr",
          "output_type": "stream",
          "text": [
            "\u001b[0;31mError: Error parsing Json pbp for game 2020020190 'period'\n",
            "\u001b[0m\u001b[0;33mWarning: Using espn for pbp\n",
            "\u001b[0m\u001b[0;31mError: Espn pbp for game 2021-02-07 CBJ CAR is either not there or can't be obtained \n",
            "\u001b[0m"
          ]
        },
        {
          "metadata": {
            "tags": null
          },
          "name": "stdout",
          "output_type": "stream",
          "text": [
            "Scraping Game  2020020193 2021-02-07\n"
          ]
        },
        {
          "metadata": {
            "tags": null
          },
          "name": "stderr",
          "output_type": "stream",
          "text": [
            "\u001b[0;31mError: Error parsing Json pbp for game 2020020193 'period'\n",
            "\u001b[0m\u001b[0;33mWarning: Using espn for pbp\n",
            "\u001b[0m\u001b[0;31mError: Espn pbp for game 2021-02-07 DAL CHI is either not there or can't be obtained \n",
            "\u001b[0m"
          ]
        },
        {
          "metadata": {
            "tags": null
          },
          "name": "stdout",
          "output_type": "stream",
          "text": [
            "Scraping Game  2020020194 2021-02-07\n"
          ]
        },
        {
          "metadata": {
            "tags": null
          },
          "name": "stderr",
          "output_type": "stream",
          "text": [
            "\u001b[0;31mError: Error parsing Json pbp for game 2020020194 'period'\n",
            "\u001b[0m\u001b[0;33mWarning: Using espn for pbp\n",
            "\u001b[0m\u001b[0;31mError: Espn pbp for game 2021-02-07 VGK L.A is either not there or can't be obtained \n",
            "\u001b[0m"
          ]
        },
        {
          "metadata": {
            "tags": null
          },
          "name": "stdout",
          "output_type": "stream",
          "text": [
            "Scraping Game  2020020196 2021-02-08\n"
          ]
        },
        {
          "metadata": {
            "tags": null
          },
          "name": "stderr",
          "output_type": "stream",
          "text": [
            "\u001b[0;31mError: Error parsing Json pbp for game 2020020196 'period'\n",
            "\u001b[0m\u001b[0;33mWarning: Using espn for pbp\n",
            "\u001b[0m\u001b[0;31mError: Espn pbp for game 2021-02-08 NYR NYI is either not there or can't be obtained \n",
            "\u001b[0m"
          ]
        },
        {
          "metadata": {
            "tags": null
          },
          "name": "stdout",
          "output_type": "stream",
          "text": [
            "Scraping Game  2020020197 2021-02-08\n"
          ]
        },
        {
          "metadata": {
            "tags": null
          },
          "name": "stderr",
          "output_type": "stream",
          "text": [
            "\u001b[0;31mError: Error parsing Json pbp for game 2020020197 'period'\n",
            "\u001b[0m\u001b[0;33mWarning: Using espn for pbp\n",
            "\u001b[0m\u001b[0;31mError: Espn pbp for game 2021-02-08 CBJ CAR is either not there or can't be obtained \n",
            "\u001b[0m"
          ]
        },
        {
          "metadata": {
            "tags": null
          },
          "name": "stdout",
          "output_type": "stream",
          "text": [
            "Scraping Game  2020020199 2021-02-08\n"
          ]
        },
        {
          "metadata": {
            "tags": null
          },
          "name": "stderr",
          "output_type": "stream",
          "text": [
            "\u001b[0;31mError: Error parsing Json pbp for game 2020020199 'period'\n",
            "\u001b[0m\u001b[0;33mWarning: Using espn for pbp\n",
            "\u001b[0m\u001b[0;31mError: Espn pbp for game 2021-02-08 OTT EDM is either not there or can't be obtained \n",
            "\u001b[0m"
          ]
        },
        {
          "metadata": {
            "tags": null
          },
          "name": "stdout",
          "output_type": "stream",
          "text": [
            "Scraping Game  2020020200 2021-02-08\n"
          ]
        },
        {
          "metadata": {
            "tags": null
          },
          "name": "stderr",
          "output_type": "stream",
          "text": [
            "\u001b[0;31mError: Error parsing Json pbp for game 2020020200 'period'\n",
            "\u001b[0m\u001b[0;33mWarning: Using espn for pbp\n",
            "\u001b[0m\u001b[0;31mError: Espn pbp for game 2021-02-08 TOR VAN is either not there or can't be obtained \n",
            "\u001b[0m"
          ]
        },
        {
          "metadata": {
            "tags": null
          },
          "name": "stdout",
          "output_type": "stream",
          "text": [
            "Scraping Game  2020020198 2021-02-08\n"
          ]
        },
        {
          "metadata": {
            "tags": null
          },
          "name": "stderr",
          "output_type": "stream",
          "text": [
            "\u001b[0;31mError: Error parsing Json pbp for game 2020020198 'period'\n",
            "\u001b[0m\u001b[0;33mWarning: Using espn for pbp\n",
            "\u001b[0m\u001b[0;31mError: Espn pbp for game 2021-02-08 NSH T.B is either not there or can't be obtained \n",
            "\u001b[0m"
          ]
        },
        {
          "metadata": {
            "tags": null
          },
          "name": "stdout",
          "output_type": "stream",
          "text": [
            "Scraping Game  2020020565 2021-02-08\n"
          ]
        },
        {
          "metadata": {
            "tags": null
          },
          "name": "stderr",
          "output_type": "stream",
          "text": [
            "\u001b[0;31mError: Error parsing Json pbp for game 2020020565 'period'\n",
            "\u001b[0m\u001b[0;33mWarning: Using espn for pbp\n",
            "\u001b[0m\u001b[0;31mError: Espn pbp for game 2021-02-08 STL ARI is either not there or can't be obtained \n",
            "\u001b[0m"
          ]
        },
        {
          "metadata": {
            "tags": null
          },
          "name": "stdout",
          "output_type": "stream",
          "text": [
            "Scraping Game  2020020203 2021-02-09\n"
          ]
        },
        {
          "metadata": {
            "tags": null
          },
          "name": "stderr",
          "output_type": "stream",
          "text": [
            "\u001b[0;31mError: Error parsing Json pbp for game 2020020203 'period'\n",
            "\u001b[0m\u001b[0;33mWarning: Using espn for pbp\n",
            "\u001b[0m\u001b[0;31mError: Espn pbp for game 2021-02-09 FLA DET is either not there or can't be obtained \n",
            "\u001b[0m"
          ]
        },
        {
          "metadata": {
            "tags": null
          },
          "name": "stdout",
          "output_type": "stream",
          "text": [
            "Scraping Game  2020020205 2021-02-09\n"
          ]
        },
        {
          "metadata": {
            "tags": null
          },
          "name": "stderr",
          "output_type": "stream",
          "text": [
            "\u001b[0;31mError: Error parsing Json pbp for game 2020020205 'period'\n",
            "\u001b[0m\u001b[0;33mWarning: Using espn for pbp\n",
            "\u001b[0m\u001b[0;31mError: Espn pbp for game 2021-02-09 OTT EDM is either not there or can't be obtained \n",
            "\u001b[0m"
          ]
        },
        {
          "metadata": {
            "tags": null
          },
          "name": "stdout",
          "output_type": "stream",
          "text": [
            "Scraping Game  2020020204 2021-02-09\n"
          ]
        },
        {
          "metadata": {
            "tags": null
          },
          "name": "stderr",
          "output_type": "stream",
          "text": [
            "\u001b[0;31mError: Error parsing Json pbp for game 2020020204 'period'\n",
            "\u001b[0m\u001b[0;33mWarning: Using espn for pbp\n",
            "\u001b[0m\u001b[0;31mError: Espn pbp for game 2021-02-09 NSH T.B is either not there or can't be obtained \n",
            "\u001b[0m"
          ]
        },
        {
          "metadata": {
            "tags": null
          },
          "name": "stdout",
          "output_type": "stream",
          "text": [
            "Scraping Game  2020020208 2021-02-09\n"
          ]
        },
        {
          "metadata": {
            "tags": null
          },
          "name": "stderr",
          "output_type": "stream",
          "text": [
            "\u001b[0;31mError: Error parsing Json pbp for game 2020020208 'period'\n",
            "\u001b[0m\u001b[0;33mWarning: Using espn for pbp\n",
            "\u001b[0m\u001b[0;31mError: Espn pbp for game 2021-02-09 DAL CHI is either not there or can't be obtained \n",
            "\u001b[0m"
          ]
        },
        {
          "metadata": {
            "tags": null
          },
          "name": "stdout",
          "output_type": "stream",
          "text": [
            "Scraping Game  2020020206 2021-02-09\n"
          ]
        },
        {
          "metadata": {
            "tags": null
          },
          "name": "stderr",
          "output_type": "stream",
          "text": [
            "\u001b[0;31mError: Error parsing Json pbp for game 2020020206 'period'\n",
            "\u001b[0m\u001b[0;33mWarning: Using espn for pbp\n",
            "\u001b[0m\u001b[0;31mError: Espn pbp for game 2021-02-09 CGY WPG is either not there or can't be obtained \n",
            "\u001b[0m"
          ]
        },
        {
          "metadata": {
            "tags": null
          },
          "name": "stdout",
          "output_type": "stream",
          "text": [
            "Scraping Game  2020020210 2021-02-09\n"
          ]
        },
        {
          "metadata": {
            "tags": null
          },
          "name": "stderr",
          "output_type": "stream",
          "text": [
            "\u001b[0;31mError: Error parsing Json pbp for game 2020020210 'period'\n",
            "\u001b[0m\u001b[0;33mWarning: Using espn for pbp\n",
            "\u001b[0m\u001b[0;31mError: Espn pbp for game 2021-02-09 VGK ANA is either not there or can't be obtained \n",
            "\u001b[0m"
          ]
        },
        {
          "metadata": {
            "tags": null
          },
          "name": "stdout",
          "output_type": "stream",
          "text": [
            "Scraping Game  2020020211 2021-02-09\n"
          ]
        },
        {
          "metadata": {
            "tags": null
          },
          "name": "stderr",
          "output_type": "stream",
          "text": [
            "\u001b[0;31mError: Error parsing Json pbp for game 2020020211 'period'\n",
            "\u001b[0m\u001b[0;33mWarning: Using espn for pbp\n",
            "\u001b[0m\u001b[0;31mError: Espn pbp for game 2021-02-09 L.A S.J is either not there or can't be obtained \n",
            "\u001b[0m"
          ]
        },
        {
          "metadata": {
            "tags": null
          },
          "name": "stdout",
          "output_type": "stream",
          "text": [
            "Scraping Game  2020020212 2021-02-10\n"
          ]
        },
        {
          "metadata": {
            "tags": null
          },
          "name": "stderr",
          "output_type": "stream",
          "text": [
            "\u001b[0;31mError: Error parsing Json pbp for game 2020020212 'period'\n",
            "\u001b[0m\u001b[0;33mWarning: Using espn for pbp\n",
            "\u001b[0m\u001b[0;31mError: Espn pbp for game 2021-02-10 NYR BOS is either not there or can't be obtained \n",
            "\u001b[0m"
          ]
        },
        {
          "metadata": {
            "tags": null
          },
          "name": "stdout",
          "output_type": "stream",
          "text": [
            "Scraping Game  2020020213 2021-02-10\n"
          ]
        },
        {
          "metadata": {
            "tags": null
          },
          "name": "stderr",
          "output_type": "stream",
          "text": [
            "\u001b[0;31mError: Error parsing Json pbp for game 2020020213 'period'\n",
            "\u001b[0m\u001b[0;33mWarning: Using espn for pbp\n",
            "\u001b[0m\u001b[0;31mError: Espn pbp for game 2021-02-10 MTL TOR is either not there or can't be obtained \n",
            "\u001b[0m"
          ]
        },
        {
          "metadata": {
            "tags": null
          },
          "name": "stdout",
          "output_type": "stream",
          "text": [
            "Scraping Game  2020020215 2021-02-11\n"
          ]
        },
        {
          "metadata": {
            "tags": null
          },
          "name": "stderr",
          "output_type": "stream",
          "text": [
            "\u001b[0;31mError: Error parsing Json pbp for game 2020020215 'period'\n",
            "\u001b[0m\u001b[0;33mWarning: Using espn for pbp\n",
            "\u001b[0m\u001b[0;31mError: Espn pbp for game 2021-02-11 NYI PIT is either not there or can't be obtained \n",
            "\u001b[0m"
          ]
        },
        {
          "metadata": {
            "tags": null
          },
          "name": "stdout",
          "output_type": "stream",
          "text": [
            "Scraping Game  2020020217 2021-02-11\n"
          ]
        },
        {
          "metadata": {
            "tags": null
          },
          "name": "stderr",
          "output_type": "stream",
          "text": [
            "\u001b[0;31mError: Error parsing Json pbp for game 2020020217 'period'\n",
            "\u001b[0m\u001b[0;33mWarning: Using espn for pbp\n",
            "\u001b[0m\u001b[0;31mError: Espn pbp for game 2021-02-11 FLA T.B is either not there or can't be obtained \n",
            "\u001b[0m"
          ]
        },
        {
          "metadata": {
            "tags": null
          },
          "name": "stdout",
          "output_type": "stream",
          "text": [
            "Scraping Game  2020020218 2021-02-11\n"
          ]
        },
        {
          "metadata": {
            "tags": null
          },
          "name": "stderr",
          "output_type": "stream",
          "text": [
            "\u001b[0;31mError: Error parsing Json pbp for game 2020020218 'period'\n",
            "\u001b[0m\u001b[0;33mWarning: Using espn for pbp\n",
            "\u001b[0m\u001b[0;31mError: Espn pbp for game 2021-02-11 CHI CBJ is either not there or can't be obtained \n",
            "\u001b[0m"
          ]
        },
        {
          "metadata": {
            "tags": null
          },
          "name": "stdout",
          "output_type": "stream",
          "text": [
            "Scraping Game  2020020219 2021-02-11\n"
          ]
        },
        {
          "metadata": {
            "tags": null
          },
          "name": "stderr",
          "output_type": "stream",
          "text": [
            "\u001b[0;31mError: Error parsing Json pbp for game 2020020219 'period'\n",
            "\u001b[0m\u001b[0;33mWarning: Using espn for pbp\n",
            "\u001b[0m\u001b[0;31mError: Espn pbp for game 2021-02-11 NSH DET is either not there or can't be obtained \n",
            "\u001b[0m"
          ]
        },
        {
          "metadata": {
            "tags": null
          },
          "name": "stdout",
          "output_type": "stream",
          "text": [
            "Scraping Game  2020020220 2021-02-11\n"
          ]
        },
        {
          "metadata": {
            "tags": null
          },
          "name": "stderr",
          "output_type": "stream",
          "text": [
            "\u001b[0;31mError: Error parsing Json pbp for game 2020020220 'period'\n",
            "\u001b[0m\u001b[0;33mWarning: Using espn for pbp\n",
            "\u001b[0m\u001b[0;31mError: Espn pbp for game 2021-02-11 MTL EDM is either not there or can't be obtained \n",
            "\u001b[0m"
          ]
        },
        {
          "metadata": {
            "tags": null
          },
          "name": "stdout",
          "output_type": "stream",
          "text": [
            "Scraping Game  2020020221 2021-02-11\n"
          ]
        },
        {
          "metadata": {
            "tags": null
          },
          "name": "stderr",
          "output_type": "stream",
          "text": [
            "\u001b[0;31mError: Error parsing Json pbp for game 2020020221 'period'\n",
            "\u001b[0m\u001b[0;33mWarning: Using espn for pbp\n",
            "\u001b[0m\u001b[0;31mError: Espn pbp for game 2021-02-11 WPG OTT is either not there or can't be obtained \n",
            "\u001b[0m"
          ]
        },
        {
          "metadata": {
            "tags": null
          },
          "name": "stdout",
          "output_type": "stream",
          "text": [
            "Scraping Game  2020020224 2021-02-11\n"
          ]
        },
        {
          "metadata": {
            "tags": null
          },
          "name": "stderr",
          "output_type": "stream",
          "text": [
            "\u001b[0;31mError: Error parsing Json pbp for game 2020020224 'period'\n",
            "\u001b[0m\u001b[0;33mWarning: Using espn for pbp\n",
            "\u001b[0m\u001b[0;31mError: Espn pbp for game 2021-02-11 DAL CAR is either not there or can't be obtained \n",
            "\u001b[0m"
          ]
        },
        {
          "metadata": {
            "tags": null
          },
          "name": "stdout",
          "output_type": "stream",
          "text": [
            "Scraping Game  2020020222 2021-02-11\n"
          ]
        },
        {
          "metadata": {
            "tags": null
          },
          "name": "stderr",
          "output_type": "stream",
          "text": [
            "\u001b[0;31mError: Error parsing Json pbp for game 2020020222 'period'\n",
            "\u001b[0m\u001b[0;33mWarning: Using espn for pbp\n",
            "\u001b[0m\u001b[0;31mError: Espn pbp for game 2021-02-11 VAN CGY is either not there or can't be obtained \n",
            "\u001b[0m"
          ]
        },
        {
          "metadata": {
            "tags": null
          },
          "name": "stdout",
          "output_type": "stream",
          "text": [
            "Scraping Game  2020020226 2021-02-11\n"
          ]
        },
        {
          "metadata": {
            "tags": null
          },
          "name": "stderr",
          "output_type": "stream",
          "text": [
            "\u001b[0;31mError: Error parsing Json pbp for game 2020020226 'period'\n",
            "\u001b[0m\u001b[0;33mWarning: Using espn for pbp\n",
            "\u001b[0m\u001b[0;31mError: Espn pbp for game 2021-02-11 VGK ANA is either not there or can't be obtained \n",
            "\u001b[0m"
          ]
        },
        {
          "metadata": {
            "tags": null
          },
          "name": "stdout",
          "output_type": "stream",
          "text": [
            "Scraping Game  2020020227 2021-02-11\n"
          ]
        },
        {
          "metadata": {
            "tags": null
          },
          "name": "stderr",
          "output_type": "stream",
          "text": [
            "\u001b[0;31mError: Error parsing Json pbp for game 2020020227 'period'\n",
            "\u001b[0m\u001b[0;33mWarning: Using espn for pbp\n",
            "\u001b[0m\u001b[0;31mError: Espn pbp for game 2021-02-11 L.A S.J is either not there or can't be obtained \n",
            "\u001b[0m"
          ]
        },
        {
          "metadata": {
            "tags": null
          },
          "name": "stdout",
          "output_type": "stream",
          "text": [
            "Scraping Game  2020020228 2021-02-12\n"
          ]
        },
        {
          "metadata": {
            "tags": null
          },
          "name": "stderr",
          "output_type": "stream",
          "text": [
            "\u001b[0;31mError: Error parsing Json pbp for game 2020020228 'period'\n",
            "\u001b[0m\u001b[0;33mWarning: Using espn for pbp\n",
            "\u001b[0m\u001b[0;31mError: Espn pbp for game 2021-02-12 NYR BOS is either not there or can't be obtained \n",
            "\u001b[0m"
          ]
        },
        {
          "metadata": {
            "tags": null
          },
          "name": "stdout",
          "output_type": "stream",
          "text": [
            "Scraping Game  2020020684 2021-02-12\n"
          ]
        },
        {
          "metadata": {
            "tags": null
          },
          "name": "stderr",
          "output_type": "stream",
          "text": [
            "\u001b[0;31mError: Error parsing Json pbp for game 2020020684 'period'\n",
            "\u001b[0m\u001b[0;33mWarning: Using espn for pbp\n",
            "\u001b[0m\u001b[0;31mError: Espn pbp for game 2021-02-12 ARI STL is either not there or can't be obtained \n",
            "\u001b[0m"
          ]
        },
        {
          "metadata": {
            "tags": null
          },
          "name": "stdout",
          "output_type": "stream",
          "text": [
            "Scraping Game  2020020236 2021-02-13\n"
          ]
        },
        {
          "metadata": {
            "tags": null
          },
          "name": "stderr",
          "output_type": "stream",
          "text": [
            "\u001b[0;31mError: Error parsing Json pbp for game 2020020236 'period'\n",
            "\u001b[0m\u001b[0;33mWarning: Using espn for pbp\n",
            "\u001b[0m\u001b[0;31mError: Espn pbp for game 2021-02-13 WPG OTT is either not there or can't be obtained \n",
            "\u001b[0m"
          ]
        },
        {
          "metadata": {
            "tags": null
          },
          "name": "stdout",
          "output_type": "stream",
          "text": [
            "Scraping Game  2020020149 2021-02-13\n"
          ]
        },
        {
          "metadata": {
            "tags": null
          },
          "name": "stderr",
          "output_type": "stream",
          "text": [
            "\u001b[0;31mError: Error parsing Json pbp for game 2020020149 'period'\n",
            "\u001b[0m\u001b[0;33mWarning: Using espn for pbp\n",
            "\u001b[0m\u001b[0;31mError: Espn pbp for game 2021-02-13 S.J VGK is either not there or can't be obtained \n",
            "\u001b[0m"
          ]
        },
        {
          "metadata": {
            "tags": null
          },
          "name": "stdout",
          "output_type": "stream",
          "text": [
            "Scraping Game  2020020230 2021-02-13\n"
          ]
        },
        {
          "metadata": {
            "tags": null
          },
          "name": "stderr",
          "output_type": "stream",
          "text": [
            "\u001b[0;31mError: Error parsing Json pbp for game 2020020230 'period'\n",
            "\u001b[0m\u001b[0;33mWarning: Using espn for pbp\n",
            "\u001b[0m\u001b[0;31mError: Espn pbp for game 2021-02-13 NYI BOS is either not there or can't be obtained \n",
            "\u001b[0m"
          ]
        },
        {
          "metadata": {
            "tags": null
          },
          "name": "stdout",
          "output_type": "stream",
          "text": [
            "Scraping Game  2020020232 2021-02-13\n"
          ]
        },
        {
          "metadata": {
            "tags": null
          },
          "name": "stderr",
          "output_type": "stream",
          "text": [
            "\u001b[0;31mError: Error parsing Json pbp for game 2020020232 'period'\n",
            "\u001b[0m\u001b[0;33mWarning: Using espn for pbp\n",
            "\u001b[0m\u001b[0;31mError: Espn pbp for game 2021-02-13 FLA T.B is either not there or can't be obtained \n",
            "\u001b[0m"
          ]
        },
        {
          "metadata": {
            "tags": null
          },
          "name": "stdout",
          "output_type": "stream",
          "text": [
            "Scraping Game  2020020235 2021-02-13\n"
          ]
        },
        {
          "metadata": {
            "tags": null
          },
          "name": "stderr",
          "output_type": "stream",
          "text": [
            "\u001b[0;31mError: Error parsing Json pbp for game 2020020235 'period'\n",
            "\u001b[0m\u001b[0;33mWarning: Using espn for pbp\n",
            "\u001b[0m\u001b[0;31mError: Espn pbp for game 2021-02-13 TOR MTL is either not there or can't be obtained \n",
            "\u001b[0m"
          ]
        },
        {
          "metadata": {
            "tags": null
          },
          "name": "stdout",
          "output_type": "stream",
          "text": [
            "Scraping Game  2020020233 2021-02-13\n"
          ]
        },
        {
          "metadata": {
            "tags": null
          },
          "name": "stderr",
          "output_type": "stream",
          "text": [
            "\u001b[0;31mError: Error parsing Json pbp for game 2020020233 'period'\n",
            "\u001b[0m\u001b[0;33mWarning: Using espn for pbp\n",
            "\u001b[0m\u001b[0;31mError: Espn pbp for game 2021-02-13 CHI CBJ is either not there or can't be obtained \n",
            "\u001b[0m"
          ]
        },
        {
          "metadata": {
            "tags": null
          },
          "name": "stdout",
          "output_type": "stream",
          "text": [
            "Scraping Game  2020020234 2021-02-13\n"
          ]
        },
        {
          "metadata": {
            "tags": null
          },
          "name": "stderr",
          "output_type": "stream",
          "text": [
            "\u001b[0;31mError: Error parsing Json pbp for game 2020020234 'period'\n",
            "\u001b[0m\u001b[0;33mWarning: Using espn for pbp\n",
            "\u001b[0m\u001b[0;31mError: Espn pbp for game 2021-02-13 NSH DET is either not there or can't be obtained \n",
            "\u001b[0m"
          ]
        },
        {
          "metadata": {
            "tags": null
          },
          "name": "stdout",
          "output_type": "stream",
          "text": [
            "Scraping Game  2020020238 2021-02-13\n"
          ]
        },
        {
          "metadata": {
            "tags": null
          },
          "name": "stderr",
          "output_type": "stream",
          "text": [
            "\u001b[0;31mError: Error parsing Json pbp for game 2020020238 'period'\n",
            "\u001b[0m\u001b[0;33mWarning: Using espn for pbp\n",
            "\u001b[0m\u001b[0;31mError: Espn pbp for game 2021-02-13 DAL CAR is either not there or can't be obtained \n",
            "\u001b[0m"
          ]
        },
        {
          "metadata": {
            "tags": null
          },
          "name": "stdout",
          "output_type": "stream",
          "text": [
            "Scraping Game  2020020239 2021-02-13\n"
          ]
        },
        {
          "metadata": {
            "tags": null
          },
          "name": "stderr",
          "output_type": "stream",
          "text": [
            "\u001b[0;31mError: Error parsing Json pbp for game 2020020239 'period'\n",
            "\u001b[0m\u001b[0;33mWarning: Using espn for pbp\n",
            "\u001b[0m\u001b[0;31mError: Espn pbp for game 2021-02-13 ARI STL is either not there or can't be obtained \n",
            "\u001b[0m"
          ]
        },
        {
          "metadata": {
            "tags": null
          },
          "name": "stdout",
          "output_type": "stream",
          "text": [
            "Scraping Game  2020020237 2021-02-13\n"
          ]
        },
        {
          "metadata": {
            "tags": null
          },
          "name": "stderr",
          "output_type": "stream",
          "text": [
            "\u001b[0;31mError: Error parsing Json pbp for game 2020020237 'period'\n",
            "\u001b[0m\u001b[0;33mWarning: Using espn for pbp\n",
            "\u001b[0m\u001b[0;31mError: Espn pbp for game 2021-02-13 VAN CGY is either not there or can't be obtained \n",
            "\u001b[0m"
          ]
        },
        {
          "metadata": {
            "tags": null
          },
          "name": "stdout",
          "output_type": "stream",
          "text": [
            "Scraping Game  2020020242 2021-02-14\n"
          ]
        },
        {
          "metadata": {
            "tags": null
          },
          "name": "stderr",
          "output_type": "stream",
          "text": [
            "\u001b[0;31mError: Error parsing Json pbp for game 2020020242 'period'\n",
            "\u001b[0m\u001b[0;33mWarning: Using espn for pbp\n",
            "\u001b[0m\u001b[0;31mError: Espn pbp for game 2021-02-14 PIT WSH is either not there or can't be obtained \n",
            "\u001b[0m"
          ]
        },
        {
          "metadata": {
            "tags": null
          },
          "name": "stdout",
          "output_type": "stream",
          "text": [
            "Scraping Game  2020020243 2021-02-14\n"
          ]
        },
        {
          "metadata": {
            "tags": null
          },
          "name": "stderr",
          "output_type": "stream",
          "text": [
            "\u001b[0;31mError: Error parsing Json pbp for game 2020020243 'period'\n",
            "\u001b[0m\u001b[0;33mWarning: Using espn for pbp\n",
            "\u001b[0m\u001b[0;31mError: Espn pbp for game 2021-02-14 VGK COL is either not there or can't be obtained \n",
            "\u001b[0m"
          ]
        },
        {
          "metadata": {
            "tags": null
          },
          "name": "stdout",
          "output_type": "stream",
          "text": [
            "Scraping Game  2020020251 2021-02-15\n"
          ]
        },
        {
          "metadata": {
            "tags": null
          },
          "name": "stderr",
          "output_type": "stream",
          "text": [
            "\u001b[0;31mError: Error parsing Json pbp for game 2020020251 'period'\n",
            "\u001b[0m\u001b[0;33mWarning: Using espn for pbp\n",
            "\u001b[0m\u001b[0;31mError: Espn pbp for game 2021-02-15 ARI STL is either not there or can't be obtained \n",
            "\u001b[0m"
          ]
        },
        {
          "metadata": {
            "tags": null
          },
          "name": "stdout",
          "output_type": "stream",
          "text": [
            "Scraping Game  2020020245 2021-02-15\n"
          ]
        },
        {
          "metadata": {
            "tags": null
          },
          "name": "stderr",
          "output_type": "stream",
          "text": [
            "\u001b[0;31mError: Error parsing Json pbp for game 2020020245 'period'\n",
            "\u001b[0m\u001b[0;33mWarning: Using espn for pbp\n",
            "\u001b[0m\u001b[0;31mError: Espn pbp for game 2021-02-15 BUF NYI is either not there or can't be obtained \n",
            "\u001b[0m"
          ]
        },
        {
          "metadata": {
            "tags": null
          },
          "name": "stdout",
          "output_type": "stream",
          "text": [
            "Scraping Game  2020020247 2021-02-15\n"
          ]
        },
        {
          "metadata": {
            "tags": null
          },
          "name": "stderr",
          "output_type": "stream",
          "text": [
            "\u001b[0;31mError: Error parsing Json pbp for game 2020020247 'period'\n",
            "\u001b[0m\u001b[0;33mWarning: Using espn for pbp\n",
            "\u001b[0m\u001b[0;31mError: Espn pbp for game 2021-02-15 TOR OTT is either not there or can't be obtained \n",
            "\u001b[0m"
          ]
        },
        {
          "metadata": {
            "tags": null
          },
          "name": "stdout",
          "output_type": "stream",
          "text": [
            "Scraping Game  2020020255 2021-02-15\n"
          ]
        },
        {
          "metadata": {
            "tags": null
          },
          "name": "stderr",
          "output_type": "stream",
          "text": [
            "\u001b[0;31mError: Error parsing Json pbp for game 2020020255 'period'\n",
            "\u001b[0m\u001b[0;33mWarning: Using espn for pbp\n",
            "\u001b[0m\u001b[0;31mError: Espn pbp for game 2021-02-15 CAR CBJ is either not there or can't be obtained \n",
            "\u001b[0m"
          ]
        },
        {
          "metadata": {
            "tags": null
          },
          "name": "stdout",
          "output_type": "stream",
          "text": [
            "Scraping Game  2020020256 2021-02-15\n"
          ]
        },
        {
          "metadata": {
            "tags": null
          },
          "name": "stderr",
          "output_type": "stream",
          "text": [
            "\u001b[0;31mError: Error parsing Json pbp for game 2020020256 'period'\n",
            "\u001b[0m\u001b[0;33mWarning: Using espn for pbp\n",
            "\u001b[0m\u001b[0;31mError: Espn pbp for game 2021-02-15 T.B FLA is either not there or can't be obtained \n",
            "\u001b[0m"
          ]
        },
        {
          "metadata": {
            "tags": null
          },
          "name": "stdout",
          "output_type": "stream",
          "text": [
            "Scraping Game  2020020246 2021-02-15\n"
          ]
        },
        {
          "metadata": {
            "tags": null
          },
          "name": "stderr",
          "output_type": "stream",
          "text": [
            "\u001b[0;31mError: Error parsing Json pbp for game 2020020246 'period'\n",
            "\u001b[0m\u001b[0;33mWarning: Using espn for pbp\n",
            "\u001b[0m\u001b[0;31mError: Espn pbp for game 2021-02-15 DET CHI is either not there or can't be obtained \n",
            "\u001b[0m"
          ]
        },
        {
          "metadata": {
            "tags": null
          },
          "name": "stdout",
          "output_type": "stream",
          "text": [
            "Scraping Game  2020020248 2021-02-15\n"
          ]
        },
        {
          "metadata": {
            "tags": null
          },
          "name": "stderr",
          "output_type": "stream",
          "text": [
            "\u001b[0;31mError: Error parsing Json pbp for game 2020020248 'period'\n",
            "\u001b[0m\u001b[0;33mWarning: Using espn for pbp\n",
            "\u001b[0m\u001b[0;31mError: Espn pbp for game 2021-02-15 EDM WPG is either not there or can't be obtained \n",
            "\u001b[0m"
          ]
        },
        {
          "metadata": {
            "tags": null
          },
          "name": "stdout",
          "output_type": "stream",
          "text": [
            "Scraping Game  2020020249 2021-02-15\n"
          ]
        },
        {
          "metadata": {
            "tags": null
          },
          "name": "stderr",
          "output_type": "stream",
          "text": [
            "\u001b[0;31mError: Error parsing Json pbp for game 2020020249 'period'\n",
            "\u001b[0m\u001b[0;33mWarning: Using espn for pbp\n",
            "\u001b[0m\u001b[0;31mError: Espn pbp for game 2021-02-15 VAN CGY is either not there or can't be obtained \n",
            "\u001b[0m"
          ]
        },
        {
          "metadata": {
            "tags": null
          },
          "name": "stdout",
          "output_type": "stream",
          "text": [
            "Scraping Game  2020020252 2021-02-15\n"
          ]
        },
        {
          "metadata": {
            "tags": null
          },
          "name": "stderr",
          "output_type": "stream",
          "text": [
            "\u001b[0;31mError: Error parsing Json pbp for game 2020020252 'period'\n",
            "\u001b[0m\u001b[0;33mWarning: Using espn for pbp\n",
            "\u001b[0m\u001b[0;31mError: Espn pbp for game 2021-02-15 S.J ANA is either not there or can't be obtained \n",
            "\u001b[0m"
          ]
        },
        {
          "metadata": {
            "tags": null
          },
          "name": "stdout",
          "output_type": "stream",
          "text": [
            "Scraping Game  2020020253 2021-02-16\n"
          ]
        },
        {
          "metadata": {
            "tags": null
          },
          "name": "stderr",
          "output_type": "stream",
          "text": [
            "\u001b[0;31mError: Error parsing Json pbp for game 2020020253 'period'\n",
            "\u001b[0m\u001b[0;33mWarning: Using espn for pbp\n",
            "\u001b[0m\u001b[0;31mError: Espn pbp for game 2021-02-16 BUF NYI is either not there or can't be obtained \n",
            "\u001b[0m"
          ]
        },
        {
          "metadata": {
            "tags": null
          },
          "name": "stdout",
          "output_type": "stream",
          "text": [
            "Scraping Game  2020020257 2021-02-16\n"
          ]
        },
        {
          "metadata": {
            "tags": null
          },
          "name": "stderr",
          "output_type": "stream",
          "text": [
            "\u001b[0;31mError: Error parsing Json pbp for game 2020020257 'period'\n",
            "\u001b[0m\u001b[0;33mWarning: Using espn for pbp\n",
            "\u001b[0m\u001b[0;31mError: Espn pbp for game 2021-02-16 PIT WSH is either not there or can't be obtained \n",
            "\u001b[0m"
          ]
        },
        {
          "metadata": {
            "tags": null
          },
          "name": "stdout",
          "output_type": "stream",
          "text": [
            "Scraping Game  2020020364 2021-02-16\n"
          ]
        },
        {
          "metadata": {
            "tags": null
          },
          "name": "stderr",
          "output_type": "stream",
          "text": [
            "\u001b[0;31mError: Error parsing Json pbp for game 2020020364 'period'\n",
            "\u001b[0m\u001b[0;33mWarning: Using espn for pbp\n",
            "\u001b[0m\u001b[0;31mError: Espn pbp for game 2021-02-16 NYR N.J is either not there or can't be obtained \n",
            "\u001b[0m"
          ]
        },
        {
          "metadata": {
            "tags": null
          },
          "name": "stdout",
          "output_type": "stream",
          "text": [
            "Scraping Game  2020020259 2021-02-16\n"
          ]
        },
        {
          "metadata": {
            "tags": null
          },
          "name": "stderr",
          "output_type": "stream",
          "text": [
            "\u001b[0;31mError: Error parsing Json pbp for game 2020020259 'period'\n",
            "\u001b[0m\u001b[0;33mWarning: Using espn for pbp\n",
            "\u001b[0m\u001b[0;31mError: Espn pbp for game 2021-02-16 VGK COL is either not there or can't be obtained \n",
            "\u001b[0m"
          ]
        },
        {
          "metadata": {
            "tags": null
          },
          "name": "stdout",
          "output_type": "stream",
          "text": [
            "Scraping Game  2020020260 2021-02-16\n"
          ]
        },
        {
          "metadata": {
            "tags": null
          },
          "name": "stderr",
          "output_type": "stream",
          "text": [
            "\u001b[0;31mError: Error parsing Json pbp for game 2020020260 'period'\n",
            "\u001b[0m\u001b[0;33mWarning: Using espn for pbp\n",
            "\u001b[0m\u001b[0;31mError: Espn pbp for game 2021-02-16 L.A MIN is either not there or can't be obtained \n",
            "\u001b[0m"
          ]
        },
        {
          "metadata": {
            "tags": null
          },
          "name": "stdout",
          "output_type": "stream",
          "text": [
            "Scraping Game  2020020062 2021-02-17\n"
          ]
        },
        {
          "metadata": {
            "tags": null
          },
          "name": "stderr",
          "output_type": "stream",
          "text": [
            "\u001b[0;31mError: Error parsing Json pbp for game 2020020062 'period'\n",
            "\u001b[0m\u001b[0;33mWarning: Using espn for pbp\n",
            "\u001b[0m\u001b[0;31mError: Espn pbp for game 2021-02-17 CAR FLA is either not there or can't be obtained \n",
            "\u001b[0m"
          ]
        },
        {
          "metadata": {
            "tags": null
          },
          "name": "stdout",
          "output_type": "stream",
          "text": [
            "Scraping Game  2020020262 2021-02-17\n"
          ]
        },
        {
          "metadata": {
            "tags": null
          },
          "name": "stderr",
          "output_type": "stream",
          "text": [
            "\u001b[0;31mError: Error parsing Json pbp for game 2020020262 'period'\n",
            "\u001b[0m\u001b[0;33mWarning: Using espn for pbp\n",
            "\u001b[0m\u001b[0;31mError: Espn pbp for game 2021-02-17 TOR OTT is either not there or can't be obtained \n",
            "\u001b[0m"
          ]
        },
        {
          "metadata": {
            "tags": null
          },
          "name": "stdout",
          "output_type": "stream",
          "text": [
            "Scraping Game  2020020261 2021-02-17\n"
          ]
        },
        {
          "metadata": {
            "tags": null
          },
          "name": "stderr",
          "output_type": "stream",
          "text": [
            "\u001b[0;31mError: Error parsing Json pbp for game 2020020261 'period'\n",
            "\u001b[0m\u001b[0;33mWarning: Using espn for pbp\n",
            "\u001b[0m\u001b[0;31mError: Espn pbp for game 2021-02-17 DET CHI is either not there or can't be obtained \n",
            "\u001b[0m"
          ]
        },
        {
          "metadata": {
            "tags": null
          },
          "name": "stdout",
          "output_type": "stream",
          "text": [
            "Scraping Game  2020020263 2021-02-17\n"
          ]
        },
        {
          "metadata": {
            "tags": null
          },
          "name": "stderr",
          "output_type": "stream",
          "text": [
            "\u001b[0;31mError: Error parsing Json pbp for game 2020020263 'period'\n",
            "\u001b[0m\u001b[0;33mWarning: Using espn for pbp\n",
            "\u001b[0m\u001b[0;31mError: Espn pbp for game 2021-02-17 CGY VAN is either not there or can't be obtained \n",
            "\u001b[0m"
          ]
        },
        {
          "metadata": {
            "tags": null
          },
          "name": "stdout",
          "output_type": "stream",
          "text": [
            "Scraping Game  2020020264 2021-02-17\n"
          ]
        },
        {
          "metadata": {
            "tags": null
          },
          "name": "stderr",
          "output_type": "stream",
          "text": [
            "\u001b[0;31mError: Error parsing Json pbp for game 2020020264 'period'\n",
            "\u001b[0m\u001b[0;33mWarning: Using espn for pbp\n",
            "\u001b[0m\u001b[0;31mError: Espn pbp for game 2021-02-17 EDM WPG is either not there or can't be obtained \n",
            "\u001b[0m"
          ]
        },
        {
          "metadata": {
            "tags": null
          },
          "name": "stdout",
          "output_type": "stream",
          "text": [
            "Scraping Game  2020020265 2021-02-18\n"
          ]
        },
        {
          "metadata": {
            "tags": null
          },
          "name": "stderr",
          "output_type": "stream",
          "text": [
            "\u001b[0;31mError: Error parsing Json pbp for game 2020020265 'period'\n",
            "\u001b[0m\u001b[0;33mWarning: Using espn for pbp\n",
            "\u001b[0m\u001b[0;31mError: Espn pbp for game 2021-02-18 BOS N.J is either not there or can't be obtained \n",
            "\u001b[0m"
          ]
        },
        {
          "metadata": {
            "tags": null
          },
          "name": "stdout",
          "output_type": "stream",
          "text": [
            "Scraping Game  2020020266 2021-02-18\n"
          ]
        },
        {
          "metadata": {
            "tags": null
          },
          "name": "stderr",
          "output_type": "stream",
          "text": [
            "\u001b[0;31mError: Error parsing Json pbp for game 2020020266 'period'\n",
            "\u001b[0m\u001b[0;33mWarning: Using espn for pbp\n",
            "\u001b[0m\u001b[0;31mError: Espn pbp for game 2021-02-18 PHI NYR is either not there or can't be obtained \n",
            "\u001b[0m"
          ]
        },
        {
          "metadata": {
            "tags": null
          },
          "name": "stdout",
          "output_type": "stream",
          "text": [
            "Scraping Game  2020020267 2021-02-18\n"
          ]
        },
        {
          "metadata": {
            "tags": null
          },
          "name": "stderr",
          "output_type": "stream",
          "text": [
            "\u001b[0;31mError: Error parsing Json pbp for game 2020020267 'period'\n",
            "\u001b[0m\u001b[0;33mWarning: Using espn for pbp\n",
            "\u001b[0m\u001b[0;31mError: Espn pbp for game 2021-02-18 PIT NYI is either not there or can't be obtained \n",
            "\u001b[0m"
          ]
        },
        {
          "metadata": {
            "tags": null
          },
          "name": "stdout",
          "output_type": "stream",
          "text": [
            "Scraping Game  2020020268 2021-02-18\n"
          ]
        },
        {
          "metadata": {
            "tags": null
          },
          "name": "stderr",
          "output_type": "stream",
          "text": [
            "\u001b[0;31mError: Error parsing Json pbp for game 2020020268 'period'\n",
            "\u001b[0m\u001b[0;33mWarning: Using espn for pbp\n",
            "\u001b[0m\u001b[0;31mError: Espn pbp for game 2021-02-18 CBJ NSH is either not there or can't be obtained \n",
            "\u001b[0m"
          ]
        },
        {
          "metadata": {
            "tags": null
          },
          "name": "stdout",
          "output_type": "stream",
          "text": [
            "Scraping Game  2020020270 2021-02-18\n"
          ]
        },
        {
          "metadata": {
            "tags": null
          },
          "name": "stderr",
          "output_type": "stream",
          "text": [
            "\u001b[0;31mError: Error parsing Json pbp for game 2020020270 'period'\n",
            "\u001b[0m\u001b[0;33mWarning: Using espn for pbp\n",
            "\u001b[0m\u001b[0;31mError: Espn pbp for game 2021-02-18 TOR OTT is either not there or can't be obtained \n",
            "\u001b[0m"
          ]
        },
        {
          "metadata": {
            "tags": null
          },
          "name": "stdout",
          "output_type": "stream",
          "text": [
            "Scraping Game  2020020667 2021-02-18\n"
          ]
        },
        {
          "metadata": {
            "tags": null
          },
          "name": "stderr",
          "output_type": "stream",
          "text": [
            "\u001b[0;31mError: Error parsing Json pbp for game 2020020667 'period'\n",
            "\u001b[0m\u001b[0;33mWarning: Using espn for pbp\n",
            "\u001b[0m\u001b[0;31mError: Espn pbp for game 2021-02-18 WSH BUF is either not there or can't be obtained \n",
            "\u001b[0m"
          ]
        },
        {
          "metadata": {
            "tags": null
          },
          "name": "stdout",
          "output_type": "stream",
          "text": [
            "Scraping Game  2020020269 2021-02-18\n"
          ]
        },
        {
          "metadata": {
            "tags": null
          },
          "name": "stderr",
          "output_type": "stream",
          "text": [
            "\u001b[0;31mError: Error parsing Json pbp for game 2020020269 'period'\n",
            "\u001b[0m\u001b[0;33mWarning: Using espn for pbp\n",
            "\u001b[0m\u001b[0;31mError: Espn pbp for game 2021-02-18 STL S.J is either not there or can't be obtained \n",
            "\u001b[0m"
          ]
        },
        {
          "metadata": {
            "tags": null
          },
          "name": "stdout",
          "output_type": "stream",
          "text": [
            "Scraping Game  2020020272 2021-02-18\n"
          ]
        },
        {
          "metadata": {
            "tags": null
          },
          "name": "stderr",
          "output_type": "stream",
          "text": [
            "\u001b[0;31mError: Error parsing Json pbp for game 2020020272 'period'\n",
            "\u001b[0m\u001b[0;33mWarning: Using espn for pbp\n",
            "\u001b[0m\u001b[0;31mError: Espn pbp for game 2021-02-18 ARI L.A is either not there or can't be obtained \n",
            "\u001b[0m"
          ]
        },
        {
          "metadata": {
            "tags": null
          },
          "name": "stdout",
          "output_type": "stream",
          "text": [
            "Scraping Game  2020020273 2021-02-18\n"
          ]
        },
        {
          "metadata": {
            "tags": null
          },
          "name": "stderr",
          "output_type": "stream",
          "text": [
            "\u001b[0;31mError: Error parsing Json pbp for game 2020020273 'period'\n",
            "\u001b[0m\u001b[0;33mWarning: Using espn for pbp\n",
            "\u001b[0m\u001b[0;31mError: Espn pbp for game 2021-02-18 ANA MIN is either not there or can't be obtained \n",
            "\u001b[0m"
          ]
        },
        {
          "metadata": {
            "tags": null
          },
          "name": "stdout",
          "output_type": "stream",
          "text": [
            "Scraping Game  2020020274 2021-02-19\n"
          ]
        },
        {
          "metadata": {
            "tags": null
          },
          "name": "stderr",
          "output_type": "stream",
          "text": [
            "\u001b[0;31mError: Error parsing Json pbp for game 2020020274 'period'\n",
            "\u001b[0m\u001b[0;33mWarning: Using espn for pbp\n",
            "\u001b[0m\u001b[0;31mError: Espn pbp for game 2021-02-19 CAR CHI is either not there or can't be obtained \n",
            "\u001b[0m"
          ]
        },
        {
          "metadata": {
            "tags": null
          },
          "name": "stdout",
          "output_type": "stream",
          "text": [
            "Scraping Game  2020020275 2021-02-19\n"
          ]
        },
        {
          "metadata": {
            "tags": null
          },
          "name": "stderr",
          "output_type": "stream",
          "text": [
            "\u001b[0;31mError: Error parsing Json pbp for game 2020020275 'period'\n",
            "\u001b[0m\u001b[0;33mWarning: Using espn for pbp\n",
            "\u001b[0m\u001b[0;31mError: Espn pbp for game 2021-02-19 DET FLA is either not there or can't be obtained \n",
            "\u001b[0m"
          ]
        },
        {
          "metadata": {
            "tags": null
          },
          "name": "stdout",
          "output_type": "stream",
          "text": [
            "Scraping Game  2020020276 2021-02-19\n"
          ]
        },
        {
          "metadata": {
            "tags": null
          },
          "name": "stderr",
          "output_type": "stream",
          "text": [
            "\u001b[0;31mError: Error parsing Json pbp for game 2020020276 'period'\n",
            "\u001b[0m\u001b[0;33mWarning: Using espn for pbp\n",
            "\u001b[0m\u001b[0;31mError: Espn pbp for game 2021-02-19 CGY EDM is either not there or can't be obtained \n",
            "\u001b[0m"
          ]
        },
        {
          "metadata": {
            "tags": null
          },
          "name": "stdout",
          "output_type": "stream",
          "text": [
            "Scraping Game  2020020277 2021-02-19\n"
          ]
        },
        {
          "metadata": {
            "tags": null
          },
          "name": "stderr",
          "output_type": "stream",
          "text": [
            "\u001b[0;31mError: Error parsing Json pbp for game 2020020277 'period'\n",
            "\u001b[0m\u001b[0;33mWarning: Using espn for pbp\n",
            "\u001b[0m\u001b[0;31mError: Espn pbp for game 2021-02-19 VAN WPG is either not there or can't be obtained \n",
            "\u001b[0m"
          ]
        },
        {
          "metadata": {
            "tags": null
          },
          "name": "stdout",
          "output_type": "stream",
          "text": [
            "Scraping Game  2020020278 2021-02-20\n"
          ]
        },
        {
          "metadata": {
            "tags": null
          },
          "name": "stderr",
          "output_type": "stream",
          "text": [
            "\u001b[0;31mError: Error parsing Json pbp for game 2020020278 'period'\n",
            "\u001b[0m\u001b[0;33mWarning: Using espn for pbp\n",
            "\u001b[0m\u001b[0;31mError: Espn pbp for game 2021-02-20 N.J BUF is either not there or can't be obtained \n",
            "\u001b[0m"
          ]
        },
        {
          "metadata": {
            "tags": null
          },
          "name": "stdout",
          "output_type": "stream",
          "text": [
            "Scraping Game  2020020279 2021-02-20\n"
          ]
        },
        {
          "metadata": {
            "tags": null
          },
          "name": "stderr",
          "output_type": "stream",
          "text": [
            "\u001b[0;31mError: Error parsing Json pbp for game 2020020279 'period'\n",
            "\u001b[0m\u001b[0;33mWarning: Using espn for pbp\n",
            "\u001b[0m\u001b[0;31mError: Espn pbp for game 2021-02-20 WSH NYR is either not there or can't be obtained \n",
            "\u001b[0m"
          ]
        },
        {
          "metadata": {
            "tags": null
          },
          "name": "stdout",
          "output_type": "stream",
          "text": [
            "Scraping Game  2020020287 2021-02-20\n"
          ]
        },
        {
          "metadata": {
            "tags": null
          },
          "name": "stderr",
          "output_type": "stream",
          "text": [
            "\u001b[0;31mError: Error parsing Json pbp for game 2020020287 'period'\n",
            "\u001b[0m\u001b[0;33mWarning: Using espn for pbp\n",
            "\u001b[0m\u001b[0;31mError: Espn pbp for game 2021-02-20 COL VGK is either not there or can't be obtained \n",
            "\u001b[0m"
          ]
        },
        {
          "metadata": {
            "tags": null
          },
          "name": "stdout",
          "output_type": "stream",
          "text": [
            "Scraping Game  2020020292 2021-02-20\n"
          ]
        },
        {
          "metadata": {
            "tags": null
          },
          "name": "stderr",
          "output_type": "stream",
          "text": [
            "\u001b[0;31mError: Error parsing Json pbp for game 2020020292 'period'\n",
            "\u001b[0m\u001b[0;33mWarning: Using espn for pbp\n",
            "\u001b[0m\u001b[0;31mError: Espn pbp for game 2021-02-20 DET FLA is either not there or can't be obtained \n",
            "\u001b[0m"
          ]
        },
        {
          "metadata": {
            "tags": null
          },
          "name": "stdout",
          "output_type": "stream",
          "text": [
            "Scraping Game  2020020281 2021-02-20\n"
          ]
        },
        {
          "metadata": {
            "tags": null
          },
          "name": "stderr",
          "output_type": "stream",
          "text": [
            "\u001b[0;31mError: Error parsing Json pbp for game 2020020281 'period'\n",
            "\u001b[0m\u001b[0;33mWarning: Using espn for pbp\n",
            "\u001b[0m\u001b[0;31mError: Espn pbp for game 2021-02-20 PIT NYI is either not there or can't be obtained \n",
            "\u001b[0m"
          ]
        },
        {
          "metadata": {
            "tags": null
          },
          "name": "stdout",
          "output_type": "stream",
          "text": [
            "Scraping Game  2020020282 2021-02-20\n"
          ]
        },
        {
          "metadata": {
            "tags": null
          },
          "name": "stderr",
          "output_type": "stream",
          "text": [
            "\u001b[0;31mError: Error parsing Json pbp for game 2020020282 'period'\n",
            "\u001b[0m\u001b[0;33mWarning: Using espn for pbp\n",
            "\u001b[0m\u001b[0;31mError: Espn pbp for game 2021-02-20 CBJ NSH is either not there or can't be obtained \n",
            "\u001b[0m"
          ]
        },
        {
          "metadata": {
            "tags": null
          },
          "name": "stdout",
          "output_type": "stream",
          "text": [
            "Scraping Game  2020020283 2021-02-20\n"
          ]
        },
        {
          "metadata": {
            "tags": null
          },
          "name": "stderr",
          "output_type": "stream",
          "text": [
            "\u001b[0;31mError: Error parsing Json pbp for game 2020020283 'period'\n",
            "\u001b[0m\u001b[0;33mWarning: Using espn for pbp\n",
            "\u001b[0m\u001b[0;31mError: Espn pbp for game 2021-02-20 STL S.J is either not there or can't be obtained \n",
            "\u001b[0m"
          ]
        },
        {
          "metadata": {
            "tags": null
          },
          "name": "stdout",
          "output_type": "stream",
          "text": [
            "Scraping Game  2020020284 2021-02-20\n"
          ]
        },
        {
          "metadata": {
            "tags": null
          },
          "name": "stderr",
          "output_type": "stream",
          "text": [
            "\u001b[0;31mError: Error parsing Json pbp for game 2020020284 'period'\n",
            "\u001b[0m\u001b[0;33mWarning: Using espn for pbp\n",
            "\u001b[0m\u001b[0;31mError: Espn pbp for game 2021-02-20 MTL TOR is either not there or can't be obtained \n",
            "\u001b[0m"
          ]
        },
        {
          "metadata": {
            "tags": null
          },
          "name": "stdout",
          "output_type": "stream",
          "text": [
            "Scraping Game  2020020288 2021-02-20\n"
          ]
        },
        {
          "metadata": {
            "tags": null
          },
          "name": "stderr",
          "output_type": "stream",
          "text": [
            "\u001b[0;31mError: Error parsing Json pbp for game 2020020288 'period'\n",
            "\u001b[0m\u001b[0;33mWarning: Using espn for pbp\n",
            "\u001b[0m\u001b[0;31mError: Espn pbp for game 2021-02-20 ARI L.A is either not there or can't be obtained \n",
            "\u001b[0m"
          ]
        },
        {
          "metadata": {
            "tags": null
          },
          "name": "stdout",
          "output_type": "stream",
          "text": [
            "Scraping Game  2020020543 2021-02-20\n"
          ]
        },
        {
          "metadata": {
            "tags": null
          },
          "name": "stderr",
          "output_type": "stream",
          "text": [
            "\u001b[0;31mError: Error parsing Json pbp for game 2020020543 'period'\n",
            "\u001b[0m\u001b[0;33mWarning: Using espn for pbp\n",
            "\u001b[0m\u001b[0;31mError: Espn pbp for game 2021-02-20 CAR T.B is either not there or can't be obtained \n",
            "\u001b[0m"
          ]
        },
        {
          "metadata": {
            "tags": null
          },
          "name": "stdout",
          "output_type": "stream",
          "text": [
            "Scraping Game  2020020289 2021-02-20\n"
          ]
        },
        {
          "metadata": {
            "tags": null
          },
          "name": "stderr",
          "output_type": "stream",
          "text": [
            "\u001b[0;31mError: Error parsing Json pbp for game 2020020289 'period'\n",
            "\u001b[0m\u001b[0;33mWarning: Using espn for pbp\n",
            "\u001b[0m\u001b[0;31mError: Espn pbp for game 2021-02-20 ANA MIN is either not there or can't be obtained \n",
            "\u001b[0m"
          ]
        },
        {
          "metadata": {
            "tags": null
          },
          "name": "stdout",
          "output_type": "stream",
          "text": [
            "Scraping Game  2020020285 2021-02-20\n"
          ]
        },
        {
          "metadata": {
            "tags": null
          },
          "name": "stderr",
          "output_type": "stream",
          "text": [
            "\u001b[0;31mError: Error parsing Json pbp for game 2020020285 'period'\n",
            "\u001b[0m\u001b[0;33mWarning: Using espn for pbp\n",
            "\u001b[0m\u001b[0;31mError: Espn pbp for game 2021-02-20 EDM CGY is either not there or can't be obtained \n",
            "\u001b[0m"
          ]
        },
        {
          "metadata": {
            "tags": null
          },
          "name": "stdout",
          "output_type": "stream",
          "text": [
            "Scraping Game  2020020392 2021-02-21\n"
          ]
        },
        {
          "metadata": {
            "tags": null
          },
          "name": "stderr",
          "output_type": "stream",
          "text": [
            "\u001b[0;31mError: Error parsing Json pbp for game 2020020392 'period'\n",
            "\u001b[0m\u001b[0;33mWarning: Using espn for pbp\n",
            "\u001b[0m\u001b[0;31mError: Espn pbp for game 2021-02-21 WSH N.J is either not there or can't be obtained \n",
            "\u001b[0m"
          ]
        },
        {
          "metadata": {
            "tags": null
          },
          "name": "stdout",
          "output_type": "stream",
          "text": [
            "Scraping Game  2020020293 2021-02-21\n"
          ]
        },
        {
          "metadata": {
            "tags": null
          },
          "name": "stderr",
          "output_type": "stream",
          "text": [
            "\u001b[0;31mError: Error parsing Json pbp for game 2020020293 'period'\n",
            "\u001b[0m\u001b[0;33mWarning: Using espn for pbp\n",
            "\u001b[0m\u001b[0;31mError: Espn pbp for game 2021-02-21 OTT MTL is either not there or can't be obtained \n",
            "\u001b[0m"
          ]
        },
        {
          "metadata": {
            "tags": null
          },
          "name": "stdout",
          "output_type": "stream",
          "text": [
            "Scraping Game  2020020290 2021-02-21\n"
          ]
        },
        {
          "metadata": {
            "tags": null
          },
          "name": "stderr",
          "output_type": "stream",
          "text": [
            "\u001b[0;31mError: Error parsing Json pbp for game 2020020290 'period'\n",
            "\u001b[0m\u001b[0;33mWarning: Using espn for pbp\n",
            "\u001b[0m\u001b[0;31mError: Espn pbp for game 2021-02-21 BOS PHI is either not there or can't be obtained \n",
            "\u001b[0m"
          ]
        },
        {
          "metadata": {
            "tags": null
          },
          "name": "stdout",
          "output_type": "stream",
          "text": [
            "Scraping Game  2020020294 2021-02-21\n"
          ]
        },
        {
          "metadata": {
            "tags": null
          },
          "name": "stderr",
          "output_type": "stream",
          "text": [
            "\u001b[0;31mError: Error parsing Json pbp for game 2020020294 'period'\n",
            "\u001b[0m\u001b[0;33mWarning: Using espn for pbp\n",
            "\u001b[0m\u001b[0;31mError: Espn pbp for game 2021-02-21 VAN WPG is either not there or can't be obtained \n",
            "\u001b[0m"
          ]
        },
        {
          "metadata": {
            "tags": null
          },
          "name": "stdout",
          "output_type": "stream",
          "text": [
            "Scraping Game  2020020009 2021-02-22\n"
          ]
        },
        {
          "metadata": {
            "tags": null
          },
          "name": "stderr",
          "output_type": "stream",
          "text": [
            "\u001b[0;31mError: Error parsing Json pbp for game 2020020009 'period'\n",
            "\u001b[0m\u001b[0;33mWarning: Using espn for pbp\n",
            "\u001b[0m\u001b[0;31mError: Espn pbp for game 2021-02-22 FLA DAL is either not there or can't be obtained \n",
            "\u001b[0m"
          ]
        },
        {
          "metadata": {
            "tags": null
          },
          "name": "stdout",
          "output_type": "stream",
          "text": [
            "Scraping Game  2020020097 2021-02-22\n"
          ]
        },
        {
          "metadata": {
            "tags": null
          },
          "name": "stderr",
          "output_type": "stream",
          "text": [
            "\u001b[0;31mError: Error parsing Json pbp for game 2020020097 'period'\n",
            "\u001b[0m\u001b[0;33mWarning: Using espn for pbp\n",
            "\u001b[0m\u001b[0;31mError: Espn pbp for game 2021-02-22 CAR T.B is either not there or can't be obtained \n",
            "\u001b[0m"
          ]
        },
        {
          "metadata": {
            "tags": null
          },
          "name": "stdout",
          "output_type": "stream",
          "text": [
            "Scraping Game  2020020150 2021-02-22\n"
          ]
        },
        {
          "metadata": {
            "tags": null
          },
          "name": "stderr",
          "output_type": "stream",
          "text": [
            "\u001b[0;31mError: Error parsing Json pbp for game 2020020150 'period'\n",
            "\u001b[0m\u001b[0;33mWarning: Using espn for pbp\n",
            "\u001b[0m\u001b[0;31mError: Espn pbp for game 2021-02-22 NYI BUF is either not there or can't be obtained \n",
            "\u001b[0m"
          ]
        },
        {
          "metadata": {
            "tags": null
          },
          "name": "stdout",
          "output_type": "stream",
          "text": [
            "Scraping Game  2020020298 2021-02-22\n"
          ]
        },
        {
          "metadata": {
            "tags": null
          },
          "name": "stderr",
          "output_type": "stream",
          "text": [
            "\u001b[0;31mError: Error parsing Json pbp for game 2020020298 'period'\n",
            "\u001b[0m\u001b[0;33mWarning: Using espn for pbp\n",
            "\u001b[0m\u001b[0;31mError: Espn pbp for game 2021-02-22 TOR CGY is either not there or can't be obtained \n",
            "\u001b[0m"
          ]
        },
        {
          "metadata": {
            "tags": null
          },
          "name": "stdout",
          "output_type": "stream",
          "text": [
            "Scraping Game  2020020297 2021-02-22\n"
          ]
        },
        {
          "metadata": {
            "tags": null
          },
          "name": "stderr",
          "output_type": "stream",
          "text": [
            "\u001b[0;31mError: Error parsing Json pbp for game 2020020297 'period'\n",
            "\u001b[0m\u001b[0;33mWarning: Using espn for pbp\n",
            "\u001b[0m\u001b[0;31mError: Espn pbp for game 2021-02-22 STL L.A is either not there or can't be obtained \n",
            "\u001b[0m"
          ]
        },
        {
          "metadata": {
            "tags": null
          },
          "name": "stdout",
          "output_type": "stream",
          "text": [
            "Scraping Game  2020020299 2021-02-22\n"
          ]
        },
        {
          "metadata": {
            "tags": null
          },
          "name": "stderr",
          "output_type": "stream",
          "text": [
            "\u001b[0;31mError: Error parsing Json pbp for game 2020020299 'period'\n",
            "\u001b[0m\u001b[0;33mWarning: Using espn for pbp\n",
            "\u001b[0m\u001b[0;31mError: Espn pbp for game 2021-02-22 COL VGK is either not there or can't be obtained \n",
            "\u001b[0m"
          ]
        },
        {
          "metadata": {
            "tags": null
          },
          "name": "stdout",
          "output_type": "stream",
          "text": [
            "Scraping Game  2020020300 2021-02-22\n"
          ]
        },
        {
          "metadata": {
            "tags": null
          },
          "name": "stderr",
          "output_type": "stream",
          "text": [
            "\u001b[0;31mError: Error parsing Json pbp for game 2020020300 'period'\n",
            "\u001b[0m\u001b[0;33mWarning: Using espn for pbp\n",
            "\u001b[0m\u001b[0;31mError: Espn pbp for game 2021-02-22 ARI ANA is either not there or can't be obtained \n",
            "\u001b[0m"
          ]
        },
        {
          "metadata": {
            "tags": null
          },
          "name": "stdout",
          "output_type": "stream",
          "text": [
            "Scraping Game  2020020743 2021-02-22\n"
          ]
        },
        {
          "metadata": {
            "tags": null
          },
          "name": "stderr",
          "output_type": "stream",
          "text": [
            "\u001b[0;31mError: Error parsing Json pbp for game 2020020743 'period'\n",
            "\u001b[0m\u001b[0;33mWarning: Using espn for pbp\n",
            "\u001b[0m\u001b[0;31mError: Espn pbp for game 2021-02-22 S.J MIN is either not there or can't be obtained \n",
            "\u001b[0m"
          ]
        },
        {
          "metadata": {
            "tags": null
          },
          "name": "stdout",
          "output_type": "stream",
          "text": [
            "Scraping Game  2020020295 2021-02-23\n"
          ]
        },
        {
          "metadata": {
            "tags": null
          },
          "name": "stderr",
          "output_type": "stream",
          "text": [
            "\u001b[0;31mError: Error parsing Json pbp for game 2020020295 'period'\n",
            "\u001b[0m\u001b[0;33mWarning: Using espn for pbp\n",
            "\u001b[0m\u001b[0;31mError: Espn pbp for game 2021-02-23 N.J BUF is either not there or can't be obtained \n",
            "\u001b[0m"
          ]
        },
        {
          "metadata": {
            "tags": null
          },
          "name": "stdout",
          "output_type": "stream",
          "text": [
            "Scraping Game  2020020302 2021-02-23\n"
          ]
        },
        {
          "metadata": {
            "tags": null
          },
          "name": "stderr",
          "output_type": "stream",
          "text": [
            "\u001b[0;31mError: Error parsing Json pbp for game 2020020302 'period'\n",
            "\u001b[0m\u001b[0;33mWarning: Using espn for pbp\n",
            "\u001b[0m\u001b[0;31mError: Espn pbp for game 2021-02-23 WSH PIT is either not there or can't be obtained \n",
            "\u001b[0m"
          ]
        },
        {
          "metadata": {
            "tags": null
          },
          "name": "stdout",
          "output_type": "stream",
          "text": [
            "Scraping Game  2020020304 2021-02-23\n"
          ]
        },
        {
          "metadata": {
            "tags": null
          },
          "name": "stderr",
          "output_type": "stream",
          "text": [
            "\u001b[0;31mError: Error parsing Json pbp for game 2020020304 'period'\n",
            "\u001b[0m\u001b[0;33mWarning: Using espn for pbp\n",
            "\u001b[0m\u001b[0;31mError: Espn pbp for game 2021-02-23 CBJ CHI is either not there or can't be obtained \n",
            "\u001b[0m"
          ]
        },
        {
          "metadata": {
            "tags": null
          },
          "name": "stdout",
          "output_type": "stream",
          "text": [
            "Scraping Game  2020020306 2021-02-23\n"
          ]
        },
        {
          "metadata": {
            "tags": null
          },
          "name": "stderr",
          "output_type": "stream",
          "text": [
            "\u001b[0;31mError: Error parsing Json pbp for game 2020020306 'period'\n",
            "\u001b[0m\u001b[0;33mWarning: Using espn for pbp\n",
            "\u001b[0m\u001b[0;31mError: Espn pbp for game 2021-02-23 OTT MTL is either not there or can't be obtained \n",
            "\u001b[0m"
          ]
        },
        {
          "metadata": {
            "tags": null
          },
          "name": "stdout",
          "output_type": "stream",
          "text": [
            "Scraping Game  2020020305 2021-02-23\n"
          ]
        },
        {
          "metadata": {
            "tags": null
          },
          "name": "stderr",
          "output_type": "stream",
          "text": [
            "\u001b[0;31mError: Error parsing Json pbp for game 2020020305 'period'\n",
            "\u001b[0m\u001b[0;33mWarning: Using espn for pbp\n",
            "\u001b[0m\u001b[0;31mError: Espn pbp for game 2021-02-23 DET NSH is either not there or can't be obtained \n",
            "\u001b[0m"
          ]
        },
        {
          "metadata": {
            "tags": null
          },
          "name": "stdout",
          "output_type": "stream",
          "text": [
            "Scraping Game  2020020307 2021-02-23\n"
          ]
        },
        {
          "metadata": {
            "tags": null
          },
          "name": "stderr",
          "output_type": "stream",
          "text": [
            "\u001b[0;31mError: Error parsing Json pbp for game 2020020307 'period'\n",
            "\u001b[0m\u001b[0;33mWarning: Using espn for pbp\n",
            "\u001b[0m\u001b[0;31mError: Espn pbp for game 2021-02-23 VAN EDM is either not there or can't be obtained \n",
            "\u001b[0m"
          ]
        },
        {
          "metadata": {
            "tags": null
          },
          "name": "stdout",
          "output_type": "stream",
          "text": [
            "Scraping Game  2020020296 2021-02-24\n"
          ]
        },
        {
          "metadata": {
            "tags": null
          },
          "name": "stderr",
          "output_type": "stream",
          "text": [
            "\u001b[0;31mError: Error parsing Json pbp for game 2020020296 'period'\n",
            "\u001b[0m\u001b[0;33mWarning: Using espn for pbp\n",
            "\u001b[0m\u001b[0;31mError: Espn pbp for game 2021-02-24 T.B CAR is either not there or can't be obtained \n",
            "\u001b[0m"
          ]
        },
        {
          "metadata": {
            "tags": null
          },
          "name": "stdout",
          "output_type": "stream",
          "text": [
            "Scraping Game  2020020303 2021-02-24\n"
          ]
        },
        {
          "metadata": {
            "tags": null
          },
          "name": "stderr",
          "output_type": "stream",
          "text": [
            "\u001b[0;31mError: Error parsing Json pbp for game 2020020303 'period'\n",
            "\u001b[0m\u001b[0;33mWarning: Using espn for pbp\n",
            "\u001b[0m\u001b[0;31mError: Espn pbp for game 2021-02-24 FLA DAL is either not there or can't be obtained \n",
            "\u001b[0m"
          ]
        },
        {
          "metadata": {
            "tags": null
          },
          "name": "stdout",
          "output_type": "stream",
          "text": [
            "Scraping Game  2020020308 2021-02-24\n"
          ]
        },
        {
          "metadata": {
            "tags": null
          },
          "name": "stderr",
          "output_type": "stream",
          "text": [
            "\u001b[0;31mError: Error parsing Json pbp for game 2020020308 'period'\n",
            "\u001b[0m\u001b[0;33mWarning: Using espn for pbp\n",
            "\u001b[0m\u001b[0;31mError: Espn pbp for game 2021-02-24 PHI NYR is either not there or can't be obtained \n",
            "\u001b[0m"
          ]
        },
        {
          "metadata": {
            "tags": null
          },
          "name": "stdout",
          "output_type": "stream",
          "text": [
            "Scraping Game  2020020310 2021-02-24\n"
          ]
        },
        {
          "metadata": {
            "tags": null
          },
          "name": "stderr",
          "output_type": "stream",
          "text": [
            "\u001b[0;31mError: Error parsing Json pbp for game 2020020310 'period'\n",
            "\u001b[0m\u001b[0;33mWarning: Using espn for pbp\n",
            "\u001b[0m\u001b[0;31mError: Espn pbp for game 2021-02-24 TOR CGY is either not there or can't be obtained \n",
            "\u001b[0m"
          ]
        },
        {
          "metadata": {
            "tags": null
          },
          "name": "stdout",
          "output_type": "stream",
          "text": [
            "Scraping Game  2020020173 2021-02-24\n"
          ]
        },
        {
          "metadata": {
            "tags": null
          },
          "name": "stderr",
          "output_type": "stream",
          "text": [
            "\u001b[0;31mError: Error parsing Json pbp for game 2020020173 'period'\n",
            "\u001b[0m\u001b[0;33mWarning: Using espn for pbp\n",
            "\u001b[0m\u001b[0;31mError: Espn pbp for game 2021-02-24 COL MIN is either not there or can't be obtained \n",
            "\u001b[0m"
          ]
        },
        {
          "metadata": {
            "tags": null
          },
          "name": "stdout",
          "output_type": "stream",
          "text": [
            "Scraping Game  2020020311 2021-02-24\n"
          ]
        },
        {
          "metadata": {
            "tags": null
          },
          "name": "stderr",
          "output_type": "stream",
          "text": [
            "\u001b[0;31mError: Error parsing Json pbp for game 2020020311 'period'\n",
            "\u001b[0m\u001b[0;33mWarning: Using espn for pbp\n",
            "\u001b[0m\u001b[0;31mError: Espn pbp for game 2021-02-24 ARI ANA is either not there or can't be obtained \n",
            "\u001b[0m"
          ]
        },
        {
          "metadata": {
            "tags": null
          },
          "name": "stdout",
          "output_type": "stream",
          "text": [
            "Scraping Game  2020020309 2021-02-24\n"
          ]
        },
        {
          "metadata": {
            "tags": null
          },
          "name": "stderr",
          "output_type": "stream",
          "text": [
            "\u001b[0;31mError: Error parsing Json pbp for game 2020020309 'period'\n",
            "\u001b[0m\u001b[0;33mWarning: Using espn for pbp\n",
            "\u001b[0m\u001b[0;31mError: Espn pbp for game 2021-02-24 STL L.A is either not there or can't be obtained \n",
            "\u001b[0m"
          ]
        },
        {
          "metadata": {
            "tags": null
          },
          "name": "stdout",
          "output_type": "stream",
          "text": [
            "Scraping Game  2020020312 2021-02-25\n"
          ]
        },
        {
          "metadata": {
            "tags": null
          },
          "name": "stderr",
          "output_type": "stream",
          "text": [
            "\u001b[0;31mError: Error parsing Json pbp for game 2020020312 'period'\n",
            "\u001b[0m\u001b[0;33mWarning: Using espn for pbp\n",
            "\u001b[0m\u001b[0;31mError: Espn pbp for game 2021-02-25 NYI BOS is either not there or can't be obtained \n",
            "\u001b[0m"
          ]
        },
        {
          "metadata": {
            "tags": null
          },
          "name": "stdout",
          "output_type": "stream",
          "text": [
            "Scraping Game  2020020313 2021-02-25\n"
          ]
        },
        {
          "metadata": {
            "tags": null
          },
          "name": "stderr",
          "output_type": "stream",
          "text": [
            "\u001b[0;31mError: Error parsing Json pbp for game 2020020313 'period'\n",
            "\u001b[0m\u001b[0;33mWarning: Using espn for pbp\n",
            "\u001b[0m\u001b[0;31mError: Espn pbp for game 2021-02-25 WSH PIT is either not there or can't be obtained \n",
            "\u001b[0m"
          ]
        },
        {
          "metadata": {
            "tags": null
          },
          "name": "stdout",
          "output_type": "stream",
          "text": [
            "Scraping Game  2020020314 2021-02-25\n"
          ]
        },
        {
          "metadata": {
            "tags": null
          },
          "name": "stderr",
          "output_type": "stream",
          "text": [
            "\u001b[0;31mError: Error parsing Json pbp for game 2020020314 'period'\n",
            "\u001b[0m\u001b[0;33mWarning: Using espn for pbp\n",
            "\u001b[0m\u001b[0;31mError: Espn pbp for game 2021-02-25 T.B CAR is either not there or can't be obtained \n",
            "\u001b[0m"
          ]
        },
        {
          "metadata": {
            "tags": null
          },
          "name": "stdout",
          "output_type": "stream",
          "text": [
            "Scraping Game  2020020315 2021-02-25\n"
          ]
        },
        {
          "metadata": {
            "tags": null
          },
          "name": "stderr",
          "output_type": "stream",
          "text": [
            "\u001b[0;31mError: Error parsing Json pbp for game 2020020315 'period'\n",
            "\u001b[0m\u001b[0;33mWarning: Using espn for pbp\n",
            "\u001b[0m\u001b[0;31mError: Espn pbp for game 2021-02-25 FLA DAL is either not there or can't be obtained \n",
            "\u001b[0m"
          ]
        },
        {
          "metadata": {
            "tags": null
          },
          "name": "stdout",
          "output_type": "stream",
          "text": [
            "Scraping Game  2020020316 2021-02-25\n"
          ]
        },
        {
          "metadata": {
            "tags": null
          },
          "name": "stderr",
          "output_type": "stream",
          "text": [
            "\u001b[0;31mError: Error parsing Json pbp for game 2020020316 'period'\n",
            "\u001b[0m\u001b[0;33mWarning: Using espn for pbp\n",
            "\u001b[0m\u001b[0;31mError: Espn pbp for game 2021-02-25 CBJ CHI is either not there or can't be obtained \n",
            "\u001b[0m"
          ]
        },
        {
          "metadata": {
            "tags": null
          },
          "name": "stdout",
          "output_type": "stream",
          "text": [
            "Scraping Game  2020020318 2021-02-25\n"
          ]
        },
        {
          "metadata": {
            "tags": null
          },
          "name": "stderr",
          "output_type": "stream",
          "text": [
            "\u001b[0;31mError: Error parsing Json pbp for game 2020020318 'period'\n",
            "\u001b[0m\u001b[0;33mWarning: Using espn for pbp\n",
            "\u001b[0m\u001b[0;31mError: Espn pbp for game 2021-02-25 OTT CGY is either not there or can't be obtained \n",
            "\u001b[0m"
          ]
        },
        {
          "metadata": {
            "tags": null
          },
          "name": "stdout",
          "output_type": "stream",
          "text": [
            "Scraping Game  2020020635 2021-02-25\n"
          ]
        },
        {
          "metadata": {
            "tags": null
          },
          "name": "stderr",
          "output_type": "stream",
          "text": [
            "\u001b[0;31mError: Error parsing Json pbp for game 2020020635 'period'\n",
            "\u001b[0m\u001b[0;33mWarning: Using espn for pbp\n",
            "\u001b[0m\u001b[0;31mError: Espn pbp for game 2021-02-25 BUF N.J is either not there or can't be obtained \n",
            "\u001b[0m"
          ]
        },
        {
          "metadata": {
            "tags": null
          },
          "name": "stdout",
          "output_type": "stream",
          "text": [
            "Scraping Game  2020020317 2021-02-25\n"
          ]
        },
        {
          "metadata": {
            "tags": null
          },
          "name": "stderr",
          "output_type": "stream",
          "text": [
            "\u001b[0;31mError: Error parsing Json pbp for game 2020020317 'period'\n",
            "\u001b[0m\u001b[0;33mWarning: Using espn for pbp\n",
            "\u001b[0m\u001b[0;31mError: Espn pbp for game 2021-02-25 DET NSH is either not there or can't be obtained \n",
            "\u001b[0m"
          ]
        },
        {
          "metadata": {
            "tags": null
          },
          "name": "stdout",
          "output_type": "stream",
          "text": [
            "Scraping Game  2020020319 2021-02-25\n"
          ]
        },
        {
          "metadata": {
            "tags": null
          },
          "name": "stderr",
          "output_type": "stream",
          "text": [
            "\u001b[0;31mError: Error parsing Json pbp for game 2020020319 'period'\n",
            "\u001b[0m\u001b[0;33mWarning: Using espn for pbp\n",
            "\u001b[0m\u001b[0;31mError: Espn pbp for game 2021-02-25 WPG MTL is either not there or can't be obtained \n",
            "\u001b[0m"
          ]
        },
        {
          "metadata": {
            "tags": null
          },
          "name": "stdout",
          "output_type": "stream",
          "text": [
            "Scraping Game  2020020320 2021-02-25\n"
          ]
        },
        {
          "metadata": {
            "tags": null
          },
          "name": "stderr",
          "output_type": "stream",
          "text": [
            "\u001b[0;31mError: Error parsing Json pbp for game 2020020320 'period'\n",
            "\u001b[0m\u001b[0;33mWarning: Using espn for pbp\n",
            "\u001b[0m\u001b[0;31mError: Espn pbp for game 2021-02-25 VAN EDM is either not there or can't be obtained \n",
            "\u001b[0m"
          ]
        },
        {
          "metadata": {
            "tags": null
          },
          "name": "stdout",
          "output_type": "stream",
          "text": [
            "Scraping Game  2020020323 2021-02-26\n"
          ]
        },
        {
          "metadata": {
            "tags": null
          },
          "name": "stderr",
          "output_type": "stream",
          "text": [
            "\u001b[0;31mError: Error parsing Json pbp for game 2020020323 'period'\n",
            "\u001b[0m\u001b[0;33mWarning: Using espn for pbp\n",
            "\u001b[0m\u001b[0;31mError: Espn pbp for game 2021-02-26 NYR BOS is either not there or can't be obtained \n",
            "\u001b[0m"
          ]
        },
        {
          "metadata": {
            "tags": null
          },
          "name": "stdout",
          "output_type": "stream",
          "text": [
            "Scraping Game  2020020324 2021-02-26\n"
          ]
        },
        {
          "metadata": {
            "tags": null
          },
          "name": "stderr",
          "output_type": "stream",
          "text": [
            "\u001b[0;31mError: Error parsing Json pbp for game 2020020324 'period'\n",
            "\u001b[0m\u001b[0;33mWarning: Using espn for pbp\n",
            "\u001b[0m\u001b[0;31mError: Espn pbp for game 2021-02-26 MIN L.A is either not there or can't be obtained \n",
            "\u001b[0m"
          ]
        },
        {
          "metadata": {
            "tags": null
          },
          "name": "stdout",
          "output_type": "stream",
          "text": [
            "Scraping Game  2020020321 2021-02-26\n"
          ]
        },
        {
          "metadata": {
            "tags": null
          },
          "name": "stderr",
          "output_type": "stream",
          "text": [
            "\u001b[0;31mError: Error parsing Json pbp for game 2020020321 'period'\n",
            "\u001b[0m\u001b[0;33mWarning: Using espn for pbp\n",
            "\u001b[0m\u001b[0;31mError: Espn pbp for game 2021-02-26 ARI COL is either not there or can't be obtained \n",
            "\u001b[0m"
          ]
        },
        {
          "metadata": {
            "tags": null
          },
          "name": "stdout",
          "output_type": "stream",
          "text": [
            "Scraping Game  2020020322 2021-02-27\n"
          ]
        },
        {
          "metadata": {
            "tags": null
          },
          "name": "stderr",
          "output_type": "stream",
          "text": [
            "\u001b[0;31mError: Error parsing Json pbp for game 2020020322 'period'\n",
            "\u001b[0m\u001b[0;33mWarning: Using espn for pbp\n",
            "\u001b[0m\u001b[0;31mError: Espn pbp for game 2021-02-27 BUF PHI is either not there or can't be obtained \n",
            "\u001b[0m"
          ]
        },
        {
          "metadata": {
            "tags": null
          },
          "name": "stdout",
          "output_type": "stream",
          "text": [
            "Scraping Game  2020020327 2021-02-27\n"
          ]
        },
        {
          "metadata": {
            "tags": null
          },
          "name": "stderr",
          "output_type": "stream",
          "text": [
            "\u001b[0;31mError: Error parsing Json pbp for game 2020020327 'period'\n",
            "\u001b[0m\u001b[0;33mWarning: Using espn for pbp\n",
            "\u001b[0m\u001b[0;31mError: Espn pbp for game 2021-02-27 N.J WSH is either not there or can't be obtained \n",
            "\u001b[0m"
          ]
        },
        {
          "metadata": {
            "tags": null
          },
          "name": "stdout",
          "output_type": "stream",
          "text": [
            "Scraping Game  2020020333 2021-02-27\n"
          ]
        },
        {
          "metadata": {
            "tags": null
          },
          "name": "stderr",
          "output_type": "stream",
          "text": [
            "\u001b[0;31mError: Error parsing Json pbp for game 2020020333 'period'\n",
            "\u001b[0m\u001b[0;33mWarning: Using espn for pbp\n",
            "\u001b[0m\u001b[0;31mError: Espn pbp for game 2021-02-27 OTT CGY is either not there or can't be obtained \n",
            "\u001b[0m"
          ]
        },
        {
          "metadata": {
            "tags": null
          },
          "name": "stdout",
          "output_type": "stream",
          "text": [
            "Scraping Game  2020020332 2021-02-27\n"
          ]
        },
        {
          "metadata": {
            "tags": null
          },
          "name": "stderr",
          "output_type": "stream",
          "text": [
            "\u001b[0;31mError: Error parsing Json pbp for game 2020020332 'period'\n",
            "\u001b[0m\u001b[0;33mWarning: Using espn for pbp\n",
            "\u001b[0m\u001b[0;31mError: Espn pbp for game 2021-02-27 NSH CBJ is either not there or can't be obtained \n",
            "\u001b[0m"
          ]
        },
        {
          "metadata": {
            "tags": null
          },
          "name": "stdout",
          "output_type": "stream",
          "text": [
            "Scraping Game  2020020328 2021-02-27\n"
          ]
        },
        {
          "metadata": {
            "tags": null
          },
          "name": "stderr",
          "output_type": "stream",
          "text": [
            "\u001b[0;31mError: Error parsing Json pbp for game 2020020328 'period'\n",
            "\u001b[0m\u001b[0;33mWarning: Using espn for pbp\n",
            "\u001b[0m\u001b[0;31mError: Espn pbp for game 2021-02-27 NYI PIT is either not there or can't be obtained \n",
            "\u001b[0m"
          ]
        },
        {
          "metadata": {
            "tags": null
          },
          "name": "stdout",
          "output_type": "stream",
          "text": [
            "Scraping Game  2020020329 2021-02-27\n"
          ]
        },
        {
          "metadata": {
            "tags": null
          },
          "name": "stderr",
          "output_type": "stream",
          "text": [
            "\u001b[0;31mError: Error parsing Json pbp for game 2020020329 'period'\n",
            "\u001b[0m\u001b[0;33mWarning: Using espn for pbp\n",
            "\u001b[0m\u001b[0;31mError: Espn pbp for game 2021-02-27 T.B DAL is either not there or can't be obtained \n",
            "\u001b[0m"
          ]
        },
        {
          "metadata": {
            "tags": null
          },
          "name": "stdout",
          "output_type": "stream",
          "text": [
            "Scraping Game  2020020330 2021-02-27\n"
          ]
        },
        {
          "metadata": {
            "tags": null
          },
          "name": "stderr",
          "output_type": "stream",
          "text": [
            "\u001b[0;31mError: Error parsing Json pbp for game 2020020330 'period'\n",
            "\u001b[0m\u001b[0;33mWarning: Using espn for pbp\n",
            "\u001b[0m\u001b[0;31mError: Espn pbp for game 2021-02-27 FLA CAR is either not there or can't be obtained \n",
            "\u001b[0m"
          ]
        },
        {
          "metadata": {
            "tags": null
          },
          "name": "stdout",
          "output_type": "stream",
          "text": [
            "Scraping Game  2020020335 2021-02-27\n"
          ]
        },
        {
          "metadata": {
            "tags": null
          },
          "name": "stderr",
          "output_type": "stream",
          "text": [
            "\u001b[0;31mError: Error parsing Json pbp for game 2020020335 'period'\n",
            "\u001b[0m\u001b[0;33mWarning: Using espn for pbp\n",
            "\u001b[0m\u001b[0;31mError: Espn pbp for game 2021-02-27 EDM TOR is either not there or can't be obtained \n",
            "\u001b[0m"
          ]
        },
        {
          "metadata": {
            "tags": null
          },
          "name": "stdout",
          "output_type": "stream",
          "text": [
            "Scraping Game  2020020331 2021-02-27\n"
          ]
        },
        {
          "metadata": {
            "tags": null
          },
          "name": "stderr",
          "output_type": "stream",
          "text": [
            "\u001b[0;31mError: Error parsing Json pbp for game 2020020331 'period'\n",
            "\u001b[0m\u001b[0;33mWarning: Using espn for pbp\n",
            "\u001b[0m\u001b[0;31mError: Espn pbp for game 2021-02-27 CHI DET is either not there or can't be obtained \n",
            "\u001b[0m"
          ]
        },
        {
          "metadata": {
            "tags": null
          },
          "name": "stdout",
          "output_type": "stream",
          "text": [
            "Scraping Game  2020020336 2021-02-27\n"
          ]
        },
        {
          "metadata": {
            "tags": null
          },
          "name": "stderr",
          "output_type": "stream",
          "text": [
            "\u001b[0;31mError: Error parsing Json pbp for game 2020020336 'period'\n",
            "\u001b[0m\u001b[0;33mWarning: Using espn for pbp\n",
            "\u001b[0m\u001b[0;31mError: Espn pbp for game 2021-02-27 MIN L.A is either not there or can't be obtained \n",
            "\u001b[0m"
          ]
        },
        {
          "metadata": {
            "tags": null
          },
          "name": "stdout",
          "output_type": "stream",
          "text": [
            "Scraping Game  2020020337 2021-02-27\n"
          ]
        },
        {
          "metadata": {
            "tags": null
          },
          "name": "stderr",
          "output_type": "stream",
          "text": [
            "\u001b[0;31mError: Error parsing Json pbp for game 2020020337 'period'\n",
            "\u001b[0m\u001b[0;33mWarning: Using espn for pbp\n",
            "\u001b[0m\u001b[0;31mError: Espn pbp for game 2021-02-27 ARI COL is either not there or can't be obtained \n",
            "\u001b[0m"
          ]
        },
        {
          "metadata": {
            "tags": null
          },
          "name": "stdout",
          "output_type": "stream",
          "text": [
            "Scraping Game  2020020334 2021-02-27\n"
          ]
        },
        {
          "metadata": {
            "tags": null
          },
          "name": "stderr",
          "output_type": "stream",
          "text": [
            "\u001b[0;31mError: Error parsing Json pbp for game 2020020334 'period'\n",
            "\u001b[0m\u001b[0;33mWarning: Using espn for pbp\n",
            "\u001b[0m\u001b[0;31mError: Espn pbp for game 2021-02-27 WPG MTL is either not there or can't be obtained \n",
            "\u001b[0m"
          ]
        },
        {
          "metadata": {
            "tags": null
          },
          "name": "stdout",
          "output_type": "stream",
          "text": [
            "Scraping Game  2020020338 2021-02-27\n"
          ]
        },
        {
          "metadata": {
            "tags": null
          },
          "name": "stderr",
          "output_type": "stream",
          "text": [
            "\u001b[0;31mError: Error parsing Json pbp for game 2020020338 'period'\n",
            "\u001b[0m\u001b[0;33mWarning: Using espn for pbp\n",
            "\u001b[0m\u001b[0;31mError: Espn pbp for game 2021-02-27 ANA VGK is either not there or can't be obtained \n",
            "\u001b[0m"
          ]
        },
        {
          "metadata": {
            "tags": null
          },
          "name": "stdout",
          "output_type": "stream",
          "text": [
            "Scraping Game  2020020339 2021-02-27\n"
          ]
        },
        {
          "metadata": {
            "tags": null
          },
          "name": "stderr",
          "output_type": "stream",
          "text": [
            "\u001b[0;31mError: Error parsing Json pbp for game 2020020339 'period'\n",
            "\u001b[0m\u001b[0;33mWarning: Using espn for pbp\n",
            "\u001b[0m\u001b[0;31mError: Espn pbp for game 2021-02-27 S.J STL is either not there or can't be obtained \n",
            "\u001b[0m"
          ]
        },
        {
          "metadata": {
            "tags": null
          },
          "name": "stdout",
          "output_type": "stream",
          "text": [
            "Scraping Game  2020020342 2021-02-28\n"
          ]
        },
        {
          "metadata": {
            "tags": null
          },
          "name": "stderr",
          "output_type": "stream",
          "text": [
            "\u001b[0;31mError: Error parsing Json pbp for game 2020020342 'period'\n",
            "\u001b[0m\u001b[0;33mWarning: Using espn for pbp\n",
            "\u001b[0m\u001b[0;31mError: Espn pbp for game 2021-02-28 NYR BOS is either not there or can't be obtained \n",
            "\u001b[0m"
          ]
        },
        {
          "metadata": {
            "tags": null
          },
          "name": "stdout",
          "output_type": "stream",
          "text": [
            "Scraping Game  2020020340 2021-02-28\n"
          ]
        },
        {
          "metadata": {
            "tags": null
          },
          "name": "stderr",
          "output_type": "stream",
          "text": [
            "\u001b[0;31mError: Error parsing Json pbp for game 2020020340 'period'\n",
            "\u001b[0m\u001b[0;33mWarning: Using espn for pbp\n",
            "\u001b[0m\u001b[0;31mError: Espn pbp for game 2021-02-28 BUF PHI is either not there or can't be obtained \n",
            "\u001b[0m"
          ]
        },
        {
          "metadata": {
            "tags": null
          },
          "name": "stdout",
          "output_type": "stream",
          "text": [
            "Scraping Game  2020020344 2021-02-28\n"
          ]
        },
        {
          "metadata": {
            "tags": null
          },
          "name": "stderr",
          "output_type": "stream",
          "text": [
            "\u001b[0;31mError: Error parsing Json pbp for game 2020020344 'period'\n",
            "\u001b[0m\u001b[0;33mWarning: Using espn for pbp\n",
            "\u001b[0m\u001b[0;31mError: Espn pbp for game 2021-02-28 NSH CBJ is either not there or can't be obtained \n",
            "\u001b[0m"
          ]
        },
        {
          "metadata": {
            "tags": null
          },
          "name": "stdout",
          "output_type": "stream",
          "text": [
            "Scraping Game  2020020346 2021-02-28\n"
          ]
        },
        {
          "metadata": {
            "tags": null
          },
          "name": "stderr",
          "output_type": "stream",
          "text": [
            "\u001b[0;31mError: Error parsing Json pbp for game 2020020346 'period'\n",
            "\u001b[0m\u001b[0;33mWarning: Using espn for pbp\n",
            "\u001b[0m\u001b[0;31mError: Espn pbp for game 2021-02-28 N.J WSH is either not there or can't be obtained \n",
            "\u001b[0m"
          ]
        },
        {
          "metadata": {
            "tags": null
          },
          "name": "stdout",
          "output_type": "stream",
          "text": [
            "Scraping Game  2020020341 2021-02-28\n"
          ]
        },
        {
          "metadata": {
            "tags": null
          },
          "name": "stderr",
          "output_type": "stream",
          "text": [
            "\u001b[0;31mError: Error parsing Json pbp for game 2020020341 'period'\n",
            "\u001b[0m\u001b[0;33mWarning: Using espn for pbp\n",
            "\u001b[0m\u001b[0;31mError: Espn pbp for game 2021-02-28 NYI PIT is either not there or can't be obtained \n",
            "\u001b[0m"
          ]
        },
        {
          "metadata": {
            "tags": null
          },
          "name": "stdout",
          "output_type": "stream",
          "text": [
            "Scraping Game  2020020343 2021-02-28\n"
          ]
        },
        {
          "metadata": {
            "tags": null
          },
          "name": "stderr",
          "output_type": "stream",
          "text": [
            "\u001b[0;31mError: Error parsing Json pbp for game 2020020343 'period'\n",
            "\u001b[0m\u001b[0;33mWarning: Using espn for pbp\n",
            "\u001b[0m\u001b[0;31mError: Espn pbp for game 2021-02-28 CHI DET is either not there or can't be obtained \n",
            "\u001b[0m"
          ]
        },
        {
          "metadata": {
            "tags": null
          },
          "name": "stdout",
          "output_type": "stream",
          "text": [
            "Scraping Game  2020020348 2021-03-01\n"
          ]
        },
        {
          "metadata": {
            "tags": null
          },
          "name": "stderr",
          "output_type": "stream",
          "text": [
            "\u001b[0;31mError: Error parsing Json pbp for game 2020020348 'period'\n",
            "\u001b[0m\u001b[0;33mWarning: Using espn for pbp\n",
            "\u001b[0m\u001b[0;31mError: Espn pbp for game 2021-03-01 FLA CAR is either not there or can't be obtained \n",
            "\u001b[0m"
          ]
        },
        {
          "metadata": {
            "tags": null
          },
          "name": "stdout",
          "output_type": "stream",
          "text": [
            "Scraping Game  2020020349 2021-03-01\n"
          ]
        },
        {
          "metadata": {
            "tags": null
          },
          "name": "stderr",
          "output_type": "stream",
          "text": [
            "\u001b[0;31mError: Error parsing Json pbp for game 2020020349 'period'\n",
            "\u001b[0m\u001b[0;33mWarning: Using espn for pbp\n",
            "\u001b[0m\u001b[0;31mError: Espn pbp for game 2021-03-01 OTT CGY is either not there or can't be obtained \n",
            "\u001b[0m"
          ]
        },
        {
          "metadata": {
            "tags": null
          },
          "name": "stdout",
          "output_type": "stream",
          "text": [
            "Scraping Game  2020020345 2021-03-01\n"
          ]
        },
        {
          "metadata": {
            "tags": null
          },
          "name": "stderr",
          "output_type": "stream",
          "text": [
            "\u001b[0;31mError: Error parsing Json pbp for game 2020020345 'period'\n",
            "\u001b[0m\u001b[0;33mWarning: Using espn for pbp\n",
            "\u001b[0m\u001b[0;31mError: Espn pbp for game 2021-03-01 WPG VAN is either not there or can't be obtained \n",
            "\u001b[0m"
          ]
        },
        {
          "metadata": {
            "tags": null
          },
          "name": "stdout",
          "output_type": "stream",
          "text": [
            "Scraping Game  2020020350 2021-03-01\n"
          ]
        },
        {
          "metadata": {
            "tags": null
          },
          "name": "stderr",
          "output_type": "stream",
          "text": [
            "\u001b[0;31mError: Error parsing Json pbp for game 2020020350 'period'\n",
            "\u001b[0m\u001b[0;33mWarning: Using espn for pbp\n",
            "\u001b[0m\u001b[0;31mError: Espn pbp for game 2021-03-01 EDM TOR is either not there or can't be obtained \n",
            "\u001b[0m"
          ]
        },
        {
          "metadata": {
            "tags": null
          },
          "name": "stdout",
          "output_type": "stream",
          "text": [
            "Scraping Game  2020020351 2021-03-01\n"
          ]
        },
        {
          "metadata": {
            "tags": null
          },
          "name": "stderr",
          "output_type": "stream",
          "text": [
            "\u001b[0;31mError: Error parsing Json pbp for game 2020020351 'period'\n",
            "\u001b[0m\u001b[0;33mWarning: Using espn for pbp\n",
            "\u001b[0m\u001b[0;31mError: Espn pbp for game 2021-03-01 VGK MIN is either not there or can't be obtained \n",
            "\u001b[0m"
          ]
        },
        {
          "metadata": {
            "tags": null
          },
          "name": "stdout",
          "output_type": "stream",
          "text": [
            "Scraping Game  2020020352 2021-03-01\n"
          ]
        },
        {
          "metadata": {
            "tags": null
          },
          "name": "stderr",
          "output_type": "stream",
          "text": [
            "\u001b[0;31mError: Error parsing Json pbp for game 2020020352 'period'\n",
            "\u001b[0m\u001b[0;33mWarning: Using espn for pbp\n",
            "\u001b[0m\u001b[0;31mError: Espn pbp for game 2021-03-01 ANA STL is either not there or can't be obtained \n",
            "\u001b[0m"
          ]
        },
        {
          "metadata": {
            "tags": null
          },
          "name": "stdout",
          "output_type": "stream",
          "text": [
            "Scraping Game  2020020353 2021-03-01\n"
          ]
        },
        {
          "metadata": {
            "tags": null
          },
          "name": "stderr",
          "output_type": "stream",
          "text": [
            "\u001b[0;31mError: Error parsing Json pbp for game 2020020353 'period'\n",
            "\u001b[0m\u001b[0;33mWarning: Using espn for pbp\n",
            "\u001b[0m\u001b[0;31mError: Espn pbp for game 2021-03-01 S.J COL is either not there or can't be obtained \n",
            "\u001b[0m"
          ]
        },
        {
          "metadata": {
            "tags": null
          },
          "name": "stdout",
          "output_type": "stream",
          "text": [
            "Scraping Game  2020020301 2021-03-02\n"
          ]
        },
        {
          "metadata": {
            "tags": null
          },
          "name": "stderr",
          "output_type": "stream",
          "text": [
            "\u001b[0;31mError: Error parsing Json pbp for game 2020020301 'period'\n",
            "\u001b[0m\u001b[0;33mWarning: Using espn for pbp\n",
            "\u001b[0m\u001b[0;31mError: Espn pbp for game 2021-03-02 N.J NYI is either not there or can't be obtained \n",
            "\u001b[0m"
          ]
        },
        {
          "metadata": {
            "tags": null
          },
          "name": "stdout",
          "output_type": "stream",
          "text": [
            "Scraping Game  2020020354 2021-03-02\n"
          ]
        },
        {
          "metadata": {
            "tags": null
          },
          "name": "stderr",
          "output_type": "stream",
          "text": [
            "\u001b[0;31mError: Error parsing Json pbp for game 2020020354 'period'\n",
            "\u001b[0m\u001b[0;33mWarning: Using espn for pbp\n",
            "\u001b[0m\u001b[0;31mError: Espn pbp for game 2021-03-02 NYR BUF is either not there or can't be obtained \n",
            "\u001b[0m"
          ]
        },
        {
          "metadata": {
            "tags": null
          },
          "name": "stdout",
          "output_type": "stream",
          "text": [
            "Scraping Game  2020020355 2021-03-02\n"
          ]
        },
        {
          "metadata": {
            "tags": null
          },
          "name": "stderr",
          "output_type": "stream",
          "text": [
            "\u001b[0;31mError: Error parsing Json pbp for game 2020020355 'period'\n",
            "\u001b[0m\u001b[0;33mWarning: Using espn for pbp\n",
            "\u001b[0m\u001b[0;31mError: Espn pbp for game 2021-03-02 PIT PHI is either not there or can't be obtained \n",
            "\u001b[0m"
          ]
        },
        {
          "metadata": {
            "tags": null
          },
          "name": "stdout",
          "output_type": "stream",
          "text": [
            "Scraping Game  2020020356 2021-03-02\n"
          ]
        },
        {
          "metadata": {
            "tags": null
          },
          "name": "stderr",
          "output_type": "stream",
          "text": [
            "\u001b[0;31mError: Error parsing Json pbp for game 2020020356 'period'\n",
            "\u001b[0m\u001b[0;33mWarning: Using espn for pbp\n",
            "\u001b[0m\u001b[0;31mError: Espn pbp for game 2021-03-02 CBJ DET is either not there or can't be obtained \n",
            "\u001b[0m"
          ]
        },
        {
          "metadata": {
            "tags": null
          },
          "name": "stdout",
          "output_type": "stream",
          "text": [
            "Scraping Game  2020020357 2021-03-02\n"
          ]
        },
        {
          "metadata": {
            "tags": null
          },
          "name": "stderr",
          "output_type": "stream",
          "text": [
            "\u001b[0;31mError: Error parsing Json pbp for game 2020020357 'period'\n",
            "\u001b[0m\u001b[0;33mWarning: Using espn for pbp\n",
            "\u001b[0m\u001b[0;31mError: Espn pbp for game 2021-03-02 MTL OTT is either not there or can't be obtained \n",
            "\u001b[0m"
          ]
        },
        {
          "metadata": {
            "tags": null
          },
          "name": "stdout",
          "output_type": "stream",
          "text": [
            "Scraping Game  2020020052 2021-03-02\n"
          ]
        },
        {
          "metadata": {
            "tags": null
          },
          "name": "stderr",
          "output_type": "stream",
          "text": [
            "\u001b[0;31mError: Error parsing Json pbp for game 2020020052 'period'\n",
            "\u001b[0m\u001b[0;33mWarning: Using espn for pbp\n",
            "\u001b[0m\u001b[0;31mError: Espn pbp for game 2021-03-02 NSH CAR is either not there or can't be obtained \n",
            "\u001b[0m"
          ]
        },
        {
          "metadata": {
            "tags": null
          },
          "name": "stdout",
          "output_type": "stream",
          "text": [
            "Scraping Game  2020020358 2021-03-02\n"
          ]
        },
        {
          "metadata": {
            "tags": null
          },
          "name": "stderr",
          "output_type": "stream",
          "text": [
            "\u001b[0;31mError: Error parsing Json pbp for game 2020020358 'period'\n",
            "\u001b[0m\u001b[0;33mWarning: Using espn for pbp\n",
            "\u001b[0m\u001b[0;31mError: Espn pbp for game 2021-03-02 WPG VAN is either not there or can't be obtained \n",
            "\u001b[0m"
          ]
        },
        {
          "metadata": {
            "tags": null
          },
          "name": "stdout",
          "output_type": "stream",
          "text": [
            "Scraping Game  2020020271 2021-03-02\n"
          ]
        },
        {
          "metadata": {
            "tags": null
          },
          "name": "stderr",
          "output_type": "stream",
          "text": [
            "\u001b[0;31mError: Error parsing Json pbp for game 2020020271 'period'\n",
            "\u001b[0m\u001b[0;33mWarning: Using espn for pbp\n",
            "\u001b[0m\u001b[0;31mError: Espn pbp for game 2021-03-02 DAL T.B is either not there or can't be obtained \n",
            "\u001b[0m"
          ]
        },
        {
          "metadata": {
            "tags": null
          },
          "name": "stdout",
          "output_type": "stream",
          "text": [
            "Scraping Game  2020020359 2021-03-03\n"
          ]
        },
        {
          "metadata": {
            "tags": null
          },
          "name": "stderr",
          "output_type": "stream",
          "text": [
            "\u001b[0;31mError: Error parsing Json pbp for game 2020020359 'period'\n",
            "\u001b[0m\u001b[0;33mWarning: Using espn for pbp\n",
            "\u001b[0m\u001b[0;31mError: Espn pbp for game 2021-03-03 BOS WSH is either not there or can't be obtained \n",
            "\u001b[0m"
          ]
        },
        {
          "metadata": {
            "tags": null
          },
          "name": "stdout",
          "output_type": "stream",
          "text": [
            "Scraping Game  2020020360 2021-03-03\n"
          ]
        },
        {
          "metadata": {
            "tags": null
          },
          "name": "stderr",
          "output_type": "stream",
          "text": [
            "\u001b[0;31mError: Error parsing Json pbp for game 2020020360 'period'\n",
            "\u001b[0m\u001b[0;33mWarning: Using espn for pbp\n",
            "\u001b[0m\u001b[0;31mError: Espn pbp for game 2021-03-03 EDM TOR is either not there or can't be obtained \n",
            "\u001b[0m"
          ]
        },
        {
          "metadata": {
            "tags": null
          },
          "name": "stdout",
          "output_type": "stream",
          "text": [
            "Scraping Game  2020020362 2021-03-03\n"
          ]
        },
        {
          "metadata": {
            "tags": null
          },
          "name": "stderr",
          "output_type": "stream",
          "text": [
            "\u001b[0;31mError: Error parsing Json pbp for game 2020020362 'period'\n",
            "\u001b[0m\u001b[0;33mWarning: Using espn for pbp\n",
            "\u001b[0m\u001b[0;31mError: Espn pbp for game 2021-03-03 ANA STL is either not there or can't be obtained \n",
            "\u001b[0m"
          ]
        },
        {
          "metadata": {
            "tags": null
          },
          "name": "stdout",
          "output_type": "stream",
          "text": [
            "Scraping Game  2020020361 2021-03-03\n"
          ]
        },
        {
          "metadata": {
            "tags": null
          },
          "name": "stderr",
          "output_type": "stream",
          "text": [
            "\u001b[0;31mError: Error parsing Json pbp for game 2020020361 'period'\n",
            "\u001b[0m\u001b[0;33mWarning: Using espn for pbp\n",
            "\u001b[0m\u001b[0;31mError: Espn pbp for game 2021-03-03 VGK MIN is either not there or can't be obtained \n",
            "\u001b[0m"
          ]
        },
        {
          "metadata": {
            "tags": null
          },
          "name": "stdout",
          "output_type": "stream",
          "text": [
            "Scraping Game  2020020742 2021-03-03\n"
          ]
        },
        {
          "metadata": {
            "tags": null
          },
          "name": "stderr",
          "output_type": "stream",
          "text": [
            "\u001b[0;31mError: Error parsing Json pbp for game 2020020742 'period'\n",
            "\u001b[0m\u001b[0;33mWarning: Using espn for pbp\n",
            "\u001b[0m\u001b[0;31mError: Espn pbp for game 2021-03-03 L.A ARI is either not there or can't be obtained \n",
            "\u001b[0m"
          ]
        },
        {
          "metadata": {
            "tags": null
          },
          "name": "stdout",
          "output_type": "stream",
          "text": [
            "Scraping Game  2020020363 2021-03-03\n"
          ]
        },
        {
          "metadata": {
            "tags": null
          },
          "name": "stderr",
          "output_type": "stream",
          "text": [
            "\u001b[0;31mError: Error parsing Json pbp for game 2020020363 'period'\n",
            "\u001b[0m\u001b[0;33mWarning: Using espn for pbp\n",
            "\u001b[0m\u001b[0;31mError: Espn pbp for game 2021-03-03 S.J COL is either not there or can't be obtained \n",
            "\u001b[0m"
          ]
        },
        {
          "metadata": {
            "tags": null
          },
          "name": "stdout",
          "output_type": "stream",
          "text": [
            "Scraping Game  2020020163 2021-03-04\n"
          ]
        },
        {
          "metadata": {
            "tags": null
          },
          "name": "stderr",
          "output_type": "stream",
          "text": [
            "\u001b[0;31mError: Error parsing Json pbp for game 2020020163 'period'\n",
            "\u001b[0m\u001b[0;33mWarning: Using espn for pbp\n",
            "\u001b[0m\u001b[0;31mError: Espn pbp for game 2021-03-04 NYI BUF is either not there or can't be obtained \n",
            "\u001b[0m"
          ]
        },
        {
          "metadata": {
            "tags": null
          },
          "name": "stdout",
          "output_type": "stream",
          "text": [
            "Scraping Game  2020020180 2021-03-04\n"
          ]
        },
        {
          "metadata": {
            "tags": null
          },
          "name": "stderr",
          "output_type": "stream",
          "text": [
            "\u001b[0;31mError: Error parsing Json pbp for game 2020020180 'period'\n",
            "\u001b[0m\u001b[0;33mWarning: Using espn for pbp\n",
            "\u001b[0m\u001b[0;31mError: Espn pbp for game 2021-03-04 N.J NYR is either not there or can't be obtained \n",
            "\u001b[0m"
          ]
        },
        {
          "metadata": {
            "tags": null
          },
          "name": "stdout",
          "output_type": "stream",
          "text": [
            "Scraping Game  2020020365 2021-03-04\n"
          ]
        },
        {
          "metadata": {
            "tags": null
          },
          "name": "stderr",
          "output_type": "stream",
          "text": [
            "\u001b[0;31mError: Error parsing Json pbp for game 2020020365 'period'\n",
            "\u001b[0m\u001b[0;33mWarning: Using espn for pbp\n",
            "\u001b[0m\u001b[0;31mError: Espn pbp for game 2021-03-04 CAR DET is either not there or can't be obtained \n",
            "\u001b[0m"
          ]
        },
        {
          "metadata": {
            "tags": null
          },
          "name": "stdout",
          "output_type": "stream",
          "text": [
            "Scraping Game  2020020366 2021-03-04\n"
          ]
        },
        {
          "metadata": {
            "tags": null
          },
          "name": "stderr",
          "output_type": "stream",
          "text": [
            "\u001b[0;31mError: Error parsing Json pbp for game 2020020366 'period'\n",
            "\u001b[0m\u001b[0;33mWarning: Using espn for pbp\n",
            "\u001b[0m\u001b[0;31mError: Espn pbp for game 2021-03-04 PIT PHI is either not there or can't be obtained \n",
            "\u001b[0m"
          ]
        },
        {
          "metadata": {
            "tags": null
          },
          "name": "stdout",
          "output_type": "stream",
          "text": [
            "Scraping Game  2020020369 2021-03-04\n"
          ]
        },
        {
          "metadata": {
            "tags": null
          },
          "name": "stderr",
          "output_type": "stream",
          "text": [
            "\u001b[0;31mError: Error parsing Json pbp for game 2020020369 'period'\n",
            "\u001b[0m\u001b[0;33mWarning: Using espn for pbp\n",
            "\u001b[0m\u001b[0;31mError: Espn pbp for game 2021-03-04 MTL WPG is either not there or can't be obtained \n",
            "\u001b[0m"
          ]
        },
        {
          "metadata": {
            "tags": null
          },
          "name": "stdout",
          "output_type": "stream",
          "text": [
            "Scraping Game  2020020367 2021-03-04\n"
          ]
        },
        {
          "metadata": {
            "tags": null
          },
          "name": "stderr",
          "output_type": "stream",
          "text": [
            "\u001b[0;31mError: Error parsing Json pbp for game 2020020367 'period'\n",
            "\u001b[0m\u001b[0;33mWarning: Using espn for pbp\n",
            "\u001b[0m\u001b[0;31mError: Espn pbp for game 2021-03-04 CHI T.B is either not there or can't be obtained \n",
            "\u001b[0m"
          ]
        },
        {
          "metadata": {
            "tags": null
          },
          "name": "stdout",
          "output_type": "stream",
          "text": [
            "Scraping Game  2020020368 2021-03-04\n"
          ]
        },
        {
          "metadata": {
            "tags": null
          },
          "name": "stderr",
          "output_type": "stream",
          "text": [
            "\u001b[0;31mError: Error parsing Json pbp for game 2020020368 'period'\n",
            "\u001b[0m\u001b[0;33mWarning: Using espn for pbp\n",
            "\u001b[0m\u001b[0;31mError: Espn pbp for game 2021-03-04 NSH FLA is either not there or can't be obtained \n",
            "\u001b[0m"
          ]
        },
        {
          "metadata": {
            "tags": null
          },
          "name": "stdout",
          "output_type": "stream",
          "text": [
            "Scraping Game  2020020372 2021-03-04\n"
          ]
        },
        {
          "metadata": {
            "tags": null
          },
          "name": "stderr",
          "output_type": "stream",
          "text": [
            "\u001b[0;31mError: Error parsing Json pbp for game 2020020372 'period'\n",
            "\u001b[0m\u001b[0;33mWarning: Using espn for pbp\n",
            "\u001b[0m\u001b[0;31mError: Espn pbp for game 2021-03-04 DAL CBJ is either not there or can't be obtained \n",
            "\u001b[0m"
          ]
        },
        {
          "metadata": {
            "tags": null
          },
          "name": "stdout",
          "output_type": "stream",
          "text": [
            "Scraping Game  2020020370 2021-03-04\n"
          ]
        },
        {
          "metadata": {
            "tags": null
          },
          "name": "stderr",
          "output_type": "stream",
          "text": [
            "\u001b[0;31mError: Error parsing Json pbp for game 2020020370 'period'\n",
            "\u001b[0m\u001b[0;33mWarning: Using espn for pbp\n",
            "\u001b[0m\u001b[0;31mError: Espn pbp for game 2021-03-04 CGY OTT is either not there or can't be obtained \n",
            "\u001b[0m"
          ]
        },
        {
          "metadata": {
            "tags": null
          },
          "name": "stdout",
          "output_type": "stream",
          "text": [
            "Scraping Game  2020020371 2021-03-04\n"
          ]
        },
        {
          "metadata": {
            "tags": null
          },
          "name": "stderr",
          "output_type": "stream",
          "text": [
            "\u001b[0;31mError: Error parsing Json pbp for game 2020020371 'period'\n",
            "\u001b[0m\u001b[0;33mWarning: Using espn for pbp\n",
            "\u001b[0m\u001b[0;31mError: Espn pbp for game 2021-03-04 VAN TOR is either not there or can't be obtained \n",
            "\u001b[0m"
          ]
        },
        {
          "metadata": {
            "tags": null
          },
          "name": "stdout",
          "output_type": "stream",
          "text": [
            "Scraping Game  2020020373 2021-03-05\n"
          ]
        },
        {
          "metadata": {
            "tags": null
          },
          "name": "stderr",
          "output_type": "stream",
          "text": [
            "\u001b[0;31mError: Error parsing Json pbp for game 2020020373 'period'\n",
            "\u001b[0m\u001b[0;33mWarning: Using espn for pbp\n",
            "\u001b[0m\u001b[0;31mError: Espn pbp for game 2021-03-05 BOS WSH is either not there or can't be obtained \n",
            "\u001b[0m"
          ]
        },
        {
          "metadata": {
            "tags": null
          },
          "name": "stdout",
          "output_type": "stream",
          "text": [
            "Scraping Game  2020020376 2021-03-05\n"
          ]
        },
        {
          "metadata": {
            "tags": null
          },
          "name": "stderr",
          "output_type": "stream",
          "text": [
            "\u001b[0;31mError: Error parsing Json pbp for game 2020020376 'period'\n",
            "\u001b[0m\u001b[0;33mWarning: Using espn for pbp\n",
            "\u001b[0m\u001b[0;31mError: Espn pbp for game 2021-03-05 CHI T.B is either not there or can't be obtained \n",
            "\u001b[0m"
          ]
        },
        {
          "metadata": {
            "tags": null
          },
          "name": "stdout",
          "output_type": "stream",
          "text": [
            "Scraping Game  2020020377 2021-03-05\n"
          ]
        },
        {
          "metadata": {
            "tags": null
          },
          "name": "stderr",
          "output_type": "stream",
          "text": [
            "\u001b[0;31mError: Error parsing Json pbp for game 2020020377 'period'\n",
            "\u001b[0m\u001b[0;33mWarning: Using espn for pbp\n",
            "\u001b[0m\u001b[0;31mError: Espn pbp for game 2021-03-05 COL ANA is either not there or can't be obtained \n",
            "\u001b[0m"
          ]
        },
        {
          "metadata": {
            "tags": null
          },
          "name": "stdout",
          "output_type": "stream",
          "text": [
            "Scraping Game  2020020378 2021-03-05\n"
          ]
        },
        {
          "metadata": {
            "tags": null
          },
          "name": "stderr",
          "output_type": "stream",
          "text": [
            "\u001b[0;31mError: Error parsing Json pbp for game 2020020378 'period'\n",
            "\u001b[0m\u001b[0;33mWarning: Using espn for pbp\n",
            "\u001b[0m\u001b[0;31mError: Espn pbp for game 2021-03-05 ARI MIN is either not there or can't be obtained \n",
            "\u001b[0m"
          ]
        },
        {
          "metadata": {
            "tags": null
          },
          "name": "stdout",
          "output_type": "stream",
          "text": [
            "Scraping Game  2020020379 2021-03-05\n"
          ]
        },
        {
          "metadata": {
            "tags": null
          },
          "name": "stderr",
          "output_type": "stream",
          "text": [
            "\u001b[0;31mError: Error parsing Json pbp for game 2020020379 'period'\n",
            "\u001b[0m\u001b[0;33mWarning: Using espn for pbp\n",
            "\u001b[0m\u001b[0;31mError: Espn pbp for game 2021-03-05 L.A STL is either not there or can't be obtained \n",
            "\u001b[0m"
          ]
        },
        {
          "metadata": {
            "tags": null
          },
          "name": "stdout",
          "output_type": "stream",
          "text": [
            "Scraping Game  2020020380 2021-03-05\n"
          ]
        },
        {
          "metadata": {
            "tags": null
          },
          "name": "stderr",
          "output_type": "stream",
          "text": [
            "\u001b[0;31mError: Error parsing Json pbp for game 2020020380 'period'\n",
            "\u001b[0m\u001b[0;33mWarning: Using espn for pbp\n",
            "\u001b[0m\u001b[0;31mError: Espn pbp for game 2021-03-05 S.J VGK is either not there or can't be obtained \n",
            "\u001b[0m"
          ]
        },
        {
          "metadata": {
            "tags": null
          },
          "name": "stdout",
          "output_type": "stream",
          "text": [
            "Scraping Game  2020020374 2021-03-06\n"
          ]
        },
        {
          "metadata": {
            "tags": null
          },
          "name": "stderr",
          "output_type": "stream",
          "text": [
            "\u001b[0;31mError: Error parsing Json pbp for game 2020020374 'period'\n",
            "\u001b[0m\u001b[0;33mWarning: Using espn for pbp\n",
            "\u001b[0m\u001b[0;31mError: Espn pbp for game 2021-03-06 N.J NYR is either not there or can't be obtained \n",
            "\u001b[0m"
          ]
        },
        {
          "metadata": {
            "tags": null
          },
          "name": "stdout",
          "output_type": "stream",
          "text": [
            "Scraping Game  2020020375 2021-03-06\n"
          ]
        },
        {
          "metadata": {
            "tags": null
          },
          "name": "stderr",
          "output_type": "stream",
          "text": [
            "\u001b[0;31mError: Error parsing Json pbp for game 2020020375 'period'\n",
            "\u001b[0m\u001b[0;33mWarning: Using espn for pbp\n",
            "\u001b[0m\u001b[0;31mError: Espn pbp for game 2021-03-06 NYI BUF is either not there or can't be obtained \n",
            "\u001b[0m"
          ]
        },
        {
          "metadata": {
            "tags": null
          },
          "name": "stdout",
          "output_type": "stream",
          "text": [
            "Scraping Game  2020020668 2021-03-06\n"
          ]
        },
        {
          "metadata": {
            "tags": null
          },
          "name": "stderr",
          "output_type": "stream",
          "text": [
            "\u001b[0;31mError: Error parsing Json pbp for game 2020020668 'period'\n",
            "\u001b[0m\u001b[0;33mWarning: Using espn for pbp\n",
            "\u001b[0m\u001b[0;31mError: Espn pbp for game 2021-03-06 PIT PHI is either not there or can't be obtained \n",
            "\u001b[0m"
          ]
        },
        {
          "metadata": {
            "tags": null
          },
          "name": "stdout",
          "output_type": "stream",
          "text": [
            "Scraping Game  2020020381 2021-03-06\n"
          ]
        },
        {
          "metadata": {
            "tags": null
          },
          "name": "stderr",
          "output_type": "stream",
          "text": [
            "\u001b[0;31mError: Error parsing Json pbp for game 2020020381 'period'\n",
            "\u001b[0m\u001b[0;33mWarning: Using espn for pbp\n",
            "\u001b[0m\u001b[0;31mError: Espn pbp for game 2021-03-06 NSH FLA is either not there or can't be obtained \n",
            "\u001b[0m"
          ]
        },
        {
          "metadata": {
            "tags": null
          },
          "name": "stdout",
          "output_type": "stream",
          "text": [
            "Scraping Game  2020020382 2021-03-06\n"
          ]
        },
        {
          "metadata": {
            "tags": null
          },
          "name": "stderr",
          "output_type": "stream",
          "text": [
            "\u001b[0;31mError: Error parsing Json pbp for game 2020020382 'period'\n",
            "\u001b[0m\u001b[0;33mWarning: Using espn for pbp\n",
            "\u001b[0m\u001b[0;31mError: Espn pbp for game 2021-03-06 MTL WPG is either not there or can't be obtained \n",
            "\u001b[0m"
          ]
        },
        {
          "metadata": {
            "tags": null
          },
          "name": "stdout",
          "output_type": "stream",
          "text": [
            "Scraping Game  2020020384 2021-03-06\n"
          ]
        },
        {
          "metadata": {
            "tags": null
          },
          "name": "stderr",
          "output_type": "stream",
          "text": [
            "\u001b[0;31mError: Error parsing Json pbp for game 2020020384 'period'\n",
            "\u001b[0m\u001b[0;33mWarning: Using espn for pbp\n",
            "\u001b[0m\u001b[0;31mError: Espn pbp for game 2021-03-06 VAN TOR is either not there or can't be obtained \n",
            "\u001b[0m"
          ]
        },
        {
          "metadata": {
            "tags": null
          },
          "name": "stdout",
          "output_type": "stream",
          "text": [
            "Scraping Game  2020020387 2021-03-06\n"
          ]
        },
        {
          "metadata": {
            "tags": null
          },
          "name": "stderr",
          "output_type": "stream",
          "text": [
            "\u001b[0;31mError: Error parsing Json pbp for game 2020020387 'period'\n",
            "\u001b[0m\u001b[0;33mWarning: Using espn for pbp\n",
            "\u001b[0m\u001b[0;31mError: Espn pbp for game 2021-03-06 ARI MIN is either not there or can't be obtained \n",
            "\u001b[0m"
          ]
        },
        {
          "metadata": {
            "tags": null
          },
          "name": "stdout",
          "output_type": "stream",
          "text": [
            "Scraping Game  2020020385 2021-03-06\n"
          ]
        },
        {
          "metadata": {
            "tags": null
          },
          "name": "stderr",
          "output_type": "stream",
          "text": [
            "\u001b[0;31mError: Error parsing Json pbp for game 2020020385 'period'\n",
            "\u001b[0m\u001b[0;33mWarning: Using espn for pbp\n",
            "\u001b[0m\u001b[0;31mError: Espn pbp for game 2021-03-06 DAL CBJ is either not there or can't be obtained \n",
            "\u001b[0m"
          ]
        },
        {
          "metadata": {
            "tags": null
          },
          "name": "stdout",
          "output_type": "stream",
          "text": [
            "Scraping Game  2020020386 2021-03-06\n"
          ]
        },
        {
          "metadata": {
            "tags": null
          },
          "name": "stderr",
          "output_type": "stream",
          "text": [
            "\u001b[0;31mError: Error parsing Json pbp for game 2020020386 'period'\n",
            "\u001b[0m\u001b[0;33mWarning: Using espn for pbp\n",
            "\u001b[0m\u001b[0;31mError: Espn pbp for game 2021-03-06 COL ANA is either not there or can't be obtained \n",
            "\u001b[0m"
          ]
        },
        {
          "metadata": {
            "tags": null
          },
          "name": "stdout",
          "output_type": "stream",
          "text": [
            "Scraping Game  2020020388 2021-03-06\n"
          ]
        },
        {
          "metadata": {
            "tags": null
          },
          "name": "stderr",
          "output_type": "stream",
          "text": [
            "\u001b[0;31mError: Error parsing Json pbp for game 2020020388 'period'\n",
            "\u001b[0m\u001b[0;33mWarning: Using espn for pbp\n",
            "\u001b[0m\u001b[0;31mError: Espn pbp for game 2021-03-06 L.A STL is either not there or can't be obtained \n",
            "\u001b[0m"
          ]
        },
        {
          "metadata": {
            "tags": null
          },
          "name": "stdout",
          "output_type": "stream",
          "text": [
            "Scraping Game  2020020383 2021-03-06\n"
          ]
        },
        {
          "metadata": {
            "tags": null
          },
          "name": "stderr",
          "output_type": "stream",
          "text": [
            "\u001b[0;31mError: Error parsing Json pbp for game 2020020383 'period'\n",
            "\u001b[0m\u001b[0;33mWarning: Using espn for pbp\n",
            "\u001b[0m\u001b[0;31mError: Espn pbp for game 2021-03-06 EDM CGY is either not there or can't be obtained \n",
            "\u001b[0m"
          ]
        },
        {
          "metadata": {
            "tags": null
          },
          "name": "stdout",
          "output_type": "stream",
          "text": [
            "Scraping Game  2020020389 2021-03-06\n"
          ]
        },
        {
          "metadata": {
            "tags": null
          },
          "name": "stderr",
          "output_type": "stream",
          "text": [
            "\u001b[0;31mError: Error parsing Json pbp for game 2020020389 'period'\n",
            "\u001b[0m\u001b[0;33mWarning: Using espn for pbp\n",
            "\u001b[0m\u001b[0;31mError: Espn pbp for game 2021-03-06 S.J VGK is either not there or can't be obtained \n",
            "\u001b[0m"
          ]
        },
        {
          "metadata": {
            "tags": null
          },
          "name": "stdout",
          "output_type": "stream",
          "text": [
            "Scraping Game  2020020391 2021-03-07\n"
          ]
        },
        {
          "metadata": {
            "tags": null
          },
          "name": "stderr",
          "output_type": "stream",
          "text": [
            "\u001b[0;31mError: Error parsing Json pbp for game 2020020391 'period'\n",
            "\u001b[0m\u001b[0;33mWarning: Using espn for pbp\n",
            "\u001b[0m\u001b[0;31mError: Espn pbp for game 2021-03-07 NYI BUF is either not there or can't be obtained \n",
            "\u001b[0m"
          ]
        },
        {
          "metadata": {
            "tags": null
          },
          "name": "stdout",
          "output_type": "stream",
          "text": [
            "Scraping Game  2020020394 2021-03-07\n"
          ]
        },
        {
          "metadata": {
            "tags": null
          },
          "name": "stderr",
          "output_type": "stream",
          "text": [
            "\u001b[0;31mError: Error parsing Json pbp for game 2020020394 'period'\n",
            "\u001b[0m\u001b[0;33mWarning: Using espn for pbp\n",
            "\u001b[0m\u001b[0;31mError: Espn pbp for game 2021-03-07 CHI T.B is either not there or can't be obtained \n",
            "\u001b[0m"
          ]
        },
        {
          "metadata": {
            "tags": null
          },
          "name": "stdout",
          "output_type": "stream",
          "text": [
            "Scraping Game  2020020076 2021-03-07\n"
          ]
        },
        {
          "metadata": {
            "tags": null
          },
          "name": "stderr",
          "output_type": "stream",
          "text": [
            "\u001b[0;31mError: Error parsing Json pbp for game 2020020076 'period'\n",
            "\u001b[0m\u001b[0;33mWarning: Using espn for pbp\n",
            "\u001b[0m\u001b[0;31mError: Espn pbp for game 2021-03-07 CAR FLA is either not there or can't be obtained \n",
            "\u001b[0m"
          ]
        },
        {
          "metadata": {
            "tags": null
          },
          "name": "stdout",
          "output_type": "stream",
          "text": [
            "Scraping Game  2020020244 2021-03-07\n"
          ]
        },
        {
          "metadata": {
            "tags": null
          },
          "name": "stderr",
          "output_type": "stream",
          "text": [
            "\u001b[0;31mError: Error parsing Json pbp for game 2020020244 'period'\n",
            "\u001b[0m\u001b[0;33mWarning: Using espn for pbp\n",
            "\u001b[0m\u001b[0;31mError: Espn pbp for game 2021-03-07 BOS N.J is either not there or can't be obtained \n",
            "\u001b[0m"
          ]
        },
        {
          "metadata": {
            "tags": null
          },
          "name": "stdout",
          "output_type": "stream",
          "text": [
            "Scraping Game  2020020769 2021-03-07\n"
          ]
        },
        {
          "metadata": {
            "tags": null
          },
          "name": "stderr",
          "output_type": "stream",
          "text": [
            "\u001b[0;31mError: Error parsing Json pbp for game 2020020769 'period'\n",
            "\u001b[0m\u001b[0;33mWarning: Using espn for pbp\n",
            "\u001b[0m\u001b[0;31mError: Espn pbp for game 2021-03-07 PHI WSH is either not there or can't be obtained \n",
            "\u001b[0m"
          ]
        },
        {
          "metadata": {
            "tags": null
          },
          "name": "stdout",
          "output_type": "stream",
          "text": [
            "Scraping Game  2020020393 2021-03-07\n"
          ]
        },
        {
          "metadata": {
            "tags": null
          },
          "name": "stderr",
          "output_type": "stream",
          "text": [
            "\u001b[0;31mError: Error parsing Json pbp for game 2020020393 'period'\n",
            "\u001b[0m\u001b[0;33mWarning: Using espn for pbp\n",
            "\u001b[0m\u001b[0;31mError: Espn pbp for game 2021-03-07 PIT NYR is either not there or can't be obtained \n",
            "\u001b[0m"
          ]
        },
        {
          "metadata": {
            "tags": null
          },
          "name": "stdout",
          "output_type": "stream",
          "text": [
            "Scraping Game  2020020250 2021-03-07\n"
          ]
        },
        {
          "metadata": {
            "tags": null
          },
          "name": "stderr",
          "output_type": "stream",
          "text": [
            "\u001b[0;31mError: Error parsing Json pbp for game 2020020250 'period'\n",
            "\u001b[0m\u001b[0;33mWarning: Using espn for pbp\n",
            "\u001b[0m\u001b[0;31mError: Espn pbp for game 2021-03-07 DAL NSH is either not there or can't be obtained \n",
            "\u001b[0m"
          ]
        },
        {
          "metadata": {
            "tags": null
          },
          "name": "stdout",
          "output_type": "stream",
          "text": [
            "Scraping Game  2020020395 2021-03-07\n"
          ]
        },
        {
          "metadata": {
            "tags": null
          },
          "name": "stderr",
          "output_type": "stream",
          "text": [
            "\u001b[0;31mError: Error parsing Json pbp for game 2020020395 'period'\n",
            "\u001b[0m\u001b[0;33mWarning: Using espn for pbp\n",
            "\u001b[0m\u001b[0;31mError: Espn pbp for game 2021-03-07 CGY OTT is either not there or can't be obtained \n",
            "\u001b[0m"
          ]
        },
        {
          "metadata": {
            "tags": null
          },
          "name": "stdout",
          "output_type": "stream",
          "text": [
            "Scraping Game  2020020398 2021-03-08\n"
          ]
        },
        {
          "metadata": {
            "tags": null
          },
          "name": "stderr",
          "output_type": "stream",
          "text": [
            "\u001b[0;31mError: Error parsing Json pbp for game 2020020398 'period'\n",
            "\u001b[0m\u001b[0;33mWarning: Using espn for pbp\n",
            "\u001b[0m\u001b[0;31mError: Espn pbp for game 2021-03-08 MIN VGK is either not there or can't be obtained \n",
            "\u001b[0m"
          ]
        },
        {
          "metadata": {
            "tags": null
          },
          "name": "stdout",
          "output_type": "stream",
          "text": [
            "Scraping Game  2020020326 2021-03-08\n"
          ]
        },
        {
          "metadata": {
            "tags": null
          },
          "name": "stderr",
          "output_type": "stream",
          "text": [
            "\u001b[0;31mError: Error parsing Json pbp for game 2020020326 'period'\n",
            "\u001b[0m\u001b[0;33mWarning: Using espn for pbp\n",
            "\u001b[0m\u001b[0;31mError: Espn pbp for game 2021-03-08 S.J STL is either not there or can't be obtained \n",
            "\u001b[0m"
          ]
        },
        {
          "metadata": {
            "tags": null
          },
          "name": "stdout",
          "output_type": "stream",
          "text": [
            "Scraping Game  2020020396 2021-03-08\n"
          ]
        },
        {
          "metadata": {
            "tags": null
          },
          "name": "stderr",
          "output_type": "stream",
          "text": [
            "\u001b[0;31mError: Error parsing Json pbp for game 2020020396 'period'\n",
            "\u001b[0m\u001b[0;33mWarning: Using espn for pbp\n",
            "\u001b[0m\u001b[0;31mError: Espn pbp for game 2021-03-08 EDM OTT is either not there or can't be obtained \n",
            "\u001b[0m"
          ]
        },
        {
          "metadata": {
            "tags": null
          },
          "name": "stdout",
          "output_type": "stream",
          "text": [
            "Scraping Game  2020020399 2021-03-08\n"
          ]
        },
        {
          "metadata": {
            "tags": null
          },
          "name": "stderr",
          "output_type": "stream",
          "text": [
            "\u001b[0;31mError: Error parsing Json pbp for game 2020020399 'period'\n",
            "\u001b[0m\u001b[0;33mWarning: Using espn for pbp\n",
            "\u001b[0m\u001b[0;31mError: Espn pbp for game 2021-03-08 COL ARI is either not there or can't be obtained \n",
            "\u001b[0m"
          ]
        },
        {
          "metadata": {
            "tags": null
          },
          "name": "stdout",
          "output_type": "stream",
          "text": [
            "Scraping Game  2020020397 2021-03-08\n"
          ]
        },
        {
          "metadata": {
            "tags": null
          },
          "name": "stderr",
          "output_type": "stream",
          "text": [
            "\u001b[0;31mError: Error parsing Json pbp for game 2020020397 'period'\n",
            "\u001b[0m\u001b[0;33mWarning: Using espn for pbp\n",
            "\u001b[0m\u001b[0;31mError: Espn pbp for game 2021-03-08 VAN MTL is either not there or can't be obtained \n",
            "\u001b[0m"
          ]
        },
        {
          "metadata": {
            "tags": null
          },
          "name": "stdout",
          "output_type": "stream",
          "text": [
            "Scraping Game  2020020400 2021-03-08\n"
          ]
        },
        {
          "metadata": {
            "tags": null
          },
          "name": "stderr",
          "output_type": "stream",
          "text": [
            "\u001b[0;31mError: Error parsing Json pbp for game 2020020400 'period'\n",
            "\u001b[0m\u001b[0;33mWarning: Using espn for pbp\n",
            "\u001b[0m\u001b[0;31mError: Espn pbp for game 2021-03-08 ANA L.A is either not there or can't be obtained \n",
            "\u001b[0m"
          ]
        },
        {
          "metadata": {
            "tags": null
          },
          "name": "stdout",
          "output_type": "stream",
          "text": [
            "Scraping Game  2020020405 2021-03-09\n"
          ]
        },
        {
          "metadata": {
            "tags": null
          },
          "name": "stderr",
          "output_type": "stream",
          "text": [
            "\u001b[0;31mError: Error parsing Json pbp for game 2020020405 'period'\n",
            "\u001b[0m\u001b[0;33mWarning: Using espn for pbp\n",
            "\u001b[0m\u001b[0;31mError: Espn pbp for game 2021-03-09 PIT NYR is either not there or can't be obtained \n",
            "\u001b[0m"
          ]
        },
        {
          "metadata": {
            "tags": null
          },
          "name": "stdout",
          "output_type": "stream",
          "text": [
            "Scraping Game  2020020401 2021-03-09\n"
          ]
        },
        {
          "metadata": {
            "tags": null
          },
          "name": "stderr",
          "output_type": "stream",
          "text": [
            "\u001b[0;31mError: Error parsing Json pbp for game 2020020401 'period'\n",
            "\u001b[0m\u001b[0;33mWarning: Using espn for pbp\n",
            "\u001b[0m\u001b[0;31mError: Espn pbp for game 2021-03-09 NYI BOS is either not there or can't be obtained \n",
            "\u001b[0m"
          ]
        },
        {
          "metadata": {
            "tags": null
          },
          "name": "stdout",
          "output_type": "stream",
          "text": [
            "Scraping Game  2020020402 2021-03-09\n"
          ]
        },
        {
          "metadata": {
            "tags": null
          },
          "name": "stderr",
          "output_type": "stream",
          "text": [
            "\u001b[0;31mError: Error parsing Json pbp for game 2020020402 'period'\n",
            "\u001b[0m\u001b[0;33mWarning: Using espn for pbp\n",
            "\u001b[0m\u001b[0;31mError: Espn pbp for game 2021-03-09 PHI BUF is either not there or can't be obtained \n",
            "\u001b[0m"
          ]
        },
        {
          "metadata": {
            "tags": null
          },
          "name": "stdout",
          "output_type": "stream",
          "text": [
            "Scraping Game  2020020403 2021-03-09\n"
          ]
        },
        {
          "metadata": {
            "tags": null
          },
          "name": "stderr",
          "output_type": "stream",
          "text": [
            "\u001b[0;31mError: Error parsing Json pbp for game 2020020403 'period'\n",
            "\u001b[0m\u001b[0;33mWarning: Using espn for pbp\n",
            "\u001b[0m\u001b[0;31mError: Espn pbp for game 2021-03-09 WSH N.J is either not there or can't be obtained \n",
            "\u001b[0m"
          ]
        },
        {
          "metadata": {
            "tags": null
          },
          "name": "stdout",
          "output_type": "stream",
          "text": [
            "Scraping Game  2020020404 2021-03-09\n"
          ]
        },
        {
          "metadata": {
            "tags": null
          },
          "name": "stderr",
          "output_type": "stream",
          "text": [
            "\u001b[0;31mError: Error parsing Json pbp for game 2020020404 'period'\n",
            "\u001b[0m\u001b[0;33mWarning: Using espn for pbp\n",
            "\u001b[0m\u001b[0;31mError: Espn pbp for game 2021-03-09 CAR NSH is either not there or can't be obtained \n",
            "\u001b[0m"
          ]
        },
        {
          "metadata": {
            "tags": null
          },
          "name": "stdout",
          "output_type": "stream",
          "text": [
            "Scraping Game  2020020406 2021-03-09\n"
          ]
        },
        {
          "metadata": {
            "tags": null
          },
          "name": "stderr",
          "output_type": "stream",
          "text": [
            "\u001b[0;31mError: Error parsing Json pbp for game 2020020406 'period'\n",
            "\u001b[0m\u001b[0;33mWarning: Using espn for pbp\n",
            "\u001b[0m\u001b[0;31mError: Espn pbp for game 2021-03-09 CBJ FLA is either not there or can't be obtained \n",
            "\u001b[0m"
          ]
        },
        {
          "metadata": {
            "tags": null
          },
          "name": "stdout",
          "output_type": "stream",
          "text": [
            "Scraping Game  2020020408 2021-03-09\n"
          ]
        },
        {
          "metadata": {
            "tags": null
          },
          "name": "stderr",
          "output_type": "stream",
          "text": [
            "\u001b[0;31mError: Error parsing Json pbp for game 2020020408 'period'\n",
            "\u001b[0m\u001b[0;33mWarning: Using espn for pbp\n",
            "\u001b[0m\u001b[0;31mError: Espn pbp for game 2021-03-09 TOR WPG is either not there or can't be obtained \n",
            "\u001b[0m"
          ]
        },
        {
          "metadata": {
            "tags": null
          },
          "name": "stdout",
          "output_type": "stream",
          "text": [
            "Scraping Game  2020020407 2021-03-09\n"
          ]
        },
        {
          "metadata": {
            "tags": null
          },
          "name": "stderr",
          "output_type": "stream",
          "text": [
            "\u001b[0;31mError: Error parsing Json pbp for game 2020020407 'period'\n",
            "\u001b[0m\u001b[0;33mWarning: Using espn for pbp\n",
            "\u001b[0m\u001b[0;31mError: Espn pbp for game 2021-03-09 DET T.B is either not there or can't be obtained \n",
            "\u001b[0m"
          ]
        },
        {
          "metadata": {
            "tags": null
          },
          "name": "stdout",
          "output_type": "stream",
          "text": [
            "Scraping Game  2020020409 2021-03-09\n"
          ]
        },
        {
          "metadata": {
            "tags": null
          },
          "name": "stderr",
          "output_type": "stream",
          "text": [
            "\u001b[0;31mError: Error parsing Json pbp for game 2020020409 'period'\n",
            "\u001b[0m\u001b[0;33mWarning: Using espn for pbp\n",
            "\u001b[0m\u001b[0;31mError: Espn pbp for game 2021-03-09 DAL CHI is either not there or can't be obtained \n",
            "\u001b[0m"
          ]
        },
        {
          "metadata": {
            "tags": null
          },
          "name": "stdout",
          "output_type": "stream",
          "text": [
            "Scraping Game  2020020412 2021-03-10\n"
          ]
        },
        {
          "metadata": {
            "tags": null
          },
          "name": "stderr",
          "output_type": "stream",
          "text": [
            "\u001b[0;31mError: Error parsing Json pbp for game 2020020412 'period'\n",
            "\u001b[0m\u001b[0;33mWarning: Using espn for pbp\n",
            "\u001b[0m\u001b[0;31mError: Espn pbp for game 2021-03-10 MIN VGK is either not there or can't be obtained \n",
            "\u001b[0m"
          ]
        },
        {
          "metadata": {
            "tags": null
          },
          "name": "stdout",
          "output_type": "stream",
          "text": [
            "Scraping Game  2020020410 2021-03-10\n"
          ]
        },
        {
          "metadata": {
            "tags": null
          },
          "name": "stderr",
          "output_type": "stream",
          "text": [
            "\u001b[0;31mError: Error parsing Json pbp for game 2020020410 'period'\n",
            "\u001b[0m\u001b[0;33mWarning: Using espn for pbp\n",
            "\u001b[0m\u001b[0;31mError: Espn pbp for game 2021-03-10 EDM OTT is either not there or can't be obtained \n",
            "\u001b[0m"
          ]
        },
        {
          "metadata": {
            "tags": null
          },
          "name": "stdout",
          "output_type": "stream",
          "text": [
            "Scraping Game  2020020413 2021-03-10\n"
          ]
        },
        {
          "metadata": {
            "tags": null
          },
          "name": "stderr",
          "output_type": "stream",
          "text": [
            "\u001b[0;31mError: Error parsing Json pbp for game 2020020413 'period'\n",
            "\u001b[0m\u001b[0;33mWarning: Using espn for pbp\n",
            "\u001b[0m\u001b[0;31mError: Espn pbp for game 2021-03-10 COL ARI is either not there or can't be obtained \n",
            "\u001b[0m"
          ]
        },
        {
          "metadata": {
            "tags": null
          },
          "name": "stdout",
          "output_type": "stream",
          "text": [
            "Scraping Game  2020020414 2021-03-10\n"
          ]
        },
        {
          "metadata": {
            "tags": null
          },
          "name": "stderr",
          "output_type": "stream",
          "text": [
            "\u001b[0;31mError: Error parsing Json pbp for game 2020020414 'period'\n",
            "\u001b[0m\u001b[0;33mWarning: Using espn for pbp\n",
            "\u001b[0m\u001b[0;31mError: Espn pbp for game 2021-03-10 ANA L.A is either not there or can't be obtained \n",
            "\u001b[0m"
          ]
        },
        {
          "metadata": {
            "tags": null
          },
          "name": "stdout",
          "output_type": "stream",
          "text": [
            "Scraping Game  2020020411 2021-03-10\n"
          ]
        },
        {
          "metadata": {
            "tags": null
          },
          "name": "stderr",
          "output_type": "stream",
          "text": [
            "\u001b[0;31mError: Error parsing Json pbp for game 2020020411 'period'\n",
            "\u001b[0m\u001b[0;33mWarning: Using espn for pbp\n",
            "\u001b[0m\u001b[0;31mError: Espn pbp for game 2021-03-10 VAN MTL is either not there or can't be obtained \n",
            "\u001b[0m"
          ]
        },
        {
          "metadata": {
            "tags": null
          },
          "name": "stdout",
          "output_type": "stream",
          "text": [
            "Scraping Game  2020020415 2021-03-11\n"
          ]
        },
        {
          "metadata": {
            "tags": null
          },
          "name": "stderr",
          "output_type": "stream",
          "text": [
            "\u001b[0;31mError: Error parsing Json pbp for game 2020020415 'period'\n",
            "\u001b[0m\u001b[0;33mWarning: Using espn for pbp\n",
            "\u001b[0m\u001b[0;31mError: Espn pbp for game 2021-03-11 BOS NYR is either not there or can't be obtained \n",
            "\u001b[0m"
          ]
        },
        {
          "metadata": {
            "tags": null
          },
          "name": "stdout",
          "output_type": "stream",
          "text": [
            "Scraping Game  2020020416 2021-03-11\n"
          ]
        },
        {
          "metadata": {
            "tags": null
          },
          "name": "stderr",
          "output_type": "stream",
          "text": [
            "\u001b[0;31mError: Error parsing Json pbp for game 2020020416 'period'\n",
            "\u001b[0m\u001b[0;33mWarning: Using espn for pbp\n",
            "\u001b[0m\u001b[0;31mError: Espn pbp for game 2021-03-11 BUF PIT is either not there or can't be obtained \n",
            "\u001b[0m"
          ]
        },
        {
          "metadata": {
            "tags": null
          },
          "name": "stdout",
          "output_type": "stream",
          "text": [
            "Scraping Game  2020020417 2021-03-11\n"
          ]
        },
        {
          "metadata": {
            "tags": null
          },
          "name": "stderr",
          "output_type": "stream",
          "text": [
            "\u001b[0;31mError: Error parsing Json pbp for game 2020020417 'period'\n",
            "\u001b[0m\u001b[0;33mWarning: Using espn for pbp\n",
            "\u001b[0m\u001b[0;31mError: Espn pbp for game 2021-03-11 NYI N.J is either not there or can't be obtained \n",
            "\u001b[0m"
          ]
        },
        {
          "metadata": {
            "tags": null
          },
          "name": "stdout",
          "output_type": "stream",
          "text": [
            "Scraping Game  2020020418 2021-03-11\n"
          ]
        },
        {
          "metadata": {
            "tags": null
          },
          "name": "stderr",
          "output_type": "stream",
          "text": [
            "\u001b[0;31mError: Error parsing Json pbp for game 2020020418 'period'\n",
            "\u001b[0m\u001b[0;33mWarning: Using espn for pbp\n",
            "\u001b[0m\u001b[0;31mError: Espn pbp for game 2021-03-11 PHI WSH is either not there or can't be obtained \n",
            "\u001b[0m"
          ]
        },
        {
          "metadata": {
            "tags": null
          },
          "name": "stdout",
          "output_type": "stream",
          "text": [
            "Scraping Game  2020020419 2021-03-11\n"
          ]
        },
        {
          "metadata": {
            "tags": null
          },
          "name": "stderr",
          "output_type": "stream",
          "text": [
            "\u001b[0;31mError: Error parsing Json pbp for game 2020020419 'period'\n",
            "\u001b[0m\u001b[0;33mWarning: Using espn for pbp\n",
            "\u001b[0m\u001b[0;31mError: Espn pbp for game 2021-03-11 CAR NSH is either not there or can't be obtained \n",
            "\u001b[0m"
          ]
        },
        {
          "metadata": {
            "tags": null
          },
          "name": "stdout",
          "output_type": "stream",
          "text": [
            "Scraping Game  2020020420 2021-03-11\n"
          ]
        },
        {
          "metadata": {
            "tags": null
          },
          "name": "stderr",
          "output_type": "stream",
          "text": [
            "\u001b[0;31mError: Error parsing Json pbp for game 2020020420 'period'\n",
            "\u001b[0m\u001b[0;33mWarning: Using espn for pbp\n",
            "\u001b[0m\u001b[0;31mError: Espn pbp for game 2021-03-11 CBJ FLA is either not there or can't be obtained \n",
            "\u001b[0m\u001b[0;31mError: Timeout Error: The server took too long to respond to our request.\n",
            "\u001b[0m"
          ]
        },
        {
          "metadata": {
            "tags": null
          },
          "name": "stdout",
          "output_type": "stream",
          "text": [
            "Scraping Game  2020020422 2021-03-11\n"
          ]
        },
        {
          "metadata": {
            "tags": null
          },
          "name": "stderr",
          "output_type": "stream",
          "text": [
            "\u001b[0;31mError: Error parsing Json pbp for game 2020020422 'period'\n",
            "\u001b[0m\u001b[0;33mWarning: Using espn for pbp\n",
            "\u001b[0m\u001b[0;31mError: Espn pbp for game 2021-03-11 TOR WPG is either not there or can't be obtained \n",
            "\u001b[0m"
          ]
        },
        {
          "metadata": {
            "tags": null
          },
          "name": "stdout",
          "output_type": "stream",
          "text": [
            "Scraping Game  2020020421 2021-03-11\n"
          ]
        },
        {
          "metadata": {
            "tags": null
          },
          "name": "stderr",
          "output_type": "stream",
          "text": [
            "\u001b[0;31mError: Error parsing Json pbp for game 2020020421 'period'\n",
            "\u001b[0m\u001b[0;33mWarning: Using espn for pbp\n",
            "\u001b[0m\u001b[0;31mError: Espn pbp for game 2021-03-11 DET T.B is either not there or can't be obtained \n",
            "\u001b[0m"
          ]
        },
        {
          "metadata": {
            "tags": null
          },
          "name": "stdout",
          "output_type": "stream",
          "text": [
            "Scraping Game  2020020424 2021-03-11\n"
          ]
        },
        {
          "metadata": {
            "tags": null
          },
          "name": "stderr",
          "output_type": "stream",
          "text": [
            "\u001b[0;31mError: Error parsing Json pbp for game 2020020424 'period'\n",
            "\u001b[0m\u001b[0;33mWarning: Using espn for pbp\n",
            "\u001b[0m\u001b[0;31mError: Espn pbp for game 2021-03-11 DAL CHI is either not there or can't be obtained \n",
            "\u001b[0m"
          ]
        },
        {
          "metadata": {
            "tags": null
          },
          "name": "stdout",
          "output_type": "stream",
          "text": [
            "Scraping Game  2020020423 2021-03-11\n"
          ]
        },
        {
          "metadata": {
            "tags": null
          },
          "name": "stderr",
          "output_type": "stream",
          "text": [
            "\u001b[0;31mError: Error parsing Json pbp for game 2020020423 'period'\n",
            "\u001b[0m\u001b[0;33mWarning: Using espn for pbp\n",
            "\u001b[0m\u001b[0;31mError: Espn pbp for game 2021-03-11 CGY MTL is either not there or can't be obtained \n",
            "\u001b[0m"
          ]
        },
        {
          "metadata": {
            "tags": null
          },
          "name": "stdout",
          "output_type": "stream",
          "text": [
            "Scraping Game  2020020425 2021-03-12\n"
          ]
        },
        {
          "metadata": {
            "tags": null
          },
          "name": "stderr",
          "output_type": "stream",
          "text": [
            "\u001b[0;31mError: Error parsing Json pbp for game 2020020425 'period'\n",
            "\u001b[0m\u001b[0;33mWarning: Using espn for pbp\n",
            "\u001b[0m\u001b[0;31mError: Espn pbp for game 2021-03-12 STL VGK is either not there or can't be obtained \n",
            "\u001b[0m"
          ]
        },
        {
          "metadata": {
            "tags": null
          },
          "name": "stdout",
          "output_type": "stream",
          "text": [
            "Scraping Game  2020020427 2021-03-12\n"
          ]
        },
        {
          "metadata": {
            "tags": null
          },
          "name": "stderr",
          "output_type": "stream",
          "text": [
            "\u001b[0;31mError: Error parsing Json pbp for game 2020020427 'period'\n",
            "\u001b[0m\u001b[0;33mWarning: Using espn for pbp\n",
            "\u001b[0m\u001b[0;31mError: Espn pbp for game 2021-03-12 MIN ARI is either not there or can't be obtained \n",
            "\u001b[0m"
          ]
        },
        {
          "metadata": {
            "tags": null
          },
          "name": "stdout",
          "output_type": "stream",
          "text": [
            "Scraping Game  2020020426 2021-03-12\n"
          ]
        },
        {
          "metadata": {
            "tags": null
          },
          "name": "stderr",
          "output_type": "stream",
          "text": [
            "\u001b[0;31mError: Error parsing Json pbp for game 2020020426 'period'\n",
            "\u001b[0m\u001b[0;33mWarning: Using espn for pbp\n",
            "\u001b[0m\u001b[0;31mError: Espn pbp for game 2021-03-12 EDM OTT is either not there or can't be obtained \n",
            "\u001b[0m"
          ]
        },
        {
          "metadata": {
            "tags": null
          },
          "name": "stdout",
          "output_type": "stream",
          "text": [
            "Scraping Game  2020020428 2021-03-12\n"
          ]
        },
        {
          "metadata": {
            "tags": null
          },
          "name": "stderr",
          "output_type": "stream",
          "text": [
            "\u001b[0;31mError: Error parsing Json pbp for game 2020020428 'period'\n",
            "\u001b[0m\u001b[0;33mWarning: Using espn for pbp\n",
            "\u001b[0m\u001b[0;31mError: Espn pbp for game 2021-03-12 COL L.A is either not there or can't be obtained \n",
            "\u001b[0m\u001b[0;31mError: Timeout Error: The server took too long to respond to our request.\n",
            "\u001b[0m"
          ]
        },
        {
          "metadata": {
            "tags": null
          },
          "name": "stdout",
          "output_type": "stream",
          "text": [
            "Scraping Game  2020020429 2021-03-12\n"
          ]
        },
        {
          "metadata": {
            "tags": null
          },
          "name": "stderr",
          "output_type": "stream",
          "text": [
            "\u001b[0;31mError: Error parsing Json pbp for game 2020020429 'period'\n",
            "\u001b[0m\u001b[0;33mWarning: Using espn for pbp\n",
            "\u001b[0m\u001b[0;31mError: Espn pbp for game 2021-03-12 ANA S.J is either not there or can't be obtained \n",
            "\u001b[0m"
          ]
        },
        {
          "metadata": {
            "tags": null
          },
          "name": "stdout",
          "output_type": "stream",
          "text": [
            "Scraping Game  2020020430 2021-03-13\n"
          ]
        },
        {
          "metadata": {
            "tags": null
          },
          "name": "stderr",
          "output_type": "stream",
          "text": [
            "\u001b[0;31mError: Error parsing Json pbp for game 2020020430 'period'\n",
            "\u001b[0m\u001b[0;33mWarning: Using espn for pbp\n",
            "\u001b[0m\u001b[0;31mError: Espn pbp for game 2021-03-13 BOS NYR is either not there or can't be obtained \n",
            "\u001b[0m"
          ]
        },
        {
          "metadata": {
            "tags": null
          },
          "name": "stdout",
          "output_type": "stream",
          "text": [
            "Scraping Game  2020020436 2021-03-13\n"
          ]
        },
        {
          "metadata": {
            "tags": null
          },
          "name": "stderr",
          "output_type": "stream",
          "text": [
            "\u001b[0;31mError: Error parsing Json pbp for game 2020020436 'period'\n",
            "\u001b[0m\u001b[0;33mWarning: Using espn for pbp\n",
            "\u001b[0m\u001b[0;31mError: Espn pbp for game 2021-03-13 CBJ DAL is either not there or can't be obtained \n",
            "\u001b[0m"
          ]
        },
        {
          "metadata": {
            "tags": null
          },
          "name": "stdout",
          "output_type": "stream",
          "text": [
            "Scraping Game  2020020431 2021-03-13\n"
          ]
        },
        {
          "metadata": {
            "tags": null
          },
          "name": "stderr",
          "output_type": "stream",
          "text": [
            "\u001b[0;31mError: Error parsing Json pbp for game 2020020431 'period'\n",
            "\u001b[0m\u001b[0;33mWarning: Using espn for pbp\n",
            "\u001b[0m\u001b[0;31mError: Espn pbp for game 2021-03-13 BUF PIT is either not there or can't be obtained \n",
            "\u001b[0m"
          ]
        },
        {
          "metadata": {
            "tags": null
          },
          "name": "stdout",
          "output_type": "stream",
          "text": [
            "Scraping Game  2020020432 2021-03-13\n"
          ]
        },
        {
          "metadata": {
            "tags": null
          },
          "name": "stderr",
          "output_type": "stream",
          "text": [
            "\u001b[0;31mError: Error parsing Json pbp for game 2020020432 'period'\n",
            "\u001b[0m\u001b[0;33mWarning: Using espn for pbp\n",
            "\u001b[0m\u001b[0;31mError: Espn pbp for game 2021-03-13 N.J NYI is either not there or can't be obtained \n",
            "\u001b[0m"
          ]
        },
        {
          "metadata": {
            "tags": null
          },
          "name": "stdout",
          "output_type": "stream",
          "text": [
            "Scraping Game  2020020433 2021-03-13\n"
          ]
        },
        {
          "metadata": {
            "tags": null
          },
          "name": "stderr",
          "output_type": "stream",
          "text": [
            "\u001b[0;31mError: Error parsing Json pbp for game 2020020433 'period'\n",
            "\u001b[0m\u001b[0;33mWarning: Using espn for pbp\n",
            "\u001b[0m\u001b[0;31mError: Espn pbp for game 2021-03-13 PHI WSH is either not there or can't be obtained \n",
            "\u001b[0m"
          ]
        },
        {
          "metadata": {
            "tags": null
          },
          "name": "stdout",
          "output_type": "stream",
          "text": [
            "Scraping Game  2020020434 2021-03-13\n"
          ]
        },
        {
          "metadata": {
            "tags": null
          },
          "name": "stderr",
          "output_type": "stream",
          "text": [
            "\u001b[0;31mError: Error parsing Json pbp for game 2020020434 'period'\n",
            "\u001b[0m\u001b[0;33mWarning: Using espn for pbp\n",
            "\u001b[0m\u001b[0;31mError: Espn pbp for game 2021-03-13 T.B NSH is either not there or can't be obtained \n",
            "\u001b[0m"
          ]
        },
        {
          "metadata": {
            "tags": null
          },
          "name": "stdout",
          "output_type": "stream",
          "text": [
            "Scraping Game  2020020435 2021-03-13\n"
          ]
        },
        {
          "metadata": {
            "tags": null
          },
          "name": "stderr",
          "output_type": "stream",
          "text": [
            "\u001b[0;31mError: Error parsing Json pbp for game 2020020435 'period'\n",
            "\u001b[0m\u001b[0;33mWarning: Using espn for pbp\n",
            "\u001b[0m\u001b[0;31mError: Espn pbp for game 2021-03-13 FLA CHI is either not there or can't be obtained \n",
            "\u001b[0m"
          ]
        },
        {
          "metadata": {
            "tags": null
          },
          "name": "stdout",
          "output_type": "stream",
          "text": [
            "Scraping Game  2020020438 2021-03-13\n"
          ]
        },
        {
          "metadata": {
            "tags": null
          },
          "name": "stderr",
          "output_type": "stream",
          "text": [
            "\u001b[0;31mError: Error parsing Json pbp for game 2020020438 'period'\n",
            "\u001b[0m\u001b[0;33mWarning: Using espn for pbp\n",
            "\u001b[0m\u001b[0;31mError: Espn pbp for game 2021-03-13 TOR WPG is either not there or can't be obtained \n",
            "\u001b[0m"
          ]
        },
        {
          "metadata": {
            "tags": null
          },
          "name": "stdout",
          "output_type": "stream",
          "text": [
            "Scraping Game  2020020439 2021-03-13\n"
          ]
        },
        {
          "metadata": {
            "tags": null
          },
          "name": "stderr",
          "output_type": "stream",
          "text": [
            "\u001b[0;31mError: Error parsing Json pbp for game 2020020439 'period'\n",
            "\u001b[0m\u001b[0;33mWarning: Using espn for pbp\n",
            "\u001b[0m\u001b[0;31mError: Espn pbp for game 2021-03-13 CGY MTL is either not there or can't be obtained \n",
            "\u001b[0m"
          ]
        },
        {
          "metadata": {
            "tags": null
          },
          "name": "stdout",
          "output_type": "stream",
          "text": [
            "Scraping Game  2020020437 2021-03-13\n"
          ]
        },
        {
          "metadata": {
            "tags": null
          },
          "name": "stderr",
          "output_type": "stream",
          "text": [
            "\u001b[0;31mError: Error parsing Json pbp for game 2020020437 'period'\n",
            "\u001b[0m\u001b[0;33mWarning: Using espn for pbp\n",
            "\u001b[0m\u001b[0;31mError: Espn pbp for game 2021-03-13 STL VGK is either not there or can't be obtained \n",
            "\u001b[0m"
          ]
        },
        {
          "metadata": {
            "tags": null
          },
          "name": "stdout",
          "output_type": "stream",
          "text": [
            "Scraping Game  2020020440 2021-03-13\n"
          ]
        },
        {
          "metadata": {
            "tags": null
          },
          "name": "stderr",
          "output_type": "stream",
          "text": [
            "\u001b[0;31mError: Error parsing Json pbp for game 2020020440 'period'\n",
            "\u001b[0m\u001b[0;33mWarning: Using espn for pbp\n",
            "\u001b[0m\u001b[0;31mError: Espn pbp for game 2021-03-13 VAN EDM is either not there or can't be obtained \n",
            "\u001b[0m"
          ]
        },
        {
          "metadata": {
            "tags": null
          },
          "name": "stdout",
          "output_type": "stream",
          "text": [
            "Scraping Game  2020020441 2021-03-13\n"
          ]
        },
        {
          "metadata": {
            "tags": null
          },
          "name": "stderr",
          "output_type": "stream",
          "text": [
            "\u001b[0;31mError: Error parsing Json pbp for game 2020020441 'period'\n",
            "\u001b[0m\u001b[0;33mWarning: Using espn for pbp\n",
            "\u001b[0m\u001b[0;31mError: Espn pbp for game 2021-03-13 ANA S.J is either not there or can't be obtained \n",
            "\u001b[0m"
          ]
        },
        {
          "metadata": {
            "tags": null
          },
          "name": "stdout",
          "output_type": "stream",
          "text": [
            "Scraping Game  2020020444 2021-03-14\n"
          ]
        },
        {
          "metadata": {
            "tags": null
          },
          "name": "stderr",
          "output_type": "stream",
          "text": [
            "\u001b[0;31mError: Error parsing Json pbp for game 2020020444 'period'\n",
            "\u001b[0m\u001b[0;33mWarning: Using espn for pbp\n",
            "\u001b[0m\u001b[0;31mError: Espn pbp for game 2021-03-14 MIN ARI is either not there or can't be obtained \n",
            "\u001b[0m"
          ]
        },
        {
          "metadata": {
            "tags": null
          },
          "name": "stdout",
          "output_type": "stream",
          "text": [
            "Scraping Game  2020020442 2021-03-14\n"
          ]
        },
        {
          "metadata": {
            "tags": null
          },
          "name": "stderr",
          "output_type": "stream",
          "text": [
            "\u001b[0;31mError: Error parsing Json pbp for game 2020020442 'period'\n",
            "\u001b[0m\u001b[0;33mWarning: Using espn for pbp\n",
            "\u001b[0m\u001b[0;31mError: Espn pbp for game 2021-03-14 DET CAR is either not there or can't be obtained \n",
            "\u001b[0m"
          ]
        },
        {
          "metadata": {
            "tags": null
          },
          "name": "stdout",
          "output_type": "stream",
          "text": [
            "Scraping Game  2020020451 2021-03-14\n"
          ]
        },
        {
          "metadata": {
            "tags": null
          },
          "name": "stderr",
          "output_type": "stream",
          "text": [
            "\u001b[0;31mError: Error parsing Json pbp for game 2020020451 'period'\n",
            "\u001b[0m\u001b[0;33mWarning: Using espn for pbp\n",
            "\u001b[0m\u001b[0;31mError: Espn pbp for game 2021-03-14 CBJ DAL is either not there or can't be obtained \n",
            "\u001b[0m"
          ]
        },
        {
          "metadata": {
            "tags": null
          },
          "name": "stdout",
          "output_type": "stream",
          "text": [
            "Scraping Game  2020020767 2021-03-14\n"
          ]
        },
        {
          "metadata": {
            "tags": null
          },
          "name": "stderr",
          "output_type": "stream",
          "text": [
            "\u001b[0;31mError: Error parsing Json pbp for game 2020020767 'period'\n",
            "\u001b[0m\u001b[0;33mWarning: Using espn for pbp\n",
            "\u001b[0m\u001b[0;31mError: Espn pbp for game 2021-03-14 N.J NYI is either not there or can't be obtained \n",
            "\u001b[0m"
          ]
        },
        {
          "metadata": {
            "tags": null
          },
          "name": "stdout",
          "output_type": "stream",
          "text": [
            "Scraping Game  2020020445 2021-03-14\n"
          ]
        },
        {
          "metadata": {
            "tags": null
          },
          "name": "stderr",
          "output_type": "stream",
          "text": [
            "\u001b[0;31mError: Error parsing Json pbp for game 2020020445 'period'\n",
            "\u001b[0m\u001b[0;33mWarning: Using espn for pbp\n",
            "\u001b[0m\u001b[0;31mError: Espn pbp for game 2021-03-14 COL L.A is either not there or can't be obtained \n",
            "\u001b[0m"
          ]
        },
        {
          "metadata": {
            "tags": null
          },
          "name": "stdout",
          "output_type": "stream",
          "text": [
            "Scraping Game  2020020443 2021-03-14\n"
          ]
        },
        {
          "metadata": {
            "tags": null
          },
          "name": "stderr",
          "output_type": "stream",
          "text": [
            "\u001b[0;31mError: Error parsing Json pbp for game 2020020443 'period'\n",
            "\u001b[0m\u001b[0;33mWarning: Using espn for pbp\n",
            "\u001b[0m\u001b[0;31mError: Espn pbp for game 2021-03-14 OTT TOR is either not there or can't be obtained \n",
            "\u001b[0m"
          ]
        },
        {
          "metadata": {
            "tags": null
          },
          "name": "stdout",
          "output_type": "stream",
          "text": [
            "Scraping Game  2020020448 2021-03-15\n"
          ]
        },
        {
          "metadata": {
            "tags": null
          },
          "name": "stderr",
          "output_type": "stream",
          "text": [
            "\u001b[0;31mError: Error parsing Json pbp for game 2020020448 'period'\n",
            "\u001b[0m\u001b[0;33mWarning: Using espn for pbp\n",
            "\u001b[0m\u001b[0;31mError: Espn pbp for game 2021-03-15 T.B NSH is either not there or can't be obtained \n",
            "\u001b[0m"
          ]
        },
        {
          "metadata": {
            "tags": null
          },
          "name": "stdout",
          "output_type": "stream",
          "text": [
            "Scraping Game  2020020214 2021-03-15\n"
          ]
        },
        {
          "metadata": {
            "tags": null
          },
          "name": "stderr",
          "output_type": "stream",
          "text": [
            "\u001b[0;31mError: Error parsing Json pbp for game 2020020214 'period'\n",
            "\u001b[0m\u001b[0;33mWarning: Using espn for pbp\n",
            "\u001b[0m\u001b[0;31mError: Espn pbp for game 2021-03-15 BUF WSH is either not there or can't be obtained \n",
            "\u001b[0m"
          ]
        },
        {
          "metadata": {
            "tags": null
          },
          "name": "stdout",
          "output_type": "stream",
          "text": [
            "Scraping Game  2020020446 2021-03-15\n"
          ]
        },
        {
          "metadata": {
            "tags": null
          },
          "name": "stderr",
          "output_type": "stream",
          "text": [
            "\u001b[0;31mError: Error parsing Json pbp for game 2020020446 'period'\n",
            "\u001b[0m\u001b[0;33mWarning: Using espn for pbp\n",
            "\u001b[0m\u001b[0;31mError: Espn pbp for game 2021-03-15 NYR PHI is either not there or can't be obtained \n",
            "\u001b[0m"
          ]
        },
        {
          "metadata": {
            "tags": null
          },
          "name": "stdout",
          "output_type": "stream",
          "text": [
            "Scraping Game  2020020449 2021-03-15\n"
          ]
        },
        {
          "metadata": {
            "tags": null
          },
          "name": "stderr",
          "output_type": "stream",
          "text": [
            "\u001b[0;31mError: Error parsing Json pbp for game 2020020449 'period'\n",
            "\u001b[0m\u001b[0;33mWarning: Using espn for pbp\n",
            "\u001b[0m\u001b[0;31mError: Espn pbp for game 2021-03-15 FLA CHI is either not there or can't be obtained \n",
            "\u001b[0m"
          ]
        },
        {
          "metadata": {
            "tags": null
          },
          "name": "stdout",
          "output_type": "stream",
          "text": [
            "Scraping Game  2020020450 2021-03-15\n"
          ]
        },
        {
          "metadata": {
            "tags": null
          },
          "name": "stderr",
          "output_type": "stream",
          "text": [
            "\u001b[0;31mError: Error parsing Json pbp for game 2020020450 'period'\n",
            "\u001b[0m\u001b[0;33mWarning: Using espn for pbp\n",
            "\u001b[0m\u001b[0;31mError: Espn pbp for game 2021-03-15 PIT BOS is either not there or can't be obtained \n",
            "\u001b[0m"
          ]
        },
        {
          "metadata": {
            "tags": null
          },
          "name": "stdout",
          "output_type": "stream",
          "text": [
            "Scraping Game  2020020452 2021-03-15\n"
          ]
        },
        {
          "metadata": {
            "tags": null
          },
          "name": "stderr",
          "output_type": "stream",
          "text": [
            "\u001b[0;31mError: Error parsing Json pbp for game 2020020452 'period'\n",
            "\u001b[0m\u001b[0;33mWarning: Using espn for pbp\n",
            "\u001b[0m\u001b[0;31mError: Espn pbp for game 2021-03-15 OTT VAN is either not there or can't be obtained \n",
            "\u001b[0m"
          ]
        },
        {
          "metadata": {
            "tags": null
          },
          "name": "stdout",
          "output_type": "stream",
          "text": [
            "Scraping Game  2020020453 2021-03-15\n"
          ]
        },
        {
          "metadata": {
            "tags": null
          },
          "name": "stderr",
          "output_type": "stream",
          "text": [
            "\u001b[0;31mError: Error parsing Json pbp for game 2020020453 'period'\n",
            "\u001b[0m\u001b[0;33mWarning: Using espn for pbp\n",
            "\u001b[0m\u001b[0;31mError: Espn pbp for game 2021-03-15 WPG MTL is either not there or can't be obtained \n",
            "\u001b[0m"
          ]
        },
        {
          "metadata": {
            "tags": null
          },
          "name": "stdout",
          "output_type": "stream",
          "text": [
            "Scraping Game  2020020454 2021-03-15\n"
          ]
        },
        {
          "metadata": {
            "tags": null
          },
          "name": "stderr",
          "output_type": "stream",
          "text": [
            "\u001b[0;31mError: Error parsing Json pbp for game 2020020454 'period'\n",
            "\u001b[0m\u001b[0;33mWarning: Using espn for pbp\n",
            "\u001b[0m\u001b[0;31mError: Espn pbp for game 2021-03-15 CGY EDM is either not there or can't be obtained \n",
            "\u001b[0m"
          ]
        },
        {
          "metadata": {
            "tags": null
          },
          "name": "stdout",
          "output_type": "stream",
          "text": [
            "Scraping Game  2020020455 2021-03-15\n"
          ]
        },
        {
          "metadata": {
            "tags": null
          },
          "name": "stderr",
          "output_type": "stream",
          "text": [
            "\u001b[0;31mError: Error parsing Json pbp for game 2020020455 'period'\n",
            "\u001b[0m\u001b[0;33mWarning: Using espn for pbp\n",
            "\u001b[0m\u001b[0;31mError: Espn pbp for game 2021-03-15 VGK S.J is either not there or can't be obtained \n",
            "\u001b[0m"
          ]
        },
        {
          "metadata": {
            "tags": null
          },
          "name": "stdout",
          "output_type": "stream",
          "text": [
            "Scraping Game  2020020457 2021-03-16\n"
          ]
        },
        {
          "metadata": {
            "tags": null
          },
          "name": "stderr",
          "output_type": "stream",
          "text": [
            "\u001b[0;31mError: Error parsing Json pbp for game 2020020457 'period'\n",
            "\u001b[0m\u001b[0;33mWarning: Using espn for pbp\n",
            "\u001b[0m\u001b[0;31mError: Espn pbp for game 2021-03-16 N.J BUF is either not there or can't be obtained \n",
            "\u001b[0m"
          ]
        },
        {
          "metadata": {
            "tags": null
          },
          "name": "stdout",
          "output_type": "stream",
          "text": [
            "Scraping Game  2020020458 2021-03-16\n"
          ]
        },
        {
          "metadata": {
            "tags": null
          },
          "name": "stderr",
          "output_type": "stream",
          "text": [
            "\u001b[0;31mError: Error parsing Json pbp for game 2020020458 'period'\n",
            "\u001b[0m\u001b[0;33mWarning: Using espn for pbp\n",
            "\u001b[0m\u001b[0;31mError: Espn pbp for game 2021-03-16 WSH NYI is either not there or can't be obtained \n",
            "\u001b[0m"
          ]
        },
        {
          "metadata": {
            "tags": null
          },
          "name": "stdout",
          "output_type": "stream",
          "text": [
            "Scraping Game  2020020459 2021-03-16\n"
          ]
        },
        {
          "metadata": {
            "tags": null
          },
          "name": "stderr",
          "output_type": "stream",
          "text": [
            "\u001b[0;31mError: Error parsing Json pbp for game 2020020459 'period'\n",
            "\u001b[0m\u001b[0;33mWarning: Using espn for pbp\n",
            "\u001b[0m\u001b[0;31mError: Espn pbp for game 2021-03-16 PIT BOS is either not there or can't be obtained \n",
            "\u001b[0m"
          ]
        },
        {
          "metadata": {
            "tags": null
          },
          "name": "stdout",
          "output_type": "stream",
          "text": [
            "Scraping Game  2020020460 2021-03-16\n"
          ]
        },
        {
          "metadata": {
            "tags": null
          },
          "name": "stderr",
          "output_type": "stream",
          "text": [
            "\u001b[0;31mError: Error parsing Json pbp for game 2020020460 'period'\n",
            "\u001b[0m\u001b[0;33mWarning: Using espn for pbp\n",
            "\u001b[0m\u001b[0;31mError: Espn pbp for game 2021-03-16 DET CAR is either not there or can't be obtained \n",
            "\u001b[0m"
          ]
        },
        {
          "metadata": {
            "tags": null
          },
          "name": "stdout",
          "output_type": "stream",
          "text": [
            "Scraping Game  2020020186 2021-03-16\n"
          ]
        },
        {
          "metadata": {
            "tags": null
          },
          "name": "stderr",
          "output_type": "stream",
          "text": [
            "\u001b[0;31mError: Error parsing Json pbp for game 2020020186 'period'\n",
            "\u001b[0m\u001b[0;33mWarning: Using espn for pbp\n",
            "\u001b[0m\u001b[0;31mError: Espn pbp for game 2021-03-16 MIN ARI is either not there or can't be obtained \n",
            "\u001b[0m"
          ]
        },
        {
          "metadata": {
            "tags": null
          },
          "name": "stdout",
          "output_type": "stream",
          "text": [
            "Scraping Game  2020020286 2021-03-16\n"
          ]
        },
        {
          "metadata": {
            "tags": null
          },
          "name": "stderr",
          "output_type": "stream",
          "text": [
            "\u001b[0;31mError: Error parsing Json pbp for game 2020020286 'period'\n",
            "\u001b[0m\u001b[0;33mWarning: Using espn for pbp\n",
            "\u001b[0m\u001b[0;31mError: Espn pbp for game 2021-03-16 DAL T.B is either not there or can't be obtained \n",
            "\u001b[0m"
          ]
        },
        {
          "metadata": {
            "tags": null
          },
          "name": "stdout",
          "output_type": "stream",
          "text": [
            "Scraping Game  2020020568 2021-03-16\n"
          ]
        },
        {
          "metadata": {
            "tags": null
          },
          "name": "stderr",
          "output_type": "stream",
          "text": [
            "\u001b[0;31mError: Error parsing Json pbp for game 2020020568 'period'\n",
            "\u001b[0m\u001b[0;33mWarning: Using espn for pbp\n",
            "\u001b[0m\u001b[0;31mError: Espn pbp for game 2021-03-16 COL ANA is either not there or can't be obtained \n",
            "\u001b[0m"
          ]
        },
        {
          "metadata": {
            "tags": null
          },
          "name": "stdout",
          "output_type": "stream",
          "text": [
            "Scraping Game  2020020463 2021-03-17\n"
          ]
        },
        {
          "metadata": {
            "tags": null
          },
          "name": "stderr",
          "output_type": "stream",
          "text": [
            "\u001b[0;31mError: Error parsing Json pbp for game 2020020463 'period'\n",
            "\u001b[0m\u001b[0;33mWarning: Using espn for pbp\n",
            "\u001b[0m\u001b[0;31mError: Espn pbp for game 2021-03-17 OTT VAN is either not there or can't be obtained \n",
            "\u001b[0m"
          ]
        },
        {
          "metadata": {
            "tags": null
          },
          "name": "stdout",
          "output_type": "stream",
          "text": [
            "Scraping Game  2020020462 2021-03-17\n"
          ]
        },
        {
          "metadata": {
            "tags": null
          },
          "name": "stderr",
          "output_type": "stream",
          "text": [
            "\u001b[0;31mError: Error parsing Json pbp for game 2020020462 'period'\n",
            "\u001b[0m\u001b[0;33mWarning: Using espn for pbp\n",
            "\u001b[0m\u001b[0;31mError: Espn pbp for game 2021-03-17 NYR PHI is either not there or can't be obtained \n",
            "\u001b[0m"
          ]
        },
        {
          "metadata": {
            "tags": null
          },
          "name": "stdout",
          "output_type": "stream",
          "text": [
            "Scraping Game  2020020464 2021-03-17\n"
          ]
        },
        {
          "metadata": {
            "tags": null
          },
          "name": "stderr",
          "output_type": "stream",
          "text": [
            "\u001b[0;31mError: Error parsing Json pbp for game 2020020464 'period'\n",
            "\u001b[0m\u001b[0;33mWarning: Using espn for pbp\n",
            "\u001b[0m\u001b[0;31mError: Espn pbp for game 2021-03-17 WPG MTL is either not there or can't be obtained \n",
            "\u001b[0m"
          ]
        },
        {
          "metadata": {
            "tags": null
          },
          "name": "stdout",
          "output_type": "stream",
          "text": [
            "Scraping Game  2020020465 2021-03-17\n"
          ]
        },
        {
          "metadata": {
            "tags": null
          },
          "name": "stderr",
          "output_type": "stream",
          "text": [
            "\u001b[0;31mError: Error parsing Json pbp for game 2020020465 'period'\n",
            "\u001b[0m\u001b[0;33mWarning: Using espn for pbp\n",
            "\u001b[0m\u001b[0;31mError: Espn pbp for game 2021-03-17 CGY EDM is either not there or can't be obtained \n",
            "\u001b[0m"
          ]
        },
        {
          "metadata": {
            "tags": null
          },
          "name": "stdout",
          "output_type": "stream",
          "text": [
            "Scraping Game  2020020466 2021-03-17\n"
          ]
        },
        {
          "metadata": {
            "tags": null
          },
          "name": "stderr",
          "output_type": "stream",
          "text": [
            "\u001b[0;31mError: Error parsing Json pbp for game 2020020466 'period'\n",
            "\u001b[0m\u001b[0;33mWarning: Using espn for pbp\n",
            "\u001b[0m\u001b[0;31mError: Espn pbp for game 2021-03-17 VGK S.J is either not there or can't be obtained \n",
            "\u001b[0m"
          ]
        },
        {
          "metadata": {
            "tags": null
          },
          "name": "stdout",
          "output_type": "stream",
          "text": [
            "Scraping Game  2020020467 2021-03-17\n"
          ]
        },
        {
          "metadata": {
            "tags": null
          },
          "name": "stderr",
          "output_type": "stream",
          "text": [
            "\u001b[0;31mError: Error parsing Json pbp for game 2020020467 'period'\n",
            "\u001b[0m\u001b[0;33mWarning: Using espn for pbp\n",
            "\u001b[0m\u001b[0;31mError: Espn pbp for game 2021-03-17 L.A STL is either not there or can't be obtained \n",
            "\u001b[0m"
          ]
        },
        {
          "metadata": {
            "tags": null
          },
          "name": "stdout",
          "output_type": "stream",
          "text": [
            "Scraping Game  2020020201 2021-03-18\n"
          ]
        },
        {
          "metadata": {
            "tags": null
          },
          "name": "stderr",
          "output_type": "stream",
          "text": [
            "\u001b[0;31mError: Error parsing Json pbp for game 2020020201 'period'\n",
            "\u001b[0m\u001b[0;33mWarning: Using espn for pbp\n",
            "\u001b[0m\u001b[0;31mError: Espn pbp for game 2021-03-18 N.J PIT is either not there or can't be obtained \n",
            "\u001b[0m"
          ]
        },
        {
          "metadata": {
            "tags": null
          },
          "name": "stdout",
          "output_type": "stream",
          "text": [
            "Scraping Game  2020020468 2021-03-18\n"
          ]
        },
        {
          "metadata": {
            "tags": null
          },
          "name": "stderr",
          "output_type": "stream",
          "text": [
            "\u001b[0;31mError: Error parsing Json pbp for game 2020020468 'period'\n",
            "\u001b[0m\u001b[0;33mWarning: Using espn for pbp\n",
            "\u001b[0m\u001b[0;31mError: Espn pbp for game 2021-03-18 BUF BOS is either not there or can't be obtained \n",
            "\u001b[0m"
          ]
        },
        {
          "metadata": {
            "tags": null
          },
          "name": "stdout",
          "output_type": "stream",
          "text": [
            "Scraping Game  2020020469 2021-03-18\n"
          ]
        },
        {
          "metadata": {
            "tags": null
          },
          "name": "stderr",
          "output_type": "stream",
          "text": [
            "\u001b[0;31mError: Error parsing Json pbp for game 2020020469 'period'\n",
            "\u001b[0m\u001b[0;33mWarning: Using espn for pbp\n",
            "\u001b[0m\u001b[0;31mError: Espn pbp for game 2021-03-18 NYI PHI is either not there or can't be obtained \n",
            "\u001b[0m"
          ]
        },
        {
          "metadata": {
            "tags": null
          },
          "name": "stdout",
          "output_type": "stream",
          "text": [
            "Scraping Game  2020020470 2021-03-18\n"
          ]
        },
        {
          "metadata": {
            "tags": null
          },
          "name": "stderr",
          "output_type": "stream",
          "text": [
            "\u001b[0;31mError: Error parsing Json pbp for game 2020020470 'period'\n",
            "\u001b[0m\u001b[0;33mWarning: Using espn for pbp\n",
            "\u001b[0m\u001b[0;31mError: Espn pbp for game 2021-03-18 CAR CBJ is either not there or can't be obtained \n",
            "\u001b[0m"
          ]
        },
        {
          "metadata": {
            "tags": null
          },
          "name": "stdout",
          "output_type": "stream",
          "text": [
            "Scraping Game  2020020471 2021-03-18\n"
          ]
        },
        {
          "metadata": {
            "tags": null
          },
          "name": "stderr",
          "output_type": "stream",
          "text": [
            "\u001b[0;31mError: Error parsing Json pbp for game 2020020471 'period'\n",
            "\u001b[0m\u001b[0;33mWarning: Using espn for pbp\n",
            "\u001b[0m\u001b[0;31mError: Espn pbp for game 2021-03-18 T.B CHI is either not there or can't be obtained \n",
            "\u001b[0m"
          ]
        },
        {
          "metadata": {
            "tags": null
          },
          "name": "stdout",
          "output_type": "stream",
          "text": [
            "Scraping Game  2020020472 2021-03-18\n"
          ]
        },
        {
          "metadata": {
            "tags": null
          },
          "name": "stderr",
          "output_type": "stream",
          "text": [
            "\u001b[0;31mError: Error parsing Json pbp for game 2020020472 'period'\n",
            "\u001b[0m\u001b[0;33mWarning: Using espn for pbp\n",
            "\u001b[0m\u001b[0;31mError: Espn pbp for game 2021-03-18 FLA NSH is either not there or can't be obtained \n",
            "\u001b[0m"
          ]
        },
        {
          "metadata": {
            "tags": null
          },
          "name": "stdout",
          "output_type": "stream",
          "text": [
            "Scraping Game  2020020473 2021-03-18\n"
          ]
        },
        {
          "metadata": {
            "tags": null
          },
          "name": "stderr",
          "output_type": "stream",
          "text": [
            "\u001b[0;31mError: Error parsing Json pbp for game 2020020473 'period'\n",
            "\u001b[0m\u001b[0;33mWarning: Using espn for pbp\n",
            "\u001b[0m\u001b[0;31mError: Espn pbp for game 2021-03-18 DET DAL is either not there or can't be obtained \n",
            "\u001b[0m"
          ]
        },
        {
          "metadata": {
            "tags": null
          },
          "name": "stdout",
          "output_type": "stream",
          "text": [
            "Scraping Game  2020020474 2021-03-18\n"
          ]
        },
        {
          "metadata": {
            "tags": null
          },
          "name": "stderr",
          "output_type": "stream",
          "text": [
            "\u001b[0;31mError: Error parsing Json pbp for game 2020020474 'period'\n",
            "\u001b[0m\u001b[0;33mWarning: Using espn for pbp\n",
            "\u001b[0m\u001b[0;31mError: Espn pbp for game 2021-03-18 EDM WPG is either not there or can't be obtained \n",
            "\u001b[0m"
          ]
        },
        {
          "metadata": {
            "tags": null
          },
          "name": "stdout",
          "output_type": "stream",
          "text": [
            "Scraping Game  2020020475 2021-03-18\n"
          ]
        },
        {
          "metadata": {
            "tags": null
          },
          "name": "stderr",
          "output_type": "stream",
          "text": [
            "\u001b[0;31mError: Error parsing Json pbp for game 2020020475 'period'\n",
            "\u001b[0m\u001b[0;33mWarning: Using espn for pbp\n",
            "\u001b[0m\u001b[0;31mError: Espn pbp for game 2021-03-18 COL MIN is either not there or can't be obtained \n",
            "\u001b[0m"
          ]
        },
        {
          "metadata": {
            "tags": null
          },
          "name": "stdout",
          "output_type": "stream",
          "text": [
            "Scraping Game  2020020476 2021-03-18\n"
          ]
        },
        {
          "metadata": {
            "tags": null
          },
          "name": "stderr",
          "output_type": "stream",
          "text": [
            "\u001b[0;31mError: Error parsing Json pbp for game 2020020476 'period'\n",
            "\u001b[0m\u001b[0;33mWarning: Using espn for pbp\n",
            "\u001b[0m\u001b[0;31mError: Espn pbp for game 2021-03-18 ANA ARI is either not there or can't be obtained \n",
            "\u001b[0m"
          ]
        },
        {
          "metadata": {
            "tags": null
          },
          "name": "stdout",
          "output_type": "stream",
          "text": [
            "Scraping Game  2020020478 2021-03-19\n"
          ]
        },
        {
          "metadata": {
            "tags": null
          },
          "name": "stderr",
          "output_type": "stream",
          "text": [
            "\u001b[0;31mError: Error parsing Json pbp for game 2020020478 'period'\n",
            "\u001b[0m\u001b[0;33mWarning: Using espn for pbp\n",
            "\u001b[0m\u001b[0;31mError: Espn pbp for game 2021-03-19 WSH NYR is either not there or can't be obtained \n",
            "\u001b[0m"
          ]
        },
        {
          "metadata": {
            "tags": null
          },
          "name": "stdout",
          "output_type": "stream",
          "text": [
            "Scraping Game  2020020479 2021-03-19\n"
          ]
        },
        {
          "metadata": {
            "tags": null
          },
          "name": "stderr",
          "output_type": "stream",
          "text": [
            "\u001b[0;31mError: Error parsing Json pbp for game 2020020479 'period'\n",
            "\u001b[0m\u001b[0;33mWarning: Using espn for pbp\n",
            "\u001b[0m\u001b[0;31mError: Espn pbp for game 2021-03-19 MTL VAN is either not there or can't be obtained \n",
            "\u001b[0m"
          ]
        },
        {
          "metadata": {
            "tags": null
          },
          "name": "stdout",
          "output_type": "stream",
          "text": [
            "Scraping Game  2020020480 2021-03-19\n"
          ]
        },
        {
          "metadata": {
            "tags": null
          },
          "name": "stderr",
          "output_type": "stream",
          "text": [
            "\u001b[0;31mError: Error parsing Json pbp for game 2020020480 'period'\n",
            "\u001b[0m\u001b[0;33mWarning: Using espn for pbp\n",
            "\u001b[0m\u001b[0;31mError: Espn pbp for game 2021-03-19 TOR CGY is either not there or can't be obtained \n",
            "\u001b[0m"
          ]
        },
        {
          "metadata": {
            "tags": null
          },
          "name": "stdout",
          "output_type": "stream",
          "text": [
            "Scraping Game  2020020482 2021-03-19\n"
          ]
        },
        {
          "metadata": {
            "tags": null
          },
          "name": "stderr",
          "output_type": "stream",
          "text": [
            "\u001b[0;31mError: Error parsing Json pbp for game 2020020482 'period'\n",
            "\u001b[0m\u001b[0;33mWarning: Using espn for pbp\n",
            "\u001b[0m\u001b[0;31mError: Espn pbp for game 2021-03-19 S.J STL is either not there or can't be obtained \n",
            "\u001b[0m"
          ]
        },
        {
          "metadata": {
            "tags": null
          },
          "name": "stdout",
          "output_type": "stream",
          "text": [
            "Scraping Game  2020020481 2021-03-19\n"
          ]
        },
        {
          "metadata": {
            "tags": null
          },
          "name": "stderr",
          "output_type": "stream",
          "text": [
            "\u001b[0;31mError: Error parsing Json pbp for game 2020020481 'period'\n",
            "\u001b[0m\u001b[0;33mWarning: Using espn for pbp\n",
            "\u001b[0m\u001b[0;31mError: Espn pbp for game 2021-03-19 L.A VGK is either not there or can't be obtained \n",
            "\u001b[0m"
          ]
        },
        {
          "metadata": {
            "tags": null
          },
          "name": "stdout",
          "output_type": "stream",
          "text": [
            "Scraping Game  2020020477 2021-03-20\n"
          ]
        },
        {
          "metadata": {
            "tags": null
          },
          "name": "stderr",
          "output_type": "stream",
          "text": [
            "\u001b[0;31mError: Error parsing Json pbp for game 2020020477 'period'\n",
            "\u001b[0m\u001b[0;33mWarning: Using espn for pbp\n",
            "\u001b[0m\u001b[0;31mError: Espn pbp for game 2021-03-20 N.J PIT is either not there or can't be obtained \n",
            "\u001b[0m"
          ]
        },
        {
          "metadata": {
            "tags": null
          },
          "name": "stdout",
          "output_type": "stream",
          "text": [
            "Scraping Game  2020020487 2021-03-20\n"
          ]
        },
        {
          "metadata": {
            "tags": null
          },
          "name": "stderr",
          "output_type": "stream",
          "text": [
            "\u001b[0;31mError: Error parsing Json pbp for game 2020020487 'period'\n",
            "\u001b[0m\u001b[0;33mWarning: Using espn for pbp\n",
            "\u001b[0m\u001b[0;31mError: Espn pbp for game 2021-03-20 FLA NSH is either not there or can't be obtained \n",
            "\u001b[0m"
          ]
        },
        {
          "metadata": {
            "tags": null
          },
          "name": "stdout",
          "output_type": "stream",
          "text": [
            "Scraping Game  2020020492 2021-03-20\n"
          ]
        },
        {
          "metadata": {
            "tags": null
          },
          "name": "stderr",
          "output_type": "stream",
          "text": [
            "\u001b[0;31mError: Error parsing Json pbp for game 2020020492 'period'\n",
            "\u001b[0m\u001b[0;33mWarning: Using espn for pbp\n",
            "\u001b[0m\u001b[0;31mError: Espn pbp for game 2021-03-20 COL MIN is either not there or can't be obtained \n",
            "\u001b[0m"
          ]
        },
        {
          "metadata": {
            "tags": null
          },
          "name": "stdout",
          "output_type": "stream",
          "text": [
            "Scraping Game  2020020486 2021-03-20\n"
          ]
        },
        {
          "metadata": {
            "tags": null
          },
          "name": "stderr",
          "output_type": "stream",
          "text": [
            "\u001b[0;31mError: Error parsing Json pbp for game 2020020486 'period'\n",
            "\u001b[0m\u001b[0;33mWarning: Using espn for pbp\n",
            "\u001b[0m\u001b[0;31mError: Espn pbp for game 2021-03-20 T.B CHI is either not there or can't be obtained \n",
            "\u001b[0m"
          ]
        },
        {
          "metadata": {
            "tags": null
          },
          "name": "stdout",
          "output_type": "stream",
          "text": [
            "Scraping Game  2020020291 2021-03-20\n"
          ]
        },
        {
          "metadata": {
            "tags": null
          },
          "name": "stderr",
          "output_type": "stream",
          "text": [
            "\u001b[0;31mError: Error parsing Json pbp for game 2020020291 'period'\n",
            "\u001b[0m\u001b[0;33mWarning: Using espn for pbp\n",
            "\u001b[0m\u001b[0;31mError: Espn pbp for game 2021-03-20 WSH NYR is either not there or can't be obtained \n",
            "\u001b[0m"
          ]
        },
        {
          "metadata": {
            "tags": null
          },
          "name": "stdout",
          "output_type": "stream",
          "text": [
            "Scraping Game  2020020484 2021-03-20\n"
          ]
        },
        {
          "metadata": {
            "tags": null
          },
          "name": "stderr",
          "output_type": "stream",
          "text": [
            "\u001b[0;31mError: Error parsing Json pbp for game 2020020484 'period'\n",
            "\u001b[0m\u001b[0;33mWarning: Using espn for pbp\n",
            "\u001b[0m\u001b[0;31mError: Espn pbp for game 2021-03-20 NYI PHI is either not there or can't be obtained \n",
            "\u001b[0m"
          ]
        },
        {
          "metadata": {
            "tags": null
          },
          "name": "stdout",
          "output_type": "stream",
          "text": [
            "Scraping Game  2020020485 2021-03-20\n"
          ]
        },
        {
          "metadata": {
            "tags": null
          },
          "name": "stderr",
          "output_type": "stream",
          "text": [
            "\u001b[0;31mError: Error parsing Json pbp for game 2020020485 'period'\n",
            "\u001b[0m\u001b[0;33mWarning: Using espn for pbp\n",
            "\u001b[0m\u001b[0;31mError: Espn pbp for game 2021-03-20 CAR CBJ is either not there or can't be obtained \n",
            "\u001b[0m"
          ]
        },
        {
          "metadata": {
            "tags": null
          },
          "name": "stdout",
          "output_type": "stream",
          "text": [
            "Scraping Game  2020020488 2021-03-20\n"
          ]
        },
        {
          "metadata": {
            "tags": null
          },
          "name": "stderr",
          "output_type": "stream",
          "text": [
            "\u001b[0;31mError: Error parsing Json pbp for game 2020020488 'period'\n",
            "\u001b[0m\u001b[0;33mWarning: Using espn for pbp\n",
            "\u001b[0m\u001b[0;31mError: Espn pbp for game 2021-03-20 DET DAL is either not there or can't be obtained \n",
            "\u001b[0m"
          ]
        },
        {
          "metadata": {
            "tags": null
          },
          "name": "stdout",
          "output_type": "stream",
          "text": [
            "Scraping Game  2020020489 2021-03-20\n"
          ]
        },
        {
          "metadata": {
            "tags": null
          },
          "name": "stderr",
          "output_type": "stream",
          "text": [
            "\u001b[0;31mError: Error parsing Json pbp for game 2020020489 'period'\n",
            "\u001b[0m\u001b[0;33mWarning: Using espn for pbp\n",
            "\u001b[0m\u001b[0;31mError: Espn pbp for game 2021-03-20 MTL VAN is either not there or can't be obtained \n",
            "\u001b[0m"
          ]
        },
        {
          "metadata": {
            "tags": null
          },
          "name": "stdout",
          "output_type": "stream",
          "text": [
            "Scraping Game  2020020490 2021-03-20\n"
          ]
        },
        {
          "metadata": {
            "tags": null
          },
          "name": "stderr",
          "output_type": "stream",
          "text": [
            "\u001b[0;31mError: Error parsing Json pbp for game 2020020490 'period'\n",
            "\u001b[0m\u001b[0;33mWarning: Using espn for pbp\n",
            "\u001b[0m\u001b[0;31mError: Espn pbp for game 2021-03-20 TOR CGY is either not there or can't be obtained \n",
            "\u001b[0m"
          ]
        },
        {
          "metadata": {
            "tags": null
          },
          "name": "stdout",
          "output_type": "stream",
          "text": [
            "Scraping Game  2020020461 2021-03-20\n"
          ]
        },
        {
          "metadata": {
            "tags": null
          },
          "name": "stderr",
          "output_type": "stream",
          "text": [
            "\u001b[0;31mError: Error parsing Json pbp for game 2020020461 'period'\n",
            "\u001b[0m\u001b[0;33mWarning: Using espn for pbp\n",
            "\u001b[0m\u001b[0;31mError: Espn pbp for game 2021-03-20 ANA ARI is either not there or can't be obtained \n",
            "\u001b[0m"
          ]
        },
        {
          "metadata": {
            "tags": null
          },
          "name": "stdout",
          "output_type": "stream",
          "text": [
            "Scraping Game  2020020493 2021-03-20\n"
          ]
        },
        {
          "metadata": {
            "tags": null
          },
          "name": "stderr",
          "output_type": "stream",
          "text": [
            "\u001b[0;31mError: Error parsing Json pbp for game 2020020493 'period'\n",
            "\u001b[0m\u001b[0;33mWarning: Using espn for pbp\n",
            "\u001b[0m\u001b[0;31mError: Espn pbp for game 2021-03-20 S.J STL is either not there or can't be obtained \n",
            "\u001b[0m"
          ]
        },
        {
          "metadata": {
            "tags": null
          },
          "name": "stdout",
          "output_type": "stream",
          "text": [
            "Scraping Game  2020020491 2021-03-20\n"
          ]
        },
        {
          "metadata": {
            "tags": null
          },
          "name": "stderr",
          "output_type": "stream",
          "text": [
            "\u001b[0;31mError: Error parsing Json pbp for game 2020020491 'period'\n",
            "\u001b[0m\u001b[0;33mWarning: Using espn for pbp\n",
            "\u001b[0m\u001b[0;31mError: Espn pbp for game 2021-03-20 EDM WPG is either not there or can't be obtained \n",
            "\u001b[0m"
          ]
        },
        {
          "metadata": {
            "tags": null
          },
          "name": "stdout",
          "output_type": "stream",
          "text": [
            "Scraping Game  2020020151 2021-03-21\n"
          ]
        },
        {
          "metadata": {
            "tags": null
          },
          "name": "stderr",
          "output_type": "stream",
          "text": [
            "\u001b[0;31mError: Error parsing Json pbp for game 2020020151 'period'\n",
            "\u001b[0m\u001b[0;33mWarning: Using espn for pbp\n",
            "\u001b[0m\u001b[0;31mError: Espn pbp for game 2021-03-21 PIT N.J is either not there or can't be obtained \n",
            "\u001b[0m"
          ]
        },
        {
          "metadata": {
            "tags": null
          },
          "name": "stdout",
          "output_type": "stream",
          "text": [
            "Scraping Game  2020020828 2021-03-21\n"
          ]
        },
        {
          "metadata": {
            "tags": null
          },
          "name": "stderr",
          "output_type": "stream",
          "text": [
            "\u001b[0;31mError: Error parsing Json pbp for game 2020020828 'period'\n",
            "\u001b[0m\u001b[0;33mWarning: Using espn for pbp\n",
            "\u001b[0m\u001b[0;31mError: Espn pbp for game 2021-03-21 T.B FLA is either not there or can't be obtained \n",
            "\u001b[0m"
          ]
        },
        {
          "metadata": {
            "tags": null
          },
          "name": "stdout",
          "output_type": "stream",
          "text": [
            "Scraping Game  2020020495 2021-03-21\n"
          ]
        },
        {
          "metadata": {
            "tags": null
          },
          "name": "stderr",
          "output_type": "stream",
          "text": [
            "\u001b[0;31mError: Error parsing Json pbp for game 2020020495 'period'\n",
            "\u001b[0m\u001b[0;33mWarning: Using espn for pbp\n",
            "\u001b[0m\u001b[0;31mError: Espn pbp for game 2021-03-21 L.A VGK is either not there or can't be obtained \n",
            "\u001b[0m"
          ]
        },
        {
          "metadata": {
            "tags": null
          },
          "name": "stdout",
          "output_type": "stream",
          "text": [
            "Scraping Game  2020020258 2021-03-21\n"
          ]
        },
        {
          "metadata": {
            "tags": null
          },
          "name": "stderr",
          "output_type": "stream",
          "text": [
            "\u001b[0;31mError: Error parsing Json pbp for game 2020020258 'period'\n",
            "\u001b[0m\u001b[0;33mWarning: Using espn for pbp\n",
            "\u001b[0m\u001b[0;31mError: Espn pbp for game 2021-03-21 DAL NSH is either not there or can't be obtained \n",
            "\u001b[0m"
          ]
        },
        {
          "metadata": {
            "tags": null
          },
          "name": "stdout",
          "output_type": "stream",
          "text": [
            "Scraping Game  2020020496 2021-03-22\n"
          ]
        },
        {
          "metadata": {
            "tags": null
          },
          "name": "stderr",
          "output_type": "stream",
          "text": [
            "\u001b[0;31mError: Error parsing Json pbp for game 2020020496 'period'\n",
            "\u001b[0m\u001b[0;33mWarning: Using espn for pbp\n",
            "\u001b[0m\u001b[0;31mError: Espn pbp for game 2021-03-22 NYR BUF is either not there or can't be obtained \n",
            "\u001b[0m"
          ]
        },
        {
          "metadata": {
            "tags": null
          },
          "name": "stdout",
          "output_type": "stream",
          "text": [
            "Scraping Game  2020020497 2021-03-22\n"
          ]
        },
        {
          "metadata": {
            "tags": null
          },
          "name": "stderr",
          "output_type": "stream",
          "text": [
            "\u001b[0;31mError: Error parsing Json pbp for game 2020020497 'period'\n",
            "\u001b[0m\u001b[0;33mWarning: Using espn for pbp\n",
            "\u001b[0m\u001b[0;31mError: Espn pbp for game 2021-03-22 CBJ CAR is either not there or can't be obtained \n",
            "\u001b[0m"
          ]
        },
        {
          "metadata": {
            "tags": null
          },
          "name": "stdout",
          "output_type": "stream",
          "text": [
            "Scraping Game  2020020499 2021-03-22\n"
          ]
        },
        {
          "metadata": {
            "tags": null
          },
          "name": "stderr",
          "output_type": "stream",
          "text": [
            "\u001b[0;31mError: Error parsing Json pbp for game 2020020499 'period'\n",
            "\u001b[0m\u001b[0;33mWarning: Using espn for pbp\n",
            "\u001b[0m\u001b[0;31mError: Espn pbp for game 2021-03-22 OTT CGY is either not there or can't be obtained \n",
            "\u001b[0m"
          ]
        },
        {
          "metadata": {
            "tags": null
          },
          "name": "stdout",
          "output_type": "stream",
          "text": [
            "Scraping Game  2020020755 2021-03-22\n"
          ]
        },
        {
          "metadata": {
            "tags": null
          },
          "name": "stderr",
          "output_type": "stream",
          "text": [
            "\u001b[0;31mError: Error parsing Json pbp for game 2020020755 'period'\n",
            "\u001b[0m\u001b[0;33mWarning: Using espn for pbp\n",
            "\u001b[0m\u001b[0;31mError: Espn pbp for game 2021-03-22 PHI NYI is either not there or can't be obtained \n",
            "\u001b[0m"
          ]
        },
        {
          "metadata": {
            "tags": null
          },
          "name": "stdout",
          "output_type": "stream",
          "text": [
            "Scraping Game  2020020501 2021-03-22\n"
          ]
        },
        {
          "metadata": {
            "tags": null
          },
          "name": "stderr",
          "output_type": "stream",
          "text": [
            "\u001b[0;31mError: Error parsing Json pbp for game 2020020501 'period'\n",
            "\u001b[0m\u001b[0;33mWarning: Using espn for pbp\n",
            "\u001b[0m\u001b[0;31mError: Espn pbp for game 2021-03-22 MIN ANA is either not there or can't be obtained \n",
            "\u001b[0m"
          ]
        },
        {
          "metadata": {
            "tags": null
          },
          "name": "stdout",
          "output_type": "stream",
          "text": [
            "Scraping Game  2020020122 2021-03-22\n"
          ]
        },
        {
          "metadata": {
            "tags": null
          },
          "name": "stderr",
          "output_type": "stream",
          "text": [
            "\u001b[0;31mError: Error parsing Json pbp for game 2020020122 'period'\n",
            "\u001b[0m\u001b[0;33mWarning: Using espn for pbp\n",
            "\u001b[0m\u001b[0;31mError: Espn pbp for game 2021-03-22 VGK STL is either not there or can't be obtained \n",
            "\u001b[0m"
          ]
        },
        {
          "metadata": {
            "tags": null
          },
          "name": "stdout",
          "output_type": "stream",
          "text": [
            "Scraping Game  2020020500 2021-03-22\n"
          ]
        },
        {
          "metadata": {
            "tags": null
          },
          "name": "stderr",
          "output_type": "stream",
          "text": [
            "\u001b[0;31mError: Error parsing Json pbp for game 2020020500 'period'\n",
            "\u001b[0m\u001b[0;33mWarning: Using espn for pbp\n",
            "\u001b[0m\u001b[0;31mError: Espn pbp for game 2021-03-22 VAN WPG is either not there or can't be obtained \n",
            "\u001b[0m"
          ]
        },
        {
          "metadata": {
            "tags": null
          },
          "name": "stdout",
          "output_type": "stream",
          "text": [
            "Scraping Game  2020020502 2021-03-22\n"
          ]
        },
        {
          "metadata": {
            "tags": null
          },
          "name": "stderr",
          "output_type": "stream",
          "text": [
            "\u001b[0;31mError: Error parsing Json pbp for game 2020020502 'period'\n",
            "\u001b[0m\u001b[0;33mWarning: Using espn for pbp\n",
            "\u001b[0m\u001b[0;31mError: Espn pbp for game 2021-03-22 ARI COL is either not there or can't be obtained \n",
            "\u001b[0m"
          ]
        },
        {
          "metadata": {
            "tags": null
          },
          "name": "stdout",
          "output_type": "stream",
          "text": [
            "Scraping Game  2020020503 2021-03-22\n"
          ]
        },
        {
          "metadata": {
            "tags": null
          },
          "name": "stderr",
          "output_type": "stream",
          "text": [
            "\u001b[0;31mError: Error parsing Json pbp for game 2020020503 'period'\n",
            "\u001b[0m\u001b[0;33mWarning: Using espn for pbp\n",
            "\u001b[0m\u001b[0;31mError: Espn pbp for game 2021-03-22 S.J L.A is either not there or can't be obtained \n",
            "\u001b[0m"
          ]
        },
        {
          "metadata": {
            "tags": null
          },
          "name": "stdout",
          "output_type": "stream",
          "text": [
            "Scraping Game  2020020504 2021-03-23\n"
          ]
        },
        {
          "metadata": {
            "tags": null
          },
          "name": "stderr",
          "output_type": "stream",
          "text": [
            "\u001b[0;31mError: Error parsing Json pbp for game 2020020504 'period'\n",
            "\u001b[0m\u001b[0;33mWarning: Using espn for pbp\n",
            "\u001b[0m\u001b[0;31mError: Espn pbp for game 2021-03-23 PHI N.J is either not there or can't be obtained \n",
            "\u001b[0m"
          ]
        },
        {
          "metadata": {
            "tags": null
          },
          "name": "stdout",
          "output_type": "stream",
          "text": [
            "Scraping Game  2020020505 2021-03-23\n"
          ]
        },
        {
          "metadata": {
            "tags": null
          },
          "name": "stderr",
          "output_type": "stream",
          "text": [
            "\u001b[0;31mError: Error parsing Json pbp for game 2020020505 'period'\n",
            "\u001b[0m\u001b[0;33mWarning: Using espn for pbp\n",
            "\u001b[0m\u001b[0;31mError: Espn pbp for game 2021-03-23 CHI FLA is either not there or can't be obtained \n",
            "\u001b[0m"
          ]
        },
        {
          "metadata": {
            "tags": null
          },
          "name": "stdout",
          "output_type": "stream",
          "text": [
            "Scraping Game  2020020506 2021-03-23\n"
          ]
        },
        {
          "metadata": {
            "tags": null
          },
          "name": "stderr",
          "output_type": "stream",
          "text": [
            "\u001b[0;31mError: Error parsing Json pbp for game 2020020506 'period'\n",
            "\u001b[0m\u001b[0;33mWarning: Using espn for pbp\n",
            "\u001b[0m\u001b[0;31mError: Espn pbp for game 2021-03-23 NSH DET is either not there or can't be obtained \n",
            "\u001b[0m"
          ]
        },
        {
          "metadata": {
            "tags": null
          },
          "name": "stdout",
          "output_type": "stream",
          "text": [
            "Scraping Game  2020020507 2021-03-23\n"
          ]
        },
        {
          "metadata": {
            "tags": null
          },
          "name": "stderr",
          "output_type": "stream",
          "text": [
            "\u001b[0;31mError: Error parsing Json pbp for game 2020020507 'period'\n",
            "\u001b[0m\u001b[0;33mWarning: Using espn for pbp\n",
            "\u001b[0m\u001b[0;31mError: Espn pbp for game 2021-03-23 DAL T.B is either not there or can't be obtained \n",
            "\u001b[0m"
          ]
        },
        {
          "metadata": {
            "tags": null
          },
          "name": "stdout",
          "output_type": "stream",
          "text": [
            "Scraping Game  2020020508 2021-03-23\n"
          ]
        },
        {
          "metadata": {
            "tags": null
          },
          "name": "stderr",
          "output_type": "stream",
          "text": [
            "\u001b[0;31mError: Error parsing Json pbp for game 2020020508 'period'\n",
            "\u001b[0m\u001b[0;33mWarning: Using espn for pbp\n",
            "\u001b[0m\u001b[0;31mError: Espn pbp for game 2021-03-23 ARI COL is either not there or can't be obtained \n",
            "\u001b[0m"
          ]
        },
        {
          "metadata": {
            "tags": null
          },
          "name": "stdout",
          "output_type": "stream",
          "text": [
            "Scraping Game  2020020511 2021-03-24\n"
          ]
        },
        {
          "metadata": {
            "tags": null
          },
          "name": "stderr",
          "output_type": "stream",
          "text": [
            "\u001b[0;31mError: Error parsing Json pbp for game 2020020511 'period'\n",
            "\u001b[0m\u001b[0;33mWarning: Using espn for pbp\n",
            "\u001b[0m\u001b[0;31mError: Espn pbp for game 2021-03-24 OTT CGY is either not there or can't be obtained \n",
            "\u001b[0m"
          ]
        },
        {
          "metadata": {
            "tags": null
          },
          "name": "stdout",
          "output_type": "stream",
          "text": [
            "Scraping Game  2020020513 2021-03-24\n"
          ]
        },
        {
          "metadata": {
            "tags": null
          },
          "name": "stderr",
          "output_type": "stream",
          "text": [
            "\u001b[0;31mError: Error parsing Json pbp for game 2020020513 'period'\n",
            "\u001b[0m\u001b[0;33mWarning: Using espn for pbp\n",
            "\u001b[0m\u001b[0;31mError: Espn pbp for game 2021-03-24 MIN ANA is either not there or can't be obtained \n",
            "\u001b[0m"
          ]
        },
        {
          "metadata": {
            "tags": null
          },
          "name": "stdout",
          "output_type": "stream",
          "text": [
            "Scraping Game  2020020509 2021-03-24\n"
          ]
        },
        {
          "metadata": {
            "tags": null
          },
          "name": "stderr",
          "output_type": "stream",
          "text": [
            "\u001b[0;31mError: Error parsing Json pbp for game 2020020509 'period'\n",
            "\u001b[0m\u001b[0;33mWarning: Using espn for pbp\n",
            "\u001b[0m\u001b[0;31mError: Espn pbp for game 2021-03-24 PIT BUF is either not there or can't be obtained \n",
            "\u001b[0m"
          ]
        },
        {
          "metadata": {
            "tags": null
          },
          "name": "stdout",
          "output_type": "stream",
          "text": [
            "Scraping Game  2020020512 2021-03-24\n"
          ]
        },
        {
          "metadata": {
            "tags": null
          },
          "name": "stderr",
          "output_type": "stream",
          "text": [
            "\u001b[0;31mError: Error parsing Json pbp for game 2020020512 'period'\n",
            "\u001b[0m\u001b[0;33mWarning: Using espn for pbp\n",
            "\u001b[0m\u001b[0;31mError: Espn pbp for game 2021-03-24 VAN WPG is either not there or can't be obtained \n",
            "\u001b[0m"
          ]
        },
        {
          "metadata": {
            "tags": null
          },
          "name": "stdout",
          "output_type": "stream",
          "text": [
            "Scraping Game  2020020514 2021-03-24\n"
          ]
        },
        {
          "metadata": {
            "tags": null
          },
          "name": "stderr",
          "output_type": "stream",
          "text": [
            "\u001b[0;31mError: Error parsing Json pbp for game 2020020514 'period'\n",
            "\u001b[0m\u001b[0;33mWarning: Using espn for pbp\n",
            "\u001b[0m\u001b[0;31mError: Espn pbp for game 2021-03-24 S.J L.A is either not there or can't be obtained \n",
            "\u001b[0m"
          ]
        },
        {
          "metadata": {
            "tags": null
          },
          "name": "stdout",
          "output_type": "stream",
          "text": [
            "Scraping Game  2020020515 2021-03-25\n"
          ]
        },
        {
          "metadata": {
            "tags": null
          },
          "name": "stderr",
          "output_type": "stream",
          "text": [
            "\u001b[0;31mError: Error parsing Json pbp for game 2020020515 'period'\n",
            "\u001b[0m\u001b[0;33mWarning: Using espn for pbp\n",
            "\u001b[0m\u001b[0;31mError: Espn pbp for game 2021-03-25 BOS NYI is either not there or can't be obtained \n",
            "\u001b[0m"
          ]
        },
        {
          "metadata": {
            "tags": null
          },
          "name": "stdout",
          "output_type": "stream",
          "text": [
            "Scraping Game  2020020516 2021-03-25\n"
          ]
        },
        {
          "metadata": {
            "tags": null
          },
          "name": "stderr",
          "output_type": "stream",
          "text": [
            "\u001b[0;31mError: Error parsing Json pbp for game 2020020516 'period'\n",
            "\u001b[0m\u001b[0;33mWarning: Using espn for pbp\n",
            "\u001b[0m\u001b[0;31mError: Espn pbp for game 2021-03-25 PHI NYR is either not there or can't be obtained \n",
            "\u001b[0m"
          ]
        },
        {
          "metadata": {
            "tags": null
          },
          "name": "stdout",
          "output_type": "stream",
          "text": [
            "Scraping Game  2020020517 2021-03-25\n"
          ]
        },
        {
          "metadata": {
            "tags": null
          },
          "name": "stderr",
          "output_type": "stream",
          "text": [
            "\u001b[0;31mError: Error parsing Json pbp for game 2020020517 'period'\n",
            "\u001b[0m\u001b[0;33mWarning: Using espn for pbp\n",
            "\u001b[0m\u001b[0;31mError: Espn pbp for game 2021-03-25 WSH N.J is either not there or can't be obtained \n",
            "\u001b[0m"
          ]
        },
        {
          "metadata": {
            "tags": null
          },
          "name": "stdout",
          "output_type": "stream",
          "text": [
            "Scraping Game  2020020518 2021-03-25\n"
          ]
        },
        {
          "metadata": {
            "tags": null
          },
          "name": "stderr",
          "output_type": "stream",
          "text": [
            "\u001b[0;31mError: Error parsing Json pbp for game 2020020518 'period'\n",
            "\u001b[0m\u001b[0;33mWarning: Using espn for pbp\n",
            "\u001b[0m\u001b[0;31mError: Espn pbp for game 2021-03-25 CBJ CAR is either not there or can't be obtained \n",
            "\u001b[0m"
          ]
        },
        {
          "metadata": {
            "tags": null
          },
          "name": "stdout",
          "output_type": "stream",
          "text": [
            "Scraping Game  2020020521 2021-03-25\n"
          ]
        },
        {
          "metadata": {
            "tags": null
          },
          "name": "stderr",
          "output_type": "stream",
          "text": [
            "\u001b[0;31mError: Error parsing Json pbp for game 2020020521 'period'\n",
            "\u001b[0m\u001b[0;33mWarning: Using espn for pbp\n",
            "\u001b[0m\u001b[0;31mError: Espn pbp for game 2021-03-25 OTT TOR is either not there or can't be obtained \n",
            "\u001b[0m"
          ]
        },
        {
          "metadata": {
            "tags": null
          },
          "name": "stdout",
          "output_type": "stream",
          "text": [
            "Scraping Game  2020020532 2021-03-25\n"
          ]
        },
        {
          "metadata": {
            "tags": null
          },
          "name": "stderr",
          "output_type": "stream",
          "text": [
            "\u001b[0;31mError: Error parsing Json pbp for game 2020020532 'period'\n",
            "\u001b[0m\u001b[0;33mWarning: Using espn for pbp\n",
            "\u001b[0m\u001b[0;31mError: Espn pbp for game 2021-03-25 PIT BUF is either not there or can't be obtained \n",
            "\u001b[0m"
          ]
        },
        {
          "metadata": {
            "tags": null
          },
          "name": "stdout",
          "output_type": "stream",
          "text": [
            "Scraping Game  2020020223 2021-03-25\n"
          ]
        },
        {
          "metadata": {
            "tags": null
          },
          "name": "stderr",
          "output_type": "stream",
          "text": [
            "\u001b[0;31mError: Error parsing Json pbp for game 2020020223 'period'\n",
            "\u001b[0m\u001b[0;33mWarning: Using espn for pbp\n",
            "\u001b[0m\u001b[0;31mError: Espn pbp for game 2021-03-25 MIN STL is either not there or can't be obtained \n",
            "\u001b[0m"
          ]
        },
        {
          "metadata": {
            "tags": null
          },
          "name": "stdout",
          "output_type": "stream",
          "text": [
            "Scraping Game  2020020519 2021-03-25\n"
          ]
        },
        {
          "metadata": {
            "tags": null
          },
          "name": "stderr",
          "output_type": "stream",
          "text": [
            "\u001b[0;31mError: Error parsing Json pbp for game 2020020519 'period'\n",
            "\u001b[0m\u001b[0;33mWarning: Using espn for pbp\n",
            "\u001b[0m\u001b[0;31mError: Espn pbp for game 2021-03-25 CHI FLA is either not there or can't be obtained \n",
            "\u001b[0m"
          ]
        },
        {
          "metadata": {
            "tags": null
          },
          "name": "stdout",
          "output_type": "stream",
          "text": [
            "Scraping Game  2020020520 2021-03-25\n"
          ]
        },
        {
          "metadata": {
            "tags": null
          },
          "name": "stderr",
          "output_type": "stream",
          "text": [
            "\u001b[0;31mError: Error parsing Json pbp for game 2020020520 'period'\n",
            "\u001b[0m\u001b[0;33mWarning: Using espn for pbp\n",
            "\u001b[0m\u001b[0;31mError: Espn pbp for game 2021-03-25 NSH DET is either not there or can't be obtained \n",
            "\u001b[0m"
          ]
        },
        {
          "metadata": {
            "tags": null
          },
          "name": "stdout",
          "output_type": "stream",
          "text": [
            "Scraping Game  2020020522 2021-03-25\n"
          ]
        },
        {
          "metadata": {
            "tags": null
          },
          "name": "stderr",
          "output_type": "stream",
          "text": [
            "\u001b[0;31mError: Error parsing Json pbp for game 2020020522 'period'\n",
            "\u001b[0m\u001b[0;33mWarning: Using espn for pbp\n",
            "\u001b[0m\u001b[0;31mError: Espn pbp for game 2021-03-25 DAL T.B is either not there or can't be obtained \n",
            "\u001b[0m"
          ]
        },
        {
          "metadata": {
            "tags": null
          },
          "name": "stdout",
          "output_type": "stream",
          "text": [
            "Scraping Game  2020020523 2021-03-25\n"
          ]
        },
        {
          "metadata": {
            "tags": null
          },
          "name": "stderr",
          "output_type": "stream",
          "text": [
            "\u001b[0;31mError: Error parsing Json pbp for game 2020020523 'period'\n",
            "\u001b[0m\u001b[0;33mWarning: Using espn for pbp\n",
            "\u001b[0m\u001b[0;31mError: Espn pbp for game 2021-03-25 COL VGK is either not there or can't be obtained \n",
            "\u001b[0m"
          ]
        },
        {
          "metadata": {
            "tags": null
          },
          "name": "stdout",
          "output_type": "stream",
          "text": [
            "Scraping Game  2020020524 2021-03-26\n"
          ]
        },
        {
          "metadata": {
            "tags": null
          },
          "name": "stderr",
          "output_type": "stream",
          "text": [
            "\u001b[0;31mError: Error parsing Json pbp for game 2020020524 'period'\n",
            "\u001b[0m\u001b[0;33mWarning: Using espn for pbp\n",
            "\u001b[0m\u001b[0;31mError: Espn pbp for game 2021-03-26 WSH N.J is either not there or can't be obtained \n",
            "\u001b[0m"
          ]
        },
        {
          "metadata": {
            "tags": null
          },
          "name": "stdout",
          "output_type": "stream",
          "text": [
            "Scraping Game  2020020525 2021-03-26\n"
          ]
        },
        {
          "metadata": {
            "tags": null
          },
          "name": "stderr",
          "output_type": "stream",
          "text": [
            "\u001b[0;31mError: Error parsing Json pbp for game 2020020525 'period'\n",
            "\u001b[0m\u001b[0;33mWarning: Using espn for pbp\n",
            "\u001b[0m\u001b[0;31mError: Espn pbp for game 2021-03-26 STL ANA is either not there or can't be obtained \n",
            "\u001b[0m"
          ]
        },
        {
          "metadata": {
            "tags": null
          },
          "name": "stdout",
          "output_type": "stream",
          "text": [
            "Scraping Game  2020020527 2021-03-26\n"
          ]
        },
        {
          "metadata": {
            "tags": null
          },
          "name": "stderr",
          "output_type": "stream",
          "text": [
            "\u001b[0;31mError: Error parsing Json pbp for game 2020020527 'period'\n",
            "\u001b[0m\u001b[0;33mWarning: Using espn for pbp\n",
            "\u001b[0m\u001b[0;31mError: Espn pbp for game 2021-03-26 CGY WPG is either not there or can't be obtained \n",
            "\u001b[0m"
          ]
        },
        {
          "metadata": {
            "tags": null
          },
          "name": "stdout",
          "output_type": "stream",
          "text": [
            "Scraping Game  2020020528 2021-03-26\n"
          ]
        },
        {
          "metadata": {
            "tags": null
          },
          "name": "stderr",
          "output_type": "stream",
          "text": [
            "\u001b[0;31mError: Error parsing Json pbp for game 2020020528 'period'\n",
            "\u001b[0m\u001b[0;33mWarning: Using espn for pbp\n",
            "\u001b[0m\u001b[0;31mError: Espn pbp for game 2021-03-26 ARI S.J is either not there or can't be obtained \n",
            "\u001b[0m"
          ]
        },
        {
          "metadata": {
            "tags": null
          },
          "name": "stdout",
          "output_type": "stream",
          "text": [
            "Scraping Game  2020020179 2021-03-27\n"
          ]
        },
        {
          "metadata": {
            "tags": null
          },
          "name": "stderr",
          "output_type": "stream",
          "text": [
            "\u001b[0;31mError: Error parsing Json pbp for game 2020020179 'period'\n",
            "\u001b[0m\u001b[0;33mWarning: Using espn for pbp\n",
            "\u001b[0m\u001b[0;31mError: Espn pbp for game 2021-03-27 BOS BUF is either not there or can't be obtained \n",
            "\u001b[0m"
          ]
        },
        {
          "metadata": {
            "tags": null
          },
          "name": "stdout",
          "output_type": "stream",
          "text": [
            "Scraping Game  2020020530 2021-03-27\n"
          ]
        },
        {
          "metadata": {
            "tags": null
          },
          "name": "stderr",
          "output_type": "stream",
          "text": [
            "\u001b[0;31mError: Error parsing Json pbp for game 2020020530 'period'\n",
            "\u001b[0m\u001b[0;33mWarning: Using espn for pbp\n",
            "\u001b[0m\u001b[0;31mError: Espn pbp for game 2021-03-27 PHI NYR is either not there or can't be obtained \n",
            "\u001b[0m"
          ]
        },
        {
          "metadata": {
            "tags": null
          },
          "name": "stdout",
          "output_type": "stream",
          "text": [
            "Scraping Game  2020020533 2021-03-27\n"
          ]
        },
        {
          "metadata": {
            "tags": null
          },
          "name": "stderr",
          "output_type": "stream",
          "text": [
            "\u001b[0;31mError: Error parsing Json pbp for game 2020020533 'period'\n",
            "\u001b[0m\u001b[0;33mWarning: Using espn for pbp\n",
            "\u001b[0m\u001b[0;31mError: Espn pbp for game 2021-03-27 DET CBJ is either not there or can't be obtained \n",
            "\u001b[0m"
          ]
        },
        {
          "metadata": {
            "tags": null
          },
          "name": "stdout",
          "output_type": "stream",
          "text": [
            "Scraping Game  2020020539 2021-03-27\n"
          ]
        },
        {
          "metadata": {
            "tags": null
          },
          "name": "stderr",
          "output_type": "stream",
          "text": [
            "\u001b[0;31mError: Error parsing Json pbp for game 2020020539 'period'\n",
            "\u001b[0m\u001b[0;33mWarning: Using espn for pbp\n",
            "\u001b[0m\u001b[0;31mError: Espn pbp for game 2021-03-27 COL VGK is either not there or can't be obtained \n",
            "\u001b[0m"
          ]
        },
        {
          "metadata": {
            "tags": null
          },
          "name": "stdout",
          "output_type": "stream",
          "text": [
            "Scraping Game  2020020531 2021-03-27\n"
          ]
        },
        {
          "metadata": {
            "tags": null
          },
          "name": "stderr",
          "output_type": "stream",
          "text": [
            "\u001b[0;31mError: Error parsing Json pbp for game 2020020531 'period'\n",
            "\u001b[0m\u001b[0;33mWarning: Using espn for pbp\n",
            "\u001b[0m\u001b[0;31mError: Espn pbp for game 2021-03-27 CAR T.B is either not there or can't be obtained \n",
            "\u001b[0m"
          ]
        },
        {
          "metadata": {
            "tags": null
          },
          "name": "stdout",
          "output_type": "stream",
          "text": [
            "Scraping Game  2020020536 2021-03-27\n"
          ]
        },
        {
          "metadata": {
            "tags": null
          },
          "name": "stderr",
          "output_type": "stream",
          "text": [
            "\u001b[0;31mError: Error parsing Json pbp for game 2020020536 'period'\n",
            "\u001b[0m\u001b[0;33mWarning: Using espn for pbp\n",
            "\u001b[0m\u001b[0;31mError: Espn pbp for game 2021-03-27 TOR EDM is either not there or can't be obtained \n",
            "\u001b[0m"
          ]
        },
        {
          "metadata": {
            "tags": null
          },
          "name": "stdout",
          "output_type": "stream",
          "text": [
            "Scraping Game  2020020561 2021-03-27\n"
          ]
        },
        {
          "metadata": {
            "tags": null
          },
          "name": "stderr",
          "output_type": "stream",
          "text": [
            "\u001b[0;31mError: Error parsing Json pbp for game 2020020561 'period'\n",
            "\u001b[0m\u001b[0;33mWarning: Using espn for pbp\n",
            "\u001b[0m\u001b[0;31mError: Espn pbp for game 2021-03-27 PIT NYI is either not there or can't be obtained \n",
            "\u001b[0m"
          ]
        },
        {
          "metadata": {
            "tags": null
          },
          "name": "stdout",
          "output_type": "stream",
          "text": [
            "Scraping Game  2020020534 2021-03-27\n"
          ]
        },
        {
          "metadata": {
            "tags": null
          },
          "name": "stderr",
          "output_type": "stream",
          "text": [
            "\u001b[0;31mError: Error parsing Json pbp for game 2020020534 'period'\n",
            "\u001b[0m\u001b[0;33mWarning: Using espn for pbp\n",
            "\u001b[0m\u001b[0;31mError: Espn pbp for game 2021-03-27 CHI NSH is either not there or can't be obtained \n",
            "\u001b[0m"
          ]
        },
        {
          "metadata": {
            "tags": null
          },
          "name": "stdout",
          "output_type": "stream",
          "text": [
            "Scraping Game  2020020538 2021-03-27\n"
          ]
        },
        {
          "metadata": {
            "tags": null
          },
          "name": "stderr",
          "output_type": "stream",
          "text": [
            "\u001b[0;31mError: Error parsing Json pbp for game 2020020538 'period'\n",
            "\u001b[0m\u001b[0;33mWarning: Using espn for pbp\n",
            "\u001b[0m\u001b[0;31mError: Espn pbp for game 2021-03-27 DAL FLA is either not there or can't be obtained \n",
            "\u001b[0m"
          ]
        },
        {
          "metadata": {
            "tags": null
          },
          "name": "stdout",
          "output_type": "stream",
          "text": [
            "Scraping Game  2020020537 2021-03-27\n"
          ]
        },
        {
          "metadata": {
            "tags": null
          },
          "name": "stderr",
          "output_type": "stream",
          "text": [
            "\u001b[0;31mError: Error parsing Json pbp for game 2020020537 'period'\n",
            "\u001b[0m\u001b[0;33mWarning: Using espn for pbp\n",
            "\u001b[0m\u001b[0;31mError: Espn pbp for game 2021-03-27 CGY WPG is either not there or can't be obtained \n",
            "\u001b[0m"
          ]
        },
        {
          "metadata": {
            "tags": null
          },
          "name": "stdout",
          "output_type": "stream",
          "text": [
            "Scraping Game  2020020540 2021-03-27\n"
          ]
        },
        {
          "metadata": {
            "tags": null
          },
          "name": "stderr",
          "output_type": "stream",
          "text": [
            "\u001b[0;31mError: Error parsing Json pbp for game 2020020540 'period'\n",
            "\u001b[0m\u001b[0;33mWarning: Using espn for pbp\n",
            "\u001b[0m\u001b[0;31mError: Espn pbp for game 2021-03-27 ARI S.J is either not there or can't be obtained \n",
            "\u001b[0m"
          ]
        },
        {
          "metadata": {
            "tags": null
          },
          "name": "stdout",
          "output_type": "stream",
          "text": [
            "Scraping Game  2020020542 2021-03-28\n"
          ]
        },
        {
          "metadata": {
            "tags": null
          },
          "name": "stderr",
          "output_type": "stream",
          "text": [
            "\u001b[0;31mError: Error parsing Json pbp for game 2020020542 'period'\n",
            "\u001b[0m\u001b[0;33mWarning: Using espn for pbp\n",
            "\u001b[0m\u001b[0;31mError: Espn pbp for game 2021-03-28 WSH NYR is either not there or can't be obtained \n",
            "\u001b[0m"
          ]
        },
        {
          "metadata": {
            "tags": null
          },
          "name": "stdout",
          "output_type": "stream",
          "text": [
            "Scraping Game  2020020544 2021-03-28\n"
          ]
        },
        {
          "metadata": {
            "tags": null
          },
          "name": "stderr",
          "output_type": "stream",
          "text": [
            "\u001b[0;31mError: Error parsing Json pbp for game 2020020544 'period'\n",
            "\u001b[0m\u001b[0;33mWarning: Using espn for pbp\n",
            "\u001b[0m\u001b[0;31mError: Espn pbp for game 2021-03-28 DET CBJ is either not there or can't be obtained \n",
            "\u001b[0m"
          ]
        },
        {
          "metadata": {
            "tags": null
          },
          "name": "stdout",
          "output_type": "stream",
          "text": [
            "Scraping Game  2020020535 2021-03-28\n"
          ]
        },
        {
          "metadata": {
            "tags": null
          },
          "name": "stderr",
          "output_type": "stream",
          "text": [
            "\u001b[0;31mError: Error parsing Json pbp for game 2020020535 'period'\n",
            "\u001b[0m\u001b[0;33mWarning: Using espn for pbp\n",
            "\u001b[0m\u001b[0;31mError: Espn pbp for game 2021-03-28 STL ANA is either not there or can't be obtained \n",
            "\u001b[0m"
          ]
        },
        {
          "metadata": {
            "tags": null
          },
          "name": "stdout",
          "output_type": "stream",
          "text": [
            "Scraping Game  2020020541 2021-03-28\n"
          ]
        },
        {
          "metadata": {
            "tags": null
          },
          "name": "stderr",
          "output_type": "stream",
          "text": [
            "\u001b[0;31mError: Error parsing Json pbp for game 2020020541 'period'\n",
            "\u001b[0m\u001b[0;33mWarning: Using espn for pbp\n",
            "\u001b[0m\u001b[0;31mError: Espn pbp for game 2021-03-28 BOS N.J is either not there or can't be obtained \n",
            "\u001b[0m"
          ]
        },
        {
          "metadata": {
            "tags": null
          },
          "name": "stdout",
          "output_type": "stream",
          "text": [
            "Scraping Game  2020020547 2021-03-28\n"
          ]
        },
        {
          "metadata": {
            "tags": null
          },
          "name": "stderr",
          "output_type": "stream",
          "text": [
            "\u001b[0;31mError: Error parsing Json pbp for game 2020020547 'period'\n",
            "\u001b[0m\u001b[0;33mWarning: Using espn for pbp\n",
            "\u001b[0m\u001b[0;31mError: Espn pbp for game 2021-03-28 DAL FLA is either not there or can't be obtained \n",
            "\u001b[0m"
          ]
        },
        {
          "metadata": {
            "tags": null
          },
          "name": "stdout",
          "output_type": "stream",
          "text": [
            "Scraping Game  2020020545 2021-03-28\n"
          ]
        },
        {
          "metadata": {
            "tags": null
          },
          "name": "stderr",
          "output_type": "stream",
          "text": [
            "\u001b[0;31mError: Error parsing Json pbp for game 2020020545 'period'\n",
            "\u001b[0m\u001b[0;33mWarning: Using espn for pbp\n",
            "\u001b[0m\u001b[0;31mError: Espn pbp for game 2021-03-28 CHI NSH is either not there or can't be obtained \n",
            "\u001b[0m"
          ]
        },
        {
          "metadata": {
            "tags": null
          },
          "name": "stdout",
          "output_type": "stream",
          "text": [
            "Scraping Game  2020020548 2021-03-29\n"
          ]
        },
        {
          "metadata": {
            "tags": null
          },
          "name": "stderr",
          "output_type": "stream",
          "text": [
            "\u001b[0;31mError: Error parsing Json pbp for game 2020020548 'period'\n",
            "\u001b[0m\u001b[0;33mWarning: Using espn for pbp\n",
            "\u001b[0m\u001b[0;31mError: Espn pbp for game 2021-03-29 BUF PHI is either not there or can't be obtained \n",
            "\u001b[0m"
          ]
        },
        {
          "metadata": {
            "tags": null
          },
          "name": "stdout",
          "output_type": "stream",
          "text": [
            "Scraping Game  2020020549 2021-03-29\n"
          ]
        },
        {
          "metadata": {
            "tags": null
          },
          "name": "stderr",
          "output_type": "stream",
          "text": [
            "\u001b[0;31mError: Error parsing Json pbp for game 2020020549 'period'\n",
            "\u001b[0m\u001b[0;33mWarning: Using espn for pbp\n",
            "\u001b[0m\u001b[0;31mError: Espn pbp for game 2021-03-29 PIT NYI is either not there or can't be obtained \n",
            "\u001b[0m"
          ]
        },
        {
          "metadata": {
            "tags": null
          },
          "name": "stdout",
          "output_type": "stream",
          "text": [
            "Scraping Game  2020020551 2021-03-29\n"
          ]
        },
        {
          "metadata": {
            "tags": null
          },
          "name": "stderr",
          "output_type": "stream",
          "text": [
            "\u001b[0;31mError: Error parsing Json pbp for game 2020020551 'period'\n",
            "\u001b[0m\u001b[0;33mWarning: Using espn for pbp\n",
            "\u001b[0m\u001b[0;31mError: Espn pbp for game 2021-03-29 TOR EDM is either not there or can't be obtained \n",
            "\u001b[0m"
          ]
        },
        {
          "metadata": {
            "tags": null
          },
          "name": "stdout",
          "output_type": "stream",
          "text": [
            "Scraping Game  2020020553 2021-03-29\n"
          ]
        },
        {
          "metadata": {
            "tags": null
          },
          "name": "stderr",
          "output_type": "stream",
          "text": [
            "\u001b[0;31mError: Error parsing Json pbp for game 2020020553 'period'\n",
            "\u001b[0m\u001b[0;33mWarning: Using espn for pbp\n",
            "\u001b[0m\u001b[0;31mError: Espn pbp for game 2021-03-29 COL ANA is either not there or can't be obtained \n",
            "\u001b[0m"
          ]
        },
        {
          "metadata": {
            "tags": null
          },
          "name": "stdout",
          "output_type": "stream",
          "text": [
            "Scraping Game  2020020552 2021-03-29\n"
          ]
        },
        {
          "metadata": {
            "tags": null
          },
          "name": "stderr",
          "output_type": "stream",
          "text": [
            "\u001b[0;31mError: Error parsing Json pbp for game 2020020552 'period'\n",
            "\u001b[0m\u001b[0;33mWarning: Using espn for pbp\n",
            "\u001b[0m\u001b[0;31mError: Espn pbp for game 2021-03-29 CGY WPG is either not there or can't be obtained \n",
            "\u001b[0m"
          ]
        },
        {
          "metadata": {
            "tags": null
          },
          "name": "stdout",
          "output_type": "stream",
          "text": [
            "Scraping Game  2020020554 2021-03-29\n"
          ]
        },
        {
          "metadata": {
            "tags": null
          },
          "name": "stderr",
          "output_type": "stream",
          "text": [
            "\u001b[0;31mError: Error parsing Json pbp for game 2020020554 'period'\n",
            "\u001b[0m\u001b[0;33mWarning: Using espn for pbp\n",
            "\u001b[0m\u001b[0;31mError: Espn pbp for game 2021-03-29 VGK L.A is either not there or can't be obtained \n",
            "\u001b[0m"
          ]
        },
        {
          "metadata": {
            "tags": null
          },
          "name": "stdout",
          "output_type": "stream",
          "text": [
            "Scraping Game  2020020555 2021-03-29\n"
          ]
        },
        {
          "metadata": {
            "tags": null
          },
          "name": "stderr",
          "output_type": "stream",
          "text": [
            "\u001b[0;31mError: Error parsing Json pbp for game 2020020555 'period'\n",
            "\u001b[0m\u001b[0;33mWarning: Using espn for pbp\n",
            "\u001b[0m\u001b[0;31mError: Espn pbp for game 2021-03-29 S.J MIN is either not there or can't be obtained \n",
            "\u001b[0m"
          ]
        },
        {
          "metadata": {
            "tags": null
          },
          "name": "stdout",
          "output_type": "stream",
          "text": [
            "Scraping Game  2020020498 2021-03-30\n"
          ]
        },
        {
          "metadata": {
            "tags": null
          },
          "name": "stderr",
          "output_type": "stream",
          "text": [
            "\u001b[0;31mError: Error parsing Json pbp for game 2020020498 'period'\n",
            "\u001b[0m\u001b[0;33mWarning: Using espn for pbp\n",
            "\u001b[0m\u001b[0;31mError: Espn pbp for game 2021-03-30 MTL EDM is either not there or can't be obtained \n",
            "\u001b[0m"
          ]
        },
        {
          "metadata": {
            "tags": null
          },
          "name": "stdout",
          "output_type": "stream",
          "text": [
            "Scraping Game  2020020556 2021-03-30\n"
          ]
        },
        {
          "metadata": {
            "tags": null
          },
          "name": "stderr",
          "output_type": "stream",
          "text": [
            "\u001b[0;31mError: Error parsing Json pbp for game 2020020556 'period'\n",
            "\u001b[0m\u001b[0;33mWarning: Using espn for pbp\n",
            "\u001b[0m\u001b[0;31mError: Espn pbp for game 2021-03-30 BOS N.J is either not there or can't be obtained \n",
            "\u001b[0m"
          ]
        },
        {
          "metadata": {
            "tags": null
          },
          "name": "stdout",
          "output_type": "stream",
          "text": [
            "Scraping Game  2020020558 2021-03-30\n"
          ]
        },
        {
          "metadata": {
            "tags": null
          },
          "name": "stderr",
          "output_type": "stream",
          "text": [
            "\u001b[0;31mError: Error parsing Json pbp for game 2020020558 'period'\n",
            "\u001b[0m\u001b[0;33mWarning: Using espn for pbp\n",
            "\u001b[0m\u001b[0;31mError: Espn pbp for game 2021-03-30 NYR WSH is either not there or can't be obtained \n",
            "\u001b[0m"
          ]
        },
        {
          "metadata": {
            "tags": null
          },
          "name": "stdout",
          "output_type": "stream",
          "text": [
            "Scraping Game  2020020559 2021-03-30\n"
          ]
        },
        {
          "metadata": {
            "tags": null
          },
          "name": "stderr",
          "output_type": "stream",
          "text": [
            "\u001b[0;31mError: Error parsing Json pbp for game 2020020559 'period'\n",
            "\u001b[0m\u001b[0;33mWarning: Using espn for pbp\n",
            "\u001b[0m\u001b[0;31mError: Espn pbp for game 2021-03-30 T.B CBJ is either not there or can't be obtained \n",
            "\u001b[0m"
          ]
        },
        {
          "metadata": {
            "tags": null
          },
          "name": "stdout",
          "output_type": "stream",
          "text": [
            "Scraping Game  2020020560 2021-03-30\n"
          ]
        },
        {
          "metadata": {
            "tags": null
          },
          "name": "stderr",
          "output_type": "stream",
          "text": [
            "\u001b[0;31mError: Error parsing Json pbp for game 2020020560 'period'\n",
            "\u001b[0m\u001b[0;33mWarning: Using espn for pbp\n",
            "\u001b[0m\u001b[0;31mError: Espn pbp for game 2021-03-30 FLA DET is either not there or can't be obtained \n",
            "\u001b[0m"
          ]
        },
        {
          "metadata": {
            "tags": null
          },
          "name": "stdout",
          "output_type": "stream",
          "text": [
            "Scraping Game  2020020562 2021-03-30\n"
          ]
        },
        {
          "metadata": {
            "tags": null
          },
          "name": "stderr",
          "output_type": "stream",
          "text": [
            "\u001b[0;31mError: Error parsing Json pbp for game 2020020562 'period'\n",
            "\u001b[0m\u001b[0;33mWarning: Using espn for pbp\n",
            "\u001b[0m\u001b[0;31mError: Espn pbp for game 2021-03-30 CHI CAR is either not there or can't be obtained \n",
            "\u001b[0m"
          ]
        },
        {
          "metadata": {
            "tags": null
          },
          "name": "stdout",
          "output_type": "stream",
          "text": [
            "Scraping Game  2020020563 2021-03-30\n"
          ]
        },
        {
          "metadata": {
            "tags": null
          },
          "name": "stderr",
          "output_type": "stream",
          "text": [
            "\u001b[0;31mError: Error parsing Json pbp for game 2020020563 'period'\n",
            "\u001b[0m\u001b[0;33mWarning: Using espn for pbp\n",
            "\u001b[0m\u001b[0;31mError: Espn pbp for game 2021-03-30 NSH DAL is either not there or can't be obtained \n",
            "\u001b[0m"
          ]
        },
        {
          "metadata": {
            "tags": null
          },
          "name": "stdout",
          "output_type": "stream",
          "text": [
            "Scraping Game  2020020557 2021-03-31\n"
          ]
        },
        {
          "metadata": {
            "tags": null
          },
          "name": "stderr",
          "output_type": "stream",
          "text": [
            "\u001b[0;31mError: Error parsing Json pbp for game 2020020557 'period'\n",
            "\u001b[0m\u001b[0;33mWarning: Using espn for pbp\n",
            "\u001b[0m\u001b[0;31mError: Espn pbp for game 2021-03-31 BUF PHI is either not there or can't be obtained \n",
            "\u001b[0m"
          ]
        },
        {
          "metadata": {
            "tags": null
          },
          "name": "stdout",
          "output_type": "stream",
          "text": [
            "Scraping Game  2020020566 2021-03-31\n"
          ]
        },
        {
          "metadata": {
            "tags": null
          },
          "name": "stderr",
          "output_type": "stream",
          "text": [
            "\u001b[0;31mError: Error parsing Json pbp for game 2020020566 'period'\n",
            "\u001b[0m\u001b[0;33mWarning: Using espn for pbp\n",
            "\u001b[0m\u001b[0;31mError: Espn pbp for game 2021-03-31 WPG TOR is either not there or can't be obtained \n",
            "\u001b[0m"
          ]
        },
        {
          "metadata": {
            "tags": null
          },
          "name": "stdout",
          "output_type": "stream",
          "text": [
            "Scraping Game  2020020209 2021-03-31\n"
          ]
        },
        {
          "metadata": {
            "tags": null
          },
          "name": "stderr",
          "output_type": "stream",
          "text": [
            "\u001b[0;31mError: Error parsing Json pbp for game 2020020209 'period'\n",
            "\u001b[0m\u001b[0;33mWarning: Using espn for pbp\n",
            "\u001b[0m\u001b[0;31mError: Espn pbp for game 2021-03-31 COL ARI is either not there or can't be obtained \n",
            "\u001b[0m"
          ]
        },
        {
          "metadata": {
            "tags": null
          },
          "name": "stdout",
          "output_type": "stream",
          "text": [
            "Scraping Game  2020020569 2021-03-31\n"
          ]
        },
        {
          "metadata": {
            "tags": null
          },
          "name": "stderr",
          "output_type": "stream",
          "text": [
            "\u001b[0;31mError: Error parsing Json pbp for game 2020020569 'period'\n",
            "\u001b[0m\u001b[0;33mWarning: Using espn for pbp\n",
            "\u001b[0m\u001b[0;31mError: Espn pbp for game 2021-03-31 VGK L.A is either not there or can't be obtained \n",
            "\u001b[0m"
          ]
        },
        {
          "metadata": {
            "tags": null
          },
          "name": "stdout",
          "output_type": "stream",
          "text": [
            "Scraping Game  2020020570 2021-03-31\n"
          ]
        },
        {
          "metadata": {
            "tags": null
          },
          "name": "stderr",
          "output_type": "stream",
          "text": [
            "\u001b[0;31mError: Error parsing Json pbp for game 2020020570 'period'\n",
            "\u001b[0m\u001b[0;33mWarning: Using espn for pbp\n",
            "\u001b[0m\u001b[0;31mError: Espn pbp for game 2021-03-31 S.J MIN is either not there or can't be obtained \n",
            "\u001b[0m"
          ]
        },
        {
          "metadata": {
            "tags": null
          },
          "name": "stdout",
          "output_type": "stream",
          "text": [
            "Scraping Game  2020020571 2021-04-01\n"
          ]
        },
        {
          "metadata": {
            "tags": null
          },
          "name": "stderr",
          "output_type": "stream",
          "text": [
            "\u001b[0;31mError: Error parsing Json pbp for game 2020020571 'period'\n",
            "\u001b[0m\u001b[0;33mWarning: Using espn for pbp\n",
            "\u001b[0m\u001b[0;31mError: Espn pbp for game 2021-04-01 BOS PIT is either not there or can't be obtained \n",
            "\u001b[0m"
          ]
        },
        {
          "metadata": {
            "tags": null
          },
          "name": "stdout",
          "output_type": "stream",
          "text": [
            "Scraping Game  2020020572 2021-04-01\n"
          ]
        },
        {
          "metadata": {
            "tags": null
          },
          "name": "stderr",
          "output_type": "stream",
          "text": [
            "\u001b[0;31mError: Error parsing Json pbp for game 2020020572 'period'\n",
            "\u001b[0m\u001b[0;33mWarning: Using espn for pbp\n",
            "\u001b[0m\u001b[0;31mError: Espn pbp for game 2021-04-01 BUF NYR is either not there or can't be obtained \n",
            "\u001b[0m"
          ]
        },
        {
          "metadata": {
            "tags": null
          },
          "name": "stdout",
          "output_type": "stream",
          "text": [
            "Scraping Game  2020020573 2021-04-01\n"
          ]
        },
        {
          "metadata": {
            "tags": null
          },
          "name": "stderr",
          "output_type": "stream",
          "text": [
            "\u001b[0;31mError: Error parsing Json pbp for game 2020020573 'period'\n",
            "\u001b[0m\u001b[0;33mWarning: Using espn for pbp\n",
            "\u001b[0m\u001b[0;31mError: Espn pbp for game 2021-04-01 NYI WSH is either not there or can't be obtained \n",
            "\u001b[0m"
          ]
        },
        {
          "metadata": {
            "tags": null
          },
          "name": "stdout",
          "output_type": "stream",
          "text": [
            "Scraping Game  2020020574 2021-04-01\n"
          ]
        },
        {
          "metadata": {
            "tags": null
          },
          "name": "stderr",
          "output_type": "stream",
          "text": [
            "\u001b[0;31mError: Error parsing Json pbp for game 2020020574 'period'\n",
            "\u001b[0m\u001b[0;33mWarning: Using espn for pbp\n",
            "\u001b[0m\u001b[0;31mError: Espn pbp for game 2021-04-01 T.B CBJ is either not there or can't be obtained \n",
            "\u001b[0m"
          ]
        },
        {
          "metadata": {
            "tags": null
          },
          "name": "stdout",
          "output_type": "stream",
          "text": [
            "Scraping Game  2020020575 2021-04-01\n"
          ]
        },
        {
          "metadata": {
            "tags": null
          },
          "name": "stderr",
          "output_type": "stream",
          "text": [
            "\u001b[0;31mError: Error parsing Json pbp for game 2020020575 'period'\n",
            "\u001b[0m\u001b[0;33mWarning: Using espn for pbp\n",
            "\u001b[0m\u001b[0;31mError: Espn pbp for game 2021-04-01 FLA DET is either not there or can't be obtained \n",
            "\u001b[0m"
          ]
        },
        {
          "metadata": {
            "tags": null
          },
          "name": "stdout",
          "output_type": "stream",
          "text": [
            "Scraping Game  2020020578 2021-04-01\n"
          ]
        },
        {
          "metadata": {
            "tags": null
          },
          "name": "stderr",
          "output_type": "stream",
          "text": [
            "\u001b[0;31mError: Error parsing Json pbp for game 2020020578 'period'\n",
            "\u001b[0m\u001b[0;33mWarning: Using espn for pbp\n",
            "\u001b[0m\u001b[0;31mError: Espn pbp for game 2021-04-01 OTT MTL is either not there or can't be obtained \n",
            "\u001b[0m"
          ]
        },
        {
          "metadata": {
            "tags": null
          },
          "name": "stdout",
          "output_type": "stream",
          "text": [
            "Scraping Game  2020020576 2021-04-01\n"
          ]
        },
        {
          "metadata": {
            "tags": null
          },
          "name": "stderr",
          "output_type": "stream",
          "text": [
            "\u001b[0;31mError: Error parsing Json pbp for game 2020020576 'period'\n",
            "\u001b[0m\u001b[0;33mWarning: Using espn for pbp\n",
            "\u001b[0m\u001b[0;31mError: Espn pbp for game 2021-04-01 CHI CAR is either not there or can't be obtained \n",
            "\u001b[0m"
          ]
        },
        {
          "metadata": {
            "tags": null
          },
          "name": "stdout",
          "output_type": "stream",
          "text": [
            "Scraping Game  2020020577 2021-04-01\n"
          ]
        },
        {
          "metadata": {
            "tags": null
          },
          "name": "stderr",
          "output_type": "stream",
          "text": [
            "\u001b[0;31mError: Error parsing Json pbp for game 2020020577 'period'\n",
            "\u001b[0m\u001b[0;33mWarning: Using espn for pbp\n",
            "\u001b[0m\u001b[0;31mError: Espn pbp for game 2021-04-01 NSH DAL is either not there or can't be obtained \n",
            "\u001b[0m"
          ]
        },
        {
          "metadata": {
            "tags": null
          },
          "name": "stdout",
          "output_type": "stream",
          "text": [
            "Scraping Game  2020020579 2021-04-01\n"
          ]
        },
        {
          "metadata": {
            "tags": null
          },
          "name": "stderr",
          "output_type": "stream",
          "text": [
            "\u001b[0;31mError: Error parsing Json pbp for game 2020020579 'period'\n",
            "\u001b[0m\u001b[0;33mWarning: Using espn for pbp\n",
            "\u001b[0m\u001b[0;31mError: Espn pbp for game 2021-04-01 VGK MIN is either not there or can't be obtained \n",
            "\u001b[0m"
          ]
        },
        {
          "metadata": {
            "tags": null
          },
          "name": "stdout",
          "output_type": "stream",
          "text": [
            "Scraping Game  2020020580 2021-04-02\n"
          ]
        },
        {
          "metadata": {
            "tags": null
          },
          "name": "stderr",
          "output_type": "stream",
          "text": [
            "\u001b[0;31mError: Error parsing Json pbp for game 2020020580 'period'\n",
            "\u001b[0m\u001b[0;33mWarning: Using espn for pbp\n",
            "\u001b[0m\u001b[0;31mError: Espn pbp for game 2021-04-02 N.J WSH is either not there or can't be obtained \n",
            "\u001b[0m"
          ]
        },
        {
          "metadata": {
            "tags": null
          },
          "name": "stdout",
          "output_type": "stream",
          "text": [
            "Scraping Game  2020020581 2021-04-02\n"
          ]
        },
        {
          "metadata": {
            "tags": null
          },
          "name": "stderr",
          "output_type": "stream",
          "text": [
            "\u001b[0;31mError: Error parsing Json pbp for game 2020020581 'period'\n",
            "\u001b[0m\u001b[0;33mWarning: Using espn for pbp\n",
            "\u001b[0m\u001b[0;31mError: Espn pbp for game 2021-04-02 WPG TOR is either not there or can't be obtained \n",
            "\u001b[0m"
          ]
        },
        {
          "metadata": {
            "tags": null
          },
          "name": "stdout",
          "output_type": "stream",
          "text": [
            "Scraping Game  2020020582 2021-04-02\n"
          ]
        },
        {
          "metadata": {
            "tags": null
          },
          "name": "stderr",
          "output_type": "stream",
          "text": [
            "\u001b[0;31mError: Error parsing Json pbp for game 2020020582 'period'\n",
            "\u001b[0m\u001b[0;33mWarning: Using espn for pbp\n",
            "\u001b[0m\u001b[0;31mError: Espn pbp for game 2021-04-02 EDM CGY is either not there or can't be obtained \n",
            "\u001b[0m"
          ]
        },
        {
          "metadata": {
            "tags": null
          },
          "name": "stdout",
          "output_type": "stream",
          "text": [
            "Scraping Game  2020020723 2021-04-02\n"
          ]
        },
        {
          "metadata": {
            "tags": null
          },
          "name": "stderr",
          "output_type": "stream",
          "text": [
            "\u001b[0;31mError: Error parsing Json pbp for game 2020020723 'period'\n",
            "\u001b[0m\u001b[0;33mWarning: Using espn for pbp\n",
            "\u001b[0m\u001b[0;31mError: Espn pbp for game 2021-04-02 COL STL is either not there or can't be obtained \n",
            "\u001b[0m"
          ]
        },
        {
          "metadata": {
            "tags": null
          },
          "name": "stdout",
          "output_type": "stream",
          "text": [
            "Scraping Game  2020020583 2021-04-02\n"
          ]
        },
        {
          "metadata": {
            "tags": null
          },
          "name": "stderr",
          "output_type": "stream",
          "text": [
            "\u001b[0;31mError: Error parsing Json pbp for game 2020020583 'period'\n",
            "\u001b[0m\u001b[0;33mWarning: Using espn for pbp\n",
            "\u001b[0m\u001b[0;31mError: Espn pbp for game 2021-04-02 ANA ARI is either not there or can't be obtained \n",
            "\u001b[0m"
          ]
        },
        {
          "metadata": {
            "tags": null
          },
          "name": "stdout",
          "output_type": "stream",
          "text": [
            "Scraping Game  2020020584 2021-04-02\n"
          ]
        },
        {
          "metadata": {
            "tags": null
          },
          "name": "stderr",
          "output_type": "stream",
          "text": [
            "\u001b[0;31mError: Error parsing Json pbp for game 2020020584 'period'\n",
            "\u001b[0m\u001b[0;33mWarning: Using espn for pbp\n",
            "\u001b[0m\u001b[0;31mError: Espn pbp for game 2021-04-02 L.A S.J is either not there or can't be obtained \n",
            "\u001b[0m"
          ]
        },
        {
          "metadata": {
            "tags": null
          },
          "name": "stdout",
          "output_type": "stream",
          "text": [
            "Scraping Game  2020020585 2021-04-03\n"
          ]
        },
        {
          "metadata": {
            "tags": null
          },
          "name": "stderr",
          "output_type": "stream",
          "text": [
            "\u001b[0;31mError: Error parsing Json pbp for game 2020020585 'period'\n",
            "\u001b[0m\u001b[0;33mWarning: Using espn for pbp\n",
            "\u001b[0m\u001b[0;31mError: Espn pbp for game 2021-04-03 BOS PIT is either not there or can't be obtained \n",
            "\u001b[0m"
          ]
        },
        {
          "metadata": {
            "tags": null
          },
          "name": "stdout",
          "output_type": "stream",
          "text": [
            "Scraping Game  2020020589 2021-04-03\n"
          ]
        },
        {
          "metadata": {
            "tags": null
          },
          "name": "stderr",
          "output_type": "stream",
          "text": [
            "\u001b[0;31mError: Error parsing Json pbp for game 2020020589 'period'\n",
            "\u001b[0m\u001b[0;33mWarning: Using espn for pbp\n",
            "\u001b[0m\u001b[0;31mError: Espn pbp for game 2021-04-03 T.B DET is either not there or can't be obtained \n",
            "\u001b[0m"
          ]
        },
        {
          "metadata": {
            "tags": null
          },
          "name": "stdout",
          "output_type": "stream",
          "text": [
            "Scraping Game  2020020591 2021-04-03\n"
          ]
        },
        {
          "metadata": {
            "tags": null
          },
          "name": "stderr",
          "output_type": "stream",
          "text": [
            "\u001b[0;31mError: Error parsing Json pbp for game 2020020591 'period'\n",
            "\u001b[0m\u001b[0;33mWarning: Using espn for pbp\n",
            "\u001b[0m\u001b[0;31mError: Espn pbp for game 2021-04-03 NSH CHI is either not there or can't be obtained \n",
            "\u001b[0m"
          ]
        },
        {
          "metadata": {
            "tags": null
          },
          "name": "stdout",
          "output_type": "stream",
          "text": [
            "Scraping Game  2020020586 2021-04-03\n"
          ]
        },
        {
          "metadata": {
            "tags": null
          },
          "name": "stderr",
          "output_type": "stream",
          "text": [
            "\u001b[0;31mError: Error parsing Json pbp for game 2020020586 'period'\n",
            "\u001b[0m\u001b[0;33mWarning: Using espn for pbp\n",
            "\u001b[0m\u001b[0;31mError: Espn pbp for game 2021-04-03 BUF NYR is either not there or can't be obtained \n",
            "\u001b[0m"
          ]
        },
        {
          "metadata": {
            "tags": null
          },
          "name": "stdout",
          "output_type": "stream",
          "text": [
            "Scraping Game  2020020587 2021-04-03\n"
          ]
        },
        {
          "metadata": {
            "tags": null
          },
          "name": "stderr",
          "output_type": "stream",
          "text": [
            "\u001b[0;31mError: Error parsing Json pbp for game 2020020587 'period'\n",
            "\u001b[0m\u001b[0;33mWarning: Using espn for pbp\n",
            "\u001b[0m\u001b[0;31mError: Espn pbp for game 2021-04-03 NYI PHI is either not there or can't be obtained \n",
            "\u001b[0m"
          ]
        },
        {
          "metadata": {
            "tags": null
          },
          "name": "stdout",
          "output_type": "stream",
          "text": [
            "Scraping Game  2020020588 2021-04-03\n"
          ]
        },
        {
          "metadata": {
            "tags": null
          },
          "name": "stderr",
          "output_type": "stream",
          "text": [
            "\u001b[0;31mError: Error parsing Json pbp for game 2020020588 'period'\n",
            "\u001b[0m\u001b[0;33mWarning: Using espn for pbp\n",
            "\u001b[0m\u001b[0;31mError: Espn pbp for game 2021-04-03 CAR DAL is either not there or can't be obtained \n",
            "\u001b[0m"
          ]
        },
        {
          "metadata": {
            "tags": null
          },
          "name": "stdout",
          "output_type": "stream",
          "text": [
            "Scraping Game  2020020590 2021-04-03\n"
          ]
        },
        {
          "metadata": {
            "tags": null
          },
          "name": "stderr",
          "output_type": "stream",
          "text": [
            "\u001b[0;31mError: Error parsing Json pbp for game 2020020590 'period'\n",
            "\u001b[0m\u001b[0;33mWarning: Using espn for pbp\n",
            "\u001b[0m\u001b[0;31mError: Espn pbp for game 2021-04-03 FLA CBJ is either not there or can't be obtained \n",
            "\u001b[0m"
          ]
        },
        {
          "metadata": {
            "tags": null
          },
          "name": "stdout",
          "output_type": "stream",
          "text": [
            "Scraping Game  2020020592 2021-04-03\n"
          ]
        },
        {
          "metadata": {
            "tags": null
          },
          "name": "stderr",
          "output_type": "stream",
          "text": [
            "\u001b[0;31mError: Error parsing Json pbp for game 2020020592 'period'\n",
            "\u001b[0m\u001b[0;33mWarning: Using espn for pbp\n",
            "\u001b[0m\u001b[0;31mError: Espn pbp for game 2021-04-03 MTL OTT is either not there or can't be obtained \n",
            "\u001b[0m"
          ]
        },
        {
          "metadata": {
            "tags": null
          },
          "name": "stdout",
          "output_type": "stream",
          "text": [
            "Scraping Game  2020020594 2021-04-03\n"
          ]
        },
        {
          "metadata": {
            "tags": null
          },
          "name": "stderr",
          "output_type": "stream",
          "text": [
            "\u001b[0;31mError: Error parsing Json pbp for game 2020020594 'period'\n",
            "\u001b[0m\u001b[0;33mWarning: Using espn for pbp\n",
            "\u001b[0m\u001b[0;31mError: Espn pbp for game 2021-04-03 COL STL is either not there or can't be obtained \n",
            "\u001b[0m"
          ]
        },
        {
          "metadata": {
            "tags": null
          },
          "name": "stdout",
          "output_type": "stream",
          "text": [
            "Scraping Game  2020020595 2021-04-03\n"
          ]
        },
        {
          "metadata": {
            "tags": null
          },
          "name": "stderr",
          "output_type": "stream",
          "text": [
            "\u001b[0;31mError: Error parsing Json pbp for game 2020020595 'period'\n",
            "\u001b[0m\u001b[0;33mWarning: Using espn for pbp\n",
            "\u001b[0m\u001b[0;31mError: Espn pbp for game 2021-04-03 VGK MIN is either not there or can't be obtained \n",
            "\u001b[0m"
          ]
        },
        {
          "metadata": {
            "tags": null
          },
          "name": "stdout",
          "output_type": "stream",
          "text": [
            "Scraping Game  2020020596 2021-04-03\n"
          ]
        },
        {
          "metadata": {
            "tags": null
          },
          "name": "stderr",
          "output_type": "stream",
          "text": [
            "\u001b[0;31mError: Error parsing Json pbp for game 2020020596 'period'\n",
            "\u001b[0m\u001b[0;33mWarning: Using espn for pbp\n",
            "\u001b[0m\u001b[0;31mError: Espn pbp for game 2021-04-03 L.A S.J is either not there or can't be obtained \n",
            "\u001b[0m"
          ]
        },
        {
          "metadata": {
            "tags": null
          },
          "name": "stdout",
          "output_type": "stream",
          "text": [
            "Scraping Game  2020020599 2021-04-04\n"
          ]
        },
        {
          "metadata": {
            "tags": null
          },
          "name": "stderr",
          "output_type": "stream",
          "text": [
            "\u001b[0;31mError: Error parsing Json pbp for game 2020020599 'period'\n",
            "\u001b[0m\u001b[0;33mWarning: Using espn for pbp\n",
            "\u001b[0m\u001b[0;31mError: Espn pbp for game 2021-04-04 T.B DET is either not there or can't be obtained \n",
            "\u001b[0m"
          ]
        },
        {
          "metadata": {
            "tags": null
          },
          "name": "stdout",
          "output_type": "stream",
          "text": [
            "Scraping Game  2020020597 2021-04-04\n"
          ]
        },
        {
          "metadata": {
            "tags": null
          },
          "name": "stderr",
          "output_type": "stream",
          "text": [
            "\u001b[0;31mError: Error parsing Json pbp for game 2020020597 'period'\n",
            "\u001b[0m\u001b[0;33mWarning: Using espn for pbp\n",
            "\u001b[0m\u001b[0;31mError: Espn pbp for game 2021-04-04 N.J WSH is either not there or can't be obtained \n",
            "\u001b[0m"
          ]
        },
        {
          "metadata": {
            "tags": null
          },
          "name": "stdout",
          "output_type": "stream",
          "text": [
            "Scraping Game  2020020600 2021-04-04\n"
          ]
        },
        {
          "metadata": {
            "tags": null
          },
          "name": "stderr",
          "output_type": "stream",
          "text": [
            "\u001b[0;31mError: Error parsing Json pbp for game 2020020600 'period'\n",
            "\u001b[0m\u001b[0;33mWarning: Using espn for pbp\n",
            "\u001b[0m\u001b[0;31mError: Espn pbp for game 2021-04-04 FLA CBJ is either not there or can't be obtained \n",
            "\u001b[0m"
          ]
        },
        {
          "metadata": {
            "tags": null
          },
          "name": "stdout",
          "output_type": "stream",
          "text": [
            "Scraping Game  2020020598 2021-04-04\n"
          ]
        },
        {
          "metadata": {
            "tags": null
          },
          "name": "stderr",
          "output_type": "stream",
          "text": [
            "\u001b[0;31mError: Error parsing Json pbp for game 2020020598 'period'\n",
            "\u001b[0m\u001b[0;33mWarning: Using espn for pbp\n",
            "\u001b[0m\u001b[0;31mError: Espn pbp for game 2021-04-04 CAR DAL is either not there or can't be obtained \n",
            "\u001b[0m"
          ]
        },
        {
          "metadata": {
            "tags": null
          },
          "name": "stdout",
          "output_type": "stream",
          "text": [
            "Scraping Game  2020020603 2021-04-04\n"
          ]
        },
        {
          "metadata": {
            "tags": null
          },
          "name": "stderr",
          "output_type": "stream",
          "text": [
            "\u001b[0;31mError: Error parsing Json pbp for game 2020020603 'period'\n",
            "\u001b[0m\u001b[0;33mWarning: Using espn for pbp\n",
            "\u001b[0m\u001b[0;31mError: Espn pbp for game 2021-04-04 CGY TOR is either not there or can't be obtained \n",
            "\u001b[0m"
          ]
        },
        {
          "metadata": {
            "tags": null
          },
          "name": "stdout",
          "output_type": "stream",
          "text": [
            "Scraping Game  2020020604 2021-04-04\n"
          ]
        },
        {
          "metadata": {
            "tags": null
          },
          "name": "stderr",
          "output_type": "stream",
          "text": [
            "\u001b[0;31mError: Error parsing Json pbp for game 2020020604 'period'\n",
            "\u001b[0m\u001b[0;33mWarning: Using espn for pbp\n",
            "\u001b[0m\u001b[0;31mError: Espn pbp for game 2021-04-04 ANA ARI is either not there or can't be obtained \n",
            "\u001b[0m"
          ]
        },
        {
          "metadata": {
            "tags": null
          },
          "name": "stdout",
          "output_type": "stream",
          "text": [
            "Scraping Game  2020020390 2021-04-05\n"
          ]
        },
        {
          "metadata": {
            "tags": null
          },
          "name": "stderr",
          "output_type": "stream",
          "text": [
            "\u001b[0;31mError: Error parsing Json pbp for game 2020020390 'period'\n",
            "\u001b[0m\u001b[0;33mWarning: Using espn for pbp\n",
            "\u001b[0m\u001b[0;31mError: Espn pbp for game 2021-04-05 BOS PHI is either not there or can't be obtained \n",
            "\u001b[0m"
          ]
        },
        {
          "metadata": {
            "tags": null
          },
          "name": "stdout",
          "output_type": "stream",
          "text": [
            "Scraping Game  2020020607 2021-04-05\n"
          ]
        },
        {
          "metadata": {
            "tags": null
          },
          "name": "stderr",
          "output_type": "stream",
          "text": [
            "\u001b[0;31mError: Error parsing Json pbp for game 2020020607 'period'\n",
            "\u001b[0m\u001b[0;33mWarning: Using espn for pbp\n",
            "\u001b[0m\u001b[0;31mError: Espn pbp for game 2021-04-05 MTL EDM is either not there or can't be obtained \n",
            "\u001b[0m"
          ]
        },
        {
          "metadata": {
            "tags": null
          },
          "name": "stdout",
          "output_type": "stream",
          "text": [
            "Scraping Game  2020020848 2021-04-05\n"
          ]
        },
        {
          "metadata": {
            "tags": null
          },
          "name": "stderr",
          "output_type": "stream",
          "text": [
            "\u001b[0;31mError: Error parsing Json pbp for game 2020020848 'period'\n",
            "\u001b[0m\u001b[0;33mWarning: Using espn for pbp\n",
            "\u001b[0m\u001b[0;31mError: Espn pbp for game 2021-04-05 WPG OTT is either not there or can't be obtained \n",
            "\u001b[0m"
          ]
        },
        {
          "metadata": {
            "tags": null
          },
          "name": "stdout",
          "output_type": "stream",
          "text": [
            "Scraping Game  2020020606 2021-04-05\n"
          ]
        },
        {
          "metadata": {
            "tags": null
          },
          "name": "stderr",
          "output_type": "stream",
          "text": [
            "\u001b[0;31mError: Error parsing Json pbp for game 2020020606 'period'\n",
            "\u001b[0m\u001b[0;33mWarning: Using espn for pbp\n",
            "\u001b[0m\u001b[0;31mError: Espn pbp for game 2021-04-05 STL VGK is either not there or can't be obtained \n",
            "\u001b[0m"
          ]
        },
        {
          "metadata": {
            "tags": null
          },
          "name": "stdout",
          "output_type": "stream",
          "text": [
            "Scraping Game  2020020609 2021-04-05\n"
          ]
        },
        {
          "metadata": {
            "tags": null
          },
          "name": "stderr",
          "output_type": "stream",
          "text": [
            "\u001b[0;31mError: Error parsing Json pbp for game 2020020609 'period'\n",
            "\u001b[0m\u001b[0;33mWarning: Using espn for pbp\n",
            "\u001b[0m\u001b[0;31mError: Espn pbp for game 2021-04-05 MIN COL is either not there or can't be obtained \n",
            "\u001b[0m"
          ]
        },
        {
          "metadata": {
            "tags": null
          },
          "name": "stdout",
          "output_type": "stream",
          "text": [
            "Scraping Game  2020020608 2021-04-05\n"
          ]
        },
        {
          "metadata": {
            "tags": null
          },
          "name": "stderr",
          "output_type": "stream",
          "text": [
            "\u001b[0;31mError: Error parsing Json pbp for game 2020020608 'period'\n",
            "\u001b[0m\u001b[0;33mWarning: Using espn for pbp\n",
            "\u001b[0m\u001b[0;31mError: Espn pbp for game 2021-04-05 CGY TOR is either not there or can't be obtained \n",
            "\u001b[0m"
          ]
        },
        {
          "metadata": {
            "tags": null
          },
          "name": "stdout",
          "output_type": "stream",
          "text": [
            "Scraping Game  2020020610 2021-04-05\n"
          ]
        },
        {
          "metadata": {
            "tags": null
          },
          "name": "stderr",
          "output_type": "stream",
          "text": [
            "\u001b[0;31mError: Error parsing Json pbp for game 2020020610 'period'\n",
            "\u001b[0m\u001b[0;33mWarning: Using espn for pbp\n",
            "\u001b[0m\u001b[0;31mError: Espn pbp for game 2021-04-05 L.A ARI is either not there or can't be obtained \n",
            "\u001b[0m"
          ]
        },
        {
          "metadata": {
            "tags": null
          },
          "name": "stdout",
          "output_type": "stream",
          "text": [
            "Scraping Game  2020020611 2021-04-06\n"
          ]
        },
        {
          "metadata": {
            "tags": null
          },
          "name": "stderr",
          "output_type": "stream",
          "text": [
            "\u001b[0;31mError: Error parsing Json pbp for game 2020020611 'period'\n",
            "\u001b[0m\u001b[0;33mWarning: Using espn for pbp\n",
            "\u001b[0m\u001b[0;31mError: Espn pbp for game 2021-04-06 N.J BUF is either not there or can't be obtained \n",
            "\u001b[0m"
          ]
        },
        {
          "metadata": {
            "tags": null
          },
          "name": "stdout",
          "output_type": "stream",
          "text": [
            "Scraping Game  2020020612 2021-04-06\n"
          ]
        },
        {
          "metadata": {
            "tags": null
          },
          "name": "stderr",
          "output_type": "stream",
          "text": [
            "\u001b[0;31mError: Error parsing Json pbp for game 2020020612 'period'\n",
            "\u001b[0m\u001b[0;33mWarning: Using espn for pbp\n",
            "\u001b[0m\u001b[0;31mError: Espn pbp for game 2021-04-06 NYI WSH is either not there or can't be obtained \n",
            "\u001b[0m"
          ]
        },
        {
          "metadata": {
            "tags": null
          },
          "name": "stdout",
          "output_type": "stream",
          "text": [
            "Scraping Game  2020020613 2021-04-06\n"
          ]
        },
        {
          "metadata": {
            "tags": null
          },
          "name": "stderr",
          "output_type": "stream",
          "text": [
            "\u001b[0;31mError: Error parsing Json pbp for game 2020020613 'period'\n",
            "\u001b[0m\u001b[0;33mWarning: Using espn for pbp\n",
            "\u001b[0m\u001b[0;31mError: Espn pbp for game 2021-04-06 NYR PIT is either not there or can't be obtained \n",
            "\u001b[0m"
          ]
        },
        {
          "metadata": {
            "tags": null
          },
          "name": "stdout",
          "output_type": "stream",
          "text": [
            "Scraping Game  2020020614 2021-04-06\n"
          ]
        },
        {
          "metadata": {
            "tags": null
          },
          "name": "stderr",
          "output_type": "stream",
          "text": [
            "\u001b[0;31mError: Error parsing Json pbp for game 2020020614 'period'\n",
            "\u001b[0m\u001b[0;33mWarning: Using espn for pbp\n",
            "\u001b[0m\u001b[0;31mError: Espn pbp for game 2021-04-06 PHI BOS is either not there or can't be obtained \n",
            "\u001b[0m"
          ]
        },
        {
          "metadata": {
            "tags": null
          },
          "name": "stdout",
          "output_type": "stream",
          "text": [
            "Scraping Game  2020020615 2021-04-06\n"
          ]
        },
        {
          "metadata": {
            "tags": null
          },
          "name": "stderr",
          "output_type": "stream",
          "text": [
            "\u001b[0;31mError: Error parsing Json pbp for game 2020020615 'period'\n",
            "\u001b[0m\u001b[0;33mWarning: Using espn for pbp\n",
            "\u001b[0m\u001b[0;31mError: Espn pbp for game 2021-04-06 CAR FLA is either not there or can't be obtained \n",
            "\u001b[0m"
          ]
        },
        {
          "metadata": {
            "tags": null
          },
          "name": "stdout",
          "output_type": "stream",
          "text": [
            "Scraping Game  2020020616 2021-04-06\n"
          ]
        },
        {
          "metadata": {
            "tags": null
          },
          "name": "stderr",
          "output_type": "stream",
          "text": [
            "\u001b[0;31mError: Error parsing Json pbp for game 2020020616 'period'\n",
            "\u001b[0m\u001b[0;33mWarning: Using espn for pbp\n",
            "\u001b[0m\u001b[0;31mError: Espn pbp for game 2021-04-06 CBJ T.B is either not there or can't be obtained \n",
            "\u001b[0m"
          ]
        },
        {
          "metadata": {
            "tags": null
          },
          "name": "stdout",
          "output_type": "stream",
          "text": [
            "Scraping Game  2020020617 2021-04-06\n"
          ]
        },
        {
          "metadata": {
            "tags": null
          },
          "name": "stderr",
          "output_type": "stream",
          "text": [
            "\u001b[0;31mError: Error parsing Json pbp for game 2020020617 'period'\n",
            "\u001b[0m\u001b[0;33mWarning: Using espn for pbp\n",
            "\u001b[0m\u001b[0;31mError: Espn pbp for game 2021-04-06 DET NSH is either not there or can't be obtained \n",
            "\u001b[0m"
          ]
        },
        {
          "metadata": {
            "tags": null
          },
          "name": "stdout",
          "output_type": "stream",
          "text": [
            "Scraping Game  2020020618 2021-04-06\n"
          ]
        },
        {
          "metadata": {
            "tags": null
          },
          "name": "stderr",
          "output_type": "stream",
          "text": [
            "\u001b[0;31mError: Error parsing Json pbp for game 2020020618 'period'\n",
            "\u001b[0m\u001b[0;33mWarning: Using espn for pbp\n",
            "\u001b[0m\u001b[0;31mError: Espn pbp for game 2021-04-06 CHI DAL is either not there or can't be obtained \n",
            "\u001b[0m"
          ]
        },
        {
          "metadata": {
            "tags": null
          },
          "name": "stdout",
          "output_type": "stream",
          "text": [
            "Scraping Game  2020020241 2021-04-06\n"
          ]
        },
        {
          "metadata": {
            "tags": null
          },
          "name": "stderr",
          "output_type": "stream",
          "text": [
            "\u001b[0;31mError: Error parsing Json pbp for game 2020020241 'period'\n",
            "\u001b[0m\u001b[0;33mWarning: Using espn for pbp\n",
            "\u001b[0m\u001b[0;31mError: Espn pbp for game 2021-04-06 S.J ANA is either not there or can't be obtained \n",
            "\u001b[0m"
          ]
        },
        {
          "metadata": {
            "tags": null
          },
          "name": "stdout",
          "output_type": "stream",
          "text": [
            "Scraping Game  2020020621 2021-04-07\n"
          ]
        },
        {
          "metadata": {
            "tags": null
          },
          "name": "stderr",
          "output_type": "stream",
          "text": [
            "\u001b[0;31mError: Error parsing Json pbp for game 2020020621 'period'\n",
            "\u001b[0m\u001b[0;33mWarning: Using espn for pbp\n",
            "\u001b[0m\u001b[0;31mError: Espn pbp for game 2021-04-07 OTT EDM is either not there or can't be obtained \n",
            "\u001b[0m"
          ]
        },
        {
          "metadata": {
            "tags": null
          },
          "name": "stdout",
          "output_type": "stream",
          "text": [
            "Scraping Game  2020020622 2021-04-07\n"
          ]
        },
        {
          "metadata": {
            "tags": null
          },
          "name": "stderr",
          "output_type": "stream",
          "text": [
            "\u001b[0;31mError: Error parsing Json pbp for game 2020020622 'period'\n",
            "\u001b[0m\u001b[0;33mWarning: Using espn for pbp\n",
            "\u001b[0m\u001b[0;31mError: Espn pbp for game 2021-04-07 TOR MTL is either not there or can't be obtained \n",
            "\u001b[0m"
          ]
        },
        {
          "metadata": {
            "tags": null
          },
          "name": "stdout",
          "output_type": "stream",
          "text": [
            "Scraping Game  2020020620 2021-04-07\n"
          ]
        },
        {
          "metadata": {
            "tags": null
          },
          "name": "stderr",
          "output_type": "stream",
          "text": [
            "\u001b[0;31mError: Error parsing Json pbp for game 2020020620 'period'\n",
            "\u001b[0m\u001b[0;33mWarning: Using espn for pbp\n",
            "\u001b[0m\u001b[0;31mError: Espn pbp for game 2021-04-07 STL VGK is either not there or can't be obtained \n",
            "\u001b[0m"
          ]
        },
        {
          "metadata": {
            "tags": null
          },
          "name": "stdout",
          "output_type": "stream",
          "text": [
            "Scraping Game  2020020623 2021-04-07\n"
          ]
        },
        {
          "metadata": {
            "tags": null
          },
          "name": "stderr",
          "output_type": "stream",
          "text": [
            "\u001b[0;31mError: Error parsing Json pbp for game 2020020623 'period'\n",
            "\u001b[0m\u001b[0;33mWarning: Using espn for pbp\n",
            "\u001b[0m\u001b[0;31mError: Espn pbp for game 2021-04-07 MIN COL is either not there or can't be obtained \n",
            "\u001b[0m"
          ]
        },
        {
          "metadata": {
            "tags": null
          },
          "name": "stdout",
          "output_type": "stream",
          "text": [
            "Scraping Game  2020020624 2021-04-07\n"
          ]
        },
        {
          "metadata": {
            "tags": null
          },
          "name": "stderr",
          "output_type": "stream",
          "text": [
            "\u001b[0;31mError: Error parsing Json pbp for game 2020020624 'period'\n",
            "\u001b[0m\u001b[0;33mWarning: Using espn for pbp\n",
            "\u001b[0m\u001b[0;31mError: Espn pbp for game 2021-04-07 L.A ARI is either not there or can't be obtained \n",
            "\u001b[0m"
          ]
        },
        {
          "metadata": {
            "tags": null
          },
          "name": "stdout",
          "output_type": "stream",
          "text": [
            "Scraping Game  2020020625 2021-04-08\n"
          ]
        },
        {
          "metadata": {
            "tags": null
          },
          "name": "stderr",
          "output_type": "stream",
          "text": [
            "\u001b[0;31mError: Error parsing Json pbp for game 2020020625 'period'\n",
            "\u001b[0m\u001b[0;33mWarning: Using espn for pbp\n",
            "\u001b[0m\u001b[0;31mError: Espn pbp for game 2021-04-08 BUF N.J is either not there or can't be obtained \n",
            "\u001b[0m"
          ]
        },
        {
          "metadata": {
            "tags": null
          },
          "name": "stdout",
          "output_type": "stream",
          "text": [
            "Scraping Game  2020020626 2021-04-08\n"
          ]
        },
        {
          "metadata": {
            "tags": null
          },
          "name": "stderr",
          "output_type": "stream",
          "text": [
            "\u001b[0;31mError: Error parsing Json pbp for game 2020020626 'period'\n",
            "\u001b[0m\u001b[0;33mWarning: Using espn for pbp\n",
            "\u001b[0m\u001b[0;31mError: Espn pbp for game 2021-04-08 NYI PHI is either not there or can't be obtained \n",
            "\u001b[0m"
          ]
        },
        {
          "metadata": {
            "tags": null
          },
          "name": "stdout",
          "output_type": "stream",
          "text": [
            "Scraping Game  2020020627 2021-04-08\n"
          ]
        },
        {
          "metadata": {
            "tags": null
          },
          "name": "stderr",
          "output_type": "stream",
          "text": [
            "\u001b[0;31mError: Error parsing Json pbp for game 2020020627 'period'\n",
            "\u001b[0m\u001b[0;33mWarning: Using espn for pbp\n",
            "\u001b[0m\u001b[0;31mError: Espn pbp for game 2021-04-08 NYR PIT is either not there or can't be obtained \n",
            "\u001b[0m"
          ]
        },
        {
          "metadata": {
            "tags": null
          },
          "name": "stdout",
          "output_type": "stream",
          "text": [
            "Scraping Game  2020020628 2021-04-08\n"
          ]
        },
        {
          "metadata": {
            "tags": null
          },
          "name": "stderr",
          "output_type": "stream",
          "text": [
            "\u001b[0;31mError: Error parsing Json pbp for game 2020020628 'period'\n",
            "\u001b[0m\u001b[0;33mWarning: Using espn for pbp\n",
            "\u001b[0m\u001b[0;31mError: Espn pbp for game 2021-04-08 WSH BOS is either not there or can't be obtained \n",
            "\u001b[0m"
          ]
        },
        {
          "metadata": {
            "tags": null
          },
          "name": "stdout",
          "output_type": "stream",
          "text": [
            "Scraping Game  2020020629 2021-04-08\n"
          ]
        },
        {
          "metadata": {
            "tags": null
          },
          "name": "stderr",
          "output_type": "stream",
          "text": [
            "\u001b[0;31mError: Error parsing Json pbp for game 2020020629 'period'\n",
            "\u001b[0m\u001b[0;33mWarning: Using espn for pbp\n",
            "\u001b[0m\u001b[0;31mError: Espn pbp for game 2021-04-08 CAR FLA is either not there or can't be obtained \n",
            "\u001b[0m"
          ]
        },
        {
          "metadata": {
            "tags": null
          },
          "name": "stdout",
          "output_type": "stream",
          "text": [
            "Scraping Game  2020020630 2021-04-08\n"
          ]
        },
        {
          "metadata": {
            "tags": null
          },
          "name": "stderr",
          "output_type": "stream",
          "text": [
            "\u001b[0;31mError: Error parsing Json pbp for game 2020020630 'period'\n",
            "\u001b[0m\u001b[0;33mWarning: Using espn for pbp\n",
            "\u001b[0m\u001b[0;31mError: Espn pbp for game 2021-04-08 CBJ T.B is either not there or can't be obtained \n",
            "\u001b[0m"
          ]
        },
        {
          "metadata": {
            "tags": null
          },
          "name": "stdout",
          "output_type": "stream",
          "text": [
            "Scraping Game  2020020633 2021-04-08\n"
          ]
        },
        {
          "metadata": {
            "tags": null
          },
          "name": "stderr",
          "output_type": "stream",
          "text": [
            "\u001b[0;31mError: Error parsing Json pbp for game 2020020633 'period'\n",
            "\u001b[0m\u001b[0;33mWarning: Using espn for pbp\n",
            "\u001b[0m\u001b[0;31mError: Espn pbp for game 2021-04-08 MTL WPG is either not there or can't be obtained \n",
            "\u001b[0m"
          ]
        },
        {
          "metadata": {
            "tags": null
          },
          "name": "stdout",
          "output_type": "stream",
          "text": [
            "Scraping Game  2020020638 2021-04-08\n"
          ]
        },
        {
          "metadata": {
            "tags": null
          },
          "name": "stderr",
          "output_type": "stream",
          "text": [
            "\u001b[0;31mError: Error parsing Json pbp for game 2020020638 'period'\n",
            "\u001b[0m\u001b[0;33mWarning: Using espn for pbp\n",
            "\u001b[0m\u001b[0;31mError: Espn pbp for game 2021-04-08 OTT EDM is either not there or can't be obtained \n",
            "\u001b[0m"
          ]
        },
        {
          "metadata": {
            "tags": null
          },
          "name": "stdout",
          "output_type": "stream",
          "text": [
            "Scraping Game  2020020631 2021-04-08\n"
          ]
        },
        {
          "metadata": {
            "tags": null
          },
          "name": "stderr",
          "output_type": "stream",
          "text": [
            "\u001b[0;31mError: Error parsing Json pbp for game 2020020631 'period'\n",
            "\u001b[0m\u001b[0;33mWarning: Using espn for pbp\n",
            "\u001b[0m\u001b[0;31mError: Espn pbp for game 2021-04-08 DET NSH is either not there or can't be obtained \n",
            "\u001b[0m"
          ]
        },
        {
          "metadata": {
            "tags": null
          },
          "name": "stdout",
          "output_type": "stream",
          "text": [
            "Scraping Game  2020020632 2021-04-08\n"
          ]
        },
        {
          "metadata": {
            "tags": null
          },
          "name": "stderr",
          "output_type": "stream",
          "text": [
            "\u001b[0;31mError: Error parsing Json pbp for game 2020020632 'period'\n",
            "\u001b[0m\u001b[0;33mWarning: Using espn for pbp\n",
            "\u001b[0m\u001b[0;31mError: Espn pbp for game 2021-04-08 CHI DAL is either not there or can't be obtained \n",
            "\u001b[0m"
          ]
        },
        {
          "metadata": {
            "tags": null
          },
          "name": "stdout",
          "output_type": "stream",
          "text": [
            "Scraping Game  2020020229 2021-04-09\n"
          ]
        },
        {
          "metadata": {
            "tags": null
          },
          "name": "stderr",
          "output_type": "stream",
          "text": [
            "\u001b[0;31mError: Error parsing Json pbp for game 2020020229 'period'\n",
            "\u001b[0m\u001b[0;33mWarning: Using espn for pbp\n",
            "\u001b[0m\u001b[0;31mError: Espn pbp for game 2021-04-09 BUF WSH is either not there or can't be obtained \n",
            "\u001b[0m"
          ]
        },
        {
          "metadata": {
            "tags": null
          },
          "name": "stdout",
          "output_type": "stream",
          "text": [
            "Scraping Game  2020020494 2021-04-09\n"
          ]
        },
        {
          "metadata": {
            "tags": null
          },
          "name": "stderr",
          "output_type": "stream",
          "text": [
            "\u001b[0;31mError: Error parsing Json pbp for game 2020020494 'period'\n",
            "\u001b[0m\u001b[0;33mWarning: Using espn for pbp\n",
            "\u001b[0m\u001b[0;31mError: Espn pbp for game 2021-04-09 N.J PIT is either not there or can't be obtained \n",
            "\u001b[0m"
          ]
        },
        {
          "metadata": {
            "tags": null
          },
          "name": "stdout",
          "output_type": "stream",
          "text": [
            "Scraping Game  2020020636 2021-04-09\n"
          ]
        },
        {
          "metadata": {
            "tags": null
          },
          "name": "stderr",
          "output_type": "stream",
          "text": [
            "\u001b[0;31mError: Error parsing Json pbp for game 2020020636 'period'\n",
            "\u001b[0m\u001b[0;33mWarning: Using espn for pbp\n",
            "\u001b[0m\u001b[0;31mError: Espn pbp for game 2021-04-09 NYI NYR is either not there or can't be obtained \n",
            "\u001b[0m"
          ]
        },
        {
          "metadata": {
            "tags": null
          },
          "name": "stdout",
          "output_type": "stream",
          "text": [
            "Scraping Game  2020020637 2021-04-09\n"
          ]
        },
        {
          "metadata": {
            "tags": null
          },
          "name": "stderr",
          "output_type": "stream",
          "text": [
            "\u001b[0;31mError: Error parsing Json pbp for game 2020020637 'period'\n",
            "\u001b[0m\u001b[0;33mWarning: Using espn for pbp\n",
            "\u001b[0m\u001b[0;31mError: Espn pbp for game 2021-04-09 STL MIN is either not there or can't be obtained \n",
            "\u001b[0m"
          ]
        },
        {
          "metadata": {
            "tags": null
          },
          "name": "stdout",
          "output_type": "stream",
          "text": [
            "Scraping Game  2020020639 2021-04-09\n"
          ]
        },
        {
          "metadata": {
            "tags": null
          },
          "name": "stderr",
          "output_type": "stream",
          "text": [
            "\u001b[0;31mError: Error parsing Json pbp for game 2020020639 'period'\n",
            "\u001b[0m\u001b[0;33mWarning: Using espn for pbp\n",
            "\u001b[0m\u001b[0;31mError: Espn pbp for game 2021-04-09 VGK ARI is either not there or can't be obtained \n",
            "\u001b[0m"
          ]
        },
        {
          "metadata": {
            "tags": null
          },
          "name": "stdout",
          "output_type": "stream",
          "text": [
            "Scraping Game  2020020640 2021-04-09\n"
          ]
        },
        {
          "metadata": {
            "tags": null
          },
          "name": "stderr",
          "output_type": "stream",
          "text": [
            "\u001b[0;31mError: Error parsing Json pbp for game 2020020640 'period'\n",
            "\u001b[0m\u001b[0;33mWarning: Using espn for pbp\n",
            "\u001b[0m\u001b[0;31mError: Espn pbp for game 2021-04-09 ANA COL is either not there or can't be obtained \n",
            "\u001b[0m"
          ]
        },
        {
          "metadata": {
            "tags": null
          },
          "name": "stdout",
          "output_type": "stream",
          "text": [
            "Scraping Game  2020020641 2021-04-09\n"
          ]
        },
        {
          "metadata": {
            "tags": null
          },
          "name": "stderr",
          "output_type": "stream",
          "text": [
            "\u001b[0;31mError: Error parsing Json pbp for game 2020020641 'period'\n",
            "\u001b[0m\u001b[0;33mWarning: Using espn for pbp\n",
            "\u001b[0m\u001b[0;31mError: Espn pbp for game 2021-04-09 S.J L.A is either not there or can't be obtained \n",
            "\u001b[0m"
          ]
        },
        {
          "metadata": {
            "tags": null
          },
          "name": "stdout",
          "output_type": "stream",
          "text": [
            "Scraping Game  2020020605 2021-04-10\n"
          ]
        },
        {
          "metadata": {
            "tags": null
          },
          "name": "stderr",
          "output_type": "stream",
          "text": [
            "\u001b[0;31mError: Error parsing Json pbp for game 2020020605 'period'\n",
            "\u001b[0m\u001b[0;33mWarning: Using espn for pbp\n",
            "\u001b[0m\u001b[0;31mError: Espn pbp for game 2021-04-10 PHI BOS is either not there or can't be obtained \n",
            "\u001b[0m"
          ]
        },
        {
          "metadata": {
            "tags": null
          },
          "name": "stdout",
          "output_type": "stream",
          "text": [
            "Scraping Game  2020020648 2021-04-10\n"
          ]
        },
        {
          "metadata": {
            "tags": null
          },
          "name": "stderr",
          "output_type": "stream",
          "text": [
            "\u001b[0;31mError: Error parsing Json pbp for game 2020020648 'period'\n",
            "\u001b[0m\u001b[0;33mWarning: Using espn for pbp\n",
            "\u001b[0m\u001b[0;31mError: Espn pbp for game 2021-04-10 DAL FLA is either not there or can't be obtained \n",
            "\u001b[0m"
          ]
        },
        {
          "metadata": {
            "tags": null
          },
          "name": "stdout",
          "output_type": "stream",
          "text": [
            "Scraping Game  2020020642 2021-04-10\n"
          ]
        },
        {
          "metadata": {
            "tags": null
          },
          "name": "stderr",
          "output_type": "stream",
          "text": [
            "\u001b[0;31mError: Error parsing Json pbp for game 2020020642 'period'\n",
            "\u001b[0m\u001b[0;33mWarning: Using espn for pbp\n",
            "\u001b[0m\u001b[0;31mError: Espn pbp for game 2021-04-10 CAR DET is either not there or can't be obtained \n",
            "\u001b[0m"
          ]
        },
        {
          "metadata": {
            "tags": null
          },
          "name": "stdout",
          "output_type": "stream",
          "text": [
            "Scraping Game  2020020643 2021-04-10\n"
          ]
        },
        {
          "metadata": {
            "tags": null
          },
          "name": "stderr",
          "output_type": "stream",
          "text": [
            "\u001b[0;31mError: Error parsing Json pbp for game 2020020643 'period'\n",
            "\u001b[0m\u001b[0;33mWarning: Using espn for pbp\n",
            "\u001b[0m\u001b[0;31mError: Espn pbp for game 2021-04-10 CBJ CHI is either not there or can't be obtained \n",
            "\u001b[0m"
          ]
        },
        {
          "metadata": {
            "tags": null
          },
          "name": "stdout",
          "output_type": "stream",
          "text": [
            "Scraping Game  2020020645 2021-04-10\n"
          ]
        },
        {
          "metadata": {
            "tags": null
          },
          "name": "stderr",
          "output_type": "stream",
          "text": [
            "\u001b[0;31mError: Error parsing Json pbp for game 2020020645 'period'\n",
            "\u001b[0m\u001b[0;33mWarning: Using espn for pbp\n",
            "\u001b[0m\u001b[0;31mError: Espn pbp for game 2021-04-10 MTL WPG is either not there or can't be obtained \n",
            "\u001b[0m"
          ]
        },
        {
          "metadata": {
            "tags": null
          },
          "name": "stdout",
          "output_type": "stream",
          "text": [
            "Scraping Game  2020020646 2021-04-10\n"
          ]
        },
        {
          "metadata": {
            "tags": null
          },
          "name": "stderr",
          "output_type": "stream",
          "text": [
            "\u001b[0;31mError: Error parsing Json pbp for game 2020020646 'period'\n",
            "\u001b[0m\u001b[0;33mWarning: Using espn for pbp\n",
            "\u001b[0m\u001b[0;31mError: Espn pbp for game 2021-04-10 TOR OTT is either not there or can't be obtained \n",
            "\u001b[0m"
          ]
        },
        {
          "metadata": {
            "tags": null
          },
          "name": "stdout",
          "output_type": "stream",
          "text": [
            "Scraping Game  2020020644 2021-04-10\n"
          ]
        },
        {
          "metadata": {
            "tags": null
          },
          "name": "stderr",
          "output_type": "stream",
          "text": [
            "\u001b[0;31mError: Error parsing Json pbp for game 2020020644 'period'\n",
            "\u001b[0m\u001b[0;33mWarning: Using espn for pbp\n",
            "\u001b[0m\u001b[0;31mError: Espn pbp for game 2021-04-10 NSH T.B is either not there or can't be obtained \n",
            "\u001b[0m"
          ]
        },
        {
          "metadata": {
            "tags": null
          },
          "name": "stdout",
          "output_type": "stream",
          "text": [
            "Scraping Game  2020020654 2021-04-10\n"
          ]
        },
        {
          "metadata": {
            "tags": null
          },
          "name": "stderr",
          "output_type": "stream",
          "text": [
            "\u001b[0;31mError: Error parsing Json pbp for game 2020020654 'period'\n",
            "\u001b[0m\u001b[0;33mWarning: Using espn for pbp\n",
            "\u001b[0m\u001b[0;31mError: Espn pbp for game 2021-04-10 STL MIN is either not there or can't be obtained \n",
            "\u001b[0m"
          ]
        },
        {
          "metadata": {
            "tags": null
          },
          "name": "stdout",
          "output_type": "stream",
          "text": [
            "Scraping Game  2020020849 2021-04-10\n"
          ]
        },
        {
          "metadata": {
            "tags": null
          },
          "name": "stderr",
          "output_type": "stream",
          "text": [
            "\u001b[0;31mError: Error parsing Json pbp for game 2020020849 'period'\n",
            "\u001b[0m\u001b[0;33mWarning: Using espn for pbp\n",
            "\u001b[0m\u001b[0;31mError: Espn pbp for game 2021-04-10 CGY EDM is either not there or can't be obtained \n",
            "\u001b[0m"
          ]
        },
        {
          "metadata": {
            "tags": null
          },
          "name": "stdout",
          "output_type": "stream",
          "text": [
            "Scraping Game  2020020649 2021-04-10\n"
          ]
        },
        {
          "metadata": {
            "tags": null
          },
          "name": "stderr",
          "output_type": "stream",
          "text": [
            "\u001b[0;31mError: Error parsing Json pbp for game 2020020649 'period'\n",
            "\u001b[0m\u001b[0;33mWarning: Using espn for pbp\n",
            "\u001b[0m\u001b[0;31mError: Espn pbp for game 2021-04-10 S.J L.A is either not there or can't be obtained \n",
            "\u001b[0m"
          ]
        },
        {
          "metadata": {
            "tags": null
          },
          "name": "stdout",
          "output_type": "stream",
          "text": [
            "Scraping Game  2020020652 2021-04-11\n"
          ]
        },
        {
          "metadata": {
            "tags": null
          },
          "name": "stderr",
          "output_type": "stream",
          "text": [
            "\u001b[0;31mError: Error parsing Json pbp for game 2020020652 'period'\n",
            "\u001b[0m\u001b[0;33mWarning: Using espn for pbp\n",
            "\u001b[0m\u001b[0;31mError: Espn pbp for game 2021-04-11 PHI BUF is either not there or can't be obtained \n",
            "\u001b[0m"
          ]
        },
        {
          "metadata": {
            "tags": null
          },
          "name": "stdout",
          "output_type": "stream",
          "text": [
            "Scraping Game  2020020655 2021-04-11\n"
          ]
        },
        {
          "metadata": {
            "tags": null
          },
          "name": "stderr",
          "output_type": "stream",
          "text": [
            "\u001b[0;31mError: Error parsing Json pbp for game 2020020655 'period'\n",
            "\u001b[0m\u001b[0;33mWarning: Using espn for pbp\n",
            "\u001b[0m\u001b[0;31mError: Espn pbp for game 2021-04-11 VGK ARI is either not there or can't be obtained \n",
            "\u001b[0m"
          ]
        },
        {
          "metadata": {
            "tags": null
          },
          "name": "stdout",
          "output_type": "stream",
          "text": [
            "Scraping Game  2020020656 2021-04-11\n"
          ]
        },
        {
          "metadata": {
            "tags": null
          },
          "name": "stderr",
          "output_type": "stream",
          "text": [
            "\u001b[0;31mError: Error parsing Json pbp for game 2020020656 'period'\n",
            "\u001b[0m\u001b[0;33mWarning: Using espn for pbp\n",
            "\u001b[0m\u001b[0;31mError: Espn pbp for game 2021-04-11 ANA COL is either not there or can't be obtained \n",
            "\u001b[0m"
          ]
        },
        {
          "metadata": {
            "tags": null
          },
          "name": "stdout",
          "output_type": "stream",
          "text": [
            "Scraping Game  2020020650 2021-04-11\n"
          ]
        },
        {
          "metadata": {
            "tags": null
          },
          "name": "stderr",
          "output_type": "stream",
          "text": [
            "\u001b[0;31mError: Error parsing Json pbp for game 2020020650 'period'\n",
            "\u001b[0m\u001b[0;33mWarning: Using espn for pbp\n",
            "\u001b[0m\u001b[0;31mError: Espn pbp for game 2021-04-11 N.J PIT is either not there or can't be obtained \n",
            "\u001b[0m"
          ]
        },
        {
          "metadata": {
            "tags": null
          },
          "name": "stdout",
          "output_type": "stream",
          "text": [
            "Scraping Game  2020020651 2021-04-11\n"
          ]
        },
        {
          "metadata": {
            "tags": null
          },
          "name": "stderr",
          "output_type": "stream",
          "text": [
            "\u001b[0;31mError: Error parsing Json pbp for game 2020020651 'period'\n",
            "\u001b[0m\u001b[0;33mWarning: Using espn for pbp\n",
            "\u001b[0m\u001b[0;31mError: Espn pbp for game 2021-04-11 NYI NYR is either not there or can't be obtained \n",
            "\u001b[0m"
          ]
        },
        {
          "metadata": {
            "tags": null
          },
          "name": "stdout",
          "output_type": "stream",
          "text": [
            "Scraping Game  2020020714 2021-04-11\n"
          ]
        },
        {
          "metadata": {
            "tags": null
          },
          "name": "stderr",
          "output_type": "stream",
          "text": [
            "\u001b[0;31mError: Error parsing Json pbp for game 2020020714 'period'\n",
            "\u001b[0m\u001b[0;33mWarning: Using espn for pbp\n",
            "\u001b[0m\u001b[0;31mError: Espn pbp for game 2021-04-11 BOS WSH is either not there or can't be obtained \n",
            "\u001b[0m"
          ]
        },
        {
          "metadata": {
            "tags": null
          },
          "name": "stdout",
          "output_type": "stream",
          "text": [
            "Scraping Game  2020020788 2021-04-11\n"
          ]
        },
        {
          "metadata": {
            "tags": null
          },
          "name": "stderr",
          "output_type": "stream",
          "text": [
            "\u001b[0;31mError: Error parsing Json pbp for game 2020020788 'period'\n",
            "\u001b[0m\u001b[0;33mWarning: Using espn for pbp\n",
            "\u001b[0m\u001b[0;31mError: Espn pbp for game 2021-04-11 NSH DAL is either not there or can't be obtained \n",
            "\u001b[0m"
          ]
        },
        {
          "metadata": {
            "tags": null
          },
          "name": "stdout",
          "output_type": "stream",
          "text": [
            "Scraping Game  2020020657 2021-04-12\n"
          ]
        },
        {
          "metadata": {
            "tags": null
          },
          "name": "stderr",
          "output_type": "stream",
          "text": [
            "\u001b[0;31mError: Error parsing Json pbp for game 2020020657 'period'\n",
            "\u001b[0m\u001b[0;33mWarning: Using espn for pbp\n",
            "\u001b[0m\u001b[0;31mError: Espn pbp for game 2021-04-12 CAR DET is either not there or can't be obtained \n",
            "\u001b[0m"
          ]
        },
        {
          "metadata": {
            "tags": null
          },
          "name": "stdout",
          "output_type": "stream",
          "text": [
            "Scraping Game  2020020658 2021-04-12\n"
          ]
        },
        {
          "metadata": {
            "tags": null
          },
          "name": "stderr",
          "output_type": "stream",
          "text": [
            "\u001b[0;31mError: Error parsing Json pbp for game 2020020658 'period'\n",
            "\u001b[0m\u001b[0;33mWarning: Using espn for pbp\n",
            "\u001b[0m\u001b[0;31mError: Espn pbp for game 2021-04-12 CBJ CHI is either not there or can't be obtained \n",
            "\u001b[0m"
          ]
        },
        {
          "metadata": {
            "tags": null
          },
          "name": "stdout",
          "output_type": "stream",
          "text": [
            "Scraping Game  2020020660 2021-04-12\n"
          ]
        },
        {
          "metadata": {
            "tags": null
          },
          "name": "stderr",
          "output_type": "stream",
          "text": [
            "\u001b[0;31mError: Error parsing Json pbp for game 2020020660 'period'\n",
            "\u001b[0m\u001b[0;33mWarning: Using espn for pbp\n",
            "\u001b[0m\u001b[0;31mError: Espn pbp for game 2021-04-12 MTL TOR is either not there or can't be obtained \n",
            "\u001b[0m"
          ]
        },
        {
          "metadata": {
            "tags": null
          },
          "name": "stdout",
          "output_type": "stream",
          "text": [
            "Scraping Game  2020020661 2021-04-12\n"
          ]
        },
        {
          "metadata": {
            "tags": null
          },
          "name": "stderr",
          "output_type": "stream",
          "text": [
            "\u001b[0;31mError: Error parsing Json pbp for game 2020020661 'period'\n",
            "\u001b[0m\u001b[0;33mWarning: Using espn for pbp\n",
            "\u001b[0m\u001b[0;31mError: Espn pbp for game 2021-04-12 OTT WPG is either not there or can't be obtained \n",
            "\u001b[0m"
          ]
        },
        {
          "metadata": {
            "tags": null
          },
          "name": "stdout",
          "output_type": "stream",
          "text": [
            "Scraping Game  2020020225 2021-04-12\n"
          ]
        },
        {
          "metadata": {
            "tags": null
          },
          "name": "stderr",
          "output_type": "stream",
          "text": [
            "\u001b[0;31mError: Error parsing Json pbp for game 2020020225 'period'\n",
            "\u001b[0m\u001b[0;33mWarning: Using espn for pbp\n",
            "\u001b[0m\u001b[0;31mError: Espn pbp for game 2021-04-12 COL ARI is either not there or can't be obtained \n",
            "\u001b[0m"
          ]
        },
        {
          "metadata": {
            "tags": null
          },
          "name": "stdout",
          "output_type": "stream",
          "text": [
            "Scraping Game  2020020663 2021-04-12\n"
          ]
        },
        {
          "metadata": {
            "tags": null
          },
          "name": "stderr",
          "output_type": "stream",
          "text": [
            "\u001b[0;31mError: Error parsing Json pbp for game 2020020663 'period'\n",
            "\u001b[0m\u001b[0;33mWarning: Using espn for pbp\n",
            "\u001b[0m\u001b[0;31mError: Espn pbp for game 2021-04-12 L.A VGK is either not there or can't be obtained \n",
            "\u001b[0m"
          ]
        },
        {
          "metadata": {
            "tags": null
          },
          "name": "stdout",
          "output_type": "stream",
          "text": [
            "Scraping Game  2020020664 2021-04-12\n"
          ]
        },
        {
          "metadata": {
            "tags": null
          },
          "name": "stderr",
          "output_type": "stream",
          "text": [
            "\u001b[0;31mError: Error parsing Json pbp for game 2020020664 'period'\n",
            "\u001b[0m\u001b[0;33mWarning: Using espn for pbp\n",
            "\u001b[0m\u001b[0;31mError: Espn pbp for game 2021-04-12 S.J ANA is either not there or can't be obtained \n",
            "\u001b[0m"
          ]
        },
        {
          "metadata": {
            "tags": null
          },
          "name": "stdout",
          "output_type": "stream",
          "text": [
            "Scraping Game  2020020195 2021-04-13\n"
          ]
        },
        {
          "metadata": {
            "tags": null
          },
          "name": "stderr",
          "output_type": "stream",
          "text": [
            "\u001b[0;31mError: Error parsing Json pbp for game 2020020195 'period'\n",
            "\u001b[0m\u001b[0;33mWarning: Using espn for pbp\n",
            "\u001b[0m\u001b[0;31mError: Espn pbp for game 2021-04-13 BOS BUF is either not there or can't be obtained \n",
            "\u001b[0m"
          ]
        },
        {
          "metadata": {
            "tags": null
          },
          "name": "stdout",
          "output_type": "stream",
          "text": [
            "Scraping Game  2020020202 2021-04-13\n"
          ]
        },
        {
          "metadata": {
            "tags": null
          },
          "name": "stderr",
          "output_type": "stream",
          "text": [
            "\u001b[0;31mError: Error parsing Json pbp for game 2020020202 'period'\n",
            "\u001b[0m\u001b[0;33mWarning: Using espn for pbp\n",
            "\u001b[0m\u001b[0;31mError: Espn pbp for game 2021-04-13 WSH PHI is either not there or can't be obtained \n",
            "\u001b[0m"
          ]
        },
        {
          "metadata": {
            "tags": null
          },
          "name": "stdout",
          "output_type": "stream",
          "text": [
            "Scraping Game  2020020666 2021-04-13\n"
          ]
        },
        {
          "metadata": {
            "tags": null
          },
          "name": "stderr",
          "output_type": "stream",
          "text": [
            "\u001b[0;31mError: Error parsing Json pbp for game 2020020666 'period'\n",
            "\u001b[0m\u001b[0;33mWarning: Using espn for pbp\n",
            "\u001b[0m\u001b[0;31mError: Espn pbp for game 2021-04-13 N.J NYR is either not there or can't be obtained \n",
            "\u001b[0m"
          ]
        },
        {
          "metadata": {
            "tags": null
          },
          "name": "stdout",
          "output_type": "stream",
          "text": [
            "Scraping Game  2020020669 2021-04-13\n"
          ]
        },
        {
          "metadata": {
            "tags": null
          },
          "name": "stderr",
          "output_type": "stream",
          "text": [
            "\u001b[0;31mError: Error parsing Json pbp for game 2020020669 'period'\n",
            "\u001b[0m\u001b[0;33mWarning: Using espn for pbp\n",
            "\u001b[0m\u001b[0;31mError: Espn pbp for game 2021-04-13 TOR CGY is either not there or can't be obtained \n",
            "\u001b[0m"
          ]
        },
        {
          "metadata": {
            "tags": null
          },
          "name": "stdout",
          "output_type": "stream",
          "text": [
            "Scraping Game  2020020659 2021-04-13\n"
          ]
        },
        {
          "metadata": {
            "tags": null
          },
          "name": "stderr",
          "output_type": "stream",
          "text": [
            "\u001b[0;31mError: Error parsing Json pbp for game 2020020659 'period'\n",
            "\u001b[0m\u001b[0;33mWarning: Using espn for pbp\n",
            "\u001b[0m\u001b[0;31mError: Espn pbp for game 2021-04-13 NSH T.B is either not there or can't be obtained \n",
            "\u001b[0m"
          ]
        },
        {
          "metadata": {
            "tags": null
          },
          "name": "stdout",
          "output_type": "stream",
          "text": [
            "Scraping Game  2020020670 2021-04-13\n"
          ]
        },
        {
          "metadata": {
            "tags": null
          },
          "name": "stderr",
          "output_type": "stream",
          "text": [
            "\u001b[0;31mError: Error parsing Json pbp for game 2020020670 'period'\n",
            "\u001b[0m\u001b[0;33mWarning: Using espn for pbp\n",
            "\u001b[0m\u001b[0;31mError: Espn pbp for game 2021-04-13 DAL FLA is either not there or can't be obtained \n",
            "\u001b[0m"
          ]
        },
        {
          "metadata": {
            "tags": null
          },
          "name": "stdout",
          "output_type": "stream",
          "text": [
            "Scraping Game  2020020192 2021-04-14\n"
          ]
        },
        {
          "metadata": {
            "tags": null
          },
          "name": "stderr",
          "output_type": "stream",
          "text": [
            "\u001b[0;31mError: Error parsing Json pbp for game 2020020192 'period'\n",
            "\u001b[0m\u001b[0;33mWarning: Using espn for pbp\n",
            "\u001b[0m\u001b[0;31mError: Espn pbp for game 2021-04-14 MIN ARI is either not there or can't be obtained \n",
            "\u001b[0m"
          ]
        },
        {
          "metadata": {
            "tags": null
          },
          "name": "stdout",
          "output_type": "stream",
          "text": [
            "Scraping Game  2020020671 2021-04-14\n"
          ]
        },
        {
          "metadata": {
            "tags": null
          },
          "name": "stderr",
          "output_type": "stream",
          "text": [
            "\u001b[0;31mError: Error parsing Json pbp for game 2020020671 'period'\n",
            "\u001b[0m\u001b[0;33mWarning: Using espn for pbp\n",
            "\u001b[0m\u001b[0;31mError: Espn pbp for game 2021-04-14 MTL CGY is either not there or can't be obtained \n",
            "\u001b[0m"
          ]
        },
        {
          "metadata": {
            "tags": null
          },
          "name": "stdout",
          "output_type": "stream",
          "text": [
            "Scraping Game  2020020672 2021-04-14\n"
          ]
        },
        {
          "metadata": {
            "tags": null
          },
          "name": "stderr",
          "output_type": "stream",
          "text": [
            "\u001b[0;31mError: Error parsing Json pbp for game 2020020672 'period'\n",
            "\u001b[0m\u001b[0;33mWarning: Using espn for pbp\n",
            "\u001b[0m\u001b[0;31mError: Espn pbp for game 2021-04-14 OTT WPG is either not there or can't be obtained \n",
            "\u001b[0m"
          ]
        },
        {
          "metadata": {
            "tags": null
          },
          "name": "stdout",
          "output_type": "stream",
          "text": [
            "Scraping Game  2020020182 2021-04-14\n"
          ]
        },
        {
          "metadata": {
            "tags": null
          },
          "name": "stderr",
          "output_type": "stream",
          "text": [
            "\u001b[0;31mError: Error parsing Json pbp for game 2020020182 'period'\n",
            "\u001b[0m\u001b[0;33mWarning: Using espn for pbp\n",
            "\u001b[0m\u001b[0;31mError: Espn pbp for game 2021-04-14 STL COL is either not there or can't be obtained \n",
            "\u001b[0m"
          ]
        },
        {
          "metadata": {
            "tags": null
          },
          "name": "stdout",
          "output_type": "stream",
          "text": [
            "Scraping Game  2020020674 2021-04-14\n"
          ]
        },
        {
          "metadata": {
            "tags": null
          },
          "name": "stderr",
          "output_type": "stream",
          "text": [
            "\u001b[0;31mError: Error parsing Json pbp for game 2020020674 'period'\n",
            "\u001b[0m\u001b[0;33mWarning: Using espn for pbp\n",
            "\u001b[0m\u001b[0;31mError: Espn pbp for game 2021-04-14 L.A VGK is either not there or can't be obtained \n",
            "\u001b[0m"
          ]
        },
        {
          "metadata": {
            "tags": null
          },
          "name": "stdout",
          "output_type": "stream",
          "text": [
            "Scraping Game  2020020675 2021-04-14\n"
          ]
        },
        {
          "metadata": {
            "tags": null
          },
          "name": "stderr",
          "output_type": "stream",
          "text": [
            "\u001b[0;31mError: Error parsing Json pbp for game 2020020675 'period'\n",
            "\u001b[0m\u001b[0;33mWarning: Using espn for pbp\n",
            "\u001b[0m\u001b[0;31mError: Espn pbp for game 2021-04-14 S.J ANA is either not there or can't be obtained \n",
            "\u001b[0m"
          ]
        },
        {
          "metadata": {
            "tags": null
          },
          "name": "stdout",
          "output_type": "stream",
          "text": [
            "Scraping Game  2020020665 2021-04-15\n"
          ]
        },
        {
          "metadata": {
            "tags": null
          },
          "name": "stderr",
          "output_type": "stream",
          "text": [
            "\u001b[0;31mError: Error parsing Json pbp for game 2020020665 'period'\n",
            "\u001b[0m\u001b[0;33mWarning: Using espn for pbp\n",
            "\u001b[0m\u001b[0;31mError: Espn pbp for game 2021-04-15 BOS NYI is either not there or can't be obtained \n",
            "\u001b[0m"
          ]
        },
        {
          "metadata": {
            "tags": null
          },
          "name": "stdout",
          "output_type": "stream",
          "text": [
            "Scraping Game  2020020676 2021-04-15\n"
          ]
        },
        {
          "metadata": {
            "tags": null
          },
          "name": "stderr",
          "output_type": "stream",
          "text": [
            "\u001b[0;31mError: Error parsing Json pbp for game 2020020676 'period'\n",
            "\u001b[0m\u001b[0;33mWarning: Using espn for pbp\n",
            "\u001b[0m\u001b[0;31mError: Espn pbp for game 2021-04-15 NYR N.J is either not there or can't be obtained \n",
            "\u001b[0m"
          ]
        },
        {
          "metadata": {
            "tags": null
          },
          "name": "stdout",
          "output_type": "stream",
          "text": [
            "Scraping Game  2020020677 2021-04-15\n"
          ]
        },
        {
          "metadata": {
            "tags": null
          },
          "name": "stderr",
          "output_type": "stream",
          "text": [
            "\u001b[0;31mError: Error parsing Json pbp for game 2020020677 'period'\n",
            "\u001b[0m\u001b[0;33mWarning: Using espn for pbp\n",
            "\u001b[0m\u001b[0;31mError: Espn pbp for game 2021-04-15 WSH BUF is either not there or can't be obtained \n",
            "\u001b[0m"
          ]
        },
        {
          "metadata": {
            "tags": null
          },
          "name": "stdout",
          "output_type": "stream",
          "text": [
            "Scraping Game  2020020678 2021-04-15\n"
          ]
        },
        {
          "metadata": {
            "tags": null
          },
          "name": "stderr",
          "output_type": "stream",
          "text": [
            "\u001b[0;31mError: Error parsing Json pbp for game 2020020678 'period'\n",
            "\u001b[0m\u001b[0;33mWarning: Using espn for pbp\n",
            "\u001b[0m\u001b[0;31mError: Espn pbp for game 2021-04-15 CAR NSH is either not there or can't be obtained \n",
            "\u001b[0m"
          ]
        },
        {
          "metadata": {
            "tags": null
          },
          "name": "stdout",
          "output_type": "stream",
          "text": [
            "Scraping Game  2020020679 2021-04-15\n"
          ]
        },
        {
          "metadata": {
            "tags": null
          },
          "name": "stderr",
          "output_type": "stream",
          "text": [
            "\u001b[0;31mError: Error parsing Json pbp for game 2020020679 'period'\n",
            "\u001b[0m\u001b[0;33mWarning: Using espn for pbp\n",
            "\u001b[0m\u001b[0;31mError: Espn pbp for game 2021-04-15 T.B FLA is either not there or can't be obtained \n",
            "\u001b[0m"
          ]
        },
        {
          "metadata": {
            "tags": null
          },
          "name": "stdout",
          "output_type": "stream",
          "text": [
            "Scraping Game  2020020680 2021-04-15\n"
          ]
        },
        {
          "metadata": {
            "tags": null
          },
          "name": "stderr",
          "output_type": "stream",
          "text": [
            "\u001b[0;31mError: Error parsing Json pbp for game 2020020680 'period'\n",
            "\u001b[0m\u001b[0;33mWarning: Using espn for pbp\n",
            "\u001b[0m\u001b[0;31mError: Espn pbp for game 2021-04-15 PIT PHI is either not there or can't be obtained \n",
            "\u001b[0m"
          ]
        },
        {
          "metadata": {
            "tags": null
          },
          "name": "stdout",
          "output_type": "stream",
          "text": [
            "Scraping Game  2020020682 2021-04-15\n"
          ]
        },
        {
          "metadata": {
            "tags": null
          },
          "name": "stderr",
          "output_type": "stream",
          "text": [
            "\u001b[0;31mError: Error parsing Json pbp for game 2020020682 'period'\n",
            "\u001b[0m\u001b[0;33mWarning: Using espn for pbp\n",
            "\u001b[0m\u001b[0;31mError: Espn pbp for game 2021-04-15 TOR WPG is either not there or can't be obtained \n",
            "\u001b[0m"
          ]
        },
        {
          "metadata": {
            "tags": null
          },
          "name": "stdout",
          "output_type": "stream",
          "text": [
            "Scraping Game  2020020681 2021-04-15\n"
          ]
        },
        {
          "metadata": {
            "tags": null
          },
          "name": "stderr",
          "output_type": "stream",
          "text": [
            "\u001b[0;31mError: Error parsing Json pbp for game 2020020681 'period'\n",
            "\u001b[0m\u001b[0;33mWarning: Using espn for pbp\n",
            "\u001b[0m\u001b[0;31mError: Espn pbp for game 2021-04-15 DET CHI is either not there or can't be obtained \n",
            "\u001b[0m"
          ]
        },
        {
          "metadata": {
            "tags": null
          },
          "name": "stdout",
          "output_type": "stream",
          "text": [
            "Scraping Game  2020020683 2021-04-15\n"
          ]
        },
        {
          "metadata": {
            "tags": null
          },
          "name": "stderr",
          "output_type": "stream",
          "text": [
            "\u001b[0;31mError: Error parsing Json pbp for game 2020020683 'period'\n",
            "\u001b[0m\u001b[0;33mWarning: Using espn for pbp\n",
            "\u001b[0m\u001b[0;31mError: Espn pbp for game 2021-04-15 DAL CBJ is either not there or can't be obtained \n",
            "\u001b[0m"
          ]
        },
        {
          "metadata": {
            "tags": null
          },
          "name": "stdout",
          "output_type": "stream",
          "text": [
            "Scraping Game  2020020686 2021-04-16\n"
          ]
        },
        {
          "metadata": {
            "tags": null
          },
          "name": "stderr",
          "output_type": "stream",
          "text": [
            "\u001b[0;31mError: Error parsing Json pbp for game 2020020686 'period'\n",
            "\u001b[0m\u001b[0;33mWarning: Using espn for pbp\n",
            "\u001b[0m\u001b[0;31mError: Espn pbp for game 2021-04-16 MTL CGY is either not there or can't be obtained \n",
            "\u001b[0m"
          ]
        },
        {
          "metadata": {
            "tags": null
          },
          "name": "stdout",
          "output_type": "stream",
          "text": [
            "Scraping Game  2020020685 2021-04-16\n"
          ]
        },
        {
          "metadata": {
            "tags": null
          },
          "name": "stderr",
          "output_type": "stream",
          "text": [
            "\u001b[0;31mError: Error parsing Json pbp for game 2020020685 'period'\n",
            "\u001b[0m\u001b[0;33mWarning: Using espn for pbp\n",
            "\u001b[0m\u001b[0;31mError: Espn pbp for game 2021-04-16 BOS NYI is either not there or can't be obtained \n",
            "\u001b[0m"
          ]
        },
        {
          "metadata": {
            "tags": null
          },
          "name": "stdout",
          "output_type": "stream",
          "text": [
            "Scraping Game  2020020687 2021-04-16\n"
          ]
        },
        {
          "metadata": {
            "tags": null
          },
          "name": "stderr",
          "output_type": "stream",
          "text": [
            "\u001b[0;31mError: Error parsing Json pbp for game 2020020687 'period'\n",
            "\u001b[0m\u001b[0;33mWarning: Using espn for pbp\n",
            "\u001b[0m\u001b[0;31mError: Espn pbp for game 2021-04-16 MIN S.J is either not there or can't be obtained \n",
            "\u001b[0m"
          ]
        },
        {
          "metadata": {
            "tags": null
          },
          "name": "stdout",
          "output_type": "stream",
          "text": [
            "Scraping Game  2020020689 2021-04-16\n"
          ]
        },
        {
          "metadata": {
            "tags": null
          },
          "name": "stderr",
          "output_type": "stream",
          "text": [
            "\u001b[0;31mError: Error parsing Json pbp for game 2020020689 'period'\n",
            "\u001b[0m\u001b[0;33mWarning: Using espn for pbp\n",
            "\u001b[0m\u001b[0;31mError: Espn pbp for game 2021-04-16 ANA VGK is either not there or can't be obtained \n",
            "\u001b[0m"
          ]
        },
        {
          "metadata": {
            "tags": null
          },
          "name": "stdout",
          "output_type": "stream",
          "text": [
            "Scraping Game  2020020691 2021-04-17\n"
          ]
        },
        {
          "metadata": {
            "tags": null
          },
          "name": "stderr",
          "output_type": "stream",
          "text": [
            "\u001b[0;31mError: Error parsing Json pbp for game 2020020691 'period'\n",
            "\u001b[0m\u001b[0;33mWarning: Using espn for pbp\n",
            "\u001b[0m\u001b[0;31mError: Espn pbp for game 2021-04-17 NYR N.J is either not there or can't be obtained \n",
            "\u001b[0m"
          ]
        },
        {
          "metadata": {
            "tags": null
          },
          "name": "stdout",
          "output_type": "stream",
          "text": [
            "Scraping Game  2020020692 2021-04-17\n"
          ]
        },
        {
          "metadata": {
            "tags": null
          },
          "name": "stderr",
          "output_type": "stream",
          "text": [
            "\u001b[0;31mError: Error parsing Json pbp for game 2020020692 'period'\n",
            "\u001b[0m\u001b[0;33mWarning: Using espn for pbp\n",
            "\u001b[0m\u001b[0;31mError: Espn pbp for game 2021-04-17 PHI WSH is either not there or can't be obtained \n",
            "\u001b[0m"
          ]
        },
        {
          "metadata": {
            "tags": null
          },
          "name": "stdout",
          "output_type": "stream",
          "text": [
            "Scraping Game  2020020690 2021-04-17\n"
          ]
        },
        {
          "metadata": {
            "tags": null
          },
          "name": "stderr",
          "output_type": "stream",
          "text": [
            "\u001b[0;31mError: Error parsing Json pbp for game 2020020690 'period'\n",
            "\u001b[0m\u001b[0;33mWarning: Using espn for pbp\n",
            "\u001b[0m\u001b[0;31mError: Espn pbp for game 2021-04-17 BUF PIT is either not there or can't be obtained \n",
            "\u001b[0m"
          ]
        },
        {
          "metadata": {
            "tags": null
          },
          "name": "stdout",
          "output_type": "stream",
          "text": [
            "Scraping Game  2020020546 2021-04-17\n"
          ]
        },
        {
          "metadata": {
            "tags": null
          },
          "name": "stderr",
          "output_type": "stream",
          "text": [
            "\u001b[0;31mError: Error parsing Json pbp for game 2020020546 'period'\n",
            "\u001b[0m\u001b[0;33mWarning: Using espn for pbp\n",
            "\u001b[0m\u001b[0;31mError: Espn pbp for game 2021-04-17 MTL OTT is either not there or can't be obtained \n",
            "\u001b[0m"
          ]
        },
        {
          "metadata": {
            "tags": null
          },
          "name": "stdout",
          "output_type": "stream",
          "text": [
            "Scraping Game  2020020700 2021-04-17\n"
          ]
        },
        {
          "metadata": {
            "tags": null
          },
          "name": "stderr",
          "output_type": "stream",
          "text": [
            "\u001b[0;31mError: Error parsing Json pbp for game 2020020700 'period'\n",
            "\u001b[0m\u001b[0;33mWarning: Using espn for pbp\n",
            "\u001b[0m\u001b[0;31mError: Espn pbp for game 2021-04-17 ARI STL is either not there or can't be obtained \n",
            "\u001b[0m"
          ]
        },
        {
          "metadata": {
            "tags": null
          },
          "name": "stdout",
          "output_type": "stream",
          "text": [
            "Scraping Game  2020020693 2021-04-17\n"
          ]
        },
        {
          "metadata": {
            "tags": null
          },
          "name": "stderr",
          "output_type": "stream",
          "text": [
            "\u001b[0;31mError: Error parsing Json pbp for game 2020020693 'period'\n",
            "\u001b[0m\u001b[0;33mWarning: Using espn for pbp\n",
            "\u001b[0m\u001b[0;31mError: Espn pbp for game 2021-04-17 CAR NSH is either not there or can't be obtained \n",
            "\u001b[0m"
          ]
        },
        {
          "metadata": {
            "tags": null
          },
          "name": "stdout",
          "output_type": "stream",
          "text": [
            "Scraping Game  2020020694 2021-04-17\n"
          ]
        },
        {
          "metadata": {
            "tags": null
          },
          "name": "stderr",
          "output_type": "stream",
          "text": [
            "\u001b[0;31mError: Error parsing Json pbp for game 2020020694 'period'\n",
            "\u001b[0m\u001b[0;33mWarning: Using espn for pbp\n",
            "\u001b[0m\u001b[0;31mError: Espn pbp for game 2021-04-17 T.B FLA is either not there or can't be obtained \n",
            "\u001b[0m"
          ]
        },
        {
          "metadata": {
            "tags": null
          },
          "name": "stdout",
          "output_type": "stream",
          "text": [
            "Scraping Game  2020020695 2021-04-17\n"
          ]
        },
        {
          "metadata": {
            "tags": null
          },
          "name": "stderr",
          "output_type": "stream",
          "text": [
            "\u001b[0;31mError: Error parsing Json pbp for game 2020020695 'period'\n",
            "\u001b[0m\u001b[0;33mWarning: Using espn for pbp\n",
            "\u001b[0m\u001b[0;31mError: Espn pbp for game 2021-04-17 DET CHI is either not there or can't be obtained \n",
            "\u001b[0m"
          ]
        },
        {
          "metadata": {
            "tags": null
          },
          "name": "stdout",
          "output_type": "stream",
          "text": [
            "Scraping Game  2020020696 2021-04-17\n"
          ]
        },
        {
          "metadata": {
            "tags": null
          },
          "name": "stderr",
          "output_type": "stream",
          "text": [
            "\u001b[0;31mError: Error parsing Json pbp for game 2020020696 'period'\n",
            "\u001b[0m\u001b[0;33mWarning: Using espn for pbp\n",
            "\u001b[0m\u001b[0;31mError: Espn pbp for game 2021-04-17 WPG EDM is either not there or can't be obtained \n",
            "\u001b[0m"
          ]
        },
        {
          "metadata": {
            "tags": null
          },
          "name": "stdout",
          "output_type": "stream",
          "text": [
            "Scraping Game  2020020698 2021-04-17\n"
          ]
        },
        {
          "metadata": {
            "tags": null
          },
          "name": "stderr",
          "output_type": "stream",
          "text": [
            "\u001b[0;31mError: Error parsing Json pbp for game 2020020698 'period'\n",
            "\u001b[0m\u001b[0;33mWarning: Using espn for pbp\n",
            "\u001b[0m\u001b[0;31mError: Espn pbp for game 2021-04-17 MIN S.J is either not there or can't be obtained \n",
            "\u001b[0m"
          ]
        },
        {
          "metadata": {
            "tags": null
          },
          "name": "stdout",
          "output_type": "stream",
          "text": [
            "Scraping Game  2020020699 2021-04-17\n"
          ]
        },
        {
          "metadata": {
            "tags": null
          },
          "name": "stderr",
          "output_type": "stream",
          "text": [
            "\u001b[0;31mError: Error parsing Json pbp for game 2020020699 'period'\n",
            "\u001b[0m\u001b[0;33mWarning: Using espn for pbp\n",
            "\u001b[0m\u001b[0;31mError: Espn pbp for game 2021-04-17 DAL CBJ is either not there or can't be obtained \n",
            "\u001b[0m"
          ]
        },
        {
          "metadata": {
            "tags": null
          },
          "name": "stdout",
          "output_type": "stream",
          "text": [
            "Scraping Game  2020020701 2021-04-18\n"
          ]
        },
        {
          "metadata": {
            "tags": null
          },
          "name": "stderr",
          "output_type": "stream",
          "text": [
            "\u001b[0;31mError: Error parsing Json pbp for game 2020020701 'period'\n",
            "\u001b[0m\u001b[0;33mWarning: Using espn for pbp\n",
            "\u001b[0m\u001b[0;31mError: Espn pbp for game 2021-04-18 BOS WSH is either not there or can't be obtained \n",
            "\u001b[0m"
          ]
        },
        {
          "metadata": {
            "tags": null
          },
          "name": "stdout",
          "output_type": "stream",
          "text": [
            "Scraping Game  2020020702 2021-04-18\n"
          ]
        },
        {
          "metadata": {
            "tags": null
          },
          "name": "stderr",
          "output_type": "stream",
          "text": [
            "\u001b[0;31mError: Error parsing Json pbp for game 2020020702 'period'\n",
            "\u001b[0m\u001b[0;33mWarning: Using espn for pbp\n",
            "\u001b[0m\u001b[0;31mError: Espn pbp for game 2021-04-18 N.J NYR is either not there or can't be obtained \n",
            "\u001b[0m"
          ]
        },
        {
          "metadata": {
            "tags": null
          },
          "name": "stdout",
          "output_type": "stream",
          "text": [
            "Scraping Game  2020020715 2021-04-18\n"
          ]
        },
        {
          "metadata": {
            "tags": null
          },
          "name": "stderr",
          "output_type": "stream",
          "text": [
            "\u001b[0;31mError: Error parsing Json pbp for game 2020020715 'period'\n",
            "\u001b[0m\u001b[0;33mWarning: Using espn for pbp\n",
            "\u001b[0m\u001b[0;31mError: Espn pbp for game 2021-04-18 BUF PIT is either not there or can't be obtained \n",
            "\u001b[0m"
          ]
        },
        {
          "metadata": {
            "tags": null
          },
          "name": "stdout",
          "output_type": "stream",
          "text": [
            "Scraping Game  2020020705 2021-04-18\n"
          ]
        },
        {
          "metadata": {
            "tags": null
          },
          "name": "stderr",
          "output_type": "stream",
          "text": [
            "\u001b[0;31mError: Error parsing Json pbp for game 2020020705 'period'\n",
            "\u001b[0m\u001b[0;33mWarning: Using espn for pbp\n",
            "\u001b[0m\u001b[0;31mError: Espn pbp for game 2021-04-18 ANA VGK is either not there or can't be obtained \n",
            "\u001b[0m"
          ]
        },
        {
          "metadata": {
            "tags": null
          },
          "name": "stdout",
          "output_type": "stream",
          "text": [
            "Scraping Game  2020020703 2021-04-18\n"
          ]
        },
        {
          "metadata": {
            "tags": null
          },
          "name": "stderr",
          "output_type": "stream",
          "text": [
            "\u001b[0;31mError: Error parsing Json pbp for game 2020020703 'period'\n",
            "\u001b[0m\u001b[0;33mWarning: Using espn for pbp\n",
            "\u001b[0m\u001b[0;31mError: Espn pbp for game 2021-04-18 PHI NYI is either not there or can't be obtained \n",
            "\u001b[0m"
          ]
        },
        {
          "metadata": {
            "tags": null
          },
          "name": "stdout",
          "output_type": "stream",
          "text": [
            "Scraping Game  2020020697 2021-04-18\n"
          ]
        },
        {
          "metadata": {
            "tags": null
          },
          "name": "stderr",
          "output_type": "stream",
          "text": [
            "\u001b[0;31mError: Error parsing Json pbp for game 2020020697 'period'\n",
            "\u001b[0m\u001b[0;33mWarning: Using espn for pbp\n",
            "\u001b[0m\u001b[0;31mError: Espn pbp for game 2021-04-18 VAN TOR is either not there or can't be obtained \n",
            "\u001b[0m"
          ]
        },
        {
          "metadata": {
            "tags": null
          },
          "name": "stdout",
          "output_type": "stream",
          "text": [
            "Scraping Game  2020020706 2021-04-19\n"
          ]
        },
        {
          "metadata": {
            "tags": null
          },
          "name": "stderr",
          "output_type": "stream",
          "text": [
            "\u001b[0;31mError: Error parsing Json pbp for game 2020020706 'period'\n",
            "\u001b[0m\u001b[0;33mWarning: Using espn for pbp\n",
            "\u001b[0m\u001b[0;31mError: Espn pbp for game 2021-04-19 T.B CAR is either not there or can't be obtained \n",
            "\u001b[0m"
          ]
        },
        {
          "metadata": {
            "tags": null
          },
          "name": "stdout",
          "output_type": "stream",
          "text": [
            "Scraping Game  2020020707 2021-04-19\n"
          ]
        },
        {
          "metadata": {
            "tags": null
          },
          "name": "stderr",
          "output_type": "stream",
          "text": [
            "\u001b[0;31mError: Error parsing Json pbp for game 2020020707 'period'\n",
            "\u001b[0m\u001b[0;33mWarning: Using espn for pbp\n",
            "\u001b[0m\u001b[0;31mError: Espn pbp for game 2021-04-19 FLA CBJ is either not there or can't be obtained \n",
            "\u001b[0m"
          ]
        },
        {
          "metadata": {
            "tags": null
          },
          "name": "stdout",
          "output_type": "stream",
          "text": [
            "Scraping Game  2020020711 2021-04-19\n"
          ]
        },
        {
          "metadata": {
            "tags": null
          },
          "name": "stderr",
          "output_type": "stream",
          "text": [
            "\u001b[0;31mError: Error parsing Json pbp for game 2020020711 'period'\n",
            "\u001b[0m\u001b[0;33mWarning: Using espn for pbp\n",
            "\u001b[0m\u001b[0;31mError: Espn pbp for game 2021-04-19 DAL DET is either not there or can't be obtained \n",
            "\u001b[0m"
          ]
        },
        {
          "metadata": {
            "tags": null
          },
          "name": "stdout",
          "output_type": "stream",
          "text": [
            "Scraping Game  2020020601 2021-04-19\n"
          ]
        },
        {
          "metadata": {
            "tags": null
          },
          "name": "stderr",
          "output_type": "stream",
          "text": [
            "\u001b[0;31mError: Error parsing Json pbp for game 2020020601 'period'\n",
            "\u001b[0m\u001b[0;33mWarning: Using espn for pbp\n",
            "\u001b[0m\u001b[0;31mError: Espn pbp for game 2021-04-19 NSH CHI is either not there or can't be obtained \n",
            "\u001b[0m"
          ]
        },
        {
          "metadata": {
            "tags": null
          },
          "name": "stdout",
          "output_type": "stream",
          "text": [
            "Scraping Game  2020020708 2021-04-19\n"
          ]
        },
        {
          "metadata": {
            "tags": null
          },
          "name": "stderr",
          "output_type": "stream",
          "text": [
            "\u001b[0;31mError: Error parsing Json pbp for game 2020020708 'period'\n",
            "\u001b[0m\u001b[0;33mWarning: Using espn for pbp\n",
            "\u001b[0m\u001b[0;31mError: Espn pbp for game 2021-04-19 CGY OTT is either not there or can't be obtained \n",
            "\u001b[0m"
          ]
        },
        {
          "metadata": {
            "tags": null
          },
          "name": "stdout",
          "output_type": "stream",
          "text": [
            "Scraping Game  2020020709 2021-04-19\n"
          ]
        },
        {
          "metadata": {
            "tags": null
          },
          "name": "stderr",
          "output_type": "stream",
          "text": [
            "\u001b[0;31mError: Error parsing Json pbp for game 2020020709 'period'\n",
            "\u001b[0m\u001b[0;33mWarning: Using espn for pbp\n",
            "\u001b[0m\u001b[0;31mError: Espn pbp for game 2021-04-19 EDM MTL is either not there or can't be obtained \n",
            "\u001b[0m"
          ]
        },
        {
          "metadata": {
            "tags": null
          },
          "name": "stdout",
          "output_type": "stream",
          "text": [
            "Scraping Game  2020020712 2021-04-19\n"
          ]
        },
        {
          "metadata": {
            "tags": null
          },
          "name": "stderr",
          "output_type": "stream",
          "text": [
            "\u001b[0;31mError: Error parsing Json pbp for game 2020020712 'period'\n",
            "\u001b[0m\u001b[0;33mWarning: Using espn for pbp\n",
            "\u001b[0m\u001b[0;31mError: Espn pbp for game 2021-04-19 ARI MIN is either not there or can't be obtained \n",
            "\u001b[0m"
          ]
        },
        {
          "metadata": {
            "tags": null
          },
          "name": "stdout",
          "output_type": "stream",
          "text": [
            "Scraping Game  2020020713 2021-04-19\n"
          ]
        },
        {
          "metadata": {
            "tags": null
          },
          "name": "stderr",
          "output_type": "stream",
          "text": [
            "\u001b[0;31mError: Error parsing Json pbp for game 2020020713 'period'\n",
            "\u001b[0m\u001b[0;33mWarning: Using espn for pbp\n",
            "\u001b[0m\u001b[0;31mError: Espn pbp for game 2021-04-19 VGK S.J is either not there or can't be obtained \n",
            "\u001b[0m"
          ]
        },
        {
          "metadata": {
            "tags": null
          },
          "name": "stdout",
          "output_type": "stream",
          "text": [
            "Scraping Game  2020020483 2021-04-20\n"
          ]
        },
        {
          "metadata": {
            "tags": null
          },
          "name": "stderr",
          "output_type": "stream",
          "text": [
            "\u001b[0;31mError: Error parsing Json pbp for game 2020020483 'period'\n",
            "\u001b[0m\u001b[0;33mWarning: Using espn for pbp\n",
            "\u001b[0m\u001b[0;31mError: Espn pbp for game 2021-04-20 BUF BOS is either not there or can't be obtained \n",
            "\u001b[0m"
          ]
        },
        {
          "metadata": {
            "tags": null
          },
          "name": "stdout",
          "output_type": "stream",
          "text": [
            "Scraping Game  2020020166 2021-04-20\n"
          ]
        },
        {
          "metadata": {
            "tags": null
          },
          "name": "stderr",
          "output_type": "stream",
          "text": [
            "\u001b[0;31mError: Error parsing Json pbp for game 2020020166 'period'\n",
            "\u001b[0m\u001b[0;33mWarning: Using espn for pbp\n",
            "\u001b[0m\u001b[0;31mError: Espn pbp for game 2021-04-20 PIT N.J is either not there or can't be obtained \n",
            "\u001b[0m"
          ]
        },
        {
          "metadata": {
            "tags": null
          },
          "name": "stdout",
          "output_type": "stream",
          "text": [
            "Scraping Game  2020020717 2021-04-20\n"
          ]
        },
        {
          "metadata": {
            "tags": null
          },
          "name": "stderr",
          "output_type": "stream",
          "text": [
            "\u001b[0;31mError: Error parsing Json pbp for game 2020020717 'period'\n",
            "\u001b[0m\u001b[0;33mWarning: Using espn for pbp\n",
            "\u001b[0m\u001b[0;31mError: Espn pbp for game 2021-04-20 NYI NYR is either not there or can't be obtained \n",
            "\u001b[0m"
          ]
        },
        {
          "metadata": {
            "tags": null
          },
          "name": "stdout",
          "output_type": "stream",
          "text": [
            "Scraping Game  2020020718 2021-04-20\n"
          ]
        },
        {
          "metadata": {
            "tags": null
          },
          "name": "stderr",
          "output_type": "stream",
          "text": [
            "\u001b[0;31mError: Error parsing Json pbp for game 2020020718 'period'\n",
            "\u001b[0m\u001b[0;33mWarning: Using espn for pbp\n",
            "\u001b[0m\u001b[0;31mError: Espn pbp for game 2021-04-20 T.B CAR is either not there or can't be obtained \n",
            "\u001b[0m"
          ]
        },
        {
          "metadata": {
            "tags": null
          },
          "name": "stdout",
          "output_type": "stream",
          "text": [
            "Scraping Game  2020020719 2021-04-20\n"
          ]
        },
        {
          "metadata": {
            "tags": null
          },
          "name": "stderr",
          "output_type": "stream",
          "text": [
            "\u001b[0;31mError: Error parsing Json pbp for game 2020020719 'period'\n",
            "\u001b[0m\u001b[0;33mWarning: Using espn for pbp\n",
            "\u001b[0m\u001b[0;31mError: Espn pbp for game 2021-04-20 FLA CBJ is either not there or can't be obtained \n",
            "\u001b[0m"
          ]
        },
        {
          "metadata": {
            "tags": null
          },
          "name": "stdout",
          "output_type": "stream",
          "text": [
            "Scraping Game  2020020722 2021-04-20\n"
          ]
        },
        {
          "metadata": {
            "tags": null
          },
          "name": "stderr",
          "output_type": "stream",
          "text": [
            "\u001b[0;31mError: Error parsing Json pbp for game 2020020722 'period'\n",
            "\u001b[0m\u001b[0;33mWarning: Using espn for pbp\n",
            "\u001b[0m\u001b[0;31mError: Espn pbp for game 2021-04-20 DAL DET is either not there or can't be obtained \n",
            "\u001b[0m"
          ]
        },
        {
          "metadata": {
            "tags": null
          },
          "name": "stdout",
          "output_type": "stream",
          "text": [
            "Scraping Game  2020020710 2021-04-20\n"
          ]
        },
        {
          "metadata": {
            "tags": null
          },
          "name": "stderr",
          "output_type": "stream",
          "text": [
            "\u001b[0;31mError: Error parsing Json pbp for game 2020020710 'period'\n",
            "\u001b[0m\u001b[0;33mWarning: Using espn for pbp\n",
            "\u001b[0m\u001b[0;31mError: Espn pbp for game 2021-04-20 VAN TOR is either not there or can't be obtained \n",
            "\u001b[0m"
          ]
        },
        {
          "metadata": {
            "tags": null
          },
          "name": "stdout",
          "output_type": "stream",
          "text": [
            "Scraping Game  2020020724 2021-04-20\n"
          ]
        },
        {
          "metadata": {
            "tags": null
          },
          "name": "stderr",
          "output_type": "stream",
          "text": [
            "\u001b[0;31mError: Error parsing Json pbp for game 2020020724 'period'\n",
            "\u001b[0m\u001b[0;33mWarning: Using espn for pbp\n",
            "\u001b[0m\u001b[0;31mError: Espn pbp for game 2021-04-20 L.A ANA is either not there or can't be obtained \n",
            "\u001b[0m"
          ]
        },
        {
          "metadata": {
            "tags": null
          },
          "name": "stdout",
          "output_type": "stream",
          "text": [
            "Scraping Game  2020020725 2021-04-21\n"
          ]
        },
        {
          "metadata": {
            "tags": null
          },
          "name": "stderr",
          "output_type": "stream",
          "text": [
            "\u001b[0;31mError: Error parsing Json pbp for game 2020020725 'period'\n",
            "\u001b[0m\u001b[0;33mWarning: Using espn for pbp\n",
            "\u001b[0m\u001b[0;31mError: Espn pbp for game 2021-04-21 CHI NSH is either not there or can't be obtained \n",
            "\u001b[0m"
          ]
        },
        {
          "metadata": {
            "tags": null
          },
          "name": "stdout",
          "output_type": "stream",
          "text": [
            "Scraping Game  2020020727 2021-04-21\n"
          ]
        },
        {
          "metadata": {
            "tags": null
          },
          "name": "stderr",
          "output_type": "stream",
          "text": [
            "\u001b[0;31mError: Error parsing Json pbp for game 2020020727 'period'\n",
            "\u001b[0m\u001b[0;33mWarning: Using espn for pbp\n",
            "\u001b[0m\u001b[0;31mError: Espn pbp for game 2021-04-21 ARI MIN is either not there or can't be obtained \n",
            "\u001b[0m"
          ]
        },
        {
          "metadata": {
            "tags": null
          },
          "name": "stdout",
          "output_type": "stream",
          "text": [
            "Scraping Game  2020020728 2021-04-21\n"
          ]
        },
        {
          "metadata": {
            "tags": null
          },
          "name": "stderr",
          "output_type": "stream",
          "text": [
            "\u001b[0;31mError: Error parsing Json pbp for game 2020020728 'period'\n",
            "\u001b[0m\u001b[0;33mWarning: Using espn for pbp\n",
            "\u001b[0m\u001b[0;31mError: Espn pbp for game 2021-04-21 VGK S.J is either not there or can't be obtained \n",
            "\u001b[0m"
          ]
        },
        {
          "metadata": {
            "tags": null
          },
          "name": "stdout",
          "output_type": "stream",
          "text": [
            "Scraping Game  2020020721 2021-04-21\n"
          ]
        },
        {
          "metadata": {
            "tags": null
          },
          "name": "stderr",
          "output_type": "stream",
          "text": [
            "\u001b[0;31mError: Error parsing Json pbp for game 2020020721 'period'\n",
            "\u001b[0m\u001b[0;33mWarning: Using espn for pbp\n",
            "\u001b[0m\u001b[0;31mError: Espn pbp for game 2021-04-21 EDM MTL is either not there or can't be obtained \n",
            "\u001b[0m"
          ]
        },
        {
          "metadata": {
            "tags": null
          },
          "name": "stdout",
          "output_type": "stream",
          "text": [
            "Scraping Game  2020020254 2021-04-22\n"
          ]
        },
        {
          "metadata": {
            "tags": null
          },
          "name": "stderr",
          "output_type": "stream",
          "text": [
            "\u001b[0;31mError: Error parsing Json pbp for game 2020020254 'period'\n",
            "\u001b[0m\u001b[0;33mWarning: Using espn for pbp\n",
            "\u001b[0m\u001b[0;31mError: Espn pbp for game 2021-04-22 NYR PHI is either not there or can't be obtained \n",
            "\u001b[0m"
          ]
        },
        {
          "metadata": {
            "tags": null
          },
          "name": "stdout",
          "output_type": "stream",
          "text": [
            "Scraping Game  2020020726 2021-04-22\n"
          ]
        },
        {
          "metadata": {
            "tags": null
          },
          "name": "stderr",
          "output_type": "stream",
          "text": [
            "\u001b[0;31mError: Error parsing Json pbp for game 2020020726 'period'\n",
            "\u001b[0m\u001b[0;33mWarning: Using espn for pbp\n",
            "\u001b[0m\u001b[0;31mError: Espn pbp for game 2021-04-22 WPG TOR is either not there or can't be obtained \n",
            "\u001b[0m"
          ]
        },
        {
          "metadata": {
            "tags": null
          },
          "name": "stdout",
          "output_type": "stream",
          "text": [
            "Scraping Game  2020020729 2021-04-22\n"
          ]
        },
        {
          "metadata": {
            "tags": null
          },
          "name": "stderr",
          "output_type": "stream",
          "text": [
            "\u001b[0;31mError: Error parsing Json pbp for game 2020020729 'period'\n",
            "\u001b[0m\u001b[0;33mWarning: Using espn for pbp\n",
            "\u001b[0m\u001b[0;31mError: Espn pbp for game 2021-04-22 BUF BOS is either not there or can't be obtained \n",
            "\u001b[0m"
          ]
        },
        {
          "metadata": {
            "tags": null
          },
          "name": "stdout",
          "output_type": "stream",
          "text": [
            "Scraping Game  2020020730 2021-04-22\n"
          ]
        },
        {
          "metadata": {
            "tags": null
          },
          "name": "stderr",
          "output_type": "stream",
          "text": [
            "\u001b[0;31mError: Error parsing Json pbp for game 2020020730 'period'\n",
            "\u001b[0m\u001b[0;33mWarning: Using espn for pbp\n",
            "\u001b[0m\u001b[0;31mError: Espn pbp for game 2021-04-22 NYI WSH is either not there or can't be obtained \n",
            "\u001b[0m"
          ]
        },
        {
          "metadata": {
            "tags": null
          },
          "name": "stdout",
          "output_type": "stream",
          "text": [
            "Scraping Game  2020020731 2021-04-22\n"
          ]
        },
        {
          "metadata": {
            "tags": null
          },
          "name": "stderr",
          "output_type": "stream",
          "text": [
            "\u001b[0;31mError: Error parsing Json pbp for game 2020020731 'period'\n",
            "\u001b[0m\u001b[0;33mWarning: Using espn for pbp\n",
            "\u001b[0m\u001b[0;31mError: Espn pbp for game 2021-04-22 T.B CBJ is either not there or can't be obtained \n",
            "\u001b[0m"
          ]
        },
        {
          "metadata": {
            "tags": null
          },
          "name": "stdout",
          "output_type": "stream",
          "text": [
            "Scraping Game  2020020732 2021-04-22\n"
          ]
        },
        {
          "metadata": {
            "tags": null
          },
          "name": "stderr",
          "output_type": "stream",
          "text": [
            "\u001b[0;31mError: Error parsing Json pbp for game 2020020732 'period'\n",
            "\u001b[0m\u001b[0;33mWarning: Using espn for pbp\n",
            "\u001b[0m\u001b[0;31mError: Espn pbp for game 2021-04-22 FLA CAR is either not there or can't be obtained \n",
            "\u001b[0m"
          ]
        },
        {
          "metadata": {
            "tags": null
          },
          "name": "stdout",
          "output_type": "stream",
          "text": [
            "Scraping Game  2020020733 2021-04-22\n"
          ]
        },
        {
          "metadata": {
            "tags": null
          },
          "name": "stderr",
          "output_type": "stream",
          "text": [
            "\u001b[0;31mError: Error parsing Json pbp for game 2020020733 'period'\n",
            "\u001b[0m\u001b[0;33mWarning: Using espn for pbp\n",
            "\u001b[0m\u001b[0;31mError: Espn pbp for game 2021-04-22 PIT N.J is either not there or can't be obtained \n",
            "\u001b[0m"
          ]
        },
        {
          "metadata": {
            "tags": null
          },
          "name": "stdout",
          "output_type": "stream",
          "text": [
            "Scraping Game  2020020734 2021-04-22\n"
          ]
        },
        {
          "metadata": {
            "tags": null
          },
          "name": "stderr",
          "output_type": "stream",
          "text": [
            "\u001b[0;31mError: Error parsing Json pbp for game 2020020734 'period'\n",
            "\u001b[0m\u001b[0;33mWarning: Using espn for pbp\n",
            "\u001b[0m\u001b[0;31mError: Espn pbp for game 2021-04-22 DET DAL is either not there or can't be obtained \n",
            "\u001b[0m"
          ]
        },
        {
          "metadata": {
            "tags": null
          },
          "name": "stdout",
          "output_type": "stream",
          "text": [
            "Scraping Game  2020020735 2021-04-22\n"
          ]
        },
        {
          "metadata": {
            "tags": null
          },
          "name": "stderr",
          "output_type": "stream",
          "text": [
            "\u001b[0;31mError: Error parsing Json pbp for game 2020020735 'period'\n",
            "\u001b[0m\u001b[0;33mWarning: Using espn for pbp\n",
            "\u001b[0m\u001b[0;31mError: Espn pbp for game 2021-04-22 STL COL is either not there or can't be obtained \n",
            "\u001b[0m"
          ]
        },
        {
          "metadata": {
            "tags": null
          },
          "name": "stdout",
          "output_type": "stream",
          "text": [
            "Scraping Game  2020020737 2021-04-22\n"
          ]
        },
        {
          "metadata": {
            "tags": null
          },
          "name": "stderr",
          "output_type": "stream",
          "text": [
            "\u001b[0;31mError: Error parsing Json pbp for game 2020020737 'period'\n",
            "\u001b[0m\u001b[0;33mWarning: Using espn for pbp\n",
            "\u001b[0m\u001b[0;31mError: Espn pbp for game 2021-04-22 VAN OTT is either not there or can't be obtained \n",
            "\u001b[0m"
          ]
        },
        {
          "metadata": {
            "tags": null
          },
          "name": "stdout",
          "output_type": "stream",
          "text": [
            "Scraping Game  2020020738 2021-04-23\n"
          ]
        },
        {
          "metadata": {
            "tags": null
          },
          "name": "stderr",
          "output_type": "stream",
          "text": [
            "\u001b[0;31mError: Error parsing Json pbp for game 2020020738 'period'\n",
            "\u001b[0m\u001b[0;33mWarning: Using espn for pbp\n",
            "\u001b[0m\u001b[0;31mError: Espn pbp for game 2021-04-23 BUF BOS is either not there or can't be obtained \n",
            "\u001b[0m"
          ]
        },
        {
          "metadata": {
            "tags": null
          },
          "name": "stdout",
          "output_type": "stream",
          "text": [
            "Scraping Game  2020020739 2021-04-23\n"
          ]
        },
        {
          "metadata": {
            "tags": null
          },
          "name": "stderr",
          "output_type": "stream",
          "text": [
            "\u001b[0;31mError: Error parsing Json pbp for game 2020020739 'period'\n",
            "\u001b[0m\u001b[0;33mWarning: Using espn for pbp\n",
            "\u001b[0m\u001b[0;31mError: Espn pbp for game 2021-04-23 NYR PHI is either not there or can't be obtained \n",
            "\u001b[0m"
          ]
        },
        {
          "metadata": {
            "tags": null
          },
          "name": "stdout",
          "output_type": "stream",
          "text": [
            "Scraping Game  2020020740 2021-04-23\n"
          ]
        },
        {
          "metadata": {
            "tags": null
          },
          "name": "stderr",
          "output_type": "stream",
          "text": [
            "\u001b[0;31mError: Error parsing Json pbp for game 2020020740 'period'\n",
            "\u001b[0m\u001b[0;33mWarning: Using espn for pbp\n",
            "\u001b[0m\u001b[0;31mError: Espn pbp for game 2021-04-23 CHI NSH is either not there or can't be obtained \n",
            "\u001b[0m"
          ]
        },
        {
          "metadata": {
            "tags": null
          },
          "name": "stdout",
          "output_type": "stream",
          "text": [
            "Scraping Game  2020020736 2021-04-23\n"
          ]
        },
        {
          "metadata": {
            "tags": null
          },
          "name": "stderr",
          "output_type": "stream",
          "text": [
            "\u001b[0;31mError: Error parsing Json pbp for game 2020020736 'period'\n",
            "\u001b[0m\u001b[0;33mWarning: Using espn for pbp\n",
            "\u001b[0m\u001b[0;31mError: Espn pbp for game 2021-04-23 CGY MTL is either not there or can't be obtained \n",
            "\u001b[0m"
          ]
        },
        {
          "metadata": {
            "tags": null
          },
          "name": "stdout",
          "output_type": "stream",
          "text": [
            "Scraping Game  2020020240 2021-04-23\n"
          ]
        },
        {
          "metadata": {
            "tags": null
          },
          "name": "stderr",
          "output_type": "stream",
          "text": [
            "\u001b[0;31mError: Error parsing Json pbp for game 2020020240 'period'\n",
            "\u001b[0m\u001b[0;33mWarning: Using espn for pbp\n",
            "\u001b[0m\u001b[0;31mError: Espn pbp for game 2021-04-23 L.A MIN is either not there or can't be obtained \n",
            "\u001b[0m"
          ]
        },
        {
          "metadata": {
            "tags": null
          },
          "name": "stdout",
          "output_type": "stream",
          "text": [
            "Scraping Game  2020020746 2021-04-24\n"
          ]
        },
        {
          "metadata": {
            "tags": null
          },
          "name": "stderr",
          "output_type": "stream",
          "text": [
            "\u001b[0;31mError: Error parsing Json pbp for game 2020020746 'period'\n",
            "\u001b[0m\u001b[0;33mWarning: Using espn for pbp\n",
            "\u001b[0m\u001b[0;31mError: Espn pbp for game 2021-04-24 PIT N.J is either not there or can't be obtained \n",
            "\u001b[0m"
          ]
        },
        {
          "metadata": {
            "tags": null
          },
          "name": "stdout",
          "output_type": "stream",
          "text": [
            "Scraping Game  2020020748 2021-04-24\n"
          ]
        },
        {
          "metadata": {
            "tags": null
          },
          "name": "stderr",
          "output_type": "stream",
          "text": [
            "\u001b[0;31mError: Error parsing Json pbp for game 2020020748 'period'\n",
            "\u001b[0m\u001b[0;33mWarning: Using espn for pbp\n",
            "\u001b[0m\u001b[0;31mError: Espn pbp for game 2021-04-24 STL COL is either not there or can't be obtained \n",
            "\u001b[0m"
          ]
        },
        {
          "metadata": {
            "tags": null
          },
          "name": "stdout",
          "output_type": "stream",
          "text": [
            "Scraping Game  2020020744 2021-04-24\n"
          ]
        },
        {
          "metadata": {
            "tags": null
          },
          "name": "stderr",
          "output_type": "stream",
          "text": [
            "\u001b[0;31mError: Error parsing Json pbp for game 2020020744 'period'\n",
            "\u001b[0m\u001b[0;33mWarning: Using espn for pbp\n",
            "\u001b[0m\u001b[0;31mError: Espn pbp for game 2021-04-24 NYI WSH is either not there or can't be obtained \n",
            "\u001b[0m"
          ]
        },
        {
          "metadata": {
            "tags": null
          },
          "name": "stdout",
          "output_type": "stream",
          "text": [
            "Scraping Game  2020020745 2021-04-24\n"
          ]
        },
        {
          "metadata": {
            "tags": null
          },
          "name": "stderr",
          "output_type": "stream",
          "text": [
            "\u001b[0;31mError: Error parsing Json pbp for game 2020020745 'period'\n",
            "\u001b[0m\u001b[0;33mWarning: Using espn for pbp\n",
            "\u001b[0m\u001b[0;31mError: Espn pbp for game 2021-04-24 FLA CAR is either not there or can't be obtained \n",
            "\u001b[0m"
          ]
        },
        {
          "metadata": {
            "tags": null
          },
          "name": "stdout",
          "output_type": "stream",
          "text": [
            "Scraping Game  2020020747 2021-04-24\n"
          ]
        },
        {
          "metadata": {
            "tags": null
          },
          "name": "stderr",
          "output_type": "stream",
          "text": [
            "\u001b[0;31mError: Error parsing Json pbp for game 2020020747 'period'\n",
            "\u001b[0m\u001b[0;33mWarning: Using espn for pbp\n",
            "\u001b[0m\u001b[0;31mError: Espn pbp for game 2021-04-24 DET DAL is either not there or can't be obtained \n",
            "\u001b[0m"
          ]
        },
        {
          "metadata": {
            "tags": null
          },
          "name": "stdout",
          "output_type": "stream",
          "text": [
            "Scraping Game  2020020749 2021-04-24\n"
          ]
        },
        {
          "metadata": {
            "tags": null
          },
          "name": "stderr",
          "output_type": "stream",
          "text": [
            "\u001b[0;31mError: Error parsing Json pbp for game 2020020749 'period'\n",
            "\u001b[0m\u001b[0;33mWarning: Using espn for pbp\n",
            "\u001b[0m\u001b[0;31mError: Espn pbp for game 2021-04-24 WPG TOR is either not there or can't be obtained \n",
            "\u001b[0m"
          ]
        },
        {
          "metadata": {
            "tags": null
          },
          "name": "stdout",
          "output_type": "stream",
          "text": [
            "Scraping Game  2020020750 2021-04-24\n"
          ]
        },
        {
          "metadata": {
            "tags": null
          },
          "name": "stderr",
          "output_type": "stream",
          "text": [
            "\u001b[0;31mError: Error parsing Json pbp for game 2020020750 'period'\n",
            "\u001b[0m\u001b[0;33mWarning: Using espn for pbp\n",
            "\u001b[0m\u001b[0;31mError: Espn pbp for game 2021-04-24 CGY MTL is either not there or can't be obtained \n",
            "\u001b[0m"
          ]
        },
        {
          "metadata": {
            "tags": null
          },
          "name": "stdout",
          "output_type": "stream",
          "text": [
            "Scraping Game  2020020325 2021-04-24\n"
          ]
        },
        {
          "metadata": {
            "tags": null
          },
          "name": "stderr",
          "output_type": "stream",
          "text": [
            "\u001b[0;31mError: Error parsing Json pbp for game 2020020325 'period'\n",
            "\u001b[0m\u001b[0;33mWarning: Using espn for pbp\n",
            "\u001b[0m\u001b[0;31mError: Espn pbp for game 2021-04-24 ANA VGK is either not there or can't be obtained \n",
            "\u001b[0m"
          ]
        },
        {
          "metadata": {
            "tags": null
          },
          "name": "stdout",
          "output_type": "stream",
          "text": [
            "Scraping Game  2020020753 2021-04-24\n"
          ]
        },
        {
          "metadata": {
            "tags": null
          },
          "name": "stderr",
          "output_type": "stream",
          "text": [
            "\u001b[0;31mError: Error parsing Json pbp for game 2020020753 'period'\n",
            "\u001b[0m\u001b[0;33mWarning: Using espn for pbp\n",
            "\u001b[0m\u001b[0;31mError: Espn pbp for game 2021-04-24 S.J MIN is either not there or can't be obtained \n",
            "\u001b[0m"
          ]
        },
        {
          "metadata": {
            "tags": null
          },
          "name": "stdout",
          "output_type": "stream",
          "text": [
            "Scraping Game  2020020751 2021-04-24\n"
          ]
        },
        {
          "metadata": {
            "tags": null
          },
          "name": "stderr",
          "output_type": "stream",
          "text": [
            "\u001b[0;31mError: Error parsing Json pbp for game 2020020751 'period'\n",
            "\u001b[0m\u001b[0;33mWarning: Using espn for pbp\n",
            "\u001b[0m\u001b[0;31mError: Espn pbp for game 2021-04-24 VAN OTT is either not there or can't be obtained \n",
            "\u001b[0m"
          ]
        },
        {
          "metadata": {
            "tags": null
          },
          "name": "stdout",
          "output_type": "stream",
          "text": [
            "Scraping Game  2020020752 2021-04-24\n"
          ]
        },
        {
          "metadata": {
            "tags": null
          },
          "name": "stderr",
          "output_type": "stream",
          "text": [
            "\u001b[0;31mError: Error parsing Json pbp for game 2020020752 'period'\n",
            "\u001b[0m\u001b[0;33mWarning: Using espn for pbp\n",
            "\u001b[0m\u001b[0;31mError: Espn pbp for game 2021-04-24 L.A ARI is either not there or can't be obtained \n",
            "\u001b[0m"
          ]
        },
        {
          "metadata": {
            "tags": null
          },
          "name": "stdout",
          "output_type": "stream",
          "text": [
            "Scraping Game  2020020757 2021-04-25\n"
          ]
        },
        {
          "metadata": {
            "tags": null
          },
          "name": "stderr",
          "output_type": "stream",
          "text": [
            "\u001b[0;31mError: Error parsing Json pbp for game 2020020757 'period'\n",
            "\u001b[0m\u001b[0;33mWarning: Using espn for pbp\n",
            "\u001b[0m\u001b[0;31mError: Espn pbp for game 2021-04-25 PIT BOS is either not there or can't be obtained \n",
            "\u001b[0m"
          ]
        },
        {
          "metadata": {
            "tags": null
          },
          "name": "stdout",
          "output_type": "stream",
          "text": [
            "Scraping Game  2020020216 2021-04-25\n"
          ]
        },
        {
          "metadata": {
            "tags": null
          },
          "name": "stderr",
          "output_type": "stream",
          "text": [
            "\u001b[0;31mError: Error parsing Json pbp for game 2020020216 'period'\n",
            "\u001b[0m\u001b[0;33mWarning: Using espn for pbp\n",
            "\u001b[0m\u001b[0;31mError: Espn pbp for game 2021-04-25 PHI N.J is either not there or can't be obtained \n",
            "\u001b[0m"
          ]
        },
        {
          "metadata": {
            "tags": null
          },
          "name": "stdout",
          "output_type": "stream",
          "text": [
            "Scraping Game  2020020754 2021-04-25\n"
          ]
        },
        {
          "metadata": {
            "tags": null
          },
          "name": "stderr",
          "output_type": "stream",
          "text": [
            "\u001b[0;31mError: Error parsing Json pbp for game 2020020754 'period'\n",
            "\u001b[0m\u001b[0;33mWarning: Using espn for pbp\n",
            "\u001b[0m\u001b[0;31mError: Espn pbp for game 2021-04-25 NYR BUF is either not there or can't be obtained \n",
            "\u001b[0m"
          ]
        },
        {
          "metadata": {
            "tags": null
          },
          "name": "stdout",
          "output_type": "stream",
          "text": [
            "Scraping Game  2020020756 2021-04-25\n"
          ]
        },
        {
          "metadata": {
            "tags": null
          },
          "name": "stderr",
          "output_type": "stream",
          "text": [
            "\u001b[0;31mError: Error parsing Json pbp for game 2020020756 'period'\n",
            "\u001b[0m\u001b[0;33mWarning: Using espn for pbp\n",
            "\u001b[0m\u001b[0;31mError: Espn pbp for game 2021-04-25 T.B CBJ is either not there or can't be obtained \n",
            "\u001b[0m"
          ]
        },
        {
          "metadata": {
            "tags": null
          },
          "name": "stdout",
          "output_type": "stream",
          "text": [
            "Scraping Game  2020020761 2021-04-26\n"
          ]
        },
        {
          "metadata": {
            "tags": null
          },
          "name": "stderr",
          "output_type": "stream",
          "text": [
            "\u001b[0;31mError: Error parsing Json pbp for game 2020020761 'period'\n",
            "\u001b[0m\u001b[0;33mWarning: Using espn for pbp\n",
            "\u001b[0m\u001b[0;31mError: Espn pbp for game 2021-04-26 CGY MTL is either not there or can't be obtained \n",
            "\u001b[0m"
          ]
        },
        {
          "metadata": {
            "tags": null
          },
          "name": "stdout",
          "output_type": "stream",
          "text": [
            "Scraping Game  2020020191 2021-04-26\n"
          ]
        },
        {
          "metadata": {
            "tags": null
          },
          "name": "stderr",
          "output_type": "stream",
          "text": [
            "\u001b[0;31mError: Error parsing Json pbp for game 2020020191 'period'\n",
            "\u001b[0m\u001b[0;33mWarning: Using espn for pbp\n",
            "\u001b[0m\u001b[0;31mError: Espn pbp for game 2021-04-26 STL COL is either not there or can't be obtained \n",
            "\u001b[0m"
          ]
        },
        {
          "metadata": {
            "tags": null
          },
          "name": "stdout",
          "output_type": "stream",
          "text": [
            "Scraping Game  2020020759 2021-04-26\n"
          ]
        },
        {
          "metadata": {
            "tags": null
          },
          "name": "stderr",
          "output_type": "stream",
          "text": [
            "\u001b[0;31mError: Error parsing Json pbp for game 2020020759 'period'\n",
            "\u001b[0m\u001b[0;33mWarning: Using espn for pbp\n",
            "\u001b[0m\u001b[0;31mError: Espn pbp for game 2021-04-26 OTT VAN is either not there or can't be obtained \n",
            "\u001b[0m"
          ]
        },
        {
          "metadata": {
            "tags": null
          },
          "name": "stdout",
          "output_type": "stream",
          "text": [
            "Scraping Game  2020020763 2021-04-26\n"
          ]
        },
        {
          "metadata": {
            "tags": null
          },
          "name": "stderr",
          "output_type": "stream",
          "text": [
            "\u001b[0;31mError: Error parsing Json pbp for game 2020020763 'period'\n",
            "\u001b[0m\u001b[0;33mWarning: Using espn for pbp\n",
            "\u001b[0m\u001b[0;31mError: Espn pbp for game 2021-04-26 DAL CAR is either not there or can't be obtained \n",
            "\u001b[0m"
          ]
        },
        {
          "metadata": {
            "tags": null
          },
          "name": "stdout",
          "output_type": "stream",
          "text": [
            "Scraping Game  2020020758 2021-04-26\n"
          ]
        },
        {
          "metadata": {
            "tags": null
          },
          "name": "stderr",
          "output_type": "stream",
          "text": [
            "\u001b[0;31mError: Error parsing Json pbp for game 2020020758 'period'\n",
            "\u001b[0m\u001b[0;33mWarning: Using espn for pbp\n",
            "\u001b[0m\u001b[0;31mError: Espn pbp for game 2021-04-26 NSH FLA is either not there or can't be obtained \n",
            "\u001b[0m"
          ]
        },
        {
          "metadata": {
            "tags": null
          },
          "name": "stdout",
          "output_type": "stream",
          "text": [
            "Scraping Game  2020020760 2021-04-26\n"
          ]
        },
        {
          "metadata": {
            "tags": null
          },
          "name": "stderr",
          "output_type": "stream",
          "text": [
            "\u001b[0;31mError: Error parsing Json pbp for game 2020020760 'period'\n",
            "\u001b[0m\u001b[0;33mWarning: Using espn for pbp\n",
            "\u001b[0m\u001b[0;31mError: Espn pbp for game 2021-04-26 WPG EDM is either not there or can't be obtained \n",
            "\u001b[0m"
          ]
        },
        {
          "metadata": {
            "tags": null
          },
          "name": "stdout",
          "output_type": "stream",
          "text": [
            "Scraping Game  2020020765 2021-04-26\n"
          ]
        },
        {
          "output_type": "stream",
          "name": "stderr",
          "text": [
            "\u001b[0;31mError: Error parsing Json pbp for game 2020020765 'period'\n",
            "\u001b[0m\u001b[0;33mWarning: Using espn for pbp\n",
            "\u001b[0m\u001b[0;31mError: Espn pbp for game 2021-04-26 L.A ANA is either not there or can't be obtained \n",
            "\u001b[0m"
          ]
        },
        {
          "output_type": "stream",
          "name": "stdout",
          "text": [
            "Scraping Game  2020020766 2021-04-26\n"
          ]
        },
        {
          "output_type": "stream",
          "name": "stderr",
          "text": [
            "\u001b[0;31mError: Error parsing Json pbp for game 2020020766 'period'\n",
            "\u001b[0m\u001b[0;33mWarning: Using espn for pbp\n",
            "\u001b[0m\u001b[0;31mError: Espn pbp for game 2021-04-26 S.J ARI is either not there or can't be obtained \n",
            "\u001b[0m"
          ]
        },
        {
          "output_type": "stream",
          "name": "stdout",
          "text": [
            "Scraping Game  2020020447 2021-04-27\n"
          ]
        },
        {
          "output_type": "stream",
          "name": "stderr",
          "text": [
            "\u001b[0;31mError: Error parsing Json pbp for game 2020020447 'period'\n",
            "\u001b[0m\u001b[0;33mWarning: Using espn for pbp\n",
            "\u001b[0m\u001b[0;31mError: Espn pbp for game 2021-04-27 WSH NYI is either not there or can't be obtained \n",
            "\u001b[0m"
          ]
        },
        {
          "output_type": "stream",
          "name": "stdout",
          "text": [
            "Scraping Game  2020020716 2021-04-27\n"
          ]
        },
        {
          "output_type": "stream",
          "name": "stderr",
          "text": [
            "\u001b[0;31mError: Error parsing Json pbp for game 2020020716 'period'\n",
            "\u001b[0m\u001b[0;33mWarning: Using espn for pbp\n",
            "\u001b[0m\u001b[0;31mError: Espn pbp for game 2021-04-27 N.J PHI is either not there or can't be obtained \n",
            "\u001b[0m"
          ]
        },
        {
          "output_type": "stream",
          "name": "stdout",
          "text": [
            "Scraping Game  2020020768 2021-04-27\n"
          ]
        },
        {
          "output_type": "stream",
          "name": "stderr",
          "text": [
            "\u001b[0;31mError: Error parsing Json pbp for game 2020020768 'period'\n",
            "\u001b[0m\u001b[0;33mWarning: Using espn for pbp\n",
            "\u001b[0m\u001b[0;31mError: Espn pbp for game 2021-04-27 NYR BUF is either not there or can't be obtained \n",
            "\u001b[0m"
          ]
        },
        {
          "output_type": "stream",
          "name": "stdout",
          "text": [
            "Scraping Game  2020020770 2021-04-27\n"
          ]
        },
        {
          "output_type": "stream",
          "name": "stderr",
          "text": [
            "\u001b[0;31mError: Error parsing Json pbp for game 2020020770 'period'\n",
            "\u001b[0m\u001b[0;33mWarning: Using espn for pbp\n",
            "\u001b[0m\u001b[0;31mError: Espn pbp for game 2021-04-27 PIT BOS is either not there or can't be obtained \n",
            "\u001b[0m"
          ]
        },
        {
          "output_type": "stream",
          "name": "stdout",
          "text": [
            "Scraping Game  2020020771 2021-04-27\n"
          ]
        },
        {
          "output_type": "stream",
          "name": "stderr",
          "text": [
            "\u001b[0;31mError: Error parsing Json pbp for game 2020020771 'period'\n",
            "\u001b[0m\u001b[0;33mWarning: Using espn for pbp\n",
            "\u001b[0m\u001b[0;31mError: Espn pbp for game 2021-04-27 CBJ DET is either not there or can't be obtained \n",
            "\u001b[0m"
          ]
        },
        {
          "output_type": "stream",
          "name": "stdout",
          "text": [
            "Scraping Game  2020020772 2021-04-27\n"
          ]
        },
        {
          "output_type": "stream",
          "name": "stderr",
          "text": [
            "\u001b[0;31mError: Error parsing Json pbp for game 2020020772 'period'\n",
            "\u001b[0m\u001b[0;33mWarning: Using espn for pbp\n",
            "\u001b[0m\u001b[0;31mError: Espn pbp for game 2021-04-27 CHI T.B is either not there or can't be obtained \n",
            "\u001b[0m"
          ]
        },
        {
          "output_type": "stream",
          "name": "stdout",
          "text": [
            "Scraping Game  2020020773 2021-04-27\n"
          ]
        },
        {
          "output_type": "stream",
          "name": "stderr",
          "text": [
            "\u001b[0;31mError: Error parsing Json pbp for game 2020020773 'period'\n",
            "\u001b[0m\u001b[0;33mWarning: Using espn for pbp\n",
            "\u001b[0m\u001b[0;31mError: Espn pbp for game 2021-04-27 NSH FLA is either not there or can't be obtained \n",
            "\u001b[0m"
          ]
        },
        {
          "output_type": "stream",
          "name": "stdout",
          "text": [
            "Scraping Game  2020020774 2021-04-27\n"
          ]
        },
        {
          "output_type": "stream",
          "name": "stderr",
          "text": [
            "\u001b[0;31mError: Error parsing Json pbp for game 2020020774 'period'\n",
            "\u001b[0m\u001b[0;33mWarning: Using espn for pbp\n",
            "\u001b[0m\u001b[0;31mError: Espn pbp for game 2021-04-27 DAL CAR is either not there or can't be obtained \n",
            "\u001b[0m"
          ]
        },
        {
          "output_type": "stream",
          "name": "stdout",
          "text": [
            "Scraping Game  2020020776 2021-04-28\n"
          ]
        },
        {
          "output_type": "stream",
          "name": "stderr",
          "text": [
            "\u001b[0;31mError: Error parsing Json pbp for game 2020020776 'period'\n",
            "\u001b[0m\u001b[0;33mWarning: Using espn for pbp\n",
            "\u001b[0m\u001b[0;31mError: Espn pbp for game 2021-04-28 OTT VAN is either not there or can't be obtained \n",
            "\u001b[0m"
          ]
        },
        {
          "output_type": "stream",
          "name": "stdout",
          "text": [
            "Scraping Game  2020020778 2021-04-28\n"
          ]
        },
        {
          "output_type": "stream",
          "name": "stderr",
          "text": [
            "\u001b[0;31mError: Error parsing Json pbp for game 2020020778 'period'\n",
            "\u001b[0m\u001b[0;33mWarning: Using espn for pbp\n",
            "\u001b[0m\u001b[0;31mError: Espn pbp for game 2021-04-28 MIN STL is either not there or can't be obtained \n",
            "\u001b[0m"
          ]
        },
        {
          "output_type": "stream",
          "name": "stdout",
          "text": [
            "Scraping Game  2020020775 2021-04-28\n"
          ]
        },
        {
          "output_type": "stream",
          "name": "stderr",
          "text": [
            "\u001b[0;31mError: Error parsing Json pbp for game 2020020775 'period'\n",
            "\u001b[0m\u001b[0;33mWarning: Using espn for pbp\n",
            "\u001b[0m\u001b[0;31mError: Espn pbp for game 2021-04-28 MTL TOR is either not there or can't be obtained \n",
            "\u001b[0m"
          ]
        },
        {
          "output_type": "stream",
          "name": "stdout",
          "text": [
            "Scraping Game  2020020777 2021-04-28\n"
          ]
        },
        {
          "output_type": "stream",
          "name": "stderr",
          "text": [
            "\u001b[0;31mError: Error parsing Json pbp for game 2020020777 'period'\n",
            "\u001b[0m\u001b[0;33mWarning: Using espn for pbp\n",
            "\u001b[0m\u001b[0;31mError: Espn pbp for game 2021-04-28 WPG EDM is either not there or can't be obtained \n",
            "\u001b[0m"
          ]
        },
        {
          "output_type": "stream",
          "name": "stdout",
          "text": [
            "Scraping Game  2020020779 2021-04-28\n"
          ]
        },
        {
          "output_type": "stream",
          "name": "stderr",
          "text": [
            "\u001b[0;31mError: Error parsing Json pbp for game 2020020779 'period'\n",
            "\u001b[0m\u001b[0;33mWarning: Using espn for pbp\n",
            "\u001b[0m\u001b[0;31mError: Espn pbp for game 2021-04-28 VGK COL is either not there or can't be obtained \n",
            "\u001b[0m"
          ]
        },
        {
          "output_type": "stream",
          "name": "stdout",
          "text": [
            "Scraping Game  2020020780 2021-04-28\n"
          ]
        },
        {
          "output_type": "stream",
          "name": "stderr",
          "text": [
            "\u001b[0;31mError: Error parsing Json pbp for game 2020020780 'period'\n",
            "\u001b[0m\u001b[0;33mWarning: Using espn for pbp\n",
            "\u001b[0m\u001b[0;31mError: Espn pbp for game 2021-04-28 L.A ANA is either not there or can't be obtained \n",
            "\u001b[0m"
          ]
        },
        {
          "output_type": "stream",
          "name": "stdout",
          "text": [
            "Scraping Game  2020020781 2021-04-28\n"
          ]
        },
        {
          "output_type": "stream",
          "name": "stderr",
          "text": [
            "\u001b[0;31mError: Error parsing Json pbp for game 2020020781 'period'\n",
            "\u001b[0m\u001b[0;33mWarning: Using espn for pbp\n",
            "\u001b[0m\u001b[0;31mError: Espn pbp for game 2021-04-28 S.J ARI is either not there or can't be obtained \n",
            "\u001b[0m"
          ]
        },
        {
          "output_type": "stream",
          "name": "stdout",
          "text": [
            "Scraping Game  2020020347 2021-04-29\n"
          ]
        },
        {
          "output_type": "stream",
          "name": "stderr",
          "text": [
            "\u001b[0;31mError: Error parsing Json pbp for game 2020020347 'period'\n",
            "\u001b[0m\u001b[0;33mWarning: Using espn for pbp\n",
            "\u001b[0m\u001b[0;31mError: Espn pbp for game 2021-04-29 T.B DAL is either not there or can't be obtained \n",
            "\u001b[0m"
          ]
        },
        {
          "output_type": "stream",
          "name": "stdout",
          "text": [
            "Scraping Game  2020020782 2021-04-29\n"
          ]
        },
        {
          "output_type": "stream",
          "name": "stderr",
          "text": [
            "\u001b[0;31mError: Error parsing Json pbp for game 2020020782 'period'\n",
            "\u001b[0m\u001b[0;33mWarning: Using espn for pbp\n",
            "\u001b[0m\u001b[0;31mError: Espn pbp for game 2021-04-29 BOS BUF is either not there or can't be obtained \n",
            "\u001b[0m"
          ]
        },
        {
          "output_type": "stream",
          "name": "stdout",
          "text": [
            "Scraping Game  2020020783 2021-04-29\n"
          ]
        },
        {
          "output_type": "stream",
          "name": "stderr",
          "text": [
            "\u001b[0;31mError: Error parsing Json pbp for game 2020020783 'period'\n",
            "\u001b[0m\u001b[0;33mWarning: Using espn for pbp\n",
            "\u001b[0m\u001b[0;31mError: Espn pbp for game 2021-04-29 N.J PHI is either not there or can't be obtained \n",
            "\u001b[0m"
          ]
        },
        {
          "output_type": "stream",
          "name": "stdout",
          "text": [
            "Scraping Game  2020020784 2021-04-29\n"
          ]
        },
        {
          "output_type": "stream",
          "name": "stderr",
          "text": [
            "\u001b[0;31mError: Error parsing Json pbp for game 2020020784 'period'\n",
            "\u001b[0m\u001b[0;33mWarning: Using espn for pbp\n",
            "\u001b[0m\u001b[0;31mError: Espn pbp for game 2021-04-29 NYR NYI is either not there or can't be obtained \n",
            "\u001b[0m"
          ]
        },
        {
          "output_type": "stream",
          "name": "stdout",
          "text": [
            "Scraping Game  2020020785 2021-04-29\n"
          ]
        },
        {
          "output_type": "stream",
          "name": "stderr",
          "text": [
            "\u001b[0;31mError: Error parsing Json pbp for game 2020020785 'period'\n",
            "\u001b[0m\u001b[0;33mWarning: Using espn for pbp\n",
            "\u001b[0m\u001b[0;31mError: Espn pbp for game 2021-04-29 WSH PIT is either not there or can't be obtained \n",
            "\u001b[0m"
          ]
        },
        {
          "output_type": "stream",
          "name": "stdout",
          "text": [
            "Scraping Game  2020020786 2021-04-29\n"
          ]
        },
        {
          "output_type": "stream",
          "name": "stderr",
          "text": [
            "\u001b[0;31mError: Error parsing Json pbp for game 2020020786 'period'\n",
            "\u001b[0m\u001b[0;33mWarning: Using espn for pbp\n",
            "\u001b[0m\u001b[0;31mError: Espn pbp for game 2021-04-29 CAR DET is either not there or can't be obtained \n",
            "\u001b[0m"
          ]
        },
        {
          "output_type": "stream",
          "name": "stdout",
          "text": [
            "Scraping Game  2020020792 2021-04-29\n"
          ]
        },
        {
          "output_type": "stream",
          "name": "stderr",
          "text": [
            "\u001b[0;31mError: Error parsing Json pbp for game 2020020792 'period'\n",
            "\u001b[0m\u001b[0;33mWarning: Using espn for pbp\n",
            "\u001b[0m\u001b[0;31mError: Espn pbp for game 2021-04-29 TOR VAN is either not there or can't be obtained \n",
            "\u001b[0m"
          ]
        },
        {
          "output_type": "stream",
          "name": "stdout",
          "text": [
            "Scraping Game  2020020762 2021-04-29\n"
          ]
        },
        {
          "output_type": "stream",
          "name": "stderr",
          "text": [
            "\u001b[0;31mError: Error parsing Json pbp for game 2020020762 'period'\n",
            "\u001b[0m\u001b[0;33mWarning: Using espn for pbp\n",
            "\u001b[0m\u001b[0;31mError: Espn pbp for game 2021-04-29 MIN STL is either not there or can't be obtained \n",
            "\u001b[0m"
          ]
        },
        {
          "output_type": "stream",
          "name": "stdout",
          "text": [
            "Scraping Game  2020020787 2021-04-29\n"
          ]
        },
        {
          "output_type": "stream",
          "name": "stderr",
          "text": [
            "\u001b[0;31mError: Error parsing Json pbp for game 2020020787 'period'\n",
            "\u001b[0m\u001b[0;33mWarning: Using espn for pbp\n",
            "\u001b[0m\u001b[0;31mError: Espn pbp for game 2021-04-29 CHI FLA is either not there or can't be obtained \n",
            "\u001b[0m"
          ]
        },
        {
          "output_type": "stream",
          "name": "stdout",
          "text": [
            "Scraping Game  2020020789 2021-04-29\n"
          ]
        },
        {
          "output_type": "stream",
          "name": "stderr",
          "text": [
            "\u001b[0;31mError: Error parsing Json pbp for game 2020020789 'period'\n",
            "\u001b[0m\u001b[0;33mWarning: Using espn for pbp\n",
            "\u001b[0m\u001b[0;31mError: Espn pbp for game 2021-04-29 EDM CGY is either not there or can't be obtained \n",
            "\u001b[0m"
          ]
        },
        {
          "output_type": "stream",
          "name": "stdout",
          "text": [
            "Scraping Game  2020020791 2021-04-30\n"
          ]
        },
        {
          "output_type": "stream",
          "name": "stderr",
          "text": [
            "\u001b[0;31mError: Error parsing Json pbp for game 2020020791 'period'\n",
            "\u001b[0m\u001b[0;33mWarning: Using espn for pbp\n",
            "\u001b[0m\u001b[0;31mError: Espn pbp for game 2021-04-30 MTL WPG is either not there or can't be obtained \n",
            "\u001b[0m"
          ]
        },
        {
          "output_type": "stream",
          "name": "stdout",
          "text": [
            "Scraping Game  2020020793 2021-04-30\n"
          ]
        },
        {
          "output_type": "stream",
          "name": "stderr",
          "text": [
            "\u001b[0;31mError: Error parsing Json pbp for game 2020020793 'period'\n",
            "\u001b[0m\u001b[0;33mWarning: Using espn for pbp\n",
            "\u001b[0m\u001b[0;31mError: Espn pbp for game 2021-04-30 COL S.J is either not there or can't be obtained \n",
            "\u001b[0m"
          ]
        },
        {
          "output_type": "stream",
          "name": "stdout",
          "text": [
            "Scraping Game  2020020794 2021-04-30\n"
          ]
        },
        {
          "output_type": "stream",
          "name": "stderr",
          "text": [
            "\u001b[0;31mError: Error parsing Json pbp for game 2020020794 'period'\n",
            "\u001b[0m\u001b[0;33mWarning: Using espn for pbp\n",
            "\u001b[0m\u001b[0;31mError: Espn pbp for game 2021-04-30 ARI VGK is either not there or can't be obtained \n",
            "\u001b[0m"
          ]
        },
        {
          "output_type": "stream",
          "name": "stdout",
          "text": [
            "Scraping Game  2020020795 2021-04-30\n"
          ]
        },
        {
          "output_type": "stream",
          "name": "stderr",
          "text": [
            "\u001b[0;31mError: Error parsing Json pbp for game 2020020795 'period'\n",
            "\u001b[0m\u001b[0;33mWarning: Using espn for pbp\n",
            "\u001b[0m\u001b[0;31mError: Espn pbp for game 2021-04-30 ANA L.A is either not there or can't be obtained \n",
            "\u001b[0m"
          ]
        },
        {
          "output_type": "stream",
          "name": "stdout",
          "text": [
            "Scraping Game  2020020796 2021-05-01\n"
          ]
        },
        {
          "output_type": "stream",
          "name": "stderr",
          "text": [
            "\u001b[0;31mError: Error parsing Json pbp for game 2020020796 'period'\n",
            "\u001b[0m\u001b[0;33mWarning: Using espn for pbp\n",
            "\u001b[0m\u001b[0;31mError: Espn pbp for game 2021-05-01 BOS BUF is either not there or can't be obtained \n",
            "\u001b[0m"
          ]
        },
        {
          "output_type": "stream",
          "name": "stdout",
          "text": [
            "Scraping Game  2020020801 2021-05-01\n"
          ]
        },
        {
          "output_type": "stream",
          "name": "stderr",
          "text": [
            "\u001b[0;31mError: Error parsing Json pbp for game 2020020801 'period'\n",
            "\u001b[0m\u001b[0;33mWarning: Using espn for pbp\n",
            "\u001b[0m\u001b[0;31mError: Espn pbp for game 2021-05-01 DET T.B is either not there or can't be obtained \n",
            "\u001b[0m"
          ]
        },
        {
          "output_type": "stream",
          "name": "stdout",
          "text": [
            "Scraping Game  2020020797 2021-05-01\n"
          ]
        },
        {
          "output_type": "stream",
          "name": "stderr",
          "text": [
            "\u001b[0;31mError: Error parsing Json pbp for game 2020020797 'period'\n",
            "\u001b[0m\u001b[0;33mWarning: Using espn for pbp\n",
            "\u001b[0m\u001b[0;31mError: Espn pbp for game 2021-05-01 NYI NYR is either not there or can't be obtained \n",
            "\u001b[0m"
          ]
        },
        {
          "output_type": "stream",
          "name": "stdout",
          "text": [
            "Scraping Game  2020020798 2021-05-01\n"
          ]
        },
        {
          "output_type": "stream",
          "name": "stderr",
          "text": [
            "\u001b[0;31mError: Error parsing Json pbp for game 2020020798 'period'\n",
            "\u001b[0m\u001b[0;33mWarning: Using espn for pbp\n",
            "\u001b[0m\u001b[0;31mError: Espn pbp for game 2021-05-01 PHI N.J is either not there or can't be obtained \n",
            "\u001b[0m"
          ]
        },
        {
          "output_type": "stream",
          "name": "stdout",
          "text": [
            "Scraping Game  2020020799 2021-05-01\n"
          ]
        },
        {
          "output_type": "stream",
          "name": "stderr",
          "text": [
            "\u001b[0;31mError: Error parsing Json pbp for game 2020020799 'period'\n",
            "\u001b[0m\u001b[0;33mWarning: Using espn for pbp\n",
            "\u001b[0m\u001b[0;31mError: Espn pbp for game 2021-05-01 WSH PIT is either not there or can't be obtained \n",
            "\u001b[0m"
          ]
        },
        {
          "output_type": "stream",
          "name": "stdout",
          "text": [
            "Scraping Game  2020020800 2021-05-01\n"
          ]
        },
        {
          "output_type": "stream",
          "name": "stderr",
          "text": [
            "\u001b[0;31mError: Error parsing Json pbp for game 2020020800 'period'\n",
            "\u001b[0m\u001b[0;33mWarning: Using espn for pbp\n",
            "\u001b[0m\u001b[0;31mError: Espn pbp for game 2021-05-01 CAR CBJ is either not there or can't be obtained \n",
            "\u001b[0m"
          ]
        },
        {
          "output_type": "stream",
          "name": "stdout",
          "text": [
            "Scraping Game  2020020805 2021-05-01\n"
          ]
        },
        {
          "output_type": "stream",
          "name": "stderr",
          "text": [
            "\u001b[0;31mError: Error parsing Json pbp for game 2020020805 'period'\n",
            "\u001b[0m\u001b[0;33mWarning: Using espn for pbp\n",
            "\u001b[0m\u001b[0;31mError: Espn pbp for game 2021-05-01 MTL OTT is either not there or can't be obtained \n",
            "\u001b[0m"
          ]
        },
        {
          "output_type": "stream",
          "name": "stdout",
          "text": [
            "Scraping Game  2020020806 2021-05-01\n"
          ]
        },
        {
          "output_type": "stream",
          "name": "stderr",
          "text": [
            "\u001b[0;31mError: Error parsing Json pbp for game 2020020806 'period'\n",
            "\u001b[0m\u001b[0;33mWarning: Using espn for pbp\n",
            "\u001b[0m\u001b[0;31mError: Espn pbp for game 2021-05-01 TOR VAN is either not there or can't be obtained \n",
            "\u001b[0m"
          ]
        },
        {
          "output_type": "stream",
          "name": "stdout",
          "text": [
            "Scraping Game  2020020207 2021-05-01\n"
          ]
        },
        {
          "output_type": "stream",
          "name": "stderr",
          "text": [
            "\u001b[0;31mError: Error parsing Json pbp for game 2020020207 'period'\n",
            "\u001b[0m\u001b[0;33mWarning: Using espn for pbp\n",
            "\u001b[0m\u001b[0;31mError: Espn pbp for game 2021-05-01 MIN STL is either not there or can't be obtained \n",
            "\u001b[0m"
          ]
        },
        {
          "output_type": "stream",
          "name": "stdout",
          "text": [
            "Scraping Game  2020020802 2021-05-01\n"
          ]
        },
        {
          "output_type": "stream",
          "name": "stderr",
          "text": [
            "\u001b[0;31mError: Error parsing Json pbp for game 2020020802 'period'\n",
            "\u001b[0m\u001b[0;33mWarning: Using espn for pbp\n",
            "\u001b[0m\u001b[0;31mError: Espn pbp for game 2021-05-01 CHI FLA is either not there or can't be obtained \n",
            "\u001b[0m"
          ]
        },
        {
          "output_type": "stream",
          "name": "stdout",
          "text": [
            "Scraping Game  2020020804 2021-05-01\n"
          ]
        },
        {
          "output_type": "stream",
          "name": "stderr",
          "text": [
            "\u001b[0;31mError: Error parsing Json pbp for game 2020020804 'period'\n",
            "\u001b[0m\u001b[0;33mWarning: Using espn for pbp\n",
            "\u001b[0m\u001b[0;31mError: Espn pbp for game 2021-05-01 NSH DAL is either not there or can't be obtained \n",
            "\u001b[0m"
          ]
        },
        {
          "output_type": "stream",
          "name": "stdout",
          "text": [
            "Scraping Game  2020020808 2021-05-01\n"
          ]
        },
        {
          "output_type": "stream",
          "name": "stderr",
          "text": [
            "\u001b[0;31mError: Error parsing Json pbp for game 2020020808 'period'\n",
            "\u001b[0m\u001b[0;33mWarning: Using espn for pbp\n",
            "\u001b[0m\u001b[0;31mError: Espn pbp for game 2021-05-01 COL S.J is either not there or can't be obtained \n",
            "\u001b[0m"
          ]
        },
        {
          "output_type": "stream",
          "name": "stdout",
          "text": [
            "Scraping Game  2020020807 2021-05-01\n"
          ]
        },
        {
          "output_type": "stream",
          "name": "stderr",
          "text": [
            "\u001b[0;31mError: Error parsing Json pbp for game 2020020807 'period'\n",
            "\u001b[0m\u001b[0;33mWarning: Using espn for pbp\n",
            "\u001b[0m\u001b[0;31mError: Espn pbp for game 2021-05-01 EDM CGY is either not there or can't be obtained \n",
            "\u001b[0m"
          ]
        },
        {
          "output_type": "stream",
          "name": "stdout",
          "text": [
            "Scraping Game  2020020809 2021-05-01\n"
          ]
        },
        {
          "output_type": "stream",
          "name": "stderr",
          "text": [
            "\u001b[0;31mError: Error parsing Json pbp for game 2020020809 'period'\n",
            "\u001b[0m\u001b[0;33mWarning: Using espn for pbp\n",
            "\u001b[0m\u001b[0;31mError: Espn pbp for game 2021-05-01 ARI VGK is either not there or can't be obtained \n",
            "\u001b[0m"
          ]
        },
        {
          "output_type": "stream",
          "name": "stdout",
          "text": [
            "Scraping Game  2020020810 2021-05-01\n"
          ]
        },
        {
          "output_type": "stream",
          "name": "stderr",
          "text": [
            "\u001b[0;31mError: Error parsing Json pbp for game 2020020810 'period'\n",
            "\u001b[0m\u001b[0;33mWarning: Using espn for pbp\n",
            "\u001b[0m\u001b[0;31mError: Espn pbp for game 2021-05-01 ANA L.A is either not there or can't be obtained \n",
            "\u001b[0m"
          ]
        },
        {
          "output_type": "stream",
          "name": "stdout",
          "text": [
            "Scraping Game  2020020811 2021-05-02\n"
          ]
        },
        {
          "output_type": "stream",
          "name": "stderr",
          "text": [
            "\u001b[0;31mError: Error parsing Json pbp for game 2020020811 'period'\n",
            "\u001b[0m\u001b[0;33mWarning: Using espn for pbp\n",
            "\u001b[0m\u001b[0;31mError: Espn pbp for game 2021-05-02 DET T.B is either not there or can't be obtained \n",
            "\u001b[0m"
          ]
        },
        {
          "output_type": "stream",
          "name": "stdout",
          "text": [
            "Scraping Game  2020020020 2021-05-03\n"
          ]
        },
        {
          "output_type": "stream",
          "name": "stderr",
          "text": [
            "\u001b[0;31mError: Error parsing Json pbp for game 2020020020 'period'\n",
            "\u001b[0m\u001b[0;33mWarning: Using espn for pbp\n",
            "\u001b[0m\u001b[0;31mError: Espn pbp for game 2021-05-03 FLA DAL is either not there or can't be obtained \n",
            "\u001b[0m"
          ]
        },
        {
          "output_type": "stream",
          "name": "stdout",
          "text": [
            "Scraping Game  2020020812 2021-05-03\n"
          ]
        },
        {
          "output_type": "stream",
          "name": "stderr",
          "text": [
            "\u001b[0;31mError: Error parsing Json pbp for game 2020020812 'period'\n",
            "\u001b[0m\u001b[0;33mWarning: Using espn for pbp\n",
            "\u001b[0m\u001b[0;31mError: Espn pbp for game 2021-05-03 BUF NYI is either not there or can't be obtained \n",
            "\u001b[0m"
          ]
        },
        {
          "output_type": "stream",
          "name": "stdout",
          "text": [
            "Scraping Game  2020020813 2021-05-03\n"
          ]
        },
        {
          "output_type": "stream",
          "name": "stderr",
          "text": [
            "\u001b[0;31mError: Error parsing Json pbp for game 2020020813 'period'\n",
            "\u001b[0m\u001b[0;33mWarning: Using espn for pbp\n",
            "\u001b[0m\u001b[0;31mError: Espn pbp for game 2021-05-03 N.J BOS is either not there or can't be obtained \n",
            "\u001b[0m"
          ]
        },
        {
          "output_type": "stream",
          "name": "stdout",
          "text": [
            "Scraping Game  2020020814 2021-05-03\n"
          ]
        },
        {
          "output_type": "stream",
          "name": "stderr",
          "text": [
            "\u001b[0;31mError: Error parsing Json pbp for game 2020020814 'period'\n",
            "\u001b[0m\u001b[0;33mWarning: Using espn for pbp\n",
            "\u001b[0m\u001b[0;31mError: Espn pbp for game 2021-05-03 NYR WSH is either not there or can't be obtained \n",
            "\u001b[0m"
          ]
        },
        {
          "output_type": "stream",
          "name": "stdout",
          "text": [
            "Scraping Game  2020020815 2021-05-03\n"
          ]
        },
        {
          "output_type": "stream",
          "name": "stderr",
          "text": [
            "\u001b[0;31mError: Error parsing Json pbp for game 2020020815 'period'\n",
            "\u001b[0m\u001b[0;33mWarning: Using espn for pbp\n",
            "\u001b[0m\u001b[0;31mError: Espn pbp for game 2021-05-03 PHI PIT is either not there or can't be obtained \n",
            "\u001b[0m"
          ]
        },
        {
          "output_type": "stream",
          "name": "stdout",
          "text": [
            "Scraping Game  2020020816 2021-05-03\n"
          ]
        },
        {
          "output_type": "stream",
          "name": "stderr",
          "text": [
            "\u001b[0;31mError: Error parsing Json pbp for game 2020020816 'period'\n",
            "\u001b[0m\u001b[0;33mWarning: Using espn for pbp\n",
            "\u001b[0m\u001b[0;31mError: Espn pbp for game 2021-05-03 CAR CHI is either not there or can't be obtained \n",
            "\u001b[0m"
          ]
        },
        {
          "output_type": "stream",
          "name": "stdout",
          "text": [
            "Scraping Game  2020020817 2021-05-03\n"
          ]
        },
        {
          "output_type": "stream",
          "name": "stderr",
          "text": [
            "\u001b[0;31mError: Error parsing Json pbp for game 2020020817 'period'\n",
            "\u001b[0m\u001b[0;33mWarning: Using espn for pbp\n",
            "\u001b[0m\u001b[0;31mError: Espn pbp for game 2021-05-03 CBJ NSH is either not there or can't be obtained \n",
            "\u001b[0m"
          ]
        },
        {
          "output_type": "stream",
          "name": "stdout",
          "text": [
            "Scraping Game  2020020819 2021-05-03\n"
          ]
        },
        {
          "output_type": "stream",
          "name": "stderr",
          "text": [
            "\u001b[0;31mError: Error parsing Json pbp for game 2020020819 'period'\n",
            "\u001b[0m\u001b[0;33mWarning: Using espn for pbp\n",
            "\u001b[0m\u001b[0;31mError: Espn pbp for game 2021-05-03 MTL TOR is either not there or can't be obtained \n",
            "\u001b[0m"
          ]
        },
        {
          "output_type": "stream",
          "name": "stdout",
          "text": [
            "Scraping Game  2020020820 2021-05-03\n"
          ]
        },
        {
          "output_type": "stream",
          "name": "stderr",
          "text": [
            "\u001b[0;31mError: Error parsing Json pbp for game 2020020820 'period'\n",
            "\u001b[0m\u001b[0;33mWarning: Using espn for pbp\n",
            "\u001b[0m\u001b[0;31mError: Espn pbp for game 2021-05-03 OTT WPG is either not there or can't be obtained \n",
            "\u001b[0m"
          ]
        },
        {
          "output_type": "stream",
          "name": "stdout",
          "text": [
            "Scraping Game  2020020818 2021-05-03\n"
          ]
        },
        {
          "output_type": "stream",
          "name": "stderr",
          "text": [
            "\u001b[0;31mError: Error parsing Json pbp for game 2020020818 'period'\n",
            "\u001b[0m\u001b[0;33mWarning: Using espn for pbp\n",
            "\u001b[0m\u001b[0;31mError: Espn pbp for game 2021-05-03 STL ANA is either not there or can't be obtained \n",
            "\u001b[0m"
          ]
        },
        {
          "output_type": "stream",
          "name": "stdout",
          "text": [
            "Scraping Game  2020020821 2021-05-03\n"
          ]
        },
        {
          "output_type": "stream",
          "name": "stderr",
          "text": [
            "\u001b[0;31mError: Error parsing Json pbp for game 2020020821 'period'\n",
            "\u001b[0m\u001b[0;33mWarning: Using espn for pbp\n",
            "\u001b[0m\u001b[0;31mError: Espn pbp for game 2021-05-03 MIN VGK is either not there or can't be obtained \n",
            "\u001b[0m"
          ]
        },
        {
          "output_type": "stream",
          "name": "stdout",
          "text": [
            "Scraping Game  2020020822 2021-05-03\n"
          ]
        },
        {
          "output_type": "stream",
          "name": "stderr",
          "text": [
            "\u001b[0;31mError: Error parsing Json pbp for game 2020020822 'period'\n",
            "\u001b[0m\u001b[0;33mWarning: Using espn for pbp\n",
            "\u001b[0m\u001b[0;31mError: Espn pbp for game 2021-05-03 ARI L.A is either not there or can't be obtained \n",
            "\u001b[0m"
          ]
        },
        {
          "output_type": "stream",
          "name": "stdout",
          "text": [
            "Scraping Game  2020020829 2021-05-03\n"
          ]
        },
        {
          "output_type": "stream",
          "name": "stderr",
          "text": [
            "\u001b[0;31mError: Error parsing Json pbp for game 2020020829 'period'\n",
            "\u001b[0m\u001b[0;33mWarning: Using espn for pbp\n",
            "\u001b[0m\u001b[0;31mError: Espn pbp for game 2021-05-03 VAN EDM is either not there or can't be obtained \n",
            "\u001b[0m"
          ]
        },
        {
          "output_type": "stream",
          "name": "stdout",
          "text": [
            "Scraping Game  2020020823 2021-05-03\n"
          ]
        },
        {
          "output_type": "stream",
          "name": "stderr",
          "text": [
            "\u001b[0;31mError: Error parsing Json pbp for game 2020020823 'period'\n",
            "\u001b[0m\u001b[0;33mWarning: Using espn for pbp\n",
            "\u001b[0m\u001b[0;31mError: Espn pbp for game 2021-05-03 S.J COL is either not there or can't be obtained \n",
            "\u001b[0m"
          ]
        },
        {
          "output_type": "stream",
          "name": "stdout",
          "text": [
            "Scraping Game  2020020824 2021-05-04\n"
          ]
        },
        {
          "output_type": "stream",
          "name": "stderr",
          "text": [
            "\u001b[0;31mError: Error parsing Json pbp for game 2020020824 'period'\n",
            "\u001b[0m\u001b[0;33mWarning: Using espn for pbp\n",
            "\u001b[0m\u001b[0;31mError: Espn pbp for game 2021-05-04 BUF NYI is either not there or can't be obtained \n",
            "\u001b[0m"
          ]
        },
        {
          "output_type": "stream",
          "name": "stdout",
          "text": [
            "Scraping Game  2020020825 2021-05-04\n"
          ]
        },
        {
          "output_type": "stream",
          "name": "stderr",
          "text": [
            "\u001b[0;31mError: Error parsing Json pbp for game 2020020825 'period'\n",
            "\u001b[0m\u001b[0;33mWarning: Using espn for pbp\n",
            "\u001b[0m\u001b[0;31mError: Espn pbp for game 2021-05-04 N.J BOS is either not there or can't be obtained \n",
            "\u001b[0m"
          ]
        },
        {
          "output_type": "stream",
          "name": "stdout",
          "text": [
            "Scraping Game  2020020826 2021-05-04\n"
          ]
        },
        {
          "output_type": "stream",
          "name": "stderr",
          "text": [
            "\u001b[0;31mError: Error parsing Json pbp for game 2020020826 'period'\n",
            "\u001b[0m\u001b[0;33mWarning: Using espn for pbp\n",
            "\u001b[0m\u001b[0;31mError: Espn pbp for game 2021-05-04 PHI PIT is either not there or can't be obtained \n",
            "\u001b[0m"
          ]
        },
        {
          "output_type": "stream",
          "name": "stdout",
          "text": [
            "Scraping Game  2020020827 2021-05-04\n"
          ]
        },
        {
          "output_type": "stream",
          "name": "stderr",
          "text": [
            "\u001b[0;31mError: Error parsing Json pbp for game 2020020827 'period'\n",
            "\u001b[0m\u001b[0;33mWarning: Using espn for pbp\n",
            "\u001b[0m\u001b[0;31mError: Espn pbp for game 2021-05-04 CAR CHI is either not there or can't be obtained \n",
            "\u001b[0m"
          ]
        },
        {
          "output_type": "stream",
          "name": "stdout",
          "text": [
            "Scraping Game  2020020844 2021-05-04\n"
          ]
        },
        {
          "output_type": "stream",
          "name": "stderr",
          "text": [
            "\u001b[0;31mError: Error parsing Json pbp for game 2020020844 'period'\n",
            "\u001b[0m\u001b[0;33mWarning: Using espn for pbp\n",
            "\u001b[0m\u001b[0;31mError: Espn pbp for game 2021-05-04 VAN EDM is either not there or can't be obtained \n",
            "\u001b[0m"
          ]
        },
        {
          "output_type": "stream",
          "name": "stdout",
          "text": [
            "Scraping Game  2020020033 2021-05-05\n"
          ]
        },
        {
          "output_type": "stream",
          "name": "stderr",
          "text": [
            "\u001b[0;31mError: Error parsing Json pbp for game 2020020033 'period'\n",
            "\u001b[0m\u001b[0;33mWarning: Using espn for pbp\n",
            "\u001b[0m\u001b[0;31mError: Espn pbp for game 2021-05-05 T.B DAL is either not there or can't be obtained \n",
            "\u001b[0m"
          ]
        },
        {
          "output_type": "stream",
          "name": "stdout",
          "text": [
            "Scraping Game  2020020564 2021-05-05\n"
          ]
        },
        {
          "output_type": "stream",
          "name": "stderr",
          "text": [
            "\u001b[0;31mError: Error parsing Json pbp for game 2020020564 'period'\n",
            "\u001b[0m\u001b[0;33mWarning: Using espn for pbp\n",
            "\u001b[0m\u001b[0;31mError: Espn pbp for game 2021-05-05 OTT MTL is either not there or can't be obtained \n",
            "\u001b[0m"
          ]
        },
        {
          "output_type": "stream",
          "name": "stdout",
          "text": [
            "Scraping Game  2020020830 2021-05-05\n"
          ]
        }
      ]
    }
  ]
}